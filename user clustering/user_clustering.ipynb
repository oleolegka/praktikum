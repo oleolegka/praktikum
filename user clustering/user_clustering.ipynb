{
 "cells": [
  {
   "cell_type": "code",
   "execution_count": 2,
   "outputs": [],
   "source": [
    "import pandas as pd\n",
    "import numpy as np\n",
    "import matplotlib.pyplot as plt\n",
    "import seaborn as sns\n",
    "import math as mth\n",
    "import warnings\n",
    "import time\n",
    "\n",
    "from scipy import stats as st\n",
    "from sklearn.preprocessing import StandardScaler\n",
    "from sklearn.feature_extraction.text import TfidfVectorizer\n",
    "from sklearn.cluster import KMeans\n",
    "from spacy.lang.ru import Russian\n",
    "from typing import Callable\n",
    "from IPython.core.display import display\n",
    "\n",
    "pd.options.display.width = 0\n",
    "pd.options.display.max_columns = None\n",
    "warnings.filterwarnings('ignore')"
   ],
   "metadata": {
    "collapsed": false,
    "pycharm": {
     "name": "#%%\n"
    }
   }
  },
  {
   "cell_type": "markdown",
   "metadata": {},
   "source": [
    "# Задача исследования  \n",
    "\n",
    "Интернет-магазин хочет сегментировать своих покупателей, желая таргетировать рекламу более аккуратно. Наша задча - выделить сегменты и проверить, что интересующие метрики для этих сегментов статистически различны  \n"
   ]
  },
  {
   "cell_type": "markdown",
   "metadata": {},
   "source": [
    "# EDA  \n",
    "\n"
   ]
  },
  {
   "cell_type": "code",
   "execution_count": 3,
   "metadata": {},
   "outputs": [],
   "source": [
    "try:\n",
    "    from paths import final_project_url\n",
    "\n",
    "    df = pd.read_csv(final_project_url)\n",
    "except ModuleNotFoundError:\n",
    "    print('Data not for public use, sorry')\n",
    "    raise"
   ]
  },
  {
   "cell_type": "code",
   "execution_count": 4,
   "metadata": {},
   "outputs": [
    {
     "name": "stdout",
     "output_type": "stream",
     "text": [
      "<class 'pandas.core.frame.DataFrame'>\n",
      "RangeIndex: 6737 entries, 0 to 6736\n",
      "Data columns (total 6 columns):\n",
      " #   Column       Non-Null Count  Dtype  \n",
      "---  ------       --------------  -----  \n",
      " 0   date         6737 non-null   int64  \n",
      " 1   customer_id  6737 non-null   object \n",
      " 2   order_id     6737 non-null   int64  \n",
      " 3   product      6737 non-null   object \n",
      " 4   quantity     6737 non-null   int64  \n",
      " 5   price        6737 non-null   float64\n",
      "dtypes: float64(1), int64(3), object(2)\n",
      "memory usage: 315.9+ KB\n"
     ]
    }
   ],
   "source": [
    "df.info()"
   ]
  },
  {
   "cell_type": "code",
   "execution_count": 5,
   "metadata": {},
   "outputs": [],
   "source": [
    "df['date'] = pd.to_datetime(df['date'], format='%Y%m%d%H')\n",
    "df['day'] = df['date'].astype('datetime64[D]')"
   ]
  },
  {
   "cell_type": "code",
   "execution_count": 6,
   "metadata": {},
   "outputs": [
    {
     "data": {
      "text/plain": "                    date                           customer_id  order_id  \\\n381  2018-10-23 13:00:00  49b9c587-c19e-4481-bace-967aeac357fa     14494   \n2476 2019-03-26 14:00:00  c816fd3d-3783-4fd8-aeab-0e99fab4eb58     70888   \n2855 2019-04-15 11:00:00  a478c83a-0590-4757-b50b-8db523052a3c     71130   \n2018 2019-02-25 14:00:00  7e5a2981-f529-45c5-a1db-d645a61b356b     14548   \n2185 2019-03-05 11:00:00  051edfd2-b09e-4e48-b12d-cf6ab2fdcc5f     70599   \n\n                                                product  quantity  price  \\\n381   Пеларгония зональная диам. 12 см сиреневый про...         1  188.0   \n2476  Пеларгония розебудная Prins Nikolai укорененны...         1  134.0   \n2855    Настенная сушилка для белья Gimi Brio Super 120         1  899.0   \n2018  Пеларгония Toscana Angeleyes Bicolor укорененн...         1  112.0   \n2185            Тюльпан Louvre (Лувр) Бахромчатый 25 шт        15   37.0   \n\n            day  \n381  2018-10-23  \n2476 2019-03-26  \n2855 2019-04-15  \n2018 2019-02-25  \n2185 2019-03-05  ",
      "text/html": "<div>\n<style scoped>\n    .dataframe tbody tr th:only-of-type {\n        vertical-align: middle;\n    }\n\n    .dataframe tbody tr th {\n        vertical-align: top;\n    }\n\n    .dataframe thead th {\n        text-align: right;\n    }\n</style>\n<table border=\"1\" class=\"dataframe\">\n  <thead>\n    <tr style=\"text-align: right;\">\n      <th></th>\n      <th>date</th>\n      <th>customer_id</th>\n      <th>order_id</th>\n      <th>product</th>\n      <th>quantity</th>\n      <th>price</th>\n      <th>day</th>\n    </tr>\n  </thead>\n  <tbody>\n    <tr>\n      <th>381</th>\n      <td>2018-10-23 13:00:00</td>\n      <td>49b9c587-c19e-4481-bace-967aeac357fa</td>\n      <td>14494</td>\n      <td>Пеларгония зональная диам. 12 см сиреневый про...</td>\n      <td>1</td>\n      <td>188.0</td>\n      <td>2018-10-23</td>\n    </tr>\n    <tr>\n      <th>2476</th>\n      <td>2019-03-26 14:00:00</td>\n      <td>c816fd3d-3783-4fd8-aeab-0e99fab4eb58</td>\n      <td>70888</td>\n      <td>Пеларгония розебудная Prins Nikolai укорененны...</td>\n      <td>1</td>\n      <td>134.0</td>\n      <td>2019-03-26</td>\n    </tr>\n    <tr>\n      <th>2855</th>\n      <td>2019-04-15 11:00:00</td>\n      <td>a478c83a-0590-4757-b50b-8db523052a3c</td>\n      <td>71130</td>\n      <td>Настенная сушилка для белья Gimi Brio Super 120</td>\n      <td>1</td>\n      <td>899.0</td>\n      <td>2019-04-15</td>\n    </tr>\n    <tr>\n      <th>2018</th>\n      <td>2019-02-25 14:00:00</td>\n      <td>7e5a2981-f529-45c5-a1db-d645a61b356b</td>\n      <td>14548</td>\n      <td>Пеларгония Toscana Angeleyes Bicolor укорененн...</td>\n      <td>1</td>\n      <td>112.0</td>\n      <td>2019-02-25</td>\n    </tr>\n    <tr>\n      <th>2185</th>\n      <td>2019-03-05 11:00:00</td>\n      <td>051edfd2-b09e-4e48-b12d-cf6ab2fdcc5f</td>\n      <td>70599</td>\n      <td>Тюльпан Louvre (Лувр) Бахромчатый 25 шт</td>\n      <td>15</td>\n      <td>37.0</td>\n      <td>2019-03-05</td>\n    </tr>\n  </tbody>\n</table>\n</div>"
     },
     "execution_count": 6,
     "metadata": {},
     "output_type": "execute_result"
    }
   ],
   "source": [
    "df.sample(5, random_state=42)"
   ]
  },
  {
   "cell_type": "markdown",
   "metadata": {},
   "source": [
    "## Корректность данных"
   ]
  },
  {
   "cell_type": "code",
   "execution_count": 7,
   "metadata": {},
   "outputs": [
    {
     "data": {
      "text/plain": "0"
     },
     "execution_count": 7,
     "metadata": {},
     "output_type": "execute_result"
    }
   ],
   "source": [
    "df.duplicated().sum()"
   ]
  },
  {
   "cell_type": "markdown",
   "metadata": {},
   "source": [
    "Явных \"полных\" дублей в датасете нет "
   ]
  },
  {
   "cell_type": "code",
   "execution_count": 8,
   "metadata": {},
   "outputs": [
    {
     "data": {
      "text/plain": "     order_id        day        \n              <lambda_0> nunique\n1658    70960   210 days      57\n2004    71663    87 days       4\n1049    69797    83 days       2\n933     69531    73 days      11\n1939    71542    71 days       3\n1712    71054    59 days       5\n817     69310    54 days       4\n533     68814    53 days       2\n1754    71148    51 days      11\n959     69586    50 days       3",
      "text/html": "<div>\n<style scoped>\n    .dataframe tbody tr th:only-of-type {\n        vertical-align: middle;\n    }\n\n    .dataframe tbody tr th {\n        vertical-align: top;\n    }\n\n    .dataframe thead tr th {\n        text-align: left;\n    }\n</style>\n<table border=\"1\" class=\"dataframe\">\n  <thead>\n    <tr>\n      <th></th>\n      <th>order_id</th>\n      <th colspan=\"2\" halign=\"left\">day</th>\n    </tr>\n    <tr>\n      <th></th>\n      <th></th>\n      <th>&lt;lambda_0&gt;</th>\n      <th>nunique</th>\n    </tr>\n  </thead>\n  <tbody>\n    <tr>\n      <th>1658</th>\n      <td>70960</td>\n      <td>210 days</td>\n      <td>57</td>\n    </tr>\n    <tr>\n      <th>2004</th>\n      <td>71663</td>\n      <td>87 days</td>\n      <td>4</td>\n    </tr>\n    <tr>\n      <th>1049</th>\n      <td>69797</td>\n      <td>83 days</td>\n      <td>2</td>\n    </tr>\n    <tr>\n      <th>933</th>\n      <td>69531</td>\n      <td>73 days</td>\n      <td>11</td>\n    </tr>\n    <tr>\n      <th>1939</th>\n      <td>71542</td>\n      <td>71 days</td>\n      <td>3</td>\n    </tr>\n    <tr>\n      <th>1712</th>\n      <td>71054</td>\n      <td>59 days</td>\n      <td>5</td>\n    </tr>\n    <tr>\n      <th>817</th>\n      <td>69310</td>\n      <td>54 days</td>\n      <td>4</td>\n    </tr>\n    <tr>\n      <th>533</th>\n      <td>68814</td>\n      <td>53 days</td>\n      <td>2</td>\n    </tr>\n    <tr>\n      <th>1754</th>\n      <td>71148</td>\n      <td>51 days</td>\n      <td>11</td>\n    </tr>\n    <tr>\n      <th>959</th>\n      <td>69586</td>\n      <td>50 days</td>\n      <td>3</td>\n    </tr>\n  </tbody>\n</table>\n</div>"
     },
     "execution_count": 8,
     "metadata": {},
     "output_type": "execute_result"
    }
   ],
   "source": [
    "(df.groupby(['order_id'])\n",
    " .agg({'day': [lambda x: x.max() - x.min(), 'nunique']})\n",
    " .reset_index()\n",
    " .sort_values(('day', '<lambda_0>'), ascending=False)\n",
    " .head(10)\n",
    " )"
   ]
  },
  {
   "cell_type": "markdown",
   "metadata": {},
   "source": [
    "Со слов заказчика, мы видим следствие ошибки обработки данных на их стороне - один номер заказа присутствует во множество разных дней. Считаем, что реальные данные - те, что относятся к первому дню, в который появляется заказ, а остальные вхождения этого же номера заказа удалим"
   ]
  },
  {
   "cell_type": "code",
   "execution_count": 9,
   "metadata": {},
   "outputs": [
    {
     "name": "stdout",
     "output_type": "stream",
     "text": [
      "<class 'pandas.core.frame.DataFrame'>\n",
      "Int64Index: 5010 entries, 0 to 5009\n",
      "Data columns (total 7 columns):\n",
      " #   Column       Non-Null Count  Dtype         \n",
      "---  ------       --------------  -----         \n",
      " 0   date         5010 non-null   datetime64[ns]\n",
      " 1   customer_id  5010 non-null   object        \n",
      " 2   order_id     5010 non-null   int64         \n",
      " 3   product      5010 non-null   object        \n",
      " 4   quantity     5010 non-null   int64         \n",
      " 5   price        5010 non-null   float64       \n",
      " 6   day          5010 non-null   datetime64[ns]\n",
      "dtypes: datetime64[ns](2), float64(1), int64(2), object(2)\n",
      "memory usage: 313.1+ KB\n"
     ]
    }
   ],
   "source": [
    "tdf = df.groupby(['order_id']).agg({'day': 'min'}).reset_index()\n",
    "df = df.merge(tdf)\n",
    "df.info()"
   ]
  },
  {
   "cell_type": "code",
   "execution_count": 10,
   "metadata": {},
   "outputs": [
    {
     "name": "stdout",
     "output_type": "stream",
     "text": [
      "Удалили 1727 строк, 25.63% датасета\n"
     ]
    }
   ],
   "source": [
    "print(f'Удалили {6737 - df.shape[0]} строк, {(6737 - df.shape[0]) / 6737:.2%} датасета')"
   ]
  },
  {
   "cell_type": "markdown",
   "metadata": {},
   "source": [
    "## Date"
   ]
  },
  {
   "cell_type": "code",
   "execution_count": 11,
   "metadata": {},
   "outputs": [
    {
     "data": {
      "text/plain": "count                    5010\nunique                    391\ntop       2019-04-24 00:00:00\nfreq                       85\nfirst     2018-10-01 00:00:00\nlast      2019-10-31 00:00:00\nName: day, dtype: object"
     },
     "execution_count": 11,
     "metadata": {},
     "output_type": "execute_result"
    }
   ],
   "source": [
    "df['day'].describe()"
   ]
  },
  {
   "cell_type": "code",
   "execution_count": 12,
   "metadata": {},
   "outputs": [
    {
     "data": {
      "text/plain": "Timedelta('395 days 00:00:00')"
     },
     "execution_count": 12,
     "metadata": {},
     "output_type": "execute_result"
    }
   ],
   "source": [
    "df['day'].max() - df['day'].min()"
   ]
  },
  {
   "cell_type": "markdown",
   "metadata": {},
   "source": [
    "У нас есть данные с 2018-10-01 по 2019-10-31, 395 дней"
   ]
  },
  {
   "cell_type": "code",
   "execution_count": 13,
   "metadata": {},
   "outputs": [
    {
     "data": {
      "text/plain": "<Figure size 960x560 with 1 Axes>",
      "image/png": "[encoded data removed]"
     },
     "metadata": {},
     "output_type": "display_data"
    }
   ],
   "source": [
    "sns.set_style(\"white\")\n",
    "\n",
    "plt.figure(figsize=(12, 7), dpi=80)\n",
    "sns.histplot(df, x='day', kde=True, bins=56)\n",
    "plt.title('Распределение количества заказов', fontsize=22)\n",
    "plt.xticks(rotation=90)\n",
    "plt.xlabel('Дата')\n",
    "plt.ylabel('Число заказов')\n",
    "plt.show()"
   ]
  },
  {
   "cell_type": "markdown",
   "metadata": {},
   "source": [
    "Количество транзакций меняется в течении нашего периода, виден всплеск в апреле, мае, июне, июле"
   ]
  },
  {
   "cell_type": "markdown",
   "metadata": {},
   "source": [
    "## Customer_id, order_id   "
   ]
  },
  {
   "cell_type": "code",
   "execution_count": 14,
   "metadata": {},
   "outputs": [
    {
     "data": {
      "text/plain": "2426"
     },
     "execution_count": 14,
     "metadata": {},
     "output_type": "execute_result"
    }
   ],
   "source": [
    "df['customer_id'].nunique()"
   ]
  },
  {
   "cell_type": "code",
   "execution_count": 15,
   "metadata": {},
   "outputs": [
    {
     "data": {
      "text/plain": "2784"
     },
     "execution_count": 15,
     "metadata": {},
     "output_type": "execute_result"
    }
   ],
   "source": [
    "df['order_id'].nunique()"
   ]
  },
  {
   "cell_type": "code",
   "execution_count": 16,
   "metadata": {},
   "outputs": [
    {
     "data": {
      "text/plain": "count    2426.000000\nmean        1.150041\nstd         2.668749\nmin         1.000000\n50%         1.000000\n75%         1.000000\n95%         2.000000\n99%         3.000000\nmax       126.000000\nName: order_id, dtype: float64"
     },
     "execution_count": 16,
     "metadata": {},
     "output_type": "execute_result"
    }
   ],
   "source": [
    "tdf = (df.groupby(['customer_id'])\n",
    "       .agg({'order_id': 'nunique'})\n",
    "       .reset_index()\n",
    "       .sort_values(('order_id'), ascending=False)\n",
    "       )\n",
    "\n",
    "tdf['order_id'].describe(percentiles=(0.75, 0.95, 0.99))"
   ]
  },
  {
   "cell_type": "markdown",
   "metadata": {},
   "source": [
    "1.1 заказа в среднем на пользователя, только 5% больше одного заказа, только 1% больше двух"
   ]
  },
  {
   "cell_type": "markdown",
   "metadata": {},
   "source": [
    "## Product"
   ]
  },
  {
   "cell_type": "code",
   "execution_count": 17,
   "metadata": {},
   "outputs": [
    {
     "data": {
      "text/plain": "2338"
     },
     "execution_count": 17,
     "metadata": {},
     "output_type": "execute_result"
    }
   ],
   "source": [
    "df['product'].nunique()"
   ]
  },
  {
   "cell_type": "code",
   "execution_count": 18,
   "metadata": {},
   "outputs": [
    {
     "data": {
      "text/plain": "count    2338.000000\nmean        2.055603\nstd         3.316094\nmin         1.000000\n50%         1.000000\n75%         2.000000\n95%         6.000000\n99%        14.630000\nmax        65.000000\nName: order_id, dtype: float64"
     },
     "execution_count": 18,
     "metadata": {},
     "output_type": "execute_result"
    }
   ],
   "source": [
    "tdf = (df.groupby(['product'])\n",
    "       .agg({'order_id': 'nunique'})\n",
    "       .reset_index()\n",
    "       .sort_values(('order_id'), ascending=False)\n",
    "       )\n",
    "\n",
    "tdf['order_id'].describe(percentiles=(0.75, 0.95, 0.99))"
   ]
  },
  {
   "cell_type": "code",
   "execution_count": 19,
   "metadata": {},
   "outputs": [
    {
     "data": {
      "text/plain": "                                                product  order_id\n1040  Пеларгония розебудная Red Pandora укорененный ...        65\n1038  Пеларгония розебудная Prins Nikolai укорененны...        55\n1015  Пеларгония зональная диам. 12 см сиреневый пол...        52\n1615         Сумка-тележка 2-х колесная Gimi Argo синяя        47\n1037     Пеларгония розебудная Mary укорененный черенок        39",
      "text/html": "<div>\n<style scoped>\n    .dataframe tbody tr th:only-of-type {\n        vertical-align: middle;\n    }\n\n    .dataframe tbody tr th {\n        vertical-align: top;\n    }\n\n    .dataframe thead th {\n        text-align: right;\n    }\n</style>\n<table border=\"1\" class=\"dataframe\">\n  <thead>\n    <tr style=\"text-align: right;\">\n      <th></th>\n      <th>product</th>\n      <th>order_id</th>\n    </tr>\n  </thead>\n  <tbody>\n    <tr>\n      <th>1040</th>\n      <td>Пеларгония розебудная Red Pandora укорененный ...</td>\n      <td>65</td>\n    </tr>\n    <tr>\n      <th>1038</th>\n      <td>Пеларгония розебудная Prins Nikolai укорененны...</td>\n      <td>55</td>\n    </tr>\n    <tr>\n      <th>1015</th>\n      <td>Пеларгония зональная диам. 12 см сиреневый пол...</td>\n      <td>52</td>\n    </tr>\n    <tr>\n      <th>1615</th>\n      <td>Сумка-тележка 2-х колесная Gimi Argo синяя</td>\n      <td>47</td>\n    </tr>\n    <tr>\n      <th>1037</th>\n      <td>Пеларгония розебудная Mary укорененный черенок</td>\n      <td>39</td>\n    </tr>\n  </tbody>\n</table>\n</div>"
     },
     "execution_count": 19,
     "metadata": {},
     "output_type": "execute_result"
    }
   ],
   "source": [
    "tdf.head()"
   ]
  },
  {
   "cell_type": "markdown",
   "metadata": {},
   "source": [
    "2338 уникальных товара, в среднем каждый товар попал в два заказа, 5% - в шесть, наиболее популярный - в 65"
   ]
  },
  {
   "cell_type": "markdown",
   "metadata": {},
   "source": [
    "## Quantity, price"
   ]
  },
  {
   "cell_type": "code",
   "execution_count": 20,
   "metadata": {},
   "outputs": [
    {
     "data": {
      "text/plain": "count    5010.000000\nmean        2.814571\nstd        17.381046\nmin         1.000000\n50%         1.000000\n75%         1.000000\n95%         8.000000\n99%        30.000000\nmax      1000.000000\nName: quantity, dtype: float64"
     },
     "execution_count": 20,
     "metadata": {},
     "output_type": "execute_result"
    }
   ],
   "source": [
    "df['quantity'].describe(percentiles=(0.75, 0.95, 0.99))"
   ]
  },
  {
   "cell_type": "markdown",
   "metadata": {},
   "source": [
    "1000 единиц товара в одном заказе при среднем в 2.8 - очень сильный выброс, учитывая, что только 1% заказов имеет больше 30 одинаковых предметов в нём"
   ]
  },
  {
   "cell_type": "code",
   "execution_count": 21,
   "metadata": {},
   "outputs": [
    {
     "data": {
      "text/plain": "                    date                           customer_id  order_id  \\\n3944 2019-06-18 15:00:00  312e9a3e-5fca-43ff-a6a1-892d2b2d5ba6     71743   \n3870 2019-06-11 07:00:00  146cd9bf-a95c-4afb-915b-5f6684b17444     71668   \n3480 2019-05-20 21:00:00  5d189e88-d4d6-4eac-ab43-fa65a3c4d106     71478   \n1041 2018-12-10 14:00:00  a984c5b7-ff7e-4647-b84e-ef0b85a2762d     69289   \n500  2018-11-01 08:00:00  aa42dc38-780f-4b50-9a65-83b6fa64e766     68815   \n2135 2019-03-23 10:00:00  685d3d84-aebb-485b-8e59-344b3df8b3d3     70841   \n204  2018-10-11 14:00:00  cd09ea73-d9ce-48c3-b4c5-018113735e80     68611   \n203  2018-10-11 14:00:00  cd09ea73-d9ce-48c3-b4c5-018113735e80     68611   \n518  2018-11-02 11:00:00  0c5aaa88-e346-4f87-8f7a-ad8cbc04e965     68831   \n1375 2019-01-21 09:00:00  8eabcaca-e8c8-4eee-9079-4ff5f612273a     69893   \n\n                                                product  quantity  price  \\\n3944  Вантуз с деревянной ручкой d14 см красный, Bur...      1000  675.0   \n3870   Вешалки мягкие для деликатных вещей 3 шт шоколад       334  148.0   \n3480                          Муляж ЯБЛОКО 9 см красное       300   51.0   \n1041      Ручка-скоба РС-100 белая *Трибатрон*, 1108035       200   29.0   \n500                           Муляж ЯБЛОКО 9 см красное       170   51.0   \n2135  Плечики пластмассовые Размер 52 - 54 Тула 1205158       150   20.0   \n204   Пружина дверная 240 мм оцинкованная (Д-19 мм) ...       150   38.0   \n203                 Крепеж для пружины дверной, 1107055       150   19.0   \n518                           Муляж ЯБЛОКО 9 см красное       140   59.0   \n1375       Щетка для мытья посуды КОЛИБРИ М5202 большая       100   34.0   \n\n            day  \n3944 2019-06-18  \n3870 2019-06-11  \n3480 2019-05-20  \n1041 2018-12-10  \n500  2018-11-01  \n2135 2019-03-23  \n204  2018-10-11  \n203  2018-10-11  \n518  2018-11-02  \n1375 2019-01-21  ",
      "text/html": "<div>\n<style scoped>\n    .dataframe tbody tr th:only-of-type {\n        vertical-align: middle;\n    }\n\n    .dataframe tbody tr th {\n        vertical-align: top;\n    }\n\n    .dataframe thead th {\n        text-align: right;\n    }\n</style>\n<table border=\"1\" class=\"dataframe\">\n  <thead>\n    <tr style=\"text-align: right;\">\n      <th></th>\n      <th>date</th>\n      <th>customer_id</th>\n      <th>order_id</th>\n      <th>product</th>\n      <th>quantity</th>\n      <th>price</th>\n      <th>day</th>\n    </tr>\n  </thead>\n  <tbody>\n    <tr>\n      <th>3944</th>\n      <td>2019-06-18 15:00:00</td>\n      <td>312e9a3e-5fca-43ff-a6a1-892d2b2d5ba6</td>\n      <td>71743</td>\n      <td>Вантуз с деревянной ручкой d14 см красный, Bur...</td>\n      <td>1000</td>\n      <td>675.0</td>\n      <td>2019-06-18</td>\n    </tr>\n    <tr>\n      <th>3870</th>\n      <td>2019-06-11 07:00:00</td>\n      <td>146cd9bf-a95c-4afb-915b-5f6684b17444</td>\n      <td>71668</td>\n      <td>Вешалки мягкие для деликатных вещей 3 шт шоколад</td>\n      <td>334</td>\n      <td>148.0</td>\n      <td>2019-06-11</td>\n    </tr>\n    <tr>\n      <th>3480</th>\n      <td>2019-05-20 21:00:00</td>\n      <td>5d189e88-d4d6-4eac-ab43-fa65a3c4d106</td>\n      <td>71478</td>\n      <td>Муляж ЯБЛОКО 9 см красное</td>\n      <td>300</td>\n      <td>51.0</td>\n      <td>2019-05-20</td>\n    </tr>\n    <tr>\n      <th>1041</th>\n      <td>2018-12-10 14:00:00</td>\n      <td>a984c5b7-ff7e-4647-b84e-ef0b85a2762d</td>\n      <td>69289</td>\n      <td>Ручка-скоба РС-100 белая *Трибатрон*, 1108035</td>\n      <td>200</td>\n      <td>29.0</td>\n      <td>2018-12-10</td>\n    </tr>\n    <tr>\n      <th>500</th>\n      <td>2018-11-01 08:00:00</td>\n      <td>aa42dc38-780f-4b50-9a65-83b6fa64e766</td>\n      <td>68815</td>\n      <td>Муляж ЯБЛОКО 9 см красное</td>\n      <td>170</td>\n      <td>51.0</td>\n      <td>2018-11-01</td>\n    </tr>\n    <tr>\n      <th>2135</th>\n      <td>2019-03-23 10:00:00</td>\n      <td>685d3d84-aebb-485b-8e59-344b3df8b3d3</td>\n      <td>70841</td>\n      <td>Плечики пластмассовые Размер 52 - 54 Тула 1205158</td>\n      <td>150</td>\n      <td>20.0</td>\n      <td>2019-03-23</td>\n    </tr>\n    <tr>\n      <th>204</th>\n      <td>2018-10-11 14:00:00</td>\n      <td>cd09ea73-d9ce-48c3-b4c5-018113735e80</td>\n      <td>68611</td>\n      <td>Пружина дверная 240 мм оцинкованная (Д-19 мм) ...</td>\n      <td>150</td>\n      <td>38.0</td>\n      <td>2018-10-11</td>\n    </tr>\n    <tr>\n      <th>203</th>\n      <td>2018-10-11 14:00:00</td>\n      <td>cd09ea73-d9ce-48c3-b4c5-018113735e80</td>\n      <td>68611</td>\n      <td>Крепеж для пружины дверной, 1107055</td>\n      <td>150</td>\n      <td>19.0</td>\n      <td>2018-10-11</td>\n    </tr>\n    <tr>\n      <th>518</th>\n      <td>2018-11-02 11:00:00</td>\n      <td>0c5aaa88-e346-4f87-8f7a-ad8cbc04e965</td>\n      <td>68831</td>\n      <td>Муляж ЯБЛОКО 9 см красное</td>\n      <td>140</td>\n      <td>59.0</td>\n      <td>2018-11-02</td>\n    </tr>\n    <tr>\n      <th>1375</th>\n      <td>2019-01-21 09:00:00</td>\n      <td>8eabcaca-e8c8-4eee-9079-4ff5f612273a</td>\n      <td>69893</td>\n      <td>Щетка для мытья посуды КОЛИБРИ М5202 большая</td>\n      <td>100</td>\n      <td>34.0</td>\n      <td>2019-01-21</td>\n    </tr>\n  </tbody>\n</table>\n</div>"
     },
     "execution_count": 21,
     "metadata": {},
     "output_type": "execute_result"
    }
   ],
   "source": [
    "df.sort_values('quantity', ascending=False).head(10)"
   ]
  },
  {
   "cell_type": "markdown",
   "metadata": {},
   "source": [
    "1000 вантузов, 300 вешалок, муляжи яблок. Отбросим заказ с вантузами, он отличается более чем втрое от следующего "
   ]
  },
  {
   "cell_type": "code",
   "execution_count": 22,
   "metadata": {},
   "outputs": [],
   "source": [
    "df = df.query('order_id != 71743')"
   ]
  },
  {
   "cell_type": "code",
   "execution_count": 23,
   "metadata": {},
   "outputs": [
    {
     "data": {
      "text/plain": "count     5009.000000\nmean       515.175684\nstd        943.852995\nmin          9.000000\n50%        150.000000\n75%        488.000000\n95%       2243.000000\n99%       4956.360000\nmax      14917.000000\nName: price, dtype: float64"
     },
     "execution_count": 23,
     "metadata": {},
     "output_type": "execute_result"
    }
   ],
   "source": [
    "df['price'].describe(percentiles=(0.75, 0.95, 0.99))"
   ]
  },
  {
   "cell_type": "markdown",
   "metadata": {},
   "source": [
    "Половина покупок приходится на товары дешевле 150р, 5% - дороже 2250р"
   ]
  },
  {
   "cell_type": "code",
   "execution_count": 24,
   "metadata": {},
   "outputs": [
    {
     "data": {
      "text/plain": "                    date                           customer_id  order_id  \\\n4331 2019-07-29 17:00:00  0d87f4ae-465a-4fac-81e6-5d629761783e     72139   \n2373 2019-04-05 19:00:00  c0c60544-3a99-49d0-8a8e-cf7f293c22cb     71035   \n1741 2019-02-24 10:00:00  ac250053-a236-467a-97d2-ddbb9bf4a1ba     70423   \n2642 2019-04-21 16:00:00  19d904d8-8d16-476d-8f66-b2a3b7a23660     71227   \n4916 2019-10-16 15:00:00  d5584388-ffbe-42fd-a746-a98828ec919f     72992   \n2051 2019-03-14 18:00:00  27d4ce42-352b-4756-bf5b-8724e05d5131     70740   \n4332 2019-07-30 01:00:00  e2fe6b48-1955-4882-925c-733f545df026     72140   \n583  2018-11-05 22:00:00  fc333417-1d11-4a2a-b946-0957ae0603e9     68872   \n1112 2018-12-17 17:00:00  86c97bf1-c834-423e-9e38-8acda68f97e8     69417   \n4495 2019-08-23 12:00:00  8d85f320-5f55-4647-814c-da1a6b21c2a4     72381   \n\n                                                product  quantity    price  \\\n4331  Сушилка уличная Leifheit 85210 LINOMATIC V 400...         1  14917.0   \n2373  Сумка-тележка хозяйственная Andersen Royal Sho...         1   8737.0   \n1741  Сумка-тележка хозяйственная Andersen Alu Star ...         1   8437.0   \n2642  Сумка-тележка хозяйственная Rolser MNB019 rojo...         1   8077.0   \n4916  Стремянка 7 ступенчатая Hailo 8040-707 XXL 13 ...         1   7724.0   \n2051  Сумка-тележка хозяйственная Rolser IMX006 bass...         1   7679.0   \n4332  Сумка-тележка хозяйственная Rolser MNB017 fucs...         1   7679.0   \n583   Сумка-тележка хозяйственная Rolser MOU041 malv...         1   7597.0   \n1112  Гладильная доска Leifheit AirBoard Compact M P...         1   7424.0   \n4495  Урна уличная стальная Сальвадор 02.021.0 46х11...         1   7349.0   \n\n            day  \n4331 2019-07-29  \n2373 2019-04-05  \n1741 2019-02-24  \n2642 2019-04-21  \n4916 2019-10-16  \n2051 2019-03-14  \n4332 2019-07-30  \n583  2018-11-05  \n1112 2018-12-17  \n4495 2019-08-23  ",
      "text/html": "<div>\n<style scoped>\n    .dataframe tbody tr th:only-of-type {\n        vertical-align: middle;\n    }\n\n    .dataframe tbody tr th {\n        vertical-align: top;\n    }\n\n    .dataframe thead th {\n        text-align: right;\n    }\n</style>\n<table border=\"1\" class=\"dataframe\">\n  <thead>\n    <tr style=\"text-align: right;\">\n      <th></th>\n      <th>date</th>\n      <th>customer_id</th>\n      <th>order_id</th>\n      <th>product</th>\n      <th>quantity</th>\n      <th>price</th>\n      <th>day</th>\n    </tr>\n  </thead>\n  <tbody>\n    <tr>\n      <th>4331</th>\n      <td>2019-07-29 17:00:00</td>\n      <td>0d87f4ae-465a-4fac-81e6-5d629761783e</td>\n      <td>72139</td>\n      <td>Сушилка уличная Leifheit 85210 LINOMATIC V 400...</td>\n      <td>1</td>\n      <td>14917.0</td>\n      <td>2019-07-29</td>\n    </tr>\n    <tr>\n      <th>2373</th>\n      <td>2019-04-05 19:00:00</td>\n      <td>c0c60544-3a99-49d0-8a8e-cf7f293c22cb</td>\n      <td>71035</td>\n      <td>Сумка-тележка хозяйственная Andersen Royal Sho...</td>\n      <td>1</td>\n      <td>8737.0</td>\n      <td>2019-04-05</td>\n    </tr>\n    <tr>\n      <th>1741</th>\n      <td>2019-02-24 10:00:00</td>\n      <td>ac250053-a236-467a-97d2-ddbb9bf4a1ba</td>\n      <td>70423</td>\n      <td>Сумка-тележка хозяйственная Andersen Alu Star ...</td>\n      <td>1</td>\n      <td>8437.0</td>\n      <td>2019-02-24</td>\n    </tr>\n    <tr>\n      <th>2642</th>\n      <td>2019-04-21 16:00:00</td>\n      <td>19d904d8-8d16-476d-8f66-b2a3b7a23660</td>\n      <td>71227</td>\n      <td>Сумка-тележка хозяйственная Rolser MNB019 rojo...</td>\n      <td>1</td>\n      <td>8077.0</td>\n      <td>2019-04-21</td>\n    </tr>\n    <tr>\n      <th>4916</th>\n      <td>2019-10-16 15:00:00</td>\n      <td>d5584388-ffbe-42fd-a746-a98828ec919f</td>\n      <td>72992</td>\n      <td>Стремянка 7 ступенчатая Hailo 8040-707 XXL 13 ...</td>\n      <td>1</td>\n      <td>7724.0</td>\n      <td>2019-10-16</td>\n    </tr>\n    <tr>\n      <th>2051</th>\n      <td>2019-03-14 18:00:00</td>\n      <td>27d4ce42-352b-4756-bf5b-8724e05d5131</td>\n      <td>70740</td>\n      <td>Сумка-тележка хозяйственная Rolser IMX006 bass...</td>\n      <td>1</td>\n      <td>7679.0</td>\n      <td>2019-03-14</td>\n    </tr>\n    <tr>\n      <th>4332</th>\n      <td>2019-07-30 01:00:00</td>\n      <td>e2fe6b48-1955-4882-925c-733f545df026</td>\n      <td>72140</td>\n      <td>Сумка-тележка хозяйственная Rolser MNB017 fucs...</td>\n      <td>1</td>\n      <td>7679.0</td>\n      <td>2019-07-30</td>\n    </tr>\n    <tr>\n      <th>583</th>\n      <td>2018-11-05 22:00:00</td>\n      <td>fc333417-1d11-4a2a-b946-0957ae0603e9</td>\n      <td>68872</td>\n      <td>Сумка-тележка хозяйственная Rolser MOU041 malv...</td>\n      <td>1</td>\n      <td>7597.0</td>\n      <td>2018-11-05</td>\n    </tr>\n    <tr>\n      <th>1112</th>\n      <td>2018-12-17 17:00:00</td>\n      <td>86c97bf1-c834-423e-9e38-8acda68f97e8</td>\n      <td>69417</td>\n      <td>Гладильная доска Leifheit AirBoard Compact M P...</td>\n      <td>1</td>\n      <td>7424.0</td>\n      <td>2018-12-17</td>\n    </tr>\n    <tr>\n      <th>4495</th>\n      <td>2019-08-23 12:00:00</td>\n      <td>8d85f320-5f55-4647-814c-da1a6b21c2a4</td>\n      <td>72381</td>\n      <td>Урна уличная стальная Сальвадор 02.021.0 46х11...</td>\n      <td>1</td>\n      <td>7349.0</td>\n      <td>2019-08-23</td>\n    </tr>\n  </tbody>\n</table>\n</div>"
     },
     "execution_count": 24,
     "metadata": {},
     "output_type": "execute_result"
    }
   ],
   "source": [
    "df.sort_values('price', ascending=False).head(10)"
   ]
  },
  {
   "cell_type": "markdown",
   "metadata": {},
   "source": [
    "Сушилка уличная выделяется, но от следующих пунктов отстоит не столь сильно. Пока оставим"
   ]
  },
  {
   "cell_type": "markdown",
   "metadata": {},
   "source": [
    "## Value\n",
    "\n",
    "Рассчитаем для каждой строчки датасета её стоимость, умножив количество на цену "
   ]
  },
  {
   "cell_type": "code",
   "execution_count": 25,
   "metadata": {},
   "outputs": [],
   "source": [
    "df['value'] = df['price'] * df['quantity']"
   ]
  },
  {
   "cell_type": "code",
   "execution_count": 26,
   "metadata": {},
   "outputs": [
    {
     "data": {
      "text/plain": "              value\ncount   2783.000000\nmean    1279.338843\nstd     2284.338298\nmin       14.000000\n50%      704.000000\n75%     1499.000000\n95%     4124.000000\n99%     8457.340000\nmax    49432.000000",
      "text/html": "<div>\n<style scoped>\n    .dataframe tbody tr th:only-of-type {\n        vertical-align: middle;\n    }\n\n    .dataframe tbody tr th {\n        vertical-align: top;\n    }\n\n    .dataframe thead th {\n        text-align: right;\n    }\n</style>\n<table border=\"1\" class=\"dataframe\">\n  <thead>\n    <tr style=\"text-align: right;\">\n      <th></th>\n      <th>value</th>\n    </tr>\n  </thead>\n  <tbody>\n    <tr>\n      <th>count</th>\n      <td>2783.000000</td>\n    </tr>\n    <tr>\n      <th>mean</th>\n      <td>1279.338843</td>\n    </tr>\n    <tr>\n      <th>std</th>\n      <td>2284.338298</td>\n    </tr>\n    <tr>\n      <th>min</th>\n      <td>14.000000</td>\n    </tr>\n    <tr>\n      <th>50%</th>\n      <td>704.000000</td>\n    </tr>\n    <tr>\n      <th>75%</th>\n      <td>1499.000000</td>\n    </tr>\n    <tr>\n      <th>95%</th>\n      <td>4124.000000</td>\n    </tr>\n    <tr>\n      <th>99%</th>\n      <td>8457.340000</td>\n    </tr>\n    <tr>\n      <th>max</th>\n      <td>49432.000000</td>\n    </tr>\n  </tbody>\n</table>\n</div>"
     },
     "execution_count": 26,
     "metadata": {},
     "output_type": "execute_result"
    }
   ],
   "source": [
    "df.groupby('order_id').agg({'value': 'sum'}).describe(percentiles=(0.75, 0.95, 0.99))"
   ]
  },
  {
   "cell_type": "code",
   "execution_count": 27,
   "metadata": {},
   "outputs": [
    {
     "data": {
      "text/plain": "<Figure size 960x560 with 1 Axes>",
      "image/png": "[encoded data removed]"
     },
     "metadata": {},
     "output_type": "display_data"
    }
   ],
   "source": [
    "plt.figure(figsize=(12, 7), dpi=80)\n",
    "sns.histplot(df.groupby('order_id').agg({'value': 'sum'}), x='value', kde=True)\n",
    "plt.title('Распределение стоимости заказов', fontsize=22)\n",
    "plt.xlim(0, 4124)\n",
    "plt.xlabel('Стоимость заказа')\n",
    "plt.ylabel('Число заказов')\n",
    "plt.show()"
   ]
  },
  {
   "cell_type": "markdown",
   "metadata": {},
   "source": [
    "# Сегментация покупателей  \n",
    "\n",
    "\n",
    "## Категоризация товаров  \n",
    "\n",
    "Информация о том, какие товары покупает пользователь - важная информация для принятия решения о сегментации. К сожалению, для своих товаров магазин не хранил категорию, нам придётся присвоить её самостоятельно"
   ]
  },
  {
   "cell_type": "code",
   "execution_count": 28,
   "outputs": [],
   "source": [
    "def timing(func: Callable) -> Callable:\n",
    "    \"\"\"\n",
    "    Декоратор, печатающий время работы обёрнутой функции\n",
    "    :param func: Callable\n",
    "    :return: Callable\n",
    "    \"\"\"\n",
    "\n",
    "    def wrap(*args, **kwargs):\n",
    "        time1 = time.time()\n",
    "        ret = func(*args, **kwargs)\n",
    "        time2 = time.time()\n",
    "        print(f'{func.__name__} function took {(time2 - time1) * 1000.0:.3f} ms to complete')\n",
    "\n",
    "        return ret\n",
    "\n",
    "    return wrap"
   ],
   "metadata": {
    "collapsed": false,
    "pycharm": {
     "name": "#%%\n"
    }
   }
  },
  {
   "cell_type": "code",
   "execution_count": 29,
   "outputs": [],
   "source": [
    "def spacy_tokenizer(document: str) -> list[str]:\n",
    "    \"\"\"\n",
    "    Отфильтровывает числа, \"стоп-слова\", знаки пунктуации, лемматизирует остальное\n",
    "    Добавляет в результирующий лист по десять копий первых двух лемм, увеличивая их вес для дальнейших операций\n",
    "    :param document: строка, которую хотим лемматизировать\n",
    "    :return: лист лемм\n",
    "    \"\"\"\n",
    "    nlp = Russian()\n",
    "    tokens = nlp(document)\n",
    "    tokens = [token.lemma_ for token in tokens if (\n",
    "            token.is_stop == False and\n",
    "            token.like_num == False and\n",
    "            token.is_punct == False and\n",
    "            token.lemma_.strip() != '')]\n",
    "    tokens += tokens[:2] * 10\n",
    "    return tokens"
   ],
   "metadata": {
    "collapsed": false,
    "pycharm": {
     "name": "#%%\n"
    }
   }
  },
  {
   "cell_type": "code",
   "execution_count": 30,
   "outputs": [],
   "source": [
    "@timing\n",
    "def tfidf_clustering(i: int, names: list[str]) -> tuple[pd.DataFrame, list[float, int]]:\n",
    "    \"\"\"\n",
    "    Применяет KMeans на матрице значений TF-IDF для названий товаров. Для выделения лемм токенов используется spacy_tokenizer\n",
    "    :param names: список названий\n",
    "    :param i: нужное число кластеров\n",
    "    :return: датафрейм соответствий уникальных названий номеру клатера, WCSS value, число кластеров\n",
    "    \"\"\"\n",
    "    names_df = pd.DataFrame(names)\n",
    "\n",
    "    tfidf_vectorizer = TfidfVectorizer(input='content', tokenizer=spacy_tokenizer)\n",
    "    result = tfidf_vectorizer.fit_transform(pd.Series(names))\n",
    "\n",
    "    kmeans = KMeans(n_clusters=i, init='k-means++', random_state=42).fit(result)\n",
    "    labels = pd.Series(kmeans.labels_)\n",
    "    print(f'Number of clusters {i}, WCSS value {kmeans.inertia_}')\n",
    "\n",
    "    names_df = pd.concat([names_df, labels], axis=1)\n",
    "    names_df.columns = ['product', 'label']\n",
    "    return names_df, [kmeans.inertia_, i]"
   ],
   "metadata": {
    "collapsed": false,
    "pycharm": {
     "name": "#%%\n"
    }
   }
  },
  {
   "cell_type": "markdown",
   "source": [
    "Попробуем решить, сколько кластеров мы выделим"
   ],
   "metadata": {
    "collapsed": false
   }
  },
  {
   "cell_type": "code",
   "execution_count": 31,
   "metadata": {
    "scrolled": true
   },
   "outputs": [
    {
     "name": "stdout",
     "output_type": "stream",
     "text": [
      "Number of clusters 1, WCSS value 2301.8676722574146\n",
      "tfidf_clustering function took 405610.460 ms to complete\n",
      "Number of clusters 6, WCSS value 1960.3651688020734\n",
      "tfidf_clustering function took 383263.347 ms to complete\n",
      "Number of clusters 11, WCSS value 1740.8149885781952\n",
      "tfidf_clustering function took 453361.395 ms to complete\n",
      "Number of clusters 16, WCSS value 1642.3863129433378\n",
      "tfidf_clustering function took 421691.331 ms to complete\n",
      "Number of clusters 21, WCSS value 1527.0919830605696\n",
      "tfidf_clustering function took 338844.108 ms to complete\n",
      "Number of clusters 26, WCSS value 1458.8686562871358\n",
      "tfidf_clustering function took 306255.913 ms to complete\n",
      "Number of clusters 31, WCSS value 1406.4869397513337\n",
      "tfidf_clustering function took 367974.236 ms to complete\n",
      "Number of clusters 36, WCSS value 1370.7484996613334\n",
      "tfidf_clustering function took 368654.499 ms to complete\n",
      "Number of clusters 41, WCSS value 1307.7184383933122\n",
      "tfidf_clustering function took 381721.056 ms to complete\n",
      "Number of clusters 46, WCSS value 1287.238675164736\n",
      "tfidf_clustering function took 300092.538 ms to complete\n"
     ]
    }
   ],
   "source": [
    "wcss = []\n",
    "for i in range(1, 50, 5):\n",
    "    wcss.append(tfidf_clustering(i, df['product'].unique())[1])"
   ]
  },
  {
   "cell_type": "markdown",
   "metadata": {},
   "source": [
    "Построим график Within-Cluster-Sum-of-Squares от количества кластеров "
   ]
  },
  {
   "cell_type": "code",
   "execution_count": 32,
   "metadata": {},
   "outputs": [
    {
     "data": {
      "text/plain": "<Figure size 960x560 with 1 Axes>",
      "image/png": "[encoded data removed]"
     },
     "metadata": {},
     "output_type": "display_data"
    }
   ],
   "source": [
    "plt.figure(figsize=(12, 7), dpi=80)\n",
    "sns.lineplot(x=[i[1] for i in wcss], y=[i[0] for i in wcss])\n",
    "plt.title('Оценка качества кластеризации товаров', fontsize=22)\n",
    "plt.xlabel('Число кластеров')\n",
    "plt.ylabel('WCSS')\n",
    "plt.show()"
   ]
  },
  {
   "cell_type": "markdown",
   "metadata": {},
   "source": [
    "Совсем явного изгиба кривой нет, но 20 кажется допустимым вариантом"
   ]
  },
  {
   "cell_type": "code",
   "execution_count": 33,
   "metadata": {},
   "outputs": [
    {
     "name": "stdout",
     "output_type": "stream",
     "text": [
      "Number of clusters 20, WCSS value 1559.3125789392357\n",
      "tfidf_clustering function took 281297.810 ms to complete\n"
     ]
    }
   ],
   "source": [
    "tfidf_df = tfidf_clustering(20, df['product'].unique())[0]"
   ]
  },
  {
   "cell_type": "markdown",
   "metadata": {},
   "source": [
    "Посмотрим на полученные кластеры"
   ]
  },
  {
   "cell_type": "code",
   "execution_count": 34,
   "metadata": {
    "scrolled": true
   },
   "outputs": [
    {
     "name": "stdout",
     "output_type": "stream",
     "text": [
      "label 4, items 26\n"
     ]
    },
    {
     "data": {
      "text/plain": "                                                product  label\n1230  Однолетнее растение Табак душистый в кассете п...      4\n1711  Однолетнее растение Вербена в кассете по 4 шт,...      4\n0       Комнатное растение в горшке Алое Вера, d12, h30      4\n2302                  Комнатное растение Пуансеттия D10      4\n1647  Однолетнее растение Виола в кассете по 4 шт, Р...      4\n1560  Однолетнее растение Астра в кассете по 4 шт, Р...      4",
      "text/html": "<div>\n<style scoped>\n    .dataframe tbody tr th:only-of-type {\n        vertical-align: middle;\n    }\n\n    .dataframe tbody tr th {\n        vertical-align: top;\n    }\n\n    .dataframe thead th {\n        text-align: right;\n    }\n</style>\n<table border=\"1\" class=\"dataframe\">\n  <thead>\n    <tr style=\"text-align: right;\">\n      <th></th>\n      <th>product</th>\n      <th>label</th>\n    </tr>\n  </thead>\n  <tbody>\n    <tr>\n      <th>1230</th>\n      <td>Однолетнее растение Табак душистый в кассете п...</td>\n      <td>4</td>\n    </tr>\n    <tr>\n      <th>1711</th>\n      <td>Однолетнее растение Вербена в кассете по 4 шт,...</td>\n      <td>4</td>\n    </tr>\n    <tr>\n      <th>0</th>\n      <td>Комнатное растение в горшке Алое Вера, d12, h30</td>\n      <td>4</td>\n    </tr>\n    <tr>\n      <th>2302</th>\n      <td>Комнатное растение Пуансеттия D10</td>\n      <td>4</td>\n    </tr>\n    <tr>\n      <th>1647</th>\n      <td>Однолетнее растение Виола в кассете по 4 шт, Р...</td>\n      <td>4</td>\n    </tr>\n    <tr>\n      <th>1560</th>\n      <td>Однолетнее растение Астра в кассете по 4 шт, Р...</td>\n      <td>4</td>\n    </tr>\n  </tbody>\n</table>\n</div>"
     },
     "metadata": {},
     "output_type": "display_data"
    },
    {
     "name": "stdout",
     "output_type": "stream",
     "text": [
      "label 0, items 1009\n"
     ]
    },
    {
     "data": {
      "text/plain": "                                                product  label\n1462  Чайник эмалированный Орхидея со свистком 2,5 л...      0\n1469  Щетка для мытья окон 2 в 1 с телескопической р...      0\n1864  Нивянник (Ромашка) крупноцветковый белый объем...      0\n1212  Искусственная композиция из цветов пластиковая...      0\n877   Простынь вафельная 200х180 см WELLNESS RW180-0...      0\n1559           Лобелия Регатта Regatta микс объем 0,5 л      0",
      "text/html": "<div>\n<style scoped>\n    .dataframe tbody tr th:only-of-type {\n        vertical-align: middle;\n    }\n\n    .dataframe tbody tr th {\n        vertical-align: top;\n    }\n\n    .dataframe thead th {\n        text-align: right;\n    }\n</style>\n<table border=\"1\" class=\"dataframe\">\n  <thead>\n    <tr style=\"text-align: right;\">\n      <th></th>\n      <th>product</th>\n      <th>label</th>\n    </tr>\n  </thead>\n  <tbody>\n    <tr>\n      <th>1462</th>\n      <td>Чайник эмалированный Орхидея со свистком 2,5 л...</td>\n      <td>0</td>\n    </tr>\n    <tr>\n      <th>1469</th>\n      <td>Щетка для мытья окон 2 в 1 с телескопической р...</td>\n      <td>0</td>\n    </tr>\n    <tr>\n      <th>1864</th>\n      <td>Нивянник (Ромашка) крупноцветковый белый объем...</td>\n      <td>0</td>\n    </tr>\n    <tr>\n      <th>1212</th>\n      <td>Искусственная композиция из цветов пластиковая...</td>\n      <td>0</td>\n    </tr>\n    <tr>\n      <th>877</th>\n      <td>Простынь вафельная 200х180 см WELLNESS RW180-0...</td>\n      <td>0</td>\n    </tr>\n    <tr>\n      <th>1559</th>\n      <td>Лобелия Регатта Regatta микс объем 0,5 л</td>\n      <td>0</td>\n    </tr>\n  </tbody>\n</table>\n</div>"
     },
     "metadata": {},
     "output_type": "display_data"
    },
    {
     "name": "stdout",
     "output_type": "stream",
     "text": [
      "label 3, items 131\n"
     ]
    },
    {
     "data": {
      "text/plain": "                                                product  label\n768     Сушилка для белья на ванну Leifheit Adria 72708      3\n639                   Сушилка для белья Gimi Dinamik 30      3\n206    Сушилка для белья потолочная Лиана 1,7 м 1703006      3\n519      Сушилка для белья ЛИАНА ЛЮКС 120 см потолочная      3\n2060  Сушилка для белья ВИОЛЕТ Level 120 L-120 насте...      3\n808   Сушилка для белья потолочная ЛИАНА ЛЮКС 180 см...      3",
      "text/html": "<div>\n<style scoped>\n    .dataframe tbody tr th:only-of-type {\n        vertical-align: middle;\n    }\n\n    .dataframe tbody tr th {\n        vertical-align: top;\n    }\n\n    .dataframe thead th {\n        text-align: right;\n    }\n</style>\n<table border=\"1\" class=\"dataframe\">\n  <thead>\n    <tr style=\"text-align: right;\">\n      <th></th>\n      <th>product</th>\n      <th>label</th>\n    </tr>\n  </thead>\n  <tbody>\n    <tr>\n      <th>768</th>\n      <td>Сушилка для белья на ванну Leifheit Adria 72708</td>\n      <td>3</td>\n    </tr>\n    <tr>\n      <th>639</th>\n      <td>Сушилка для белья Gimi Dinamik 30</td>\n      <td>3</td>\n    </tr>\n    <tr>\n      <th>206</th>\n      <td>Сушилка для белья потолочная Лиана 1,7 м 1703006</td>\n      <td>3</td>\n    </tr>\n    <tr>\n      <th>519</th>\n      <td>Сушилка для белья ЛИАНА ЛЮКС 120 см потолочная</td>\n      <td>3</td>\n    </tr>\n    <tr>\n      <th>2060</th>\n      <td>Сушилка для белья ВИОЛЕТ Level 120 L-120 насте...</td>\n      <td>3</td>\n    </tr>\n    <tr>\n      <th>808</th>\n      <td>Сушилка для белья потолочная ЛИАНА ЛЮКС 180 см...</td>\n      <td>3</td>\n    </tr>\n  </tbody>\n</table>\n</div>"
     },
     "metadata": {},
     "output_type": "display_data"
    },
    {
     "name": "stdout",
     "output_type": "stream",
     "text": [
      "label 6, items 35\n"
     ]
    },
    {
     "data": {
      "text/plain": "                                                product  label\n1513  Таз пластмассовый строительный круглый 40 л, 1...      6\n237   Таз пластмассовый 16,0 л пищевой с ручками (С2...      6\n931   Таз пластмассовый 16,0 л пищевой круглый М2507...      6\n641   Таз пластмассовый 8,0 л пищевой (Минеральные в...      6\n274   Таз пластмассовый 32,0 л с ручками \"Полимербыт...      6\n2057  Таз пластмассовый 30,0 л овальный (Белоруссия)...      6",
      "text/html": "<div>\n<style scoped>\n    .dataframe tbody tr th:only-of-type {\n        vertical-align: middle;\n    }\n\n    .dataframe tbody tr th {\n        vertical-align: top;\n    }\n\n    .dataframe thead th {\n        text-align: right;\n    }\n</style>\n<table border=\"1\" class=\"dataframe\">\n  <thead>\n    <tr style=\"text-align: right;\">\n      <th></th>\n      <th>product</th>\n      <th>label</th>\n    </tr>\n  </thead>\n  <tbody>\n    <tr>\n      <th>1513</th>\n      <td>Таз пластмассовый строительный круглый 40 л, 1...</td>\n      <td>6</td>\n    </tr>\n    <tr>\n      <th>237</th>\n      <td>Таз пластмассовый 16,0 л пищевой с ручками (С2...</td>\n      <td>6</td>\n    </tr>\n    <tr>\n      <th>931</th>\n      <td>Таз пластмассовый 16,0 л пищевой круглый М2507...</td>\n      <td>6</td>\n    </tr>\n    <tr>\n      <th>641</th>\n      <td>Таз пластмассовый 8,0 л пищевой (Минеральные в...</td>\n      <td>6</td>\n    </tr>\n    <tr>\n      <th>274</th>\n      <td>Таз пластмассовый 32,0 л с ручками \"Полимербыт...</td>\n      <td>6</td>\n    </tr>\n    <tr>\n      <th>2057</th>\n      <td>Таз пластмассовый 30,0 л овальный (Белоруссия)...</td>\n      <td>6</td>\n    </tr>\n  </tbody>\n</table>\n</div>"
     },
     "metadata": {},
     "output_type": "display_data"
    },
    {
     "name": "stdout",
     "output_type": "stream",
     "text": [
      "label 19, items 57\n"
     ]
    },
    {
     "data": {
      "text/plain": "                                                product  label\n9     Чехол для гладильной доски Colombo Persia Beig...     19\n208   Чехол для гладильной доски Zalger 520138 140х5...     19\n883   Чехол для одежды Hausmann розовый принт 60х100...     19\n371   Чехол для гладильной доски I LOVE GIMI L из по...     19\n964   Чехол для гладильной доски I LOVE GIMI M из по...     19\n2322  Чехол для гладильной доски PRISMA TEXTIL термо...     19",
      "text/html": "<div>\n<style scoped>\n    .dataframe tbody tr th:only-of-type {\n        vertical-align: middle;\n    }\n\n    .dataframe tbody tr th {\n        vertical-align: top;\n    }\n\n    .dataframe thead th {\n        text-align: right;\n    }\n</style>\n<table border=\"1\" class=\"dataframe\">\n  <thead>\n    <tr style=\"text-align: right;\">\n      <th></th>\n      <th>product</th>\n      <th>label</th>\n    </tr>\n  </thead>\n  <tbody>\n    <tr>\n      <th>9</th>\n      <td>Чехол для гладильной доски Colombo Persia Beig...</td>\n      <td>19</td>\n    </tr>\n    <tr>\n      <th>208</th>\n      <td>Чехол для гладильной доски Zalger 520138 140х5...</td>\n      <td>19</td>\n    </tr>\n    <tr>\n      <th>883</th>\n      <td>Чехол для одежды Hausmann розовый принт 60х100...</td>\n      <td>19</td>\n    </tr>\n    <tr>\n      <th>371</th>\n      <td>Чехол для гладильной доски I LOVE GIMI L из по...</td>\n      <td>19</td>\n    </tr>\n    <tr>\n      <th>964</th>\n      <td>Чехол для гладильной доски I LOVE GIMI M из по...</td>\n      <td>19</td>\n    </tr>\n    <tr>\n      <th>2322</th>\n      <td>Чехол для гладильной доски PRISMA TEXTIL термо...</td>\n      <td>19</td>\n    </tr>\n  </tbody>\n</table>\n</div>"
     },
     "metadata": {},
     "output_type": "display_data"
    },
    {
     "name": "stdout",
     "output_type": "stream",
     "text": [
      "label 10, items 46\n"
     ]
    },
    {
     "data": {
      "text/plain": "                                                product  label\n2061  Вешалка настенная НИКА ВПТ11б с полкой 11 крюч...     10\n882   Вешалка Valiant для брюк и юбок металлическая ...     10\n925        Набор вешалок пластмассовых Rozenbal R181900     10\n2285  Вешалка для блузок 41 см красный Attribute AHM781     10\n1900     Вешалка-стойка Сакура Слуга 2 на колесах сосна     10\n2129  Вешалка - слуга Малая ЗМИ белое серебро ВНП 141 б     10",
      "text/html": "<div>\n<style scoped>\n    .dataframe tbody tr th:only-of-type {\n        vertical-align: middle;\n    }\n\n    .dataframe tbody tr th {\n        vertical-align: top;\n    }\n\n    .dataframe thead th {\n        text-align: right;\n    }\n</style>\n<table border=\"1\" class=\"dataframe\">\n  <thead>\n    <tr style=\"text-align: right;\">\n      <th></th>\n      <th>product</th>\n      <th>label</th>\n    </tr>\n  </thead>\n  <tbody>\n    <tr>\n      <th>2061</th>\n      <td>Вешалка настенная НИКА ВПТ11б с полкой 11 крюч...</td>\n      <td>10</td>\n    </tr>\n    <tr>\n      <th>882</th>\n      <td>Вешалка Valiant для брюк и юбок металлическая ...</td>\n      <td>10</td>\n    </tr>\n    <tr>\n      <th>925</th>\n      <td>Набор вешалок пластмассовых Rozenbal R181900</td>\n      <td>10</td>\n    </tr>\n    <tr>\n      <th>2285</th>\n      <td>Вешалка для блузок 41 см красный Attribute AHM781</td>\n      <td>10</td>\n    </tr>\n    <tr>\n      <th>1900</th>\n      <td>Вешалка-стойка Сакура Слуга 2 на колесах сосна</td>\n      <td>10</td>\n    </tr>\n    <tr>\n      <th>2129</th>\n      <td>Вешалка - слуга Малая ЗМИ белое серебро ВНП 141 б</td>\n      <td>10</td>\n    </tr>\n  </tbody>\n</table>\n</div>"
     },
     "metadata": {},
     "output_type": "display_data"
    },
    {
     "name": "stdout",
     "output_type": "stream",
     "text": [
      "label 9, items 72\n"
     ]
    },
    {
     "data": {
      "text/plain": "                                                product  label\n257   Гладильная доска ДСП \"БЭЛЛЬ-ЮНИОР2\", 112*34,5,...      9\n1769             Гладильная доска НИКА 11 122х40 см Н11      9\n500         Гладильная доска НИКА BRUNA M HBM 122х40 см      9\n19    Доска гладильная Eurogold Professional 130х48 ...      9\n726   Гладильная доска Eurogold Professional 130х48 ...      9\n1108  Гладильная доска Hausmann Classic MONO 120x38 ...      9",
      "text/html": "<div>\n<style scoped>\n    .dataframe tbody tr th:only-of-type {\n        vertical-align: middle;\n    }\n\n    .dataframe tbody tr th {\n        vertical-align: top;\n    }\n\n    .dataframe thead th {\n        text-align: right;\n    }\n</style>\n<table border=\"1\" class=\"dataframe\">\n  <thead>\n    <tr style=\"text-align: right;\">\n      <th></th>\n      <th>product</th>\n      <th>label</th>\n    </tr>\n  </thead>\n  <tbody>\n    <tr>\n      <th>257</th>\n      <td>Гладильная доска ДСП \"БЭЛЛЬ-ЮНИОР2\", 112*34,5,...</td>\n      <td>9</td>\n    </tr>\n    <tr>\n      <th>1769</th>\n      <td>Гладильная доска НИКА 11 122х40 см Н11</td>\n      <td>9</td>\n    </tr>\n    <tr>\n      <th>500</th>\n      <td>Гладильная доска НИКА BRUNA M HBM 122х40 см</td>\n      <td>9</td>\n    </tr>\n    <tr>\n      <th>19</th>\n      <td>Доска гладильная Eurogold Professional 130х48 ...</td>\n      <td>9</td>\n    </tr>\n    <tr>\n      <th>726</th>\n      <td>Гладильная доска Eurogold Professional 130х48 ...</td>\n      <td>9</td>\n    </tr>\n    <tr>\n      <th>1108</th>\n      <td>Гладильная доска Hausmann Classic MONO 120x38 ...</td>\n      <td>9</td>\n    </tr>\n  </tbody>\n</table>\n</div>"
     },
     "metadata": {},
     "output_type": "display_data"
    },
    {
     "name": "stdout",
     "output_type": "stream",
     "text": [
      "label 1, items 103\n"
     ]
    },
    {
     "data": {
      "text/plain": "                                                product  label\n461   Сумка-тележка хозяйственная GIMI Ideal серая (...      1\n1201  Сумка-тележка хозяйственная Rolser Jet Claudia...      1\n1044    Сумка-тележка 2-х колесная Gimi Argo фиолетовая      1\n798         Сумка-тележка 3-х колесная Gimi Tris черная      1\n635   Сумка-тележка TWIN стальной каркас 56 л синяя,...      1\n556                     Сумка-тележка GIMI Argo красная      1",
      "text/html": "<div>\n<style scoped>\n    .dataframe tbody tr th:only-of-type {\n        vertical-align: middle;\n    }\n\n    .dataframe tbody tr th {\n        vertical-align: top;\n    }\n\n    .dataframe thead th {\n        text-align: right;\n    }\n</style>\n<table border=\"1\" class=\"dataframe\">\n  <thead>\n    <tr style=\"text-align: right;\">\n      <th></th>\n      <th>product</th>\n      <th>label</th>\n    </tr>\n  </thead>\n  <tbody>\n    <tr>\n      <th>461</th>\n      <td>Сумка-тележка хозяйственная GIMI Ideal серая (...</td>\n      <td>1</td>\n    </tr>\n    <tr>\n      <th>1201</th>\n      <td>Сумка-тележка хозяйственная Rolser Jet Claudia...</td>\n      <td>1</td>\n    </tr>\n    <tr>\n      <th>1044</th>\n      <td>Сумка-тележка 2-х колесная Gimi Argo фиолетовая</td>\n      <td>1</td>\n    </tr>\n    <tr>\n      <th>798</th>\n      <td>Сумка-тележка 3-х колесная Gimi Tris черная</td>\n      <td>1</td>\n    </tr>\n    <tr>\n      <th>635</th>\n      <td>Сумка-тележка TWIN стальной каркас 56 л синяя,...</td>\n      <td>1</td>\n    </tr>\n    <tr>\n      <th>556</th>\n      <td>Сумка-тележка GIMI Argo красная</td>\n      <td>1</td>\n    </tr>\n  </tbody>\n</table>\n</div>"
     },
     "metadata": {},
     "output_type": "display_data"
    },
    {
     "name": "stdout",
     "output_type": "stream",
     "text": [
      "label 2, items 177\n"
     ]
    },
    {
     "data": {
      "text/plain": "                                                product  label\n1102  Рассада зелени для кухни Тимьян Вульгарис Комп...      2\n1448       Рассада Арбуза сорт Огонек горшок 9х9 см P-9      2\n1809         Рассада Огурца сорт Магнат, кассета по 6шт      2\n1327  Рассада зелени для кухни Лаванда Прованc диам....      2\n1506  Рассада зелени для кухни Сантолина Хамаекипари...      2\n1056            Рассада пряной травы Лавр в горшке 9 см      2",
      "text/html": "<div>\n<style scoped>\n    .dataframe tbody tr th:only-of-type {\n        vertical-align: middle;\n    }\n\n    .dataframe tbody tr th {\n        vertical-align: top;\n    }\n\n    .dataframe thead th {\n        text-align: right;\n    }\n</style>\n<table border=\"1\" class=\"dataframe\">\n  <thead>\n    <tr style=\"text-align: right;\">\n      <th></th>\n      <th>product</th>\n      <th>label</th>\n    </tr>\n  </thead>\n  <tbody>\n    <tr>\n      <th>1102</th>\n      <td>Рассада зелени для кухни Тимьян Вульгарис Комп...</td>\n      <td>2</td>\n    </tr>\n    <tr>\n      <th>1448</th>\n      <td>Рассада Арбуза сорт Огонек горшок 9х9 см P-9</td>\n      <td>2</td>\n    </tr>\n    <tr>\n      <th>1809</th>\n      <td>Рассада Огурца сорт Магнат, кассета по 6шт</td>\n      <td>2</td>\n    </tr>\n    <tr>\n      <th>1327</th>\n      <td>Рассада зелени для кухни Лаванда Прованc диам....</td>\n      <td>2</td>\n    </tr>\n    <tr>\n      <th>1506</th>\n      <td>Рассада зелени для кухни Сантолина Хамаекипари...</td>\n      <td>2</td>\n    </tr>\n    <tr>\n      <th>1056</th>\n      <td>Рассада пряной травы Лавр в горшке 9 см</td>\n      <td>2</td>\n    </tr>\n  </tbody>\n</table>\n</div>"
     },
     "metadata": {},
     "output_type": "display_data"
    },
    {
     "name": "stdout",
     "output_type": "stream",
     "text": [
      "label 8, items 68\n"
     ]
    },
    {
     "data": {
      "text/plain": "                                               product  label\n455                             Муляж Гранат мини 4 шт      8\n41   Муляж ЧЕРЕШНЯ 3см 10 шт., желтый, Fancy Fair, ...      8\n29                  Муляж Груша мини 2 шт, желтая 4 см      8\n34         Муляж Красное яблоко мини полиуретан d-6 см      8\n291                          Муляж ГРАНАТ 9 см красный      8\n410                       Муляж Персик 9 см полиуретан      8",
      "text/html": "<div>\n<style scoped>\n    .dataframe tbody tr th:only-of-type {\n        vertical-align: middle;\n    }\n\n    .dataframe tbody tr th {\n        vertical-align: top;\n    }\n\n    .dataframe thead th {\n        text-align: right;\n    }\n</style>\n<table border=\"1\" class=\"dataframe\">\n  <thead>\n    <tr style=\"text-align: right;\">\n      <th></th>\n      <th>product</th>\n      <th>label</th>\n    </tr>\n  </thead>\n  <tbody>\n    <tr>\n      <th>455</th>\n      <td>Муляж Гранат мини 4 шт</td>\n      <td>8</td>\n    </tr>\n    <tr>\n      <th>41</th>\n      <td>Муляж ЧЕРЕШНЯ 3см 10 шт., желтый, Fancy Fair, ...</td>\n      <td>8</td>\n    </tr>\n    <tr>\n      <th>29</th>\n      <td>Муляж Груша мини 2 шт, желтая 4 см</td>\n      <td>8</td>\n    </tr>\n    <tr>\n      <th>34</th>\n      <td>Муляж Красное яблоко мини полиуретан d-6 см</td>\n      <td>8</td>\n    </tr>\n    <tr>\n      <th>291</th>\n      <td>Муляж ГРАНАТ 9 см красный</td>\n      <td>8</td>\n    </tr>\n    <tr>\n      <th>410</th>\n      <td>Муляж Персик 9 см полиуретан</td>\n      <td>8</td>\n    </tr>\n  </tbody>\n</table>\n</div>"
     },
     "metadata": {},
     "output_type": "display_data"
    },
    {
     "name": "stdout",
     "output_type": "stream",
     "text": [
      "label 11, items 94\n"
     ]
    },
    {
     "data": {
      "text/plain": "                                                product  label\n662    Тарелка суповая ВОЛАРЭ БЛЭК 23 см G9402 Luminarc     11\n562       Салатник РОМАНТИК ГАРДЕН 17 см J7900 Luminarc     11\n959   Чайный набор Luminarc ЛИЛИ ФЛАУЭР 6 шт 320 мл ...     11\n1215  Подарочный набор на 8 Марта Нарцисс 5 луковиц ...     11\n45    Тарелка обеденная ЛИМОН ФИЦ 25см, G9547, Lumin...     11\n573           Салатник Luminarc АРТИ ГРИН 16,5 см J1392     11",
      "text/html": "<div>\n<style scoped>\n    .dataframe tbody tr th:only-of-type {\n        vertical-align: middle;\n    }\n\n    .dataframe tbody tr th {\n        vertical-align: top;\n    }\n\n    .dataframe thead th {\n        text-align: right;\n    }\n</style>\n<table border=\"1\" class=\"dataframe\">\n  <thead>\n    <tr style=\"text-align: right;\">\n      <th></th>\n      <th>product</th>\n      <th>label</th>\n    </tr>\n  </thead>\n  <tbody>\n    <tr>\n      <th>662</th>\n      <td>Тарелка суповая ВОЛАРЭ БЛЭК 23 см G9402 Luminarc</td>\n      <td>11</td>\n    </tr>\n    <tr>\n      <th>562</th>\n      <td>Салатник РОМАНТИК ГАРДЕН 17 см J7900 Luminarc</td>\n      <td>11</td>\n    </tr>\n    <tr>\n      <th>959</th>\n      <td>Чайный набор Luminarc ЛИЛИ ФЛАУЭР 6 шт 320 мл ...</td>\n      <td>11</td>\n    </tr>\n    <tr>\n      <th>1215</th>\n      <td>Подарочный набор на 8 Марта Нарцисс 5 луковиц ...</td>\n      <td>11</td>\n    </tr>\n    <tr>\n      <th>45</th>\n      <td>Тарелка обеденная ЛИМОН ФИЦ 25см, G9547, Lumin...</td>\n      <td>11</td>\n    </tr>\n    <tr>\n      <th>573</th>\n      <td>Салатник Luminarc АРТИ ГРИН 16,5 см J1392</td>\n      <td>11</td>\n    </tr>\n  </tbody>\n</table>\n</div>"
     },
     "metadata": {},
     "output_type": "display_data"
    },
    {
     "name": "stdout",
     "output_type": "stream",
     "text": [
      "label 18, items 9\n"
     ]
    },
    {
     "data": {
      "text/plain": "                                                product  label\n2032             Вилка столовая 3 предмета Кокос СВК102     18\n47    Ложка столовая RIPPLE сталь 3 мм, 3 шт, Attrib...     18\n862   Вилка столовая 3 шт тяжелая серия Сапфир СВWed...     18\n46    Вилка столовая RIPPLE сталь 3 мм, 3 шт, Attrib...     18\n2149           Столовая ложка 3 шт Боннтяжелая СЛBonn-2     18\n470   Вилка столовая Better цветной горох BT-C2003E-...     18",
      "text/html": "<div>\n<style scoped>\n    .dataframe tbody tr th:only-of-type {\n        vertical-align: middle;\n    }\n\n    .dataframe tbody tr th {\n        vertical-align: top;\n    }\n\n    .dataframe thead th {\n        text-align: right;\n    }\n</style>\n<table border=\"1\" class=\"dataframe\">\n  <thead>\n    <tr style=\"text-align: right;\">\n      <th></th>\n      <th>product</th>\n      <th>label</th>\n    </tr>\n  </thead>\n  <tbody>\n    <tr>\n      <th>2032</th>\n      <td>Вилка столовая 3 предмета Кокос СВК102</td>\n      <td>18</td>\n    </tr>\n    <tr>\n      <th>47</th>\n      <td>Ложка столовая RIPPLE сталь 3 мм, 3 шт, Attrib...</td>\n      <td>18</td>\n    </tr>\n    <tr>\n      <th>862</th>\n      <td>Вилка столовая 3 шт тяжелая серия Сапфир СВWed...</td>\n      <td>18</td>\n    </tr>\n    <tr>\n      <th>46</th>\n      <td>Вилка столовая RIPPLE сталь 3 мм, 3 шт, Attrib...</td>\n      <td>18</td>\n    </tr>\n    <tr>\n      <th>2149</th>\n      <td>Столовая ложка 3 шт Боннтяжелая СЛBonn-2</td>\n      <td>18</td>\n    </tr>\n    <tr>\n      <th>470</th>\n      <td>Вилка столовая Better цветной горох BT-C2003E-...</td>\n      <td>18</td>\n    </tr>\n  </tbody>\n</table>\n</div>"
     },
     "metadata": {},
     "output_type": "display_data"
    },
    {
     "name": "stdout",
     "output_type": "stream",
     "text": [
      "label 5, items 82\n"
     ]
    },
    {
     "data": {
      "text/plain": "                                               product  label\n290  Пеларгония зональная диам. 12 см малиново-крас...      5\n50   Герань домашняя (пеларгония зональная) цветуща...      5\n181  Герань домашняя (пеларгония зональная) цветуща...      5\n306    Пеларгония зональная диам. 12 см белая махровая      5\n168            Пеларгония зональная махровая лососевая      5\n225  Герань домашняя (пеларгония зональная) цветуща...      5",
      "text/html": "<div>\n<style scoped>\n    .dataframe tbody tr th:only-of-type {\n        vertical-align: middle;\n    }\n\n    .dataframe tbody tr th {\n        vertical-align: top;\n    }\n\n    .dataframe thead th {\n        text-align: right;\n    }\n</style>\n<table border=\"1\" class=\"dataframe\">\n  <thead>\n    <tr style=\"text-align: right;\">\n      <th></th>\n      <th>product</th>\n      <th>label</th>\n    </tr>\n  </thead>\n  <tbody>\n    <tr>\n      <th>290</th>\n      <td>Пеларгония зональная диам. 12 см малиново-крас...</td>\n      <td>5</td>\n    </tr>\n    <tr>\n      <th>50</th>\n      <td>Герань домашняя (пеларгония зональная) цветуща...</td>\n      <td>5</td>\n    </tr>\n    <tr>\n      <th>181</th>\n      <td>Герань домашняя (пеларгония зональная) цветуща...</td>\n      <td>5</td>\n    </tr>\n    <tr>\n      <th>306</th>\n      <td>Пеларгония зональная диам. 12 см белая махровая</td>\n      <td>5</td>\n    </tr>\n    <tr>\n      <th>168</th>\n      <td>Пеларгония зональная махровая лососевая</td>\n      <td>5</td>\n    </tr>\n    <tr>\n      <th>225</th>\n      <td>Герань домашняя (пеларгония зональная) цветуща...</td>\n      <td>5</td>\n    </tr>\n  </tbody>\n</table>\n</div>"
     },
     "metadata": {},
     "output_type": "display_data"
    },
    {
     "name": "stdout",
     "output_type": "stream",
     "text": [
      "label 17, items 78\n"
     ]
    },
    {
     "data": {
      "text/plain": "                                                product  label\n743   Коврик придверный каучуковый 45х75 см черный, ...     17\n62    Коврик придверный 45х75см. с рельефным рисунко...     17\n751   Ковер придверный EKSPO 90х150 см коричневый РР...     17\n320   Коврик придверный грязеулавливающий резиновый ...     17\n318   Коврик влаговпитывающий ребристый 50х80 см Ста...     17\n2318  Коврик придверный, полипропилен, 40х70 см, Kok...     17",
      "text/html": "<div>\n<style scoped>\n    .dataframe tbody tr th:only-of-type {\n        vertical-align: middle;\n    }\n\n    .dataframe tbody tr th {\n        vertical-align: top;\n    }\n\n    .dataframe thead th {\n        text-align: right;\n    }\n</style>\n<table border=\"1\" class=\"dataframe\">\n  <thead>\n    <tr style=\"text-align: right;\">\n      <th></th>\n      <th>product</th>\n      <th>label</th>\n    </tr>\n  </thead>\n  <tbody>\n    <tr>\n      <th>743</th>\n      <td>Коврик придверный каучуковый 45х75 см черный, ...</td>\n      <td>17</td>\n    </tr>\n    <tr>\n      <th>62</th>\n      <td>Коврик придверный 45х75см. с рельефным рисунко...</td>\n      <td>17</td>\n    </tr>\n    <tr>\n      <th>751</th>\n      <td>Ковер придверный EKSPO 90х150 см коричневый РР...</td>\n      <td>17</td>\n    </tr>\n    <tr>\n      <th>320</th>\n      <td>Коврик придверный грязеулавливающий резиновый ...</td>\n      <td>17</td>\n    </tr>\n    <tr>\n      <th>318</th>\n      <td>Коврик влаговпитывающий ребристый 50х80 см Ста...</td>\n      <td>17</td>\n    </tr>\n    <tr>\n      <th>2318</th>\n      <td>Коврик придверный, полипропилен, 40х70 см, Kok...</td>\n      <td>17</td>\n    </tr>\n  </tbody>\n</table>\n</div>"
     },
     "metadata": {},
     "output_type": "display_data"
    },
    {
     "name": "stdout",
     "output_type": "stream",
     "text": [
      "label 14, items 54\n"
     ]
    },
    {
     "data": {
      "text/plain": "                                                product  label\n1018  Искусственный цветок Ландыш пластиковый малый ...     14\n2145               Цветок искусственный Подсолнух 60 см     14\n2123  Искусственный цветок Роза открытая малая пласт...     14\n350   Цветок искусственный Тюльпан в ассортименте од...     14\n1717  Искусственный цветок Букет Примулы пластиковая...     14\n343   Цветок искусственный Гвоздика пластиковая один...     14",
      "text/html": "<div>\n<style scoped>\n    .dataframe tbody tr th:only-of-type {\n        vertical-align: middle;\n    }\n\n    .dataframe tbody tr th {\n        vertical-align: top;\n    }\n\n    .dataframe thead th {\n        text-align: right;\n    }\n</style>\n<table border=\"1\" class=\"dataframe\">\n  <thead>\n    <tr style=\"text-align: right;\">\n      <th></th>\n      <th>product</th>\n      <th>label</th>\n    </tr>\n  </thead>\n  <tbody>\n    <tr>\n      <th>1018</th>\n      <td>Искусственный цветок Ландыш пластиковый малый ...</td>\n      <td>14</td>\n    </tr>\n    <tr>\n      <th>2145</th>\n      <td>Цветок искусственный Подсолнух 60 см</td>\n      <td>14</td>\n    </tr>\n    <tr>\n      <th>2123</th>\n      <td>Искусственный цветок Роза открытая малая пласт...</td>\n      <td>14</td>\n    </tr>\n    <tr>\n      <th>350</th>\n      <td>Цветок искусственный Тюльпан в ассортименте од...</td>\n      <td>14</td>\n    </tr>\n    <tr>\n      <th>1717</th>\n      <td>Искусственный цветок Букет Примулы пластиковая...</td>\n      <td>14</td>\n    </tr>\n    <tr>\n      <th>343</th>\n      <td>Цветок искусственный Гвоздика пластиковая один...</td>\n      <td>14</td>\n    </tr>\n  </tbody>\n</table>\n</div>"
     },
     "metadata": {},
     "output_type": "display_data"
    },
    {
     "name": "stdout",
     "output_type": "stream",
     "text": [
      "label 13, items 59\n"
     ]
    },
    {
     "data": {
      "text/plain": "                                                product  label\n125   Штора текстильная для ванны и душа полиэстер, ...     13\n246   Штора со встроенными кольцами под штангу для в...     13\n1262  Штора для ванной комнаты SHINE полиэстер 180х2...     13\n539   Штора для ванной с кольцами RL-0071 Мыльные пу...     13\n1630  Штора со встроенными кольцами под штангу для в...     13\n2069  Штора для ванной комнаты TEX Four полиэстер 18...     13",
      "text/html": "<div>\n<style scoped>\n    .dataframe tbody tr th:only-of-type {\n        vertical-align: middle;\n    }\n\n    .dataframe tbody tr th {\n        vertical-align: top;\n    }\n\n    .dataframe thead th {\n        text-align: right;\n    }\n</style>\n<table border=\"1\" class=\"dataframe\">\n  <thead>\n    <tr style=\"text-align: right;\">\n      <th></th>\n      <th>product</th>\n      <th>label</th>\n    </tr>\n  </thead>\n  <tbody>\n    <tr>\n      <th>125</th>\n      <td>Штора текстильная для ванны и душа полиэстер, ...</td>\n      <td>13</td>\n    </tr>\n    <tr>\n      <th>246</th>\n      <td>Штора со встроенными кольцами под штангу для в...</td>\n      <td>13</td>\n    </tr>\n    <tr>\n      <th>1262</th>\n      <td>Штора для ванной комнаты SHINE полиэстер 180х2...</td>\n      <td>13</td>\n    </tr>\n    <tr>\n      <th>539</th>\n      <td>Штора для ванной с кольцами RL-0071 Мыльные пу...</td>\n      <td>13</td>\n    </tr>\n    <tr>\n      <th>1630</th>\n      <td>Штора со встроенными кольцами под штангу для в...</td>\n      <td>13</td>\n    </tr>\n    <tr>\n      <th>2069</th>\n      <td>Штора для ванной комнаты TEX Four полиэстер 18...</td>\n      <td>13</td>\n    </tr>\n  </tbody>\n</table>\n</div>"
     },
     "metadata": {},
     "output_type": "display_data"
    },
    {
     "name": "stdout",
     "output_type": "stream",
     "text": [
      "label 12, items 19\n"
     ]
    },
    {
     "data": {
      "text/plain": "                                  product  label\n248                      Сантолина d-9 см     12\n524                           Мята d-9 см     12\n1157                  Мирт d-9 см h-15 см     12\n273                        Фиалка d-11 см     12\n945          Фиалка d-9 см белая махровая     12\n1926  Гардения d-9 см укорененный черенок     12",
      "text/html": "<div>\n<style scoped>\n    .dataframe tbody tr th:only-of-type {\n        vertical-align: middle;\n    }\n\n    .dataframe tbody tr th {\n        vertical-align: top;\n    }\n\n    .dataframe thead th {\n        text-align: right;\n    }\n</style>\n<table border=\"1\" class=\"dataframe\">\n  <thead>\n    <tr style=\"text-align: right;\">\n      <th></th>\n      <th>product</th>\n      <th>label</th>\n    </tr>\n  </thead>\n  <tbody>\n    <tr>\n      <th>248</th>\n      <td>Сантолина d-9 см</td>\n      <td>12</td>\n    </tr>\n    <tr>\n      <th>524</th>\n      <td>Мята d-9 см</td>\n      <td>12</td>\n    </tr>\n    <tr>\n      <th>1157</th>\n      <td>Мирт d-9 см h-15 см</td>\n      <td>12</td>\n    </tr>\n    <tr>\n      <th>273</th>\n      <td>Фиалка d-11 см</td>\n      <td>12</td>\n    </tr>\n    <tr>\n      <th>945</th>\n      <td>Фиалка d-9 см белая махровая</td>\n      <td>12</td>\n    </tr>\n    <tr>\n      <th>1926</th>\n      <td>Гардения d-9 см укорененный черенок</td>\n      <td>12</td>\n    </tr>\n  </tbody>\n</table>\n</div>"
     },
     "metadata": {},
     "output_type": "display_data"
    },
    {
     "name": "stdout",
     "output_type": "stream",
     "text": [
      "label 16, items 49\n"
     ]
    },
    {
     "data": {
      "text/plain": "                                                product  label\n1149   Роза садовая чайногибридная в горшке Императрица     16\n2076        Роза садовая чайногибридная в горшке Сатина     16\n2162  Роза чайно-гибридная Восточный Экспресс сливоч...     16\n2075   Роза садовая чайногибридная в горшке Блек Бакара     16\n1285                    Роза мини оранжевая d-7 см h-10     16\n1914          Роза садовая парковая в горшке Дипп Ватер     16",
      "text/html": "<div>\n<style scoped>\n    .dataframe tbody tr th:only-of-type {\n        vertical-align: middle;\n    }\n\n    .dataframe tbody tr th {\n        vertical-align: top;\n    }\n\n    .dataframe thead th {\n        text-align: right;\n    }\n</style>\n<table border=\"1\" class=\"dataframe\">\n  <thead>\n    <tr style=\"text-align: right;\">\n      <th></th>\n      <th>product</th>\n      <th>label</th>\n    </tr>\n  </thead>\n  <tbody>\n    <tr>\n      <th>1149</th>\n      <td>Роза садовая чайногибридная в горшке Императрица</td>\n      <td>16</td>\n    </tr>\n    <tr>\n      <th>2076</th>\n      <td>Роза садовая чайногибридная в горшке Сатина</td>\n      <td>16</td>\n    </tr>\n    <tr>\n      <th>2162</th>\n      <td>Роза чайно-гибридная Восточный Экспресс сливоч...</td>\n      <td>16</td>\n    </tr>\n    <tr>\n      <th>2075</th>\n      <td>Роза садовая чайногибридная в горшке Блек Бакара</td>\n      <td>16</td>\n    </tr>\n    <tr>\n      <th>1285</th>\n      <td>Роза мини оранжевая d-7 см h-10</td>\n      <td>16</td>\n    </tr>\n    <tr>\n      <th>1914</th>\n      <td>Роза садовая парковая в горшке Дипп Ватер</td>\n      <td>16</td>\n    </tr>\n  </tbody>\n</table>\n</div>"
     },
     "metadata": {},
     "output_type": "display_data"
    },
    {
     "name": "stdout",
     "output_type": "stream",
     "text": [
      "label 15, items 73\n"
     ]
    },
    {
     "data": {
      "text/plain": "                                                product  label\n1232  Петуния махровая рассада однолетних цветов в к...     15\n1857              Петуния ампельная Розовая в горшке P9     15\n1429  Петуния Surfinia Doble Lilac светло-сиреневая ...     15\n354                      Бегония ампельная, диам. 12 см     15\n1562  Петуния Pegasus Qeen of Hearts красные сердца ...     15\n2281  Фуксия ампельная темно-фиолетовая с вишневыми ...     15",
      "text/html": "<div>\n<style scoped>\n    .dataframe tbody tr th:only-of-type {\n        vertical-align: middle;\n    }\n\n    .dataframe tbody tr th {\n        vertical-align: top;\n    }\n\n    .dataframe thead th {\n        text-align: right;\n    }\n</style>\n<table border=\"1\" class=\"dataframe\">\n  <thead>\n    <tr style=\"text-align: right;\">\n      <th></th>\n      <th>product</th>\n      <th>label</th>\n    </tr>\n  </thead>\n  <tbody>\n    <tr>\n      <th>1232</th>\n      <td>Петуния махровая рассада однолетних цветов в к...</td>\n      <td>15</td>\n    </tr>\n    <tr>\n      <th>1857</th>\n      <td>Петуния ампельная Розовая в горшке P9</td>\n      <td>15</td>\n    </tr>\n    <tr>\n      <th>1429</th>\n      <td>Петуния Surfinia Doble Lilac светло-сиреневая ...</td>\n      <td>15</td>\n    </tr>\n    <tr>\n      <th>354</th>\n      <td>Бегония ампельная, диам. 12 см</td>\n      <td>15</td>\n    </tr>\n    <tr>\n      <th>1562</th>\n      <td>Петуния Pegasus Qeen of Hearts красные сердца ...</td>\n      <td>15</td>\n    </tr>\n    <tr>\n      <th>2281</th>\n      <td>Фуксия ампельная темно-фиолетовая с вишневыми ...</td>\n      <td>15</td>\n    </tr>\n  </tbody>\n</table>\n</div>"
     },
     "metadata": {},
     "output_type": "display_data"
    },
    {
     "name": "stdout",
     "output_type": "stream",
     "text": [
      "label 7, items 96\n"
     ]
    },
    {
     "data": {
      "text/plain": "                                                product  label\n1623  томата (помидор) Улыбка Розы № 113 сорт детерм...      7\n1620  томата (помидор) Синий тигр №75 сорт индетерми...      7\n1616  томата (помидор) Полосатый шоколад №65 сорт ин...      7\n1842  Томат детерминантный Сердолик в кассете 6 штук...      7\n1537  томата (помидор) Джалпа №25 сорт детерминантны...      7\n1622  томата (помидор) Спящая леди № 108 сорт детерм...      7",
      "text/html": "<div>\n<style scoped>\n    .dataframe tbody tr th:only-of-type {\n        vertical-align: middle;\n    }\n\n    .dataframe tbody tr th {\n        vertical-align: top;\n    }\n\n    .dataframe thead th {\n        text-align: right;\n    }\n</style>\n<table border=\"1\" class=\"dataframe\">\n  <thead>\n    <tr style=\"text-align: right;\">\n      <th></th>\n      <th>product</th>\n      <th>label</th>\n    </tr>\n  </thead>\n  <tbody>\n    <tr>\n      <th>1623</th>\n      <td>томата (помидор) Улыбка Розы № 113 сорт детерм...</td>\n      <td>7</td>\n    </tr>\n    <tr>\n      <th>1620</th>\n      <td>томата (помидор) Синий тигр №75 сорт индетерми...</td>\n      <td>7</td>\n    </tr>\n    <tr>\n      <th>1616</th>\n      <td>томата (помидор) Полосатый шоколад №65 сорт ин...</td>\n      <td>7</td>\n    </tr>\n    <tr>\n      <th>1842</th>\n      <td>Томат детерминантный Сердолик в кассете 6 штук...</td>\n      <td>7</td>\n    </tr>\n    <tr>\n      <th>1537</th>\n      <td>томата (помидор) Джалпа №25 сорт детерминантны...</td>\n      <td>7</td>\n    </tr>\n    <tr>\n      <th>1622</th>\n      <td>томата (помидор) Спящая леди № 108 сорт детерм...</td>\n      <td>7</td>\n    </tr>\n  </tbody>\n</table>\n</div>"
     },
     "metadata": {},
     "output_type": "display_data"
    }
   ],
   "source": [
    "for i in tfidf_df['label'].unique():\n",
    "    print(f\"label {i}, items {tfidf_df.query('label == @i').shape[0]}\")\n",
    "    display(tfidf_df.query('label == @i').sample(6, random_state=42))"
   ]
  },
  {
   "cell_type": "markdown",
   "metadata": {},
   "source": [
    "Для дальнейшего анализа нам будет удобно объединить кластеры в несколько групп"
   ]
  },
  {
   "cell_type": "code",
   "execution_count": 35,
   "metadata": {},
   "outputs": [],
   "source": [
    "items_categories = {\n",
    "    'Растения': [4, 7, 2],\n",
    "    'Утварь (разное)': [18, 11, 0],\n",
    "    'Цветы': [15, 16, 12, 5],\n",
    "    'Хозтовары': [13, 0, 17, 1, 9, 6, 3, 10, 19],\n",
    "    'Муляжи': [14, 8]\n",
    "}"
   ]
  },
  {
   "cell_type": "markdown",
   "metadata": {},
   "source": [
    "Присвоим каждому товару метку в зависимости от его кластера "
   ]
  },
  {
   "cell_type": "code",
   "execution_count": 36,
   "metadata": {},
   "outputs": [],
   "source": [
    "def categories_merge(value: int) -> str:\n",
    "    for k, v in items_categories.items():\n",
    "        if value in v:\n",
    "            return k\n"
   ]
  },
  {
   "cell_type": "code",
   "execution_count": 37,
   "metadata": {},
   "outputs": [
    {
     "data": {
      "text/plain": "                                                product            label\n1720  Однолетнее растение Газания в кассете по 4 шт,...         Растения\n2025            Шалфей овощной Нектар в кассете 4 штуки  Утварь (разное)\n1430  Петуния Surfinia Doble White белая махровая об...            Цветы\n2320  Полки QWERTY Пекин белый/чёрный 95х17,5х16 см ...  Утварь (разное)\n2141  Махровое полотенце 50х30 см WELLNESS *АМЕЛИ_1-...  Утварь (разное)",
      "text/html": "<div>\n<style scoped>\n    .dataframe tbody tr th:only-of-type {\n        vertical-align: middle;\n    }\n\n    .dataframe tbody tr th {\n        vertical-align: top;\n    }\n\n    .dataframe thead th {\n        text-align: right;\n    }\n</style>\n<table border=\"1\" class=\"dataframe\">\n  <thead>\n    <tr style=\"text-align: right;\">\n      <th></th>\n      <th>product</th>\n      <th>label</th>\n    </tr>\n  </thead>\n  <tbody>\n    <tr>\n      <th>1720</th>\n      <td>Однолетнее растение Газания в кассете по 4 шт,...</td>\n      <td>Растения</td>\n    </tr>\n    <tr>\n      <th>2025</th>\n      <td>Шалфей овощной Нектар в кассете 4 штуки</td>\n      <td>Утварь (разное)</td>\n    </tr>\n    <tr>\n      <th>1430</th>\n      <td>Петуния Surfinia Doble White белая махровая об...</td>\n      <td>Цветы</td>\n    </tr>\n    <tr>\n      <th>2320</th>\n      <td>Полки QWERTY Пекин белый/чёрный 95х17,5х16 см ...</td>\n      <td>Утварь (разное)</td>\n    </tr>\n    <tr>\n      <th>2141</th>\n      <td>Махровое полотенце 50х30 см WELLNESS *АМЕЛИ_1-...</td>\n      <td>Утварь (разное)</td>\n    </tr>\n  </tbody>\n</table>\n</div>"
     },
     "execution_count": 37,
     "metadata": {},
     "output_type": "execute_result"
    }
   ],
   "source": [
    "tfidf_df['label'] = tfidf_df['label'].apply(categories_merge)\n",
    "tfidf_df.sample(5, random_state=42)"
   ]
  },
  {
   "cell_type": "markdown",
   "metadata": {},
   "source": [
    "Присвоим каждой строке в основной таблице соответствующую её товару метку кластера "
   ]
  },
  {
   "cell_type": "code",
   "execution_count": 38,
   "metadata": {},
   "outputs": [
    {
     "data": {
      "text/plain": "                    date                           customer_id  order_id  \\\n2503 2019-05-18 15:00:00  2459fe55-74d9-4e11-b82a-5265594f255e     14791   \n3509 2019-07-01 20:00:00  713141d7-bbaf-4da9-b43d-f91bd51b423c     14882   \n4267 2019-06-05 00:00:00  9faf2099-1571-4c7f-86ac-ebb4c086c317     14847   \n1609 2018-11-21 16:00:00  85777bd0-9edd-4e15-8bb7-a6f5090a31cd     69077   \n3357 2019-09-01 12:00:00  4ede57e4-2842-4be6-b378-e0123f3770e7     72468   \n\n                                                product  quantity   price  \\\n2503  Пеларгония Toscana Angeleyes Bicolor укорененн...         1   112.0   \n3509  Рассада зелени для кухни Мелисса лимонная зеле...         2    89.0   \n4267       Рассада Кабачка сорт Белогор кассета 6 шт E6         3   120.0   \n1609        Дендробиум Санок Полар Файр 1 ствол d-12 см         1   922.0   \n3357  Полки QWERTY Рио белый/чёрный 42,5х21х10 см 17...         1  1949.0   \n\n            day   value            label  \n2503 2019-05-18   112.0            Цветы  \n3509 2019-07-01   178.0         Растения  \n4267 2019-06-05   360.0         Растения  \n1609 2018-11-21   922.0  Утварь (разное)  \n3357 2019-09-01  1949.0  Утварь (разное)  ",
      "text/html": "<div>\n<style scoped>\n    .dataframe tbody tr th:only-of-type {\n        vertical-align: middle;\n    }\n\n    .dataframe tbody tr th {\n        vertical-align: top;\n    }\n\n    .dataframe thead th {\n        text-align: right;\n    }\n</style>\n<table border=\"1\" class=\"dataframe\">\n  <thead>\n    <tr style=\"text-align: right;\">\n      <th></th>\n      <th>date</th>\n      <th>customer_id</th>\n      <th>order_id</th>\n      <th>product</th>\n      <th>quantity</th>\n      <th>price</th>\n      <th>day</th>\n      <th>value</th>\n      <th>label</th>\n    </tr>\n  </thead>\n  <tbody>\n    <tr>\n      <th>2503</th>\n      <td>2019-05-18 15:00:00</td>\n      <td>2459fe55-74d9-4e11-b82a-5265594f255e</td>\n      <td>14791</td>\n      <td>Пеларгония Toscana Angeleyes Bicolor укорененн...</td>\n      <td>1</td>\n      <td>112.0</td>\n      <td>2019-05-18</td>\n      <td>112.0</td>\n      <td>Цветы</td>\n    </tr>\n    <tr>\n      <th>3509</th>\n      <td>2019-07-01 20:00:00</td>\n      <td>713141d7-bbaf-4da9-b43d-f91bd51b423c</td>\n      <td>14882</td>\n      <td>Рассада зелени для кухни Мелисса лимонная зеле...</td>\n      <td>2</td>\n      <td>89.0</td>\n      <td>2019-07-01</td>\n      <td>178.0</td>\n      <td>Растения</td>\n    </tr>\n    <tr>\n      <th>4267</th>\n      <td>2019-06-05 00:00:00</td>\n      <td>9faf2099-1571-4c7f-86ac-ebb4c086c317</td>\n      <td>14847</td>\n      <td>Рассада Кабачка сорт Белогор кассета 6 шт E6</td>\n      <td>3</td>\n      <td>120.0</td>\n      <td>2019-06-05</td>\n      <td>360.0</td>\n      <td>Растения</td>\n    </tr>\n    <tr>\n      <th>1609</th>\n      <td>2018-11-21 16:00:00</td>\n      <td>85777bd0-9edd-4e15-8bb7-a6f5090a31cd</td>\n      <td>69077</td>\n      <td>Дендробиум Санок Полар Файр 1 ствол d-12 см</td>\n      <td>1</td>\n      <td>922.0</td>\n      <td>2018-11-21</td>\n      <td>922.0</td>\n      <td>Утварь (разное)</td>\n    </tr>\n    <tr>\n      <th>3357</th>\n      <td>2019-09-01 12:00:00</td>\n      <td>4ede57e4-2842-4be6-b378-e0123f3770e7</td>\n      <td>72468</td>\n      <td>Полки QWERTY Рио белый/чёрный 42,5х21х10 см 17...</td>\n      <td>1</td>\n      <td>1949.0</td>\n      <td>2019-09-01</td>\n      <td>1949.0</td>\n      <td>Утварь (разное)</td>\n    </tr>\n  </tbody>\n</table>\n</div>"
     },
     "execution_count": 38,
     "metadata": {},
     "output_type": "execute_result"
    }
   ],
   "source": [
    "df = df.merge(tfidf_df, on='product')\n",
    "df.sample(5, random_state=42)"
   ]
  },
  {
   "cell_type": "code",
   "execution_count": 39,
   "metadata": {},
   "outputs": [
    {
     "data": {
      "text/plain": "                 quantity\nlabel                    \nМуляжи                267\nРастения              767\nУтварь (разное)      1604\nХозтовары            1210\nЦветы                1161",
      "text/html": "<div>\n<style scoped>\n    .dataframe tbody tr th:only-of-type {\n        vertical-align: middle;\n    }\n\n    .dataframe tbody tr th {\n        vertical-align: top;\n    }\n\n    .dataframe thead th {\n        text-align: right;\n    }\n</style>\n<table border=\"1\" class=\"dataframe\">\n  <thead>\n    <tr style=\"text-align: right;\">\n      <th></th>\n      <th>quantity</th>\n    </tr>\n    <tr>\n      <th>label</th>\n      <th></th>\n    </tr>\n  </thead>\n  <tbody>\n    <tr>\n      <th>Муляжи</th>\n      <td>267</td>\n    </tr>\n    <tr>\n      <th>Растения</th>\n      <td>767</td>\n    </tr>\n    <tr>\n      <th>Утварь (разное)</th>\n      <td>1604</td>\n    </tr>\n    <tr>\n      <th>Хозтовары</th>\n      <td>1210</td>\n    </tr>\n    <tr>\n      <th>Цветы</th>\n      <td>1161</td>\n    </tr>\n  </tbody>\n</table>\n</div>"
     },
     "execution_count": 39,
     "metadata": {},
     "output_type": "execute_result"
    }
   ],
   "source": [
    "df.groupby('label').agg({'quantity': 'count'})"
   ]
  },
  {
   "cell_type": "markdown",
   "metadata": {},
   "source": [
    "## Сегментация пользователей\n",
    "\n",
    "Имея данные по категориям товаров, попробуем выделить кластеры пользователей"
   ]
  },
  {
   "cell_type": "markdown",
   "metadata": {},
   "source": [
    "Для нашей новой категориальной переменной `label` получим набор из пяти столбцов со значениями 0 или 1"
   ]
  },
  {
   "cell_type": "code",
   "execution_count": 40,
   "metadata": {},
   "outputs": [],
   "source": [
    "df = df.join(pd.get_dummies(df['label']))"
   ]
  },
  {
   "cell_type": "markdown",
   "metadata": {},
   "source": [
    "Получим таблицу, где для каждого пользователя запишем следующую информацию: количество купленных товаров для каждой категории, число пользовательских заказов, общее количество купленных предметов, общая стоимость всех покупок "
   ]
  },
  {
   "cell_type": "code",
   "execution_count": 41,
   "metadata": {},
   "outputs": [
    {
     "data": {
      "text/plain": "                                      Муляжи  Растения  Хозтовары  \\\ncustomer_id                                                         \n000d6849-084e-4d9f-ac03-37174eaf60c4       0         0          0   \n001cee7f-0b29-4716-b202-0042213ab038       0         0          1   \n00299f34-5385-4d13-9aea-c80b81658e1b       0         0          0   \n002d4d3a-4a59-406b-86ec-c3314357e498       0         0          1   \n003bbd39-0000-41ff-b7f9-2ddaec152037       0         0          0   \n\n                                      Утварь (разное)  Цветы  order_id  \\\ncustomer_id                                                              \n000d6849-084e-4d9f-ac03-37174eaf60c4                0      4         1   \n001cee7f-0b29-4716-b202-0042213ab038                0      0         1   \n00299f34-5385-4d13-9aea-c80b81658e1b                1      0         1   \n002d4d3a-4a59-406b-86ec-c3314357e498                0      0         1   \n003bbd39-0000-41ff-b7f9-2ddaec152037                1      0         1   \n\n                                      quantity   value  \ncustomer_id                                             \n000d6849-084e-4d9f-ac03-37174eaf60c4         4   555.0  \n001cee7f-0b29-4716-b202-0042213ab038         1   442.0  \n00299f34-5385-4d13-9aea-c80b81658e1b         2   914.0  \n002d4d3a-4a59-406b-86ec-c3314357e498         1  1649.0  \n003bbd39-0000-41ff-b7f9-2ddaec152037         2  2324.0  ",
      "text/html": "<div>\n<style scoped>\n    .dataframe tbody tr th:only-of-type {\n        vertical-align: middle;\n    }\n\n    .dataframe tbody tr th {\n        vertical-align: top;\n    }\n\n    .dataframe thead th {\n        text-align: right;\n    }\n</style>\n<table border=\"1\" class=\"dataframe\">\n  <thead>\n    <tr style=\"text-align: right;\">\n      <th></th>\n      <th>Муляжи</th>\n      <th>Растения</th>\n      <th>Хозтовары</th>\n      <th>Утварь (разное)</th>\n      <th>Цветы</th>\n      <th>order_id</th>\n      <th>quantity</th>\n      <th>value</th>\n    </tr>\n    <tr>\n      <th>customer_id</th>\n      <th></th>\n      <th></th>\n      <th></th>\n      <th></th>\n      <th></th>\n      <th></th>\n      <th></th>\n      <th></th>\n    </tr>\n  </thead>\n  <tbody>\n    <tr>\n      <th>000d6849-084e-4d9f-ac03-37174eaf60c4</th>\n      <td>0</td>\n      <td>0</td>\n      <td>0</td>\n      <td>0</td>\n      <td>4</td>\n      <td>1</td>\n      <td>4</td>\n      <td>555.0</td>\n    </tr>\n    <tr>\n      <th>001cee7f-0b29-4716-b202-0042213ab038</th>\n      <td>0</td>\n      <td>0</td>\n      <td>1</td>\n      <td>0</td>\n      <td>0</td>\n      <td>1</td>\n      <td>1</td>\n      <td>442.0</td>\n    </tr>\n    <tr>\n      <th>00299f34-5385-4d13-9aea-c80b81658e1b</th>\n      <td>0</td>\n      <td>0</td>\n      <td>0</td>\n      <td>1</td>\n      <td>0</td>\n      <td>1</td>\n      <td>2</td>\n      <td>914.0</td>\n    </tr>\n    <tr>\n      <th>002d4d3a-4a59-406b-86ec-c3314357e498</th>\n      <td>0</td>\n      <td>0</td>\n      <td>1</td>\n      <td>0</td>\n      <td>0</td>\n      <td>1</td>\n      <td>1</td>\n      <td>1649.0</td>\n    </tr>\n    <tr>\n      <th>003bbd39-0000-41ff-b7f9-2ddaec152037</th>\n      <td>0</td>\n      <td>0</td>\n      <td>0</td>\n      <td>1</td>\n      <td>0</td>\n      <td>1</td>\n      <td>2</td>\n      <td>2324.0</td>\n    </tr>\n  </tbody>\n</table>\n</div>"
     },
     "execution_count": 41,
     "metadata": {},
     "output_type": "execute_result"
    }
   ],
   "source": [
    "users_df = (df.groupby(['customer_id'])\n",
    "    .agg(\n",
    "    {'Муляжи': 'sum', 'Растения': 'sum', 'Хозтовары': 'sum', 'Утварь (разное)': 'sum', 'Цветы': 'sum',\n",
    "     'order_id': 'nunique',\n",
    "     'quantity': 'sum',\n",
    "     'value': 'sum'})\n",
    ")\n",
    "users_df.head(5)"
   ]
  },
  {
   "cell_type": "markdown",
   "metadata": {},
   "source": [
    "Стандартизируем нашу таблицу"
   ]
  },
  {
   "cell_type": "code",
   "execution_count": 42,
   "metadata": {},
   "outputs": [
    {
     "data": {
      "text/plain": "array([[-0.15399768, -0.15736426, -0.295928  , ..., -0.05624478,\n        -0.0733805 , -0.20598125],\n       [-0.15399768, -0.15736426,  0.29715085, ..., -0.05624478,\n        -0.23034702, -0.23146934],\n       [-0.15399768, -0.15736426, -0.295928  , ..., -0.05624478,\n        -0.17802485, -0.12500582],\n       ...,\n       [-0.15399768, -0.15736426, -0.295928  , ..., -0.05624478,\n        -0.23034702, -0.24342393],\n       [-0.15399768, -0.15736426, -0.295928  , ..., -0.05624478,\n        -0.23034702, -0.11147232],\n       [-0.15399768, -0.15736426,  0.29715085, ..., -0.05624478,\n        -0.23034702, -0.20101897]])"
     },
     "execution_count": 42,
     "metadata": {},
     "output_type": "execute_result"
    }
   ],
   "source": [
    "scaler = StandardScaler()\n",
    "scaler.fit(users_df)\n",
    "res = scaler.transform(users_df)\n",
    "res"
   ]
  },
  {
   "cell_type": "code",
   "execution_count": 43,
   "outputs": [
    {
     "data": {
      "text/plain": "numpy.ndarray"
     },
     "execution_count": 43,
     "metadata": {},
     "output_type": "execute_result"
    }
   ],
   "source": [
    "type(res)"
   ],
   "metadata": {
    "collapsed": false,
    "pycharm": {
     "name": "#%%\n"
    }
   }
  },
  {
   "cell_type": "code",
   "execution_count": 44,
   "outputs": [],
   "source": [
    "@timing\n",
    "def user_clustering(i: int, matrix: np.ndarray) -> tuple[pd.DataFrame, list[float, int]]:\n",
    "    \"\"\"\n",
    "    Применяет k-means на стандартизированной матрице признаков, пришивает к 'users_df' столбец с полученными кластерами\n",
    "    :param i: число кластеров\n",
    "    :param matrix: стандартизированная версия 'users_df'\n",
    "    :return:  результирующий датафрем, лист с WCSS value и числом кластеров\n",
    "    \"\"\"\n",
    "    kmeans = KMeans(n_clusters=i, init='k-means++', random_state=42).fit(matrix)\n",
    "    labels = pd.Series(kmeans.labels_)\n",
    "    print(f'Number of clusters {i}, WCSS value {kmeans.inertia_}')\n",
    "    clustering_df = users_df.reset_index()\n",
    "    clustering_df = clustering_df.merge(labels.rename('categories'), left_index=True, right_index=True)\n",
    "    return clustering_df, [kmeans.inertia_, i]\n"
   ],
   "metadata": {
    "collapsed": false,
    "pycharm": {
     "name": "#%%\n"
    }
   }
  },
  {
   "cell_type": "code",
   "execution_count": 45,
   "outputs": [
    {
     "name": "stdout",
     "output_type": "stream",
     "text": [
      "Number of clusters 1, WCSS value 19400.00000000005\n",
      "user_clustering function took 846.843 ms to complete\n",
      "Number of clusters 2, WCSS value 12797.995022070172\n",
      "user_clustering function took 100.538 ms to complete\n",
      "Number of clusters 3, WCSS value 10626.987291155228\n",
      "user_clustering function took 389.461 ms to complete\n",
      "Number of clusters 4, WCSS value 8816.45039341723\n",
      "user_clustering function took 226.820 ms to complete\n",
      "Number of clusters 5, WCSS value 7496.234284134473\n",
      "user_clustering function took 259.459 ms to complete\n",
      "Number of clusters 6, WCSS value 6079.3573645993865\n",
      "user_clustering function took 362.098 ms to complete\n",
      "Number of clusters 7, WCSS value 5442.117879912194\n",
      "user_clustering function took 385.130 ms to complete\n",
      "Number of clusters 8, WCSS value 4986.985976188636\n",
      "user_clustering function took 382.282 ms to complete\n",
      "Number of clusters 9, WCSS value 4551.142741892514\n",
      "user_clustering function took 347.971 ms to complete\n",
      "Number of clusters 10, WCSS value 4024.9534283832313\n",
      "user_clustering function took 345.291 ms to complete\n",
      "Number of clusters 11, WCSS value 3692.7205241776182\n",
      "user_clustering function took 528.298 ms to complete\n",
      "Number of clusters 12, WCSS value 3290.36550813232\n",
      "user_clustering function took 348.051 ms to complete\n",
      "Number of clusters 13, WCSS value 3038.136288850957\n",
      "user_clustering function took 2633.705 ms to complete\n",
      "Number of clusters 14, WCSS value 2798.195103508212\n",
      "user_clustering function took 509.901 ms to complete\n"
     ]
    },
    {
     "data": {
      "text/plain": "<Figure size 960x560 with 1 Axes>",
      "image/png": "[encoded data removed]"
     },
     "metadata": {},
     "output_type": "display_data"
    }
   ],
   "source": [
    "wcss = []\n",
    "for i in range(1, 15):\n",
    "    wcss.append(user_clustering(i, res)[1])\n",
    "\n",
    "plt.figure(figsize=(12, 7), dpi=80)\n",
    "sns.lineplot(x=[i[1] for i in wcss], y=[i[0] for i in wcss])\n",
    "plt.title('Оценка качества кластеризаци пользователей ', fontsize=22)\n",
    "plt.xlabel('Число кластеров')\n",
    "plt.ylabel('WCSS')\n",
    "plt.show()"
   ],
   "metadata": {
    "collapsed": false,
    "pycharm": {
     "name": "#%%\n"
    }
   }
  },
  {
   "cell_type": "markdown",
   "source": [
    "Выделим из полученной матрицы восемь кластеров"
   ],
   "metadata": {
    "collapsed": false
   }
  },
  {
   "cell_type": "code",
   "execution_count": 46,
   "outputs": [
    {
     "name": "stdout",
     "output_type": "stream",
     "text": [
      "Number of clusters 8, WCSS value 4986.985976188636\n",
      "user_clustering function took 2752.750 ms to complete\n"
     ]
    }
   ],
   "source": [
    "users_df_copy = user_clustering(8, res)[0]"
   ],
   "metadata": {
    "collapsed": false,
    "pycharm": {
     "name": "#%%\n"
    }
   }
  },
  {
   "cell_type": "code",
   "execution_count": 47,
   "metadata": {},
   "outputs": [
    {
     "name": "stdout",
     "output_type": "stream",
     "text": [
      "categories 7, items 1344\n",
      "categories 1, items 960\n",
      "categories 3, items 20\n",
      "categories 0, items 17\n",
      "categories 4, items 75\n",
      "categories 5, items 7\n",
      "categories 6, items 1\n",
      "categories 2, items 1\n"
     ]
    }
   ],
   "source": [
    "for i in users_df_copy['categories'].unique():\n",
    "    print(f\"categories {i}, items {users_df_copy.query('categories == @i').shape[0]}\")"
   ]
  },
  {
   "cell_type": "markdown",
   "metadata": {},
   "source": [
    "Выбросим три самых мелких категории, они не нужны для анализа  "
   ]
  },
  {
   "cell_type": "code",
   "execution_count": 48,
   "metadata": {},
   "outputs": [],
   "source": [
    "users_df_copy = users_df_copy.query('categories in [7, 1, 3, 0, 4]')"
   ]
  },
  {
   "cell_type": "markdown",
   "metadata": {},
   "source": [
    "Посмотрим, как распределено LTV для разных категорий"
   ]
  },
  {
   "cell_type": "code",
   "execution_count": 49,
   "metadata": {},
   "outputs": [
    {
     "data": {
      "text/plain": "<Figure size 960x560 with 1 Axes>",
      "image/png": "[encoded data removed]"
     },
     "metadata": {},
     "output_type": "display_data"
    }
   ],
   "source": [
    "sns.set_palette('Paired_r')\n",
    "\n",
    "plt.figure(figsize=(12, 7), dpi=80)\n",
    "sns.histplot(users_df_copy, x='value', hue='categories', kde=True, palette='Paired_r')\n",
    "plt.title('LTV', fontsize=22)\n",
    "plt.xlim(0, 5000)\n",
    "plt.xlabel('Число пользователей')\n",
    "plt.ylabel('LTV')\n",
    "plt.show()"
   ]
  },
  {
   "cell_type": "markdown",
   "metadata": {},
   "source": [
    "Заметно, что категория 1 в среднем приносит больше денег, чем категория 7. Проверим это впоследствии"
   ]
  },
  {
   "cell_type": "markdown",
   "metadata": {},
   "source": [
    "Получим таблицу вкладов кажой категории покупателей в продажи по типам товаров"
   ]
  },
  {
   "cell_type": "code",
   "execution_count": 50,
   "metadata": {},
   "outputs": [
    {
     "data": {
      "text/plain": "   categories     Цветы  Утварь (разное)  Хозтовары  Растения    Муляжи\n0           0  0.000000         0.020248   0.011649  0.000000  0.016575\n1           1  0.003506         0.026127   0.978495  0.001304  0.011050\n2           3  0.035933         0.061398   0.000000  0.469361  0.000000\n3           4  0.543383         0.073155   0.000000  0.076923  0.000000\n4           7  0.417178         0.819073   0.009857  0.452412  0.972376",
      "text/html": "<div>\n<style scoped>\n    .dataframe tbody tr th:only-of-type {\n        vertical-align: middle;\n    }\n\n    .dataframe tbody tr th {\n        vertical-align: top;\n    }\n\n    .dataframe thead th {\n        text-align: right;\n    }\n</style>\n<table border=\"1\" class=\"dataframe\">\n  <thead>\n    <tr style=\"text-align: right;\">\n      <th></th>\n      <th>categories</th>\n      <th>Цветы</th>\n      <th>Утварь (разное)</th>\n      <th>Хозтовары</th>\n      <th>Растения</th>\n      <th>Муляжи</th>\n    </tr>\n  </thead>\n  <tbody>\n    <tr>\n      <th>0</th>\n      <td>0</td>\n      <td>0.000000</td>\n      <td>0.020248</td>\n      <td>0.011649</td>\n      <td>0.000000</td>\n      <td>0.016575</td>\n    </tr>\n    <tr>\n      <th>1</th>\n      <td>1</td>\n      <td>0.003506</td>\n      <td>0.026127</td>\n      <td>0.978495</td>\n      <td>0.001304</td>\n      <td>0.011050</td>\n    </tr>\n    <tr>\n      <th>2</th>\n      <td>3</td>\n      <td>0.035933</td>\n      <td>0.061398</td>\n      <td>0.000000</td>\n      <td>0.469361</td>\n      <td>0.000000</td>\n    </tr>\n    <tr>\n      <th>3</th>\n      <td>4</td>\n      <td>0.543383</td>\n      <td>0.073155</td>\n      <td>0.000000</td>\n      <td>0.076923</td>\n      <td>0.000000</td>\n    </tr>\n    <tr>\n      <th>4</th>\n      <td>7</td>\n      <td>0.417178</td>\n      <td>0.819073</td>\n      <td>0.009857</td>\n      <td>0.452412</td>\n      <td>0.972376</td>\n    </tr>\n  </tbody>\n</table>\n</div>"
     },
     "execution_count": 50,
     "metadata": {},
     "output_type": "execute_result"
    }
   ],
   "source": [
    "shares = users_df_copy.groupby('categories').agg({\n",
    "    'Цветы': lambda x: x.sum() / users_df_copy['Цветы'].sum(),\n",
    "    'Утварь (разное)': lambda x: x.sum() / users_df_copy['Утварь (разное)'].sum(),\n",
    "    'Хозтовары': lambda x: x.sum() / users_df_copy['Хозтовары'].sum(),\n",
    "    'Растения': lambda x: x.sum() / users_df_copy['Растения'].sum(),\n",
    "    'Муляжи': lambda x: x.sum() / users_df_copy['Муляжи'].sum()\n",
    "}\n",
    ").reset_index()\n",
    "shares"
   ]
  },
  {
   "cell_type": "code",
   "execution_count": 51,
   "metadata": {},
   "outputs": [],
   "source": [
    "fig, axs = plt.subplots(nrows=3, ncols=2, figsize=(20, 15))\n",
    "axs = axs.flatten()\n",
    "for i, ctg in enumerate(items_categories.keys()):\n",
    "    sns.barplot(x=\"categories\", y=ctg, data=shares, ax=axs[i])\n",
    "    axs[i].title.set_text(ctg)\n",
    "    axs[i].set_ylabel('fraction of total')\n",
    "    axs[i].set_xlabel('')"
   ]
  },
  {
   "cell_type": "code",
   "execution_count": 52,
   "outputs": [
    {
     "data": {
      "text/plain": "<Figure size 2000x1500 with 6 Axes>",
      "image/png": "[encoded data removed]"
     },
     "metadata": {},
     "output_type": "display_data"
    }
   ],
   "source": [
    "plt.show()"
   ],
   "metadata": {
    "collapsed": false,
    "pycharm": {
     "name": "#%%\n"
    }
   }
  },
  {
   "cell_type": "markdown",
   "metadata": {},
   "source": [
    "Основные наши категории пользователей - 1 и 7. Для 1 почти все товары относятся к 'Ремонту и утвари', а 7 категория имеет значительный вклад во всех других типах продукции\n",
    "Категория четыре отвечает за более чем половину покупок 'Цветов', а категория 3 - за половину 'Растений'"
   ]
  },
  {
   "cell_type": "markdown",
   "metadata": {},
   "source": [
    "# Проверка статистических гипотез\n",
    "\n",
    "Надо проверить, что наше разбиение на группы пользователей оправданно и несёт какой-то смысл  \n",
    "Мы хотим давать пользователям более релевантную рекламу, чтоб это проверить, посмотрим, есть ли статистическая разница между двумя нашими основными категориями покапателей "
   ]
  },
  {
   "cell_type": "markdown",
   "source": [
    "Смерджим инфу по категориям юзеров с общей табицей. Далее рассматривать будем только две наиболее крупные категории наших пользователей, так как другие слишком малы для полноценного статанализа"
   ],
   "metadata": {
    "collapsed": false
   }
  },
  {
   "cell_type": "code",
   "execution_count": 53,
   "outputs": [
    {
     "data": {
      "text/plain": "                   date                           customer_id  order_id  \\\n291 2019-01-22 22:00:00  76593172-0856-4cae-8b43-51c1440b7f6b     69934   \n\n                               product  quantity  price        day  value  \\\n291  Эхеверия Перл Фон Нюрнберг d-7 см         1  119.0 2019-01-22  119.0   \n\n               label  Муляжи  Растения  Утварь (разное)  Хозтовары  Цветы  \\\n291  Утварь (разное)       0         0                1          0      0   \n\n     categories  \n291           7  ",
      "text/html": "<div>\n<style scoped>\n    .dataframe tbody tr th:only-of-type {\n        vertical-align: middle;\n    }\n\n    .dataframe tbody tr th {\n        vertical-align: top;\n    }\n\n    .dataframe thead th {\n        text-align: right;\n    }\n</style>\n<table border=\"1\" class=\"dataframe\">\n  <thead>\n    <tr style=\"text-align: right;\">\n      <th></th>\n      <th>date</th>\n      <th>customer_id</th>\n      <th>order_id</th>\n      <th>product</th>\n      <th>quantity</th>\n      <th>price</th>\n      <th>day</th>\n      <th>value</th>\n      <th>label</th>\n      <th>Муляжи</th>\n      <th>Растения</th>\n      <th>Утварь (разное)</th>\n      <th>Хозтовары</th>\n      <th>Цветы</th>\n      <th>categories</th>\n    </tr>\n  </thead>\n  <tbody>\n    <tr>\n      <th>291</th>\n      <td>2019-01-22 22:00:00</td>\n      <td>76593172-0856-4cae-8b43-51c1440b7f6b</td>\n      <td>69934</td>\n      <td>Эхеверия Перл Фон Нюрнберг d-7 см</td>\n      <td>1</td>\n      <td>119.0</td>\n      <td>2019-01-22</td>\n      <td>119.0</td>\n      <td>Утварь (разное)</td>\n      <td>0</td>\n      <td>0</td>\n      <td>1</td>\n      <td>0</td>\n      <td>0</td>\n      <td>7</td>\n    </tr>\n  </tbody>\n</table>\n</div>"
     },
     "execution_count": 53,
     "metadata": {},
     "output_type": "execute_result"
    }
   ],
   "source": [
    "tdf = df.copy()\n",
    "tdf = tdf.merge(users_df_copy.query('categories in [1, 7]')[['customer_id', 'categories']], on='customer_id')\n",
    "tdf.sample(1, random_state=42)"
   ],
   "metadata": {
    "collapsed": false,
    "pycharm": {
     "name": "#%%\n"
    }
   }
  },
  {
   "cell_type": "markdown",
   "source": [
    "Посмотрим на продажи за анализируемый период в резрезе категорий покупателей"
   ],
   "metadata": {
    "collapsed": false
   }
  },
  {
   "cell_type": "code",
   "execution_count": 54,
   "outputs": [
    {
     "data": {
      "text/plain": "<Figure size 960x560 with 1 Axes>",
      "image/png": "[encoded data removed]"
     },
     "metadata": {},
     "output_type": "display_data"
    }
   ],
   "source": [
    "sns.set_style(\"white\")\n",
    "\n",
    "plt.figure(figsize=(12, 7), dpi=80)\n",
    "sns.histplot(tdf, x='day', kde=True, bins=56, hue='categories')\n",
    "plt.title('Распределение заказов по категориям покупателей', fontsize=22)\n",
    "plt.xticks(rotation=90)\n",
    "plt.xlabel('Дата')\n",
    "plt.ylabel('Число заказов')\n",
    "plt.show()"
   ],
   "metadata": {
    "collapsed": false,
    "pycharm": {
     "name": "#%%\n"
    }
   }
  },
  {
   "cell_type": "markdown",
   "source": [
    "Категория 1 покупает примерно одинаково, а активность категории 7 имеет заметный пик весной-летом"
   ],
   "metadata": {
    "collapsed": false
   }
  },
  {
   "cell_type": "markdown",
   "source": [
    "Посмотрим, как меняются продажи типов товаров в течении года"
   ],
   "metadata": {
    "collapsed": false
   }
  },
  {
   "cell_type": "code",
   "execution_count": 55,
   "outputs": [
    {
     "data": {
      "text/plain": "<Figure size 960x560 with 1 Axes>",
      "image/png": "[encoded data removed]"
     },
     "metadata": {},
     "output_type": "display_data"
    }
   ],
   "source": [
    "plt.figure(figsize=(12, 7), dpi=80)\n",
    "sns.histplot(tdf, x='day', kde=True, bins=56, hue='label')\n",
    "plt.title('Распределение заказов по категориям товаров', fontsize=22)\n",
    "plt.xticks(rotation=90)\n",
    "plt.xlabel('Дата')\n",
    "plt.ylabel('Число заказов')\n",
    "plt.show()"
   ],
   "metadata": {
    "collapsed": false,
    "pycharm": {
     "name": "#%%\n"
    }
   }
  },
  {
   "cell_type": "markdown",
   "source": [
    "Видно, что продажи 'Цветов' и 'Растений' имеют выраженную сезонность с пиком в конце весны - начале лета"
   ],
   "metadata": {
    "collapsed": false
   }
  },
  {
   "cell_type": "markdown",
   "metadata": {},
   "source": [
    "## Средний чек заказа\n",
    "Сформулируем гипотеу для проверки:\n",
    "(H0) — средний чек для групп одинаков,\n",
    "(H1) — средний чек группы 1 выше"
   ]
  },
  {
   "cell_type": "code",
   "execution_count": 56,
   "outputs": [
    {
     "data": {
      "text/plain": "                  value                           \n                   mean          std           var\ncategories                                        \n1           1577.511696  1873.309881  3.509290e+06\n7            840.225941  1185.336610  1.405023e+06",
      "text/html": "<div>\n<style scoped>\n    .dataframe tbody tr th:only-of-type {\n        vertical-align: middle;\n    }\n\n    .dataframe tbody tr th {\n        vertical-align: top;\n    }\n\n    .dataframe thead tr th {\n        text-align: left;\n    }\n\n    .dataframe thead tr:last-of-type th {\n        text-align: right;\n    }\n</style>\n<table border=\"1\" class=\"dataframe\">\n  <thead>\n    <tr>\n      <th></th>\n      <th colspan=\"3\" halign=\"left\">value</th>\n    </tr>\n    <tr>\n      <th></th>\n      <th>mean</th>\n      <th>std</th>\n      <th>var</th>\n    </tr>\n    <tr>\n      <th>categories</th>\n      <th></th>\n      <th></th>\n      <th></th>\n    </tr>\n  </thead>\n  <tbody>\n    <tr>\n      <th>1</th>\n      <td>1577.511696</td>\n      <td>1873.309881</td>\n      <td>3.509290e+06</td>\n    </tr>\n    <tr>\n      <th>7</th>\n      <td>840.225941</td>\n      <td>1185.336610</td>\n      <td>1.405023e+06</td>\n    </tr>\n  </tbody>\n</table>\n</div>"
     },
     "execution_count": 56,
     "metadata": {},
     "output_type": "execute_result"
    }
   ],
   "source": [
    "order_value = tdf.groupby('order_id').agg({'value': 'sum', 'categories': 'first'}).reset_index()\n",
    "order_value.groupby(['categories']).agg({'value': ['mean', 'std', 'var']})"
   ],
   "metadata": {
    "collapsed": false,
    "pycharm": {
     "name": "#%%\n"
    }
   }
  },
  {
   "cell_type": "code",
   "execution_count": 57,
   "metadata": {},
   "outputs": [
    {
     "data": {
      "text/plain": "MannwhitneyuResult(statistic=1049597.0, pvalue=2.5170877182368115e-73)"
     },
     "execution_count": 57,
     "metadata": {},
     "output_type": "execute_result"
    }
   ],
   "source": [
    "st.mannwhitneyu(order_value.query('categories == 1')['value'], order_value.query('categories == 7')['value'],\n",
    "                use_continuity=False, alternative='greater')"
   ]
  },
  {
   "cell_type": "markdown",
   "metadata": {},
   "source": [
    "Принимаем (H1), p-value пренебрежимо мало, средний чек группы 1 значимо выше"
   ]
  },
  {
   "cell_type": "markdown",
   "metadata": {},
   "source": [
    "## Продуктовые предпочтения\n",
    "Проверим, есть ли разница в продуктовых предпочтениях выделенных категорий  \n",
    "Проверять будем гипотезы о равенстве долей различных типов товаров для наших групп пользователей Z-test'ом"
   ]
  },
  {
   "cell_type": "code",
   "execution_count": 58,
   "metadata": {},
   "outputs": [
    {
     "data": {
      "text/plain": "            Цветы                  Утварь (разное)                  Хозтовары  \\\n              sum count <lambda_0>             sum count <lambda_0>       sum   \ncategories                                                                      \n1             4.0  1139   0.003512            40.0  1139   0.035119    1092.0   \n7           476.0  2264   0.210247          1254.0  2264   0.553887      11.0   \n\n                            Растения                  Муляжи                   \n           count <lambda_0>      sum count <lambda_0>    sum count <lambda_0>  \ncategories                                                                     \n1           1139   0.958736      1.0  1139   0.000878      2  1139   0.001756  \n7           2264   0.004859    347.0  2264   0.153269    176  2264   0.077739  ",
      "text/html": "<div>\n<style scoped>\n    .dataframe tbody tr th:only-of-type {\n        vertical-align: middle;\n    }\n\n    .dataframe tbody tr th {\n        vertical-align: top;\n    }\n\n    .dataframe thead tr th {\n        text-align: left;\n    }\n\n    .dataframe thead tr:last-of-type th {\n        text-align: right;\n    }\n</style>\n<table border=\"1\" class=\"dataframe\">\n  <thead>\n    <tr>\n      <th></th>\n      <th colspan=\"3\" halign=\"left\">Цветы</th>\n      <th colspan=\"3\" halign=\"left\">Утварь (разное)</th>\n      <th colspan=\"3\" halign=\"left\">Хозтовары</th>\n      <th colspan=\"3\" halign=\"left\">Растения</th>\n      <th colspan=\"3\" halign=\"left\">Муляжи</th>\n    </tr>\n    <tr>\n      <th></th>\n      <th>sum</th>\n      <th>count</th>\n      <th>&lt;lambda_0&gt;</th>\n      <th>sum</th>\n      <th>count</th>\n      <th>&lt;lambda_0&gt;</th>\n      <th>sum</th>\n      <th>count</th>\n      <th>&lt;lambda_0&gt;</th>\n      <th>sum</th>\n      <th>count</th>\n      <th>&lt;lambda_0&gt;</th>\n      <th>sum</th>\n      <th>count</th>\n      <th>&lt;lambda_0&gt;</th>\n    </tr>\n    <tr>\n      <th>categories</th>\n      <th></th>\n      <th></th>\n      <th></th>\n      <th></th>\n      <th></th>\n      <th></th>\n      <th></th>\n      <th></th>\n      <th></th>\n      <th></th>\n      <th></th>\n      <th></th>\n      <th></th>\n      <th></th>\n      <th></th>\n    </tr>\n  </thead>\n  <tbody>\n    <tr>\n      <th>1</th>\n      <td>4.0</td>\n      <td>1139</td>\n      <td>0.003512</td>\n      <td>40.0</td>\n      <td>1139</td>\n      <td>0.035119</td>\n      <td>1092.0</td>\n      <td>1139</td>\n      <td>0.958736</td>\n      <td>1.0</td>\n      <td>1139</td>\n      <td>0.000878</td>\n      <td>2</td>\n      <td>1139</td>\n      <td>0.001756</td>\n    </tr>\n    <tr>\n      <th>7</th>\n      <td>476.0</td>\n      <td>2264</td>\n      <td>0.210247</td>\n      <td>1254.0</td>\n      <td>2264</td>\n      <td>0.553887</td>\n      <td>11.0</td>\n      <td>2264</td>\n      <td>0.004859</td>\n      <td>347.0</td>\n      <td>2264</td>\n      <td>0.153269</td>\n      <td>176</td>\n      <td>2264</td>\n      <td>0.077739</td>\n    </tr>\n  </tbody>\n</table>\n</div>"
     },
     "execution_count": 58,
     "metadata": {},
     "output_type": "execute_result"
    }
   ],
   "source": [
    "z_test_df = tdf.groupby(['categories']).agg({\n",
    "    'Цветы': ['sum', 'count', lambda x: x.sum() / x.count()],\n",
    "    'Утварь (разное)': ['sum', 'count', lambda x: x.sum() / x.count()],\n",
    "    'Хозтовары': ['sum', 'count', lambda x: x.sum() / x.count()],\n",
    "    'Растения': ['sum', 'count', lambda x: x.sum() / x.count()],\n",
    "    'Муляжи': ['sum', 'count', lambda x: x.sum() / x.count()]\n",
    "})\n",
    "z_test_df"
   ]
  },
  {
   "cell_type": "code",
   "execution_count": 59,
   "metadata": {},
   "outputs": [],
   "source": [
    "def z_test(trials1: float, trials2: float, successes1: float, successes2: float, a: float) -> str:\n",
    "    \"\"\"\n",
    "    Z-test для сравнения долей двух выборок\n",
    "    :param trials1: размер первой выборки\n",
    "    :param trials2: размер второй выборки\n",
    "    :param successes1: количество событий для первой выборки\n",
    "    :param successes2: количество событий для второй выборки\n",
    "    :param a: пороговое значение p-value\n",
    "    :return: возвращает строку со значением p-value. Если значение меньше порогового, добавит в строку флаг 'insignificant',\n",
    "    \"\"\"\n",
    "    p1 = successes1 / trials1\n",
    "    p2 = successes2 / trials2\n",
    "    p_comb = (successes1 + successes2) / (trials1 + trials2)\n",
    "    z_value = ((p1 - p2) /\n",
    "               mth.sqrt(p_comb * (1 - p_comb) * (1 / trials1 + 1 / trials2)))\n",
    "    distr = st.norm(0, 1)\n",
    "    p_value = (1 - distr.cdf(abs(z_value))) * 2\n",
    "    if p_value < a:\n",
    "        return str(p_value)\n",
    "    else:\n",
    "        return f'{p_value} insignificant'"
   ]
  },
  {
   "cell_type": "code",
   "execution_count": 60,
   "metadata": {},
   "outputs": [
    {
     "name": "stdout",
     "output_type": "stream",
     "text": [
      "P-value сравнения долей для категории Растения - 0.0\n",
      "P-value сравнения долей для категории Утварь (разное) - 0.0\n",
      "P-value сравнения долей для категории Цветы - 0.0\n",
      "P-value сравнения долей для категории Хозтовары - 0.0\n",
      "P-value сравнения долей для категории Муляжи - 0.0\n"
     ]
    }
   ],
   "source": [
    "for i in items_categories.keys():\n",
    "    p_score = z_test(float(z_test_df.query('categories == 1')[i]['count']),\n",
    "                     float(z_test_df.query('categories == 7')[i]['count']),\n",
    "                     float(z_test_df.query('categories == 1')[i]['sum']),\n",
    "                     float(z_test_df.query('categories == 7')[i]['sum']),\n",
    "                     0.05)\n",
    "    print(f'P-value сравнения долей для категории {i} - {p_score}')"
   ]
  },
  {
   "cell_type": "markdown",
   "metadata": {},
   "source": [
    "Для всех наших пяти категорий товаров z-test показал статистически значимую разницу (p-value столь мало, что возвращается 0.0)  \n",
    "Две группы наших покупателей действительно имеют различные и ярко выраженные предпочтения в категориях товаров"
   ]
  },
  {
   "cell_type": "markdown",
   "metadata": {
    "pycharm": {
     "name": "#%% md\n"
    }
   },
   "source": [
    "# Вывод \n",
    "Нашей задачей было выявление групп пользователей и составление рекомендаций по таргетингу рекламы\n",
    "\n",
    "\n",
    "Перед выполнением анализа мы обработали данные, выявив в них ошибки, связанные с системой сбора на стороне заказчика, и составив портрет типичного клиента: совершает 1.15 заказа за анализируемый период (395 дней), половина покупок приходится на товары дешевле 150р, средний закакз - 1280р  \n",
    "2338 уникальных товаров разбили на пять категорий, опираясь на сходство наименований, и, обработав полученные данные, выделили группы пользователей. Из них две группы, 1 и 7, достаточно большие для статистического анализа\n",
    "Анализ показал, что выделенные группы пользователей статистически отличаются: так, средний чек заказа достоверно выше для группы 1, и группы имеют явно различные предпочтения в категориях товаров\n",
    "\n",
    "\n",
    "**Исходя из этого, можно предложить следующие рекомендации:**\n",
    "* группа 1 покупает товары фактически только одной категории - \"Хозтовары\". Рекламировать им иные категории малоцелесообразно\n",
    "* группа 7 покупает товары во всех категориях, кроме \"Хозтовары\". 21% заказов содержит товар из категории \"Цветы\", 55% \"Утварь (разное)\", 15% \"Муляжи\". Эти категории разумно рекламировать данной группе\n",
    "* две категории наших товаров - \"Цветы\" и \"Растения\" - имеют яркую сезонность с пиком в конце весны-начале лета. Маркетинговые траты на эти категории надо также корректировать в зависимости от сезона"
   ]
  }
 ],
 "metadata": {
  "ExecuteTimeLog": [
   {
    "duration": 1474,
    "start_time": "2021-07-01T09:08:38.376Z"
   },
   {
    "duration": 681,
    "start_time": "2021-07-01T09:09:12.242Z"
   },
   {
    "duration": 6208,
    "start_time": "2021-07-01T09:12:20.981Z"
   },
   {
    "duration": 2131,
    "start_time": "2021-07-01T09:13:30.958Z"
   },
   {
    "duration": 882,
    "start_time": "2021-07-01T09:13:46.804Z"
   },
   {
    "duration": 869,
    "start_time": "2021-07-01T09:13:54.510Z"
   },
   {
    "duration": 10,
    "start_time": "2021-07-01T09:13:56.876Z"
   },
   {
    "duration": 13,
    "start_time": "2021-07-01T09:14:16.733Z"
   },
   {
    "duration": 8,
    "start_time": "2021-07-01T09:16:15.408Z"
   },
   {
    "duration": 13,
    "start_time": "2021-07-01T09:16:18.799Z"
   },
   {
    "duration": 2266,
    "start_time": "2021-07-01T09:16:25.100Z"
   },
   {
    "duration": 10,
    "start_time": "2021-07-01T09:16:27.368Z"
   },
   {
    "duration": 26,
    "start_time": "2021-07-01T09:16:27.380Z"
   },
   {
    "duration": 11,
    "start_time": "2021-07-01T09:16:57.303Z"
   },
   {
    "duration": 6,
    "start_time": "2021-07-01T09:17:07.998Z"
   },
   {
    "duration": 19,
    "start_time": "2021-07-01T09:18:11.662Z"
   },
   {
    "duration": 14,
    "start_time": "2021-07-01T09:18:17.351Z"
   },
   {
    "duration": 8,
    "start_time": "2021-07-01T09:18:34.256Z"
   },
   {
    "duration": 12,
    "start_time": "2021-07-01T09:18:47.113Z"
   },
   {
    "duration": 10,
    "start_time": "2021-07-01T09:19:00.415Z"
   },
   {
    "duration": 11,
    "start_time": "2021-07-01T09:19:15.744Z"
   },
   {
    "duration": 807,
    "start_time": "2021-07-01T09:20:46.945Z"
   },
   {
    "duration": 8,
    "start_time": "2021-07-01T09:20:47.755Z"
   },
   {
    "duration": 15,
    "start_time": "2021-07-01T09:20:47.766Z"
   },
   {
    "duration": 17,
    "start_time": "2021-07-01T09:20:50.084Z"
   },
   {
    "duration": 14,
    "start_time": "2021-07-01T09:20:55.127Z"
   },
   {
    "duration": 1494,
    "start_time": "2021-07-02T05:01:24.723Z"
   },
   {
    "duration": 2357,
    "start_time": "2021-07-02T05:01:26.219Z"
   },
   {
    "duration": 13,
    "start_time": "2021-07-02T05:01:28.579Z"
   },
   {
    "duration": 18,
    "start_time": "2021-07-02T05:01:28.595Z"
   },
   {
    "duration": 17,
    "start_time": "2021-07-02T05:01:28.615Z"
   },
   {
    "duration": 16,
    "start_time": "2021-07-02T05:06:44.118Z"
   },
   {
    "duration": 12,
    "start_time": "2021-07-02T05:10:02.291Z"
   },
   {
    "duration": 539,
    "start_time": "2021-07-02T05:15:37.678Z"
   },
   {
    "duration": 4690,
    "start_time": "2021-07-02T05:16:02.180Z"
   },
   {
    "duration": 3545,
    "start_time": "2021-07-02T05:16:17.185Z"
   },
   {
    "duration": 1428,
    "start_time": "2021-07-02T05:16:20.733Z"
   },
   {
    "duration": 5,
    "start_time": "2021-07-02T05:16:22.164Z"
   },
   {
    "duration": 823,
    "start_time": "2021-07-02T05:16:22.172Z"
   },
   {
    "duration": 10,
    "start_time": "2021-07-02T05:16:22.998Z"
   },
   {
    "duration": 25,
    "start_time": "2021-07-02T05:16:23.011Z"
   },
   {
    "duration": 20,
    "start_time": "2021-07-02T05:16:23.039Z"
   },
   {
    "duration": 16,
    "start_time": "2021-07-02T05:16:23.062Z"
   },
   {
    "duration": 1071,
    "start_time": "2021-07-02T05:16:23.081Z"
   },
   {
    "duration": 1024,
    "start_time": "2021-07-02T05:17:19.458Z"
   },
   {
    "duration": 669,
    "start_time": "2021-07-02T05:18:06.853Z"
   },
   {
    "duration": 648,
    "start_time": "2021-07-02T05:18:56.523Z"
   },
   {
    "duration": 693,
    "start_time": "2021-07-02T05:19:44.538Z"
   },
   {
    "duration": 685,
    "start_time": "2021-07-02T05:21:43.708Z"
   },
   {
    "duration": 792,
    "start_time": "2021-07-02T05:22:22.152Z"
   },
   {
    "duration": 1113,
    "start_time": "2021-07-02T05:22:32.081Z"
   },
   {
    "duration": 3720,
    "start_time": "2021-07-02T05:22:39.807Z"
   },
   {
    "duration": 3361,
    "start_time": "2021-07-02T05:22:57.313Z"
   },
   {
    "duration": 524,
    "start_time": "2021-07-02T05:25:05.594Z"
   },
   {
    "duration": 8,
    "start_time": "2021-07-02T05:25:53.889Z"
   },
   {
    "duration": 18,
    "start_time": "2021-07-02T05:25:54.605Z"
   },
   {
    "duration": 12,
    "start_time": "2021-07-02T05:25:58.053Z"
   },
   {
    "duration": 12,
    "start_time": "2021-07-02T05:26:04.631Z"
   },
   {
    "duration": 357,
    "start_time": "2021-07-02T05:26:41.360Z"
   },
   {
    "duration": 7,
    "start_time": "2021-07-02T05:26:50.470Z"
   },
   {
    "duration": 6,
    "start_time": "2021-07-02T05:27:00.876Z"
   },
   {
    "duration": 1971,
    "start_time": "2021-07-02T05:27:22.889Z"
   },
   {
    "duration": 1746,
    "start_time": "2021-07-02T05:29:25.867Z"
   },
   {
    "duration": 12,
    "start_time": "2021-07-02T05:30:20.145Z"
   },
   {
    "duration": 966,
    "start_time": "2021-07-02T05:33:03.608Z"
   },
   {
    "duration": 2227,
    "start_time": "2021-07-02T05:33:20.459Z"
   },
   {
    "duration": 3202,
    "start_time": "2021-07-02T05:33:44.920Z"
   },
   {
    "duration": 144,
    "start_time": "2021-07-02T05:35:36.030Z"
   },
   {
    "duration": 2457,
    "start_time": "2021-07-02T05:35:50.502Z"
   },
   {
    "duration": 384,
    "start_time": "2021-07-02T05:39:54.440Z"
   },
   {
    "duration": 1751,
    "start_time": "2021-07-02T05:40:06.465Z"
   },
   {
    "duration": 352,
    "start_time": "2021-07-02T05:44:25.466Z"
   },
   {
    "duration": 395,
    "start_time": "2021-07-02T05:44:29.420Z"
   },
   {
    "duration": 16,
    "start_time": "2021-07-02T05:44:58.772Z"
   },
   {
    "duration": 14,
    "start_time": "2021-07-02T05:45:04.257Z"
   },
   {
    "duration": 526,
    "start_time": "2021-07-02T05:46:18.502Z"
   },
   {
    "duration": 20,
    "start_time": "2021-07-02T05:47:14.801Z"
   },
   {
    "duration": 14,
    "start_time": "2021-07-02T05:47:26.057Z"
   },
   {
    "duration": 33,
    "start_time": "2021-07-02T05:50:04.797Z"
   },
   {
    "duration": 23,
    "start_time": "2021-07-02T05:50:35.119Z"
   },
   {
    "duration": 18,
    "start_time": "2021-07-02T05:50:47.707Z"
   },
   {
    "duration": 384,
    "start_time": "2021-07-02T05:52:15.739Z"
   },
   {
    "duration": 21,
    "start_time": "2021-07-02T05:52:41.816Z"
   },
   {
    "duration": 25,
    "start_time": "2021-07-02T05:53:16.578Z"
   },
   {
    "duration": 31,
    "start_time": "2021-07-02T05:54:34.815Z"
   },
   {
    "duration": 36,
    "start_time": "2021-07-02T05:55:27.192Z"
   },
   {
    "duration": 18,
    "start_time": "2021-07-02T05:58:31.490Z"
   },
   {
    "duration": 37,
    "start_time": "2021-07-02T05:58:50.687Z"
   },
   {
    "duration": 20,
    "start_time": "2021-07-02T05:59:22.434Z"
   },
   {
    "duration": 47,
    "start_time": "2021-07-02T06:00:17.785Z"
   },
   {
    "duration": 46,
    "start_time": "2021-07-02T06:03:34.465Z"
   },
   {
    "duration": 38,
    "start_time": "2021-07-02T06:03:47.809Z"
   },
   {
    "duration": 21,
    "start_time": "2021-07-02T06:14:53.868Z"
   },
   {
    "duration": 44,
    "start_time": "2021-07-02T06:17:37.328Z"
   },
   {
    "duration": 46,
    "start_time": "2021-07-02T06:18:15.425Z"
   },
   {
    "duration": 46,
    "start_time": "2021-07-02T06:18:18.604Z"
   },
   {
    "duration": 142,
    "start_time": "2021-07-02T06:20:54.620Z"
   },
   {
    "duration": 30,
    "start_time": "2021-07-02T06:20:59.548Z"
   },
   {
    "duration": 30,
    "start_time": "2021-07-02T06:22:54.766Z"
   },
   {
    "duration": 15,
    "start_time": "2021-07-02T06:23:29.088Z"
   },
   {
    "duration": 11,
    "start_time": "2021-07-02T06:26:27.145Z"
   },
   {
    "duration": 7,
    "start_time": "2021-07-02T06:26:46.266Z"
   },
   {
    "duration": 9,
    "start_time": "2021-07-02T06:26:52.639Z"
   },
   {
    "duration": 12,
    "start_time": "2021-07-02T06:27:02.861Z"
   },
   {
    "duration": 30,
    "start_time": "2021-07-02T06:47:45.774Z"
   },
   {
    "duration": 17,
    "start_time": "2021-07-02T06:55:04.272Z"
   },
   {
    "duration": 26,
    "start_time": "2021-07-02T06:55:23.313Z"
   },
   {
    "duration": 16657,
    "start_time": "2021-07-02T06:57:09.672Z"
   },
   {
    "duration": 3483,
    "start_time": "2021-07-02T06:57:51.835Z"
   },
   {
    "duration": 867,
    "start_time": "2021-07-02T06:58:58.752Z"
   },
   {
    "duration": 901,
    "start_time": "2021-07-02T06:59:43.678Z"
   },
   {
    "duration": 1306,
    "start_time": "2021-07-02T07:00:02.890Z"
   },
   {
    "duration": 1248,
    "start_time": "2021-07-02T07:00:25.451Z"
   },
   {
    "duration": 1248,
    "start_time": "2021-07-02T07:00:32.691Z"
   },
   {
    "duration": 941,
    "start_time": "2021-07-02T07:00:41.361Z"
   },
   {
    "duration": 1271,
    "start_time": "2021-07-02T07:00:52.869Z"
   },
   {
    "duration": 1093,
    "start_time": "2021-07-02T07:01:04.276Z"
   },
   {
    "duration": 1250,
    "start_time": "2021-07-02T07:01:37.622Z"
   },
   {
    "duration": 1282,
    "start_time": "2021-07-02T07:01:52.550Z"
   },
   {
    "duration": 1338,
    "start_time": "2021-07-02T07:02:04.750Z"
   },
   {
    "duration": 1344,
    "start_time": "2021-07-02T07:02:17.775Z"
   },
   {
    "duration": 10497,
    "start_time": "2021-07-02T07:02:24.005Z"
   },
   {
    "duration": 916,
    "start_time": "2021-07-02T07:02:42.320Z"
   },
   {
    "duration": 965,
    "start_time": "2021-07-02T13:13:00.043Z"
   },
   {
    "duration": 902,
    "start_time": "2021-07-02T13:13:10.013Z"
   },
   {
    "duration": 191,
    "start_time": "2021-07-02T13:13:28.918Z"
   },
   {
    "duration": 1255,
    "start_time": "2021-07-02T13:13:37.072Z"
   },
   {
    "duration": 1350,
    "start_time": "2021-07-02T13:14:04.019Z"
   },
   {
    "duration": 1410,
    "start_time": "2021-07-02T13:14:14.386Z"
   },
   {
    "duration": 1281,
    "start_time": "2021-07-02T13:14:21.153Z"
   },
   {
    "duration": 1296,
    "start_time": "2021-07-02T13:14:57.031Z"
   },
   {
    "duration": 1212,
    "start_time": "2021-07-02T13:15:27.524Z"
   },
   {
    "duration": 1001,
    "start_time": "2021-07-02T13:15:40.861Z"
   },
   {
    "duration": 1018,
    "start_time": "2021-07-02T13:15:55.600Z"
   },
   {
    "duration": 935,
    "start_time": "2021-07-02T13:16:03.594Z"
   },
   {
    "duration": 1478,
    "start_time": "2021-07-04T08:43:01.739Z"
   },
   {
    "duration": 371,
    "start_time": "2021-07-04T08:43:03.220Z"
   },
   {
    "duration": 4672,
    "start_time": "2021-07-04T08:43:14.702Z"
   },
   {
    "duration": 4,
    "start_time": "2021-07-04T08:43:40.383Z"
   },
   {
    "duration": 247,
    "start_time": "2021-07-04T08:43:40.803Z"
   },
   {
    "duration": 1294,
    "start_time": "2021-07-04T08:44:12.979Z"
   },
   {
    "duration": 5,
    "start_time": "2021-07-04T08:44:14.683Z"
   },
   {
    "duration": 2240,
    "start_time": "2021-07-04T08:58:59.330Z"
   },
   {
    "duration": 11,
    "start_time": "2021-07-04T08:59:01.573Z"
   },
   {
    "duration": 19,
    "start_time": "2021-07-04T08:59:04.259Z"
   },
   {
    "duration": 22,
    "start_time": "2021-07-04T08:59:04.639Z"
   },
   {
    "duration": 16,
    "start_time": "2021-07-04T08:59:10.595Z"
   },
   {
    "duration": 27,
    "start_time": "2021-07-04T09:07:32.480Z"
   },
   {
    "duration": 16,
    "start_time": "2021-07-04T09:09:42.689Z"
   },
   {
    "duration": 17,
    "start_time": "2021-07-04T09:10:36.779Z"
   },
   {
    "duration": 16,
    "start_time": "2021-07-04T09:10:43.386Z"
   },
   {
    "duration": 15,
    "start_time": "2021-07-04T09:10:54.040Z"
   },
   {
    "duration": 81,
    "start_time": "2021-07-04T09:11:07.414Z"
   },
   {
    "duration": 16,
    "start_time": "2021-07-04T09:11:10.507Z"
   },
   {
    "duration": 84,
    "start_time": "2021-07-04T09:11:27.521Z"
   },
   {
    "duration": 15,
    "start_time": "2021-07-04T09:11:35.262Z"
   },
   {
    "duration": 17,
    "start_time": "2021-07-04T09:11:41.844Z"
   },
   {
    "duration": 17,
    "start_time": "2021-07-04T09:11:55.849Z"
   },
   {
    "duration": 370,
    "start_time": "2021-07-04T09:14:01.570Z"
   },
   {
    "duration": 37,
    "start_time": "2021-07-04T09:14:06.197Z"
   },
   {
    "duration": 9,
    "start_time": "2021-07-04T09:14:22.169Z"
   },
   {
    "duration": 12,
    "start_time": "2021-07-04T09:14:38.693Z"
   },
   {
    "duration": 34,
    "start_time": "2021-07-04T09:14:45.590Z"
   },
   {
    "duration": 11,
    "start_time": "2021-07-04T09:14:58.773Z"
   },
   {
    "duration": 13,
    "start_time": "2021-07-04T09:16:24.938Z"
   },
   {
    "duration": 35,
    "start_time": "2021-07-04T09:16:28.667Z"
   },
   {
    "duration": 12,
    "start_time": "2021-07-04T09:17:21.344Z"
   },
   {
    "duration": 34,
    "start_time": "2021-07-04T09:17:47.827Z"
   },
   {
    "duration": 37,
    "start_time": "2021-07-04T09:18:17.543Z"
   },
   {
    "duration": 23,
    "start_time": "2021-07-04T09:18:42.471Z"
   },
   {
    "duration": 13,
    "start_time": "2021-07-04T09:19:45.472Z"
   },
   {
    "duration": 7,
    "start_time": "2021-07-04T09:19:48.973Z"
   },
   {
    "duration": 1667,
    "start_time": "2021-07-04T09:19:52.693Z"
   },
   {
    "duration": 1843,
    "start_time": "2021-07-04T09:20:00.782Z"
   },
   {
    "duration": 6,
    "start_time": "2021-07-04T09:21:13.026Z"
   },
   {
    "duration": 604,
    "start_time": "2021-07-04T09:25:00.394Z"
   },
   {
    "duration": 822,
    "start_time": "2021-07-04T09:25:28.706Z"
   },
   {
    "duration": 462,
    "start_time": "2021-07-04T09:26:46.638Z"
   },
   {
    "duration": 19,
    "start_time": "2021-07-04T09:27:24.146Z"
   },
   {
    "duration": 448,
    "start_time": "2021-07-04T09:30:11.827Z"
   },
   {
    "duration": 436,
    "start_time": "2021-07-04T09:30:27.542Z"
   },
   {
    "duration": 552,
    "start_time": "2021-07-04T09:30:36.850Z"
   },
   {
    "duration": 439,
    "start_time": "2021-07-04T09:30:46.045Z"
   },
   {
    "duration": 6,
    "start_time": "2021-07-04T09:31:44.781Z"
   },
   {
    "duration": 18,
    "start_time": "2021-07-04T09:36:40.272Z"
   },
   {
    "duration": 19,
    "start_time": "2021-07-04T09:36:45.721Z"
   },
   {
    "duration": 24,
    "start_time": "2021-07-04T09:36:59.999Z"
   },
   {
    "duration": 20,
    "start_time": "2021-07-04T09:37:15.180Z"
   },
   {
    "duration": 8,
    "start_time": "2021-07-04T09:40:03.820Z"
   },
   {
    "duration": 21,
    "start_time": "2021-07-04T09:41:48.385Z"
   },
   {
    "duration": 10,
    "start_time": "2021-07-04T09:43:23.700Z"
   },
   {
    "duration": 6,
    "start_time": "2021-07-04T09:45:13.053Z"
   },
   {
    "duration": 6,
    "start_time": "2021-07-04T09:45:14.925Z"
   },
   {
    "duration": 10,
    "start_time": "2021-07-04T09:45:29.207Z"
   },
   {
    "duration": 11,
    "start_time": "2021-07-04T09:45:36.295Z"
   },
   {
    "duration": 4,
    "start_time": "2021-07-04T09:47:58.044Z"
   },
   {
    "duration": 3057,
    "start_time": "2021-07-04T09:49:54.327Z"
   },
   {
    "duration": 4,
    "start_time": "2021-07-04T09:49:59.107Z"
   },
   {
    "duration": 5,
    "start_time": "2021-07-04T09:50:00.128Z"
   },
   {
    "duration": 21,
    "start_time": "2021-07-04T09:51:08.220Z"
   },
   {
    "duration": 13,
    "start_time": "2021-07-04T09:51:40.574Z"
   },
   {
    "duration": 25,
    "start_time": "2021-07-04T09:51:49.420Z"
   },
   {
    "duration": 19,
    "start_time": "2021-07-04T12:42:25.786Z"
   },
   {
    "duration": 10,
    "start_time": "2021-07-04T12:51:36.065Z"
   },
   {
    "duration": 14,
    "start_time": "2021-07-04T12:51:58.746Z"
   },
   {
    "duration": 8,
    "start_time": "2021-07-04T12:52:11.053Z"
   },
   {
    "duration": 10,
    "start_time": "2021-07-04T12:52:13.720Z"
   },
   {
    "duration": 19,
    "start_time": "2021-07-04T12:52:30.161Z"
   },
   {
    "duration": 11,
    "start_time": "2021-07-04T12:52:49.366Z"
   },
   {
    "duration": 8,
    "start_time": "2021-07-04T12:56:31.672Z"
   },
   {
    "duration": 7,
    "start_time": "2021-07-04T12:56:53.698Z"
   },
   {
    "duration": 6033,
    "start_time": "2021-07-04T12:58:00.631Z"
   },
   {
    "duration": 5,
    "start_time": "2021-07-04T12:58:31.278Z"
   },
   {
    "duration": 17,
    "start_time": "2021-07-04T12:58:35.640Z"
   },
   {
    "duration": 1635,
    "start_time": "2021-07-04T12:58:59.866Z"
   },
   {
    "duration": 1768,
    "start_time": "2021-07-04T13:00:14.231Z"
   },
   {
    "duration": 13,
    "start_time": "2021-07-04T13:01:32.081Z"
   },
   {
    "duration": 8,
    "start_time": "2021-07-04T13:01:52.517Z"
   },
   {
    "duration": 9,
    "start_time": "2021-07-04T13:01:55.608Z"
   },
   {
    "duration": 1596,
    "start_time": "2021-07-04T13:02:02.323Z"
   },
   {
    "duration": 1493,
    "start_time": "2021-07-04T13:02:12.560Z"
   },
   {
    "duration": 5,
    "start_time": "2021-07-04T13:26:03.065Z"
   },
   {
    "duration": 7,
    "start_time": "2021-07-04T13:26:07.902Z"
   },
   {
    "duration": 13,
    "start_time": "2021-07-04T13:26:18.734Z"
   },
   {
    "duration": 33,
    "start_time": "2021-07-04T13:27:32.896Z"
   },
   {
    "duration": 34,
    "start_time": "2021-07-04T13:27:43.565Z"
   },
   {
    "duration": 10,
    "start_time": "2021-07-04T13:27:53.589Z"
   },
   {
    "duration": 7,
    "start_time": "2021-07-04T13:28:07.705Z"
   },
   {
    "duration": 18,
    "start_time": "2021-07-04T13:28:40.409Z"
   },
   {
    "duration": 15,
    "start_time": "2021-07-04T13:28:53.588Z"
   },
   {
    "duration": 349,
    "start_time": "2021-07-04T13:29:20.618Z"
   },
   {
    "duration": 252,
    "start_time": "2021-07-04T13:29:34.891Z"
   },
   {
    "duration": 244,
    "start_time": "2021-07-04T13:29:40.675Z"
   },
   {
    "duration": 6,
    "start_time": "2021-07-04T13:29:45.929Z"
   },
   {
    "duration": 13,
    "start_time": "2021-07-04T13:29:54.107Z"
   },
   {
    "duration": 254,
    "start_time": "2021-07-04T13:30:25.171Z"
   },
   {
    "duration": 270,
    "start_time": "2021-07-04T13:30:36.270Z"
   },
   {
    "duration": 8,
    "start_time": "2021-07-04T13:30:46.540Z"
   },
   {
    "duration": 291,
    "start_time": "2021-07-04T13:32:04.143Z"
   },
   {
    "duration": 11,
    "start_time": "2021-07-04T13:32:09.469Z"
   },
   {
    "duration": 9,
    "start_time": "2021-07-04T13:32:17.198Z"
   },
   {
    "duration": 130,
    "start_time": "2021-07-04T13:32:58.600Z"
   },
   {
    "duration": 276,
    "start_time": "2021-07-04T13:33:40.806Z"
   },
   {
    "duration": 9,
    "start_time": "2021-07-04T13:33:45.592Z"
   },
   {
    "duration": 12,
    "start_time": "2021-07-04T13:34:31.104Z"
   },
   {
    "duration": 9,
    "start_time": "2021-07-04T13:34:36.253Z"
   },
   {
    "duration": 12,
    "start_time": "2021-07-04T13:34:41.773Z"
   },
   {
    "duration": 12,
    "start_time": "2021-07-04T13:34:51.346Z"
   },
   {
    "duration": 13,
    "start_time": "2021-07-04T13:35:22.872Z"
   },
   {
    "duration": 14,
    "start_time": "2021-07-04T13:35:58.550Z"
   },
   {
    "duration": 46,
    "start_time": "2021-07-04T13:38:41.016Z"
   },
   {
    "duration": 71,
    "start_time": "2021-07-04T13:38:54.674Z"
   },
   {
    "duration": 5,
    "start_time": "2021-07-04T13:39:18.006Z"
   },
   {
    "duration": 25,
    "start_time": "2021-07-04T13:41:59.886Z"
   },
   {
    "duration": 45,
    "start_time": "2021-07-04T13:42:17.825Z"
   },
   {
    "duration": 31653,
    "start_time": "2021-07-04T13:44:05.217Z"
   },
   {
    "duration": 5,
    "start_time": "2021-07-04T13:44:53.311Z"
   },
   {
    "duration": 7,
    "start_time": "2021-07-04T13:44:57.154Z"
   },
   {
    "duration": 6,
    "start_time": "2021-07-04T13:49:48.614Z"
   },
   {
    "duration": 251,
    "start_time": "2021-07-04T13:51:52.116Z"
   },
   {
    "duration": 988,
    "start_time": "2021-07-04T13:53:11.515Z"
   },
   {
    "duration": 240,
    "start_time": "2021-07-04T13:54:50.599Z"
   },
   {
    "duration": 6,
    "start_time": "2021-07-04T13:54:54.553Z"
   },
   {
    "duration": 5,
    "start_time": "2021-07-04T13:55:05.926Z"
   },
   {
    "duration": 4,
    "start_time": "2021-07-04T13:56:46.886Z"
   },
   {
    "duration": 36,
    "start_time": "2021-07-04T13:56:56.966Z"
   },
   {
    "duration": 78,
    "start_time": "2021-07-04T13:58:11.836Z"
   },
   {
    "duration": 80,
    "start_time": "2021-07-04T13:58:16.719Z"
   },
   {
    "duration": 248,
    "start_time": "2021-07-04T13:58:56.759Z"
   },
   {
    "duration": 246,
    "start_time": "2021-07-04T13:59:05.656Z"
   },
   {
    "duration": 18,
    "start_time": "2021-07-04T13:59:13.884Z"
   },
   {
    "duration": 19,
    "start_time": "2021-07-04T13:59:17.960Z"
   },
   {
    "duration": 12,
    "start_time": "2021-07-04T13:59:43.655Z"
   },
   {
    "duration": 171,
    "start_time": "2021-07-04T13:59:45.000Z"
   },
   {
    "duration": 5,
    "start_time": "2021-07-04T13:59:46.215Z"
   },
   {
    "duration": 4,
    "start_time": "2021-07-04T13:59:50.360Z"
   },
   {
    "duration": 265,
    "start_time": "2021-07-04T13:59:51.078Z"
   },
   {
    "duration": 17,
    "start_time": "2021-07-04T13:59:59.409Z"
   },
   {
    "duration": 11,
    "start_time": "2021-07-04T14:00:04.486Z"
   },
   {
    "duration": 45,
    "start_time": "2021-07-04T14:00:05.148Z"
   },
   {
    "duration": 5,
    "start_time": "2021-07-04T14:00:05.647Z"
   },
   {
    "duration": 7,
    "start_time": "2021-07-04T14:00:06.204Z"
   },
   {
    "duration": 4,
    "start_time": "2021-07-04T14:00:06.882Z"
   },
   {
    "duration": 14,
    "start_time": "2021-07-04T14:00:07.671Z"
   },
   {
    "duration": 5,
    "start_time": "2021-07-04T14:00:15.885Z"
   },
   {
    "duration": 238,
    "start_time": "2021-07-04T14:00:27.363Z"
   },
   {
    "duration": 4,
    "start_time": "2021-07-04T14:01:13.495Z"
   },
   {
    "duration": 13,
    "start_time": "2021-07-04T14:01:17.876Z"
   },
   {
    "duration": 6,
    "start_time": "2021-07-04T14:01:40.420Z"
   },
   {
    "duration": 13,
    "start_time": "2021-07-04T14:01:57.898Z"
   },
   {
    "duration": 16,
    "start_time": "2021-07-04T14:03:28.010Z"
   },
   {
    "duration": 16,
    "start_time": "2021-07-04T14:03:42.979Z"
   },
   {
    "duration": 16,
    "start_time": "2021-07-04T14:03:51.688Z"
   },
   {
    "duration": 15,
    "start_time": "2021-07-04T14:04:09.203Z"
   },
   {
    "duration": 10,
    "start_time": "2021-07-04T14:04:26.429Z"
   },
   {
    "duration": 15,
    "start_time": "2021-07-04T14:04:29.880Z"
   },
   {
    "duration": 16,
    "start_time": "2021-07-04T14:06:02.470Z"
   },
   {
    "duration": 15,
    "start_time": "2021-07-04T14:06:07.186Z"
   },
   {
    "duration": 15,
    "start_time": "2021-07-04T14:10:38.022Z"
   },
   {
    "duration": 17,
    "start_time": "2021-07-04T14:10:59.842Z"
   },
   {
    "duration": 6,
    "start_time": "2021-07-04T14:11:44.019Z"
   },
   {
    "duration": 26185,
    "start_time": "2021-07-04T14:12:19.584Z"
   },
   {
    "duration": 6,
    "start_time": "2021-07-04T14:12:51.873Z"
   },
   {
    "duration": 4,
    "start_time": "2021-07-04T14:12:56.472Z"
   },
   {
    "duration": 13,
    "start_time": "2021-07-04T14:13:01.414Z"
   },
   {
    "duration": 14,
    "start_time": "2021-07-04T14:13:04.242Z"
   },
   {
    "duration": 4,
    "start_time": "2021-07-04T14:13:05.468Z"
   },
   {
    "duration": 13,
    "start_time": "2021-07-04T14:13:07.704Z"
   },
   {
    "duration": 17,
    "start_time": "2021-07-04T14:13:20.316Z"
   },
   {
    "duration": 16,
    "start_time": "2021-07-04T14:13:27.147Z"
   },
   {
    "duration": 16,
    "start_time": "2021-07-04T14:13:32.596Z"
   },
   {
    "duration": 16,
    "start_time": "2021-07-04T14:13:56.685Z"
   },
   {
    "duration": 16,
    "start_time": "2021-07-04T14:14:21.294Z"
   },
   {
    "duration": 24925,
    "start_time": "2021-07-04T14:15:25.535Z"
   },
   {
    "duration": 236,
    "start_time": "2021-07-04T14:18:52.183Z"
   },
   {
    "duration": 265,
    "start_time": "2021-07-04T14:19:38.716Z"
   },
   {
    "duration": 296,
    "start_time": "2021-07-04T14:19:54.981Z"
   },
   {
    "duration": 90,
    "start_time": "2021-07-04T14:21:38.600Z"
   },
   {
    "duration": 368,
    "start_time": "2021-07-04T14:21:57.233Z"
   },
   {
    "duration": 363,
    "start_time": "2021-07-04T14:22:20.536Z"
   },
   {
    "duration": 34500,
    "start_time": "2021-07-04T14:24:17.888Z"
   },
   {
    "duration": 1234,
    "start_time": "2021-07-04T14:37:35.765Z"
   },
   {
    "duration": 129,
    "start_time": "2021-07-04T14:40:49.541Z"
   },
   {
    "duration": 876,
    "start_time": "2021-07-04T14:44:06.721Z"
   },
   {
    "duration": 296,
    "start_time": "2021-07-04T14:44:26.698Z"
   },
   {
    "duration": 297,
    "start_time": "2021-07-04T14:44:32.937Z"
   },
   {
    "duration": 51,
    "start_time": "2021-07-04T14:44:48.734Z"
   },
   {
    "duration": 11,
    "start_time": "2021-07-04T14:44:52.894Z"
   },
   {
    "duration": 14,
    "start_time": "2021-07-04T14:45:15.979Z"
   },
   {
    "duration": 297,
    "start_time": "2021-07-04T14:45:22.661Z"
   },
   {
    "duration": 4670,
    "start_time": "2021-07-04T14:46:04.833Z"
   },
   {
    "duration": 667,
    "start_time": "2021-07-04T14:49:14.994Z"
   },
   {
    "duration": 18,
    "start_time": "2021-07-04T14:49:20.230Z"
   },
   {
    "duration": 32,
    "start_time": "2021-07-04T14:49:42.989Z"
   },
   {
    "duration": 5,
    "start_time": "2021-07-04T14:54:17.117Z"
   },
   {
    "duration": 7660,
    "start_time": "2021-07-04T14:54:27.184Z"
   },
   {
    "duration": 26,
    "start_time": "2021-07-04T14:54:37.015Z"
   },
   {
    "duration": 4,
    "start_time": "2021-07-04T14:56:54.597Z"
   },
   {
    "duration": 254,
    "start_time": "2021-07-04T14:57:59.226Z"
   },
   {
    "duration": 7535,
    "start_time": "2021-07-04T14:58:51.407Z"
   },
   {
    "duration": 5,
    "start_time": "2021-07-04T14:59:18.862Z"
   },
   {
    "duration": 25647,
    "start_time": "2021-07-04T15:00:09.394Z"
   },
   {
    "duration": 57,
    "start_time": "2021-07-04T15:01:42.736Z"
   },
   {
    "duration": 12,
    "start_time": "2021-07-04T15:01:44.200Z"
   },
   {
    "duration": 5,
    "start_time": "2021-07-04T15:01:50.999Z"
   },
   {
    "duration": 7538,
    "start_time": "2021-07-04T15:02:10.629Z"
   },
   {
    "duration": 23798,
    "start_time": "2021-07-04T15:02:21.090Z"
   },
   {
    "duration": 270,
    "start_time": "2021-07-04T15:07:13.916Z"
   },
   {
    "duration": 4,
    "start_time": "2021-07-04T15:07:48.256Z"
   },
   {
    "duration": 273,
    "start_time": "2021-07-04T15:07:52.190Z"
   },
   {
    "duration": 42,
    "start_time": "2021-07-04T15:09:53.515Z"
   },
   {
    "duration": 5,
    "start_time": "2021-07-04T15:11:11.645Z"
   },
   {
    "duration": 58,
    "start_time": "2021-07-04T15:11:14.271Z"
   },
   {
    "duration": 4,
    "start_time": "2021-07-04T15:11:17.825Z"
   },
   {
    "duration": 7807,
    "start_time": "2021-07-04T15:11:18.806Z"
   },
   {
    "duration": 5,
    "start_time": "2021-07-04T15:11:28.969Z"
   },
   {
    "duration": 26,
    "start_time": "2021-07-04T15:11:33.145Z"
   },
   {
    "duration": 21587,
    "start_time": "2021-07-04T15:11:51.507Z"
   },
   {
    "duration": 7752,
    "start_time": "2021-07-04T15:14:13.186Z"
   },
   {
    "duration": 32,
    "start_time": "2021-07-04T15:14:20.941Z"
   },
   {
    "duration": 60,
    "start_time": "2021-07-04T15:15:30.335Z"
   },
   {
    "duration": 262,
    "start_time": "2021-07-04T15:18:51.206Z"
   },
   {
    "duration": 4903,
    "start_time": "2021-07-04T15:21:39.676Z"
   },
   {
    "duration": 53,
    "start_time": "2021-07-04T15:21:58.215Z"
   },
   {
    "duration": 5,
    "start_time": "2021-07-04T15:21:58.909Z"
   },
   {
    "duration": 7698,
    "start_time": "2021-07-04T15:21:59.366Z"
   },
   {
    "duration": 34,
    "start_time": "2021-07-04T15:22:07.067Z"
   },
   {
    "duration": 20094,
    "start_time": "2021-07-04T15:22:07.104Z"
   },
   {
    "duration": 194,
    "start_time": "2021-07-04T15:22:27.201Z"
   },
   {
    "duration": 263,
    "start_time": "2021-07-04T15:24:32.094Z"
   },
   {
    "duration": 4,
    "start_time": "2021-07-04T15:24:46.007Z"
   },
   {
    "duration": 273,
    "start_time": "2021-07-04T15:24:49.678Z"
   },
   {
    "duration": 245,
    "start_time": "2021-07-04T15:24:58.829Z"
   },
   {
    "duration": 3,
    "start_time": "2021-07-04T15:25:45.341Z"
   },
   {
    "duration": 117,
    "start_time": "2021-07-04T15:25:51.891Z"
   },
   {
    "duration": 4,
    "start_time": "2021-07-04T15:26:54.898Z"
   },
   {
    "duration": 156,
    "start_time": "2021-07-04T15:26:57.020Z"
   },
   {
    "duration": 7529,
    "start_time": "2021-07-04T15:29:13.940Z"
   },
   {
    "duration": 7514,
    "start_time": "2021-07-04T15:29:50.536Z"
   },
   {
    "duration": 30,
    "start_time": "2021-07-04T15:29:58.052Z"
   },
   {
    "duration": 12,
    "start_time": "2021-07-04T15:36:54.560Z"
   },
   {
    "duration": 16,
    "start_time": "2021-07-04T15:38:57.367Z"
   },
   {
    "duration": 4,
    "start_time": "2021-07-04T15:41:47.565Z"
   },
   {
    "duration": 580,
    "start_time": "2021-07-04T15:43:11.003Z"
   },
   {
    "duration": 10,
    "start_time": "2021-07-04T15:43:44.106Z"
   },
   {
    "duration": 10,
    "start_time": "2021-07-04T15:43:51.027Z"
   },
   {
    "duration": 24138,
    "start_time": "2021-07-04T15:44:12.451Z"
   },
   {
    "duration": 4,
    "start_time": "2021-07-04T15:47:37.806Z"
   },
   {
    "duration": 35424,
    "start_time": "2021-07-04T15:47:41.364Z"
   },
   {
    "duration": 466,
    "start_time": "2021-07-04T15:51:52.527Z"
   },
   {
    "duration": 18,
    "start_time": "2021-07-04T15:51:59.753Z"
   },
   {
    "duration": 10,
    "start_time": "2021-07-04T15:52:52.135Z"
   },
   {
    "duration": 9,
    "start_time": "2021-07-04T15:53:18.328Z"
   },
   {
    "duration": 834,
    "start_time": "2021-07-04T15:55:28.060Z"
   },
   {
    "duration": 529,
    "start_time": "2021-07-04T15:57:03.058Z"
   },
   {
    "duration": 3136,
    "start_time": "2021-07-05T04:22:53.630Z"
   },
   {
    "duration": 1095,
    "start_time": "2021-07-05T04:22:56.768Z"
   },
   {
    "duration": 2,
    "start_time": "2021-07-05T04:22:57.867Z"
   },
   {
    "duration": 14,
    "start_time": "2021-07-05T04:22:57.872Z"
   },
   {
    "duration": 1849,
    "start_time": "2021-07-05T04:22:57.888Z"
   },
   {
    "duration": 7,
    "start_time": "2021-07-05T04:22:59.739Z"
   },
   {
    "duration": 14,
    "start_time": "2021-07-05T04:22:59.748Z"
   },
   {
    "duration": 15,
    "start_time": "2021-07-05T04:22:59.764Z"
   },
   {
    "duration": 10,
    "start_time": "2021-07-05T04:22:59.780Z"
   },
   {
    "duration": 433,
    "start_time": "2021-07-05T04:22:59.792Z"
   },
   {
    "duration": 14,
    "start_time": "2021-07-05T04:23:00.227Z"
   },
   {
    "duration": 8,
    "start_time": "2021-07-05T04:23:00.242Z"
   },
   {
    "duration": 7,
    "start_time": "2021-07-05T04:23:00.251Z"
   },
   {
    "duration": 1075,
    "start_time": "2021-07-05T04:23:00.259Z"
   },
   {
    "duration": 4,
    "start_time": "2021-07-05T04:23:01.335Z"
   },
   {
    "duration": 10,
    "start_time": "2021-07-05T04:23:01.341Z"
   },
   {
    "duration": 13,
    "start_time": "2021-07-05T04:23:01.353Z"
   },
   {
    "duration": 21,
    "start_time": "2021-07-05T04:23:01.368Z"
   },
   {
    "duration": 14,
    "start_time": "2021-07-05T04:23:01.390Z"
   },
   {
    "duration": 5,
    "start_time": "2021-07-05T04:23:01.406Z"
   },
   {
    "duration": 10,
    "start_time": "2021-07-05T04:23:01.413Z"
   },
   {
    "duration": 13,
    "start_time": "2021-07-05T04:23:01.427Z"
   },
   {
    "duration": 43,
    "start_time": "2021-07-05T04:23:01.442Z"
   },
   {
    "duration": 7,
    "start_time": "2021-07-05T04:23:01.487Z"
   },
   {
    "duration": 15,
    "start_time": "2021-07-05T04:23:01.496Z"
   },
   {
    "duration": 17,
    "start_time": "2021-07-05T04:23:01.513Z"
   },
   {
    "duration": 9,
    "start_time": "2021-07-05T04:23:01.532Z"
   },
   {
    "duration": 29,
    "start_time": "2021-07-05T04:23:01.543Z"
   },
   {
    "duration": 1137,
    "start_time": "2021-07-05T04:23:01.574Z"
   },
   {
    "duration": 94,
    "start_time": "2021-07-05T04:23:02.713Z"
   },
   {
    "duration": 7,
    "start_time": "2021-07-05T04:23:02.809Z"
   },
   {
    "duration": 10,
    "start_time": "2021-07-05T04:23:02.818Z"
   },
   {
    "duration": 28457,
    "start_time": "2021-07-05T04:23:02.830Z"
   },
   {
    "duration": 29598,
    "start_time": "2021-07-05T04:23:31.289Z"
   },
   {
    "duration": 4,
    "start_time": "2021-07-05T04:24:00.889Z"
   },
   {
    "duration": 11,
    "start_time": "2021-07-05T04:24:00.986Z"
   },
   {
    "duration": 87,
    "start_time": "2021-07-05T04:24:00.999Z"
   },
   {
    "duration": 16,
    "start_time": "2021-07-05T04:24:01.088Z"
   },
   {
    "duration": 829,
    "start_time": "2021-07-05T04:24:01.106Z"
   },
   {
    "duration": 84501,
    "start_time": "2021-07-05T04:22:37.436Z"
   },
   {
    "duration": 84497,
    "start_time": "2021-07-05T04:22:37.441Z"
   },
   {
    "duration": 84492,
    "start_time": "2021-07-05T04:22:37.446Z"
   },
   {
    "duration": 84487,
    "start_time": "2021-07-05T04:22:37.453Z"
   },
   {
    "duration": 84482,
    "start_time": "2021-07-05T04:22:37.459Z"
   },
   {
    "duration": 84480,
    "start_time": "2021-07-05T04:22:37.462Z"
   },
   {
    "duration": 84473,
    "start_time": "2021-07-05T04:22:37.469Z"
   },
   {
    "duration": 84469,
    "start_time": "2021-07-05T04:22:37.474Z"
   },
   {
    "duration": 84467,
    "start_time": "2021-07-05T04:22:37.477Z"
   },
   {
    "duration": 84462,
    "start_time": "2021-07-05T04:22:37.483Z"
   },
   {
    "duration": 84458,
    "start_time": "2021-07-05T04:22:37.488Z"
   },
   {
    "duration": 84455,
    "start_time": "2021-07-05T04:22:37.491Z"
   },
   {
    "duration": 84452,
    "start_time": "2021-07-05T04:22:37.495Z"
   },
   {
    "duration": 84448,
    "start_time": "2021-07-05T04:22:37.500Z"
   },
   {
    "duration": 84445,
    "start_time": "2021-07-05T04:22:37.504Z"
   },
   {
    "duration": 421,
    "start_time": "2021-07-05T04:26:13.717Z"
   },
   {
    "duration": 59,
    "start_time": "2021-07-05T04:26:28.774Z"
   },
   {
    "duration": 65,
    "start_time": "2021-07-05T04:26:33.479Z"
   },
   {
    "duration": 223,
    "start_time": "2021-07-05T04:27:28.057Z"
   },
   {
    "duration": 3,
    "start_time": "2021-07-05T04:27:32.304Z"
   },
   {
    "duration": 454,
    "start_time": "2021-07-05T04:27:34.273Z"
   },
   {
    "duration": 564,
    "start_time": "2021-07-05T04:27:37.734Z"
   },
   {
    "duration": 6,
    "start_time": "2021-07-05T04:27:41.213Z"
   },
   {
    "duration": 3,
    "start_time": "2021-07-05T04:29:09.806Z"
   },
   {
    "duration": 7,
    "start_time": "2021-07-05T04:29:13.747Z"
   },
   {
    "duration": 3,
    "start_time": "2021-07-05T04:29:22.694Z"
   },
   {
    "duration": 263,
    "start_time": "2021-07-05T04:29:23.634Z"
   },
   {
    "duration": 6,
    "start_time": "2021-07-05T04:29:24.008Z"
   },
   {
    "duration": 3,
    "start_time": "2021-07-05T04:31:39.201Z"
   },
   {
    "duration": 6,
    "start_time": "2021-07-05T04:31:40.856Z"
   },
   {
    "duration": 3,
    "start_time": "2021-07-05T04:32:11.635Z"
   },
   {
    "duration": 6,
    "start_time": "2021-07-05T04:32:12.955Z"
   },
   {
    "duration": 3,
    "start_time": "2021-07-05T04:32:52.061Z"
   },
   {
    "duration": 4115,
    "start_time": "2021-07-05T04:32:52.560Z"
   },
   {
    "duration": 16,
    "start_time": "2021-07-05T04:32:59.773Z"
   },
   {
    "duration": 29846,
    "start_time": "2021-07-05T04:33:44.672Z"
   },
   {
    "duration": 84480,
    "start_time": "2021-07-05T04:32:50.040Z"
   },
   {
    "duration": 15,
    "start_time": "2021-07-05T04:34:26.657Z"
   },
   {
    "duration": 36,
    "start_time": "2021-07-05T04:34:43.272Z"
   },
   {
    "duration": 9,
    "start_time": "2021-07-05T04:34:45.368Z"
   },
   {
    "duration": 3,
    "start_time": "2021-07-05T04:34:48.299Z"
   },
   {
    "duration": 4190,
    "start_time": "2021-07-05T04:34:48.731Z"
   },
   {
    "duration": 16,
    "start_time": "2021-07-05T04:34:52.923Z"
   },
   {
    "duration": 26394,
    "start_time": "2021-07-05T04:34:52.941Z"
   },
   {
    "duration": 2,
    "start_time": "2021-07-05T04:35:19.337Z"
   },
   {
    "duration": 22,
    "start_time": "2021-07-05T04:35:19.341Z"
   },
   {
    "duration": 3,
    "start_time": "2021-07-05T04:36:04.198Z"
   },
   {
    "duration": 83,
    "start_time": "2021-07-05T04:36:11.434Z"
   },
   {
    "duration": 4308,
    "start_time": "2021-07-05T04:39:56.572Z"
   },
   {
    "duration": 9,
    "start_time": "2021-07-05T04:40:27.314Z"
   },
   {
    "duration": 4083,
    "start_time": "2021-07-05T04:40:40.994Z"
   },
   {
    "duration": 14,
    "start_time": "2021-07-05T04:40:46.304Z"
   },
   {
    "duration": 3,
    "start_time": "2021-07-05T04:41:54.727Z"
   },
   {
    "duration": 40,
    "start_time": "2021-07-05T04:42:27.246Z"
   },
   {
    "duration": 4,
    "start_time": "2021-07-05T04:42:39.203Z"
   },
   {
    "duration": 4197,
    "start_time": "2021-07-05T04:42:40.043Z"
   },
   {
    "duration": 19620,
    "start_time": "2021-07-05T04:42:46.808Z"
   },
   {
    "duration": 23940,
    "start_time": "2021-07-05T04:44:26.074Z"
   },
   {
    "duration": 4145,
    "start_time": "2021-07-05T04:49:09.102Z"
   },
   {
    "duration": 30585,
    "start_time": "2021-07-05T04:49:44.418Z"
   },
   {
    "duration": 22478,
    "start_time": "2021-07-05T05:03:34.132Z"
   },
   {
    "duration": 23515,
    "start_time": "2021-07-05T05:04:56.226Z"
   },
   {
    "duration": 22804,
    "start_time": "2021-07-05T05:06:18.235Z"
   },
   {
    "duration": 429,
    "start_time": "2021-07-05T05:08:13.975Z"
   },
   {
    "duration": 3,
    "start_time": "2021-07-05T05:08:28.794Z"
   },
   {
    "duration": 11,
    "start_time": "2021-07-05T05:08:39.126Z"
   },
   {
    "duration": 8,
    "start_time": "2021-07-05T05:09:05.465Z"
   },
   {
    "duration": 4,
    "start_time": "2021-07-05T05:09:45.707Z"
   },
   {
    "duration": 187,
    "start_time": "2021-07-05T05:09:55.091Z"
   },
   {
    "duration": 4,
    "start_time": "2021-07-05T05:09:58.977Z"
   },
   {
    "duration": 5,
    "start_time": "2021-07-05T05:10:04.835Z"
   },
   {
    "duration": 4,
    "start_time": "2021-07-05T05:10:08.725Z"
   },
   {
    "duration": 5,
    "start_time": "2021-07-05T05:10:12.584Z"
   },
   {
    "duration": 4,
    "start_time": "2021-07-05T05:10:21.312Z"
   },
   {
    "duration": 167,
    "start_time": "2021-07-05T05:10:37.227Z"
   },
   {
    "duration": 3,
    "start_time": "2021-07-05T05:10:55.442Z"
   },
   {
    "duration": 3,
    "start_time": "2021-07-05T05:11:01.277Z"
   },
   {
    "duration": 7,
    "start_time": "2021-07-05T05:11:11.636Z"
   },
   {
    "duration": 28465,
    "start_time": "2021-07-05T05:11:15.360Z"
   },
   {
    "duration": 7,
    "start_time": "2021-07-05T05:12:14.124Z"
   },
   {
    "duration": 14783,
    "start_time": "2021-07-05T05:12:17.752Z"
   },
   {
    "duration": 75,
    "start_time": "2021-07-05T05:13:40.216Z"
   },
   {
    "duration": 16468,
    "start_time": "2021-07-05T05:18:43.254Z"
   },
   {
    "duration": 209,
    "start_time": "2021-07-05T05:19:54.733Z"
   },
   {
    "duration": 4,
    "start_time": "2021-07-05T05:25:11.746Z"
   },
   {
    "duration": 360485,
    "start_time": "2021-07-05T05:29:23.006Z"
   },
   {
    "duration": 240,
    "start_time": "2021-07-05T05:36:50.654Z"
   },
   {
    "duration": 4,
    "start_time": "2021-07-05T05:37:30.026Z"
   },
   {
    "duration": 7,
    "start_time": "2021-07-05T05:38:19.488Z"
   },
   {
    "duration": 364010,
    "start_time": "2021-07-05T05:38:30.379Z"
   },
   {
    "duration": 96,
    "start_time": "2021-07-05T05:44:34.391Z"
   },
   {
    "duration": 4,
    "start_time": "2021-07-05T05:44:46.917Z"
   },
   {
    "duration": 266,
    "start_time": "2021-07-05T05:44:56.660Z"
   },
   {
    "duration": 4,
    "start_time": "2021-07-05T05:47:28.357Z"
   },
   {
    "duration": 10,
    "start_time": "2021-07-05T05:48:47.765Z"
   },
   {
    "duration": 339557,
    "start_time": "2021-07-05T05:48:59.532Z"
   },
   {
    "duration": 4,
    "start_time": "2021-07-05T05:55:13.775Z"
   },
   {
    "duration": 3,
    "start_time": "2021-07-05T08:57:11.171Z"
   },
   {
    "duration": 3,
    "start_time": "2021-07-05T08:57:21.373Z"
   },
   {
    "duration": 7,
    "start_time": "2021-07-05T08:58:11.971Z"
   },
   {
    "duration": 4,
    "start_time": "2021-07-05T08:58:24.731Z"
   },
   {
    "duration": 4,
    "start_time": "2021-07-05T08:58:26.849Z"
   },
   {
    "duration": 82761,
    "start_time": "2021-07-05T08:58:33.731Z"
   },
   {
    "duration": 88,
    "start_time": "2021-07-05T08:59:56.499Z"
   },
   {
    "duration": 68441,
    "start_time": "2021-07-05T09:01:11.245Z"
   },
   {
    "duration": 454781,
    "start_time": "2021-07-05T09:02:57.515Z"
   },
   {
    "duration": 226,
    "start_time": "2021-07-05T09:10:42.168Z"
   },
   {
    "duration": 203,
    "start_time": "2021-07-05T09:38:19.130Z"
   },
   {
    "duration": 19243,
    "start_time": "2021-07-05T09:39:34.957Z"
   },
   {
    "duration": 1040,
    "start_time": "2021-07-05T09:40:16.257Z"
   },
   {
    "duration": 19900,
    "start_time": "2021-07-05T09:42:42.491Z"
   },
   {
    "duration": 307,
    "start_time": "2021-07-05T09:43:02.394Z"
   },
   {
    "duration": 18863,
    "start_time": "2021-07-05T09:47:31.032Z"
   },
   {
    "duration": 112,
    "start_time": "2021-07-05T09:47:53.304Z"
   },
   {
    "duration": 18318,
    "start_time": "2021-07-05T09:48:06.268Z"
   },
   {
    "duration": 117,
    "start_time": "2021-07-05T09:48:50.394Z"
   },
   {
    "duration": 17594,
    "start_time": "2021-07-05T09:50:02.197Z"
   },
   {
    "duration": 269,
    "start_time": "2021-07-05T09:50:28.656Z"
   },
   {
    "duration": 130524,
    "start_time": "2021-07-05T09:58:53.368Z"
   },
   {
    "duration": 416,
    "start_time": "2021-07-05T10:01:03.895Z"
   },
   {
    "duration": 4,
    "start_time": "2021-07-05T10:01:30.074Z"
   },
   {
    "duration": 435,
    "start_time": "2021-07-05T10:01:52.516Z"
   },
   {
    "duration": 402,
    "start_time": "2021-07-05T10:02:05.223Z"
   },
   {
    "duration": 241,
    "start_time": "2021-07-05T10:02:09.570Z"
   },
   {
    "duration": 453,
    "start_time": "2021-07-05T10:03:22.194Z"
   },
   {
    "duration": 266,
    "start_time": "2021-07-05T10:03:56.162Z"
   },
   {
    "duration": 8,
    "start_time": "2021-07-05T10:04:29.277Z"
   },
   {
    "duration": 7,
    "start_time": "2021-07-05T10:04:37.316Z"
   },
   {
    "duration": 158680,
    "start_time": "2021-07-05T10:05:14.622Z"
   },
   {
    "duration": 644,
    "start_time": "2021-07-05T10:07:53.306Z"
   },
   {
    "duration": 16,
    "start_time": "2021-07-05T10:10:03.496Z"
   },
   {
    "duration": 4,
    "start_time": "2021-07-05T10:11:32.096Z"
   },
   {
    "duration": 520,
    "start_time": "2021-07-05T10:14:27.717Z"
   },
   {
    "duration": 2176,
    "start_time": "2021-07-05T10:17:12.507Z"
   },
   {
    "duration": 1103,
    "start_time": "2021-07-05T10:17:14.688Z"
   },
   {
    "duration": 3,
    "start_time": "2021-07-05T10:17:15.793Z"
   },
   {
    "duration": 9,
    "start_time": "2021-07-05T10:17:15.797Z"
   },
   {
    "duration": 1852,
    "start_time": "2021-07-05T10:17:15.808Z"
   },
   {
    "duration": 9,
    "start_time": "2021-07-05T10:17:17.662Z"
   },
   {
    "duration": 15,
    "start_time": "2021-07-05T10:17:17.673Z"
   },
   {
    "duration": 14,
    "start_time": "2021-07-05T10:17:17.691Z"
   },
   {
    "duration": 10,
    "start_time": "2021-07-05T10:17:17.708Z"
   },
   {
    "duration": 447,
    "start_time": "2021-07-05T10:17:17.720Z"
   },
   {
    "duration": 24,
    "start_time": "2021-07-05T10:17:18.169Z"
   },
   {
    "duration": 8,
    "start_time": "2021-07-05T10:17:18.195Z"
   },
   {
    "duration": 5,
    "start_time": "2021-07-05T10:17:18.205Z"
   },
   {
    "duration": 1094,
    "start_time": "2021-07-05T10:17:18.212Z"
   },
   {
    "duration": 5,
    "start_time": "2021-07-05T10:17:19.309Z"
   },
   {
    "duration": 7,
    "start_time": "2021-07-05T10:17:19.316Z"
   },
   {
    "duration": 15,
    "start_time": "2021-07-05T10:17:19.324Z"
   },
   {
    "duration": 6,
    "start_time": "2021-07-05T10:17:19.341Z"
   },
   {
    "duration": 49,
    "start_time": "2021-07-05T10:17:19.349Z"
   },
   {
    "duration": 7,
    "start_time": "2021-07-05T10:17:19.400Z"
   },
   {
    "duration": 10,
    "start_time": "2021-07-05T10:17:19.409Z"
   },
   {
    "duration": 11,
    "start_time": "2021-07-05T10:17:19.421Z"
   },
   {
    "duration": 5,
    "start_time": "2021-07-05T10:17:19.434Z"
   },
   {
    "duration": 8,
    "start_time": "2021-07-05T10:17:19.441Z"
   },
   {
    "duration": 42,
    "start_time": "2021-07-05T10:17:19.451Z"
   },
   {
    "duration": 13,
    "start_time": "2021-07-05T10:17:19.496Z"
   },
   {
    "duration": 7,
    "start_time": "2021-07-05T10:17:19.511Z"
   },
   {
    "duration": 5,
    "start_time": "2021-07-05T10:17:19.520Z"
   },
   {
    "duration": 1150,
    "start_time": "2021-07-05T10:17:19.526Z"
   },
   {
    "duration": 86,
    "start_time": "2021-07-05T10:17:20.684Z"
   },
   {
    "duration": 388,
    "start_time": "2021-07-05T10:17:20.773Z"
   },
   {
    "duration": 4,
    "start_time": "2021-07-05T10:17:21.163Z"
   },
   {
    "duration": 630,
    "start_time": "2021-07-05T10:17:21.168Z"
   },
   {
    "duration": 84700,
    "start_time": "2021-07-05T10:15:57.101Z"
   },
   {
    "duration": 7,
    "start_time": "2021-07-05T10:21:31.325Z"
   },
   {
    "duration": 4,
    "start_time": "2021-07-05T10:21:32.875Z"
   },
   {
    "duration": 447,
    "start_time": "2021-07-05T10:21:33.323Z"
   },
   {
    "duration": 119515,
    "start_time": "2021-07-05T10:21:59.674Z"
   },
   {
    "duration": 243,
    "start_time": "2021-07-05T10:28:19.501Z"
   },
   {
    "duration": 16519,
    "start_time": "2021-07-05T10:28:50.555Z"
   },
   {
    "duration": 156177,
    "start_time": "2021-07-05T10:29:08.709Z"
   },
   {
    "duration": 227,
    "start_time": "2021-07-05T10:43:06.111Z"
   },
   {
    "duration": 5,
    "start_time": "2021-07-05T11:18:27.886Z"
   },
   {
    "duration": 18606,
    "start_time": "2021-07-05T11:18:51.985Z"
   },
   {
    "duration": 5421,
    "start_time": "2021-07-05T11:20:05.343Z"
   },
   {
    "duration": 18200,
    "start_time": "2021-07-05T11:20:15.291Z"
   },
   {
    "duration": 95,
    "start_time": "2021-07-05T11:20:33.493Z"
   },
   {
    "duration": 5,
    "start_time": "2021-07-05T11:23:57.296Z"
   },
   {
    "duration": 17998,
    "start_time": "2021-07-05T11:24:42.796Z"
   },
   {
    "duration": 4,
    "start_time": "2021-07-05T11:25:40.883Z"
   },
   {
    "duration": 6,
    "start_time": "2021-07-05T11:25:46.161Z"
   },
   {
    "duration": 18736,
    "start_time": "2021-07-05T11:26:16.370Z"
   },
   {
    "duration": 18555,
    "start_time": "2021-07-05T11:26:56.535Z"
   },
   {
    "duration": 95,
    "start_time": "2021-07-05T11:27:15.093Z"
   },
   {
    "duration": 4,
    "start_time": "2021-07-05T11:28:22.302Z"
   },
   {
    "duration": 5079,
    "start_time": "2021-07-05T11:28:32.149Z"
   },
   {
    "duration": 5,
    "start_time": "2021-07-05T11:28:41.559Z"
   },
   {
    "duration": 6,
    "start_time": "2021-07-05T11:28:43.615Z"
   },
   {
    "duration": 5287,
    "start_time": "2021-07-05T11:29:39.282Z"
   },
   {
    "duration": 174,
    "start_time": "2021-07-05T11:29:44.571Z"
   },
   {
    "duration": 5170,
    "start_time": "2021-07-05T11:29:57.734Z"
   },
   {
    "duration": 5,
    "start_time": "2021-07-05T11:30:36.543Z"
   },
   {
    "duration": 5041,
    "start_time": "2021-07-05T11:30:40.905Z"
   },
   {
    "duration": 181,
    "start_time": "2021-07-05T11:30:45.948Z"
   },
   {
    "duration": 19063,
    "start_time": "2021-07-05T11:31:01.024Z"
   },
   {
    "duration": 176119,
    "start_time": "2021-07-05T11:31:20.089Z"
   },
   {
    "duration": 296,
    "start_time": "2021-07-05T11:34:16.211Z"
   },
   {
    "duration": 178,
    "start_time": "2021-07-05T11:41:55.793Z"
   },
   {
    "duration": 243,
    "start_time": "2021-07-05T11:42:07.469Z"
   },
   {
    "duration": 16653,
    "start_time": "2021-07-05T11:42:10.243Z"
   },
   {
    "duration": 216,
    "start_time": "2021-07-05T11:42:26.898Z"
   },
   {
    "duration": 16527,
    "start_time": "2021-07-05T11:42:51.169Z"
   },
   {
    "duration": 187,
    "start_time": "2021-07-05T11:43:07.699Z"
   },
   {
    "duration": 7,
    "start_time": "2021-07-05T11:44:45.939Z"
   },
   {
    "duration": 5,
    "start_time": "2021-07-05T11:45:49.827Z"
   },
   {
    "duration": 55,
    "start_time": "2021-07-05T11:49:25.662Z"
   },
   {
    "duration": 8,
    "start_time": "2021-07-05T11:49:33.988Z"
   },
   {
    "duration": 11,
    "start_time": "2021-07-05T11:49:38.031Z"
   },
   {
    "duration": 11,
    "start_time": "2021-07-05T11:50:18.402Z"
   },
   {
    "duration": 10,
    "start_time": "2021-07-05T11:50:31.813Z"
   },
   {
    "duration": 6,
    "start_time": "2021-07-05T11:50:53.397Z"
   },
   {
    "duration": 13,
    "start_time": "2021-07-05T11:51:01.193Z"
   },
   {
    "duration": 12,
    "start_time": "2021-07-05T11:51:11.735Z"
   },
   {
    "duration": 194,
    "start_time": "2021-07-05T11:51:22.106Z"
   },
   {
    "duration": 11,
    "start_time": "2021-07-05T11:51:27.409Z"
   },
   {
    "duration": 10,
    "start_time": "2021-07-05T11:52:44.252Z"
   },
   {
    "duration": 191,
    "start_time": "2021-07-05T11:54:32.287Z"
   },
   {
    "duration": 14,
    "start_time": "2021-07-05T11:54:41.902Z"
   },
   {
    "duration": 10,
    "start_time": "2021-07-05T11:55:14.274Z"
   },
   {
    "duration": 65,
    "start_time": "2021-07-05T11:55:23.734Z"
   },
   {
    "duration": 171,
    "start_time": "2021-07-05T11:55:29.756Z"
   },
   {
    "duration": 11,
    "start_time": "2021-07-05T11:55:38.840Z"
   },
   {
    "duration": 12,
    "start_time": "2021-07-05T11:55:41.885Z"
   },
   {
    "duration": 12,
    "start_time": "2021-07-05T11:55:55.194Z"
   },
   {
    "duration": 13,
    "start_time": "2021-07-05T11:56:01.405Z"
   },
   {
    "duration": 15,
    "start_time": "2021-07-05T11:56:26.272Z"
   },
   {
    "duration": 11,
    "start_time": "2021-07-05T11:57:22.099Z"
   },
   {
    "duration": 15,
    "start_time": "2021-07-05T11:57:33.362Z"
   },
   {
    "duration": 228,
    "start_time": "2021-07-05T11:57:47.209Z"
   },
   {
    "duration": 186,
    "start_time": "2021-07-05T11:57:54.376Z"
   },
   {
    "duration": 194,
    "start_time": "2021-07-05T11:58:24.377Z"
   },
   {
    "duration": 18610,
    "start_time": "2021-07-05T11:58:32.490Z"
   },
   {
    "duration": 185,
    "start_time": "2021-07-05T11:58:51.103Z"
   },
   {
    "duration": 7,
    "start_time": "2021-07-05T11:58:51.290Z"
   },
   {
    "duration": 12,
    "start_time": "2021-07-05T11:59:11.149Z"
   },
   {
    "duration": 192,
    "start_time": "2021-07-05T11:59:55.556Z"
   },
   {
    "duration": 186,
    "start_time": "2021-07-05T12:00:12.536Z"
   },
   {
    "duration": 16,
    "start_time": "2021-07-05T12:00:19.415Z"
   },
   {
    "duration": 18845,
    "start_time": "2021-07-05T12:01:37.148Z"
   },
   {
    "duration": 197,
    "start_time": "2021-07-05T12:01:55.996Z"
   },
   {
    "duration": 8,
    "start_time": "2021-07-05T12:01:56.195Z"
   },
   {
    "duration": 16629,
    "start_time": "2021-07-05T12:03:24.165Z"
   },
   {
    "duration": 190,
    "start_time": "2021-07-05T12:03:40.797Z"
   },
   {
    "duration": 200,
    "start_time": "2021-07-05T12:04:29.421Z"
   },
   {
    "duration": 1864,
    "start_time": "2021-07-05T12:04:54.691Z"
   },
   {
    "duration": 18533,
    "start_time": "2021-07-05T12:05:13.860Z"
   },
   {
    "duration": 195,
    "start_time": "2021-07-05T12:05:32.395Z"
   },
   {
    "duration": 207,
    "start_time": "2021-07-05T12:05:32.593Z"
   },
   {
    "duration": 84752,
    "start_time": "2021-07-05T12:04:08.050Z"
   },
   {
    "duration": 9,
    "start_time": "2021-07-05T12:05:46.740Z"
   },
   {
    "duration": 12,
    "start_time": "2021-07-05T12:05:59.644Z"
   },
   {
    "duration": 12,
    "start_time": "2021-07-05T12:06:11.453Z"
   },
   {
    "duration": 180,
    "start_time": "2021-07-05T12:07:08.562Z"
   },
   {
    "duration": 17,
    "start_time": "2021-07-05T12:07:43.887Z"
   },
   {
    "duration": 10,
    "start_time": "2021-07-05T12:07:52.660Z"
   },
   {
    "duration": 9,
    "start_time": "2021-07-05T12:09:45.541Z"
   },
   {
    "duration": 121,
    "start_time": "2021-07-05T12:12:18.504Z"
   },
   {
    "duration": 55,
    "start_time": "2021-07-05T12:13:38.249Z"
   },
   {
    "duration": 191,
    "start_time": "2021-07-05T12:13:54.453Z"
   },
   {
    "duration": 19,
    "start_time": "2021-07-05T12:16:24.685Z"
   },
   {
    "duration": 8,
    "start_time": "2021-07-05T12:16:41.973Z"
   },
   {
    "duration": 26,
    "start_time": "2021-07-05T12:17:05.448Z"
   },
   {
    "duration": 208,
    "start_time": "2021-07-05T12:17:26.455Z"
   },
   {
    "duration": 25,
    "start_time": "2021-07-05T12:17:38.301Z"
   },
   {
    "duration": 22,
    "start_time": "2021-07-05T12:17:46.299Z"
   },
   {
    "duration": 21,
    "start_time": "2021-07-05T12:17:49.367Z"
   },
   {
    "duration": 22,
    "start_time": "2021-07-05T12:18:58.532Z"
   },
   {
    "duration": 16,
    "start_time": "2021-07-05T12:29:49.430Z"
   },
   {
    "duration": 181,
    "start_time": "2021-07-05T12:30:11.365Z"
   },
   {
    "duration": 15,
    "start_time": "2021-07-05T12:31:26.068Z"
   },
   {
    "duration": 184,
    "start_time": "2021-07-05T12:33:07.209Z"
   },
   {
    "duration": 185,
    "start_time": "2021-07-05T12:33:27.591Z"
   },
   {
    "duration": 32,
    "start_time": "2021-07-05T12:34:13.854Z"
   },
   {
    "duration": 8,
    "start_time": "2021-07-05T12:34:29.816Z"
   },
   {
    "duration": 3,
    "start_time": "2021-07-05T12:35:26.048Z"
   },
   {
    "duration": 20,
    "start_time": "2021-07-05T12:35:34.347Z"
   },
   {
    "duration": 192,
    "start_time": "2021-07-05T12:36:50.103Z"
   },
   {
    "duration": 74,
    "start_time": "2021-07-05T12:37:20.435Z"
   },
   {
    "duration": 16,
    "start_time": "2021-07-05T12:38:26.001Z"
   },
   {
    "duration": 58,
    "start_time": "2021-07-05T12:41:39.679Z"
   },
   {
    "duration": 516,
    "start_time": "2021-07-05T12:48:51.842Z"
   },
   {
    "duration": 496,
    "start_time": "2021-07-05T12:49:06.927Z"
   },
   {
    "duration": 1856,
    "start_time": "2021-07-05T12:50:02.909Z"
   },
   {
    "duration": 13,
    "start_time": "2021-07-05T12:50:12.319Z"
   },
   {
    "duration": 58,
    "start_time": "2021-07-05T12:50:19.176Z"
   },
   {
    "duration": 14,
    "start_time": "2021-07-05T12:50:22.907Z"
   },
   {
    "duration": 66,
    "start_time": "2021-07-05T12:53:02.358Z"
   },
   {
    "duration": 176,
    "start_time": "2021-07-05T12:53:13.729Z"
   },
   {
    "duration": 186,
    "start_time": "2021-07-05T12:53:29.165Z"
   },
   {
    "duration": 4,
    "start_time": "2021-07-05T12:53:42.817Z"
   },
   {
    "duration": 178,
    "start_time": "2021-07-05T12:53:49.453Z"
   },
   {
    "duration": 4,
    "start_time": "2021-07-05T12:54:00.197Z"
   },
   {
    "duration": 181,
    "start_time": "2021-07-05T12:54:49.679Z"
   },
   {
    "duration": 175,
    "start_time": "2021-07-05T12:55:32.286Z"
   },
   {
    "duration": 5,
    "start_time": "2021-07-05T12:56:07.505Z"
   },
   {
    "duration": 189,
    "start_time": "2021-07-05T12:56:19.694Z"
   },
   {
    "duration": 199,
    "start_time": "2021-07-05T12:56:45.634Z"
   },
   {
    "duration": 3,
    "start_time": "2021-07-05T12:56:54.510Z"
   },
   {
    "duration": 4,
    "start_time": "2021-07-05T12:57:01.284Z"
   },
   {
    "duration": 65,
    "start_time": "2021-07-05T13:00:23.698Z"
   },
   {
    "duration": 47,
    "start_time": "2021-07-05T13:00:29.483Z"
   },
   {
    "duration": 63,
    "start_time": "2021-07-05T13:01:56.257Z"
   },
   {
    "duration": 51,
    "start_time": "2021-07-05T13:02:22.589Z"
   },
   {
    "duration": 52,
    "start_time": "2021-07-05T13:03:47.973Z"
   },
   {
    "duration": 50,
    "start_time": "2021-07-05T13:35:42.045Z"
   },
   {
    "duration": 45,
    "start_time": "2021-07-05T13:35:50.114Z"
   },
   {
    "duration": 3,
    "start_time": "2021-07-05T13:37:47.841Z"
   },
   {
    "duration": 7,
    "start_time": "2021-07-05T13:37:59.180Z"
   },
   {
    "duration": 8,
    "start_time": "2021-07-05T13:38:28.324Z"
   },
   {
    "duration": 5,
    "start_time": "2021-07-05T13:40:00.130Z"
   },
   {
    "duration": 998,
    "start_time": "2021-07-05T13:40:46.720Z"
   },
   {
    "duration": 178,
    "start_time": "2021-07-05T13:41:14.273Z"
   },
   {
    "duration": 10,
    "start_time": "2021-07-05T13:41:20.278Z"
   },
   {
    "duration": 6,
    "start_time": "2021-07-05T13:41:22.144Z"
   },
   {
    "duration": 54,
    "start_time": "2021-07-05T13:41:26.303Z"
   },
   {
    "duration": 7,
    "start_time": "2021-07-05T13:41:27.656Z"
   },
   {
    "duration": 6,
    "start_time": "2021-07-05T13:41:28.376Z"
   },
   {
    "duration": 790,
    "start_time": "2021-07-05T13:42:04.798Z"
   },
   {
    "duration": 5,
    "start_time": "2021-07-05T13:42:15.202Z"
   },
   {
    "duration": 191,
    "start_time": "2021-07-05T13:42:26.066Z"
   },
   {
    "duration": 8,
    "start_time": "2021-07-05T13:42:30.768Z"
   },
   {
    "duration": 5,
    "start_time": "2021-07-05T13:42:41.389Z"
   },
   {
    "duration": 184,
    "start_time": "2021-07-05T13:44:51.704Z"
   },
   {
    "duration": 1019,
    "start_time": "2021-07-05T13:45:57.068Z"
   },
   {
    "duration": 5,
    "start_time": "2021-07-05T13:46:07.450Z"
   },
   {
    "duration": 17,
    "start_time": "2021-07-05T13:46:11.441Z"
   },
   {
    "duration": 18,
    "start_time": "2021-07-05T13:46:28.215Z"
   },
   {
    "duration": 181,
    "start_time": "2021-07-05T13:46:34.587Z"
   },
   {
    "duration": 177,
    "start_time": "2021-07-05T13:46:39.748Z"
   },
   {
    "duration": 5,
    "start_time": "2021-07-05T13:46:50.721Z"
   },
   {
    "duration": 177,
    "start_time": "2021-07-05T13:47:28.033Z"
   },
   {
    "duration": 177,
    "start_time": "2021-07-05T13:49:46.087Z"
   },
   {
    "duration": 4,
    "start_time": "2021-07-05T13:50:04.838Z"
   },
   {
    "duration": 4,
    "start_time": "2021-07-05T13:50:10.746Z"
   },
   {
    "duration": 34,
    "start_time": "2021-07-05T13:50:55.811Z"
   },
   {
    "duration": 21,
    "start_time": "2021-07-05T13:51:21.291Z"
   },
   {
    "duration": 29,
    "start_time": "2021-07-05T13:51:24.430Z"
   },
   {
    "duration": 6,
    "start_time": "2021-07-05T13:51:52.650Z"
   },
   {
    "duration": 17,
    "start_time": "2021-07-05T13:52:03.365Z"
   },
   {
    "duration": 11,
    "start_time": "2021-07-05T13:52:26.744Z"
   },
   {
    "duration": 25,
    "start_time": "2021-07-05T13:52:57.157Z"
   },
   {
    "duration": 5,
    "start_time": "2021-07-05T13:53:26.279Z"
   },
   {
    "duration": 16,
    "start_time": "2021-07-05T13:55:03.319Z"
   },
   {
    "duration": 245,
    "start_time": "2021-07-05T13:55:45.655Z"
   },
   {
    "duration": 11,
    "start_time": "2021-07-05T13:55:47.791Z"
   },
   {
    "duration": 4388,
    "start_time": "2021-07-05T13:55:48.380Z"
   },
   {
    "duration": 42,
    "start_time": "2021-07-05T13:56:17.916Z"
   },
   {
    "duration": 6,
    "start_time": "2021-07-05T13:56:19.212Z"
   },
   {
    "duration": 7,
    "start_time": "2021-07-05T13:56:19.692Z"
   },
   {
    "duration": 7,
    "start_time": "2021-07-05T13:56:22.792Z"
   },
   {
    "duration": 524,
    "start_time": "2021-07-05T13:56:25.187Z"
   },
   {
    "duration": 57,
    "start_time": "2021-07-05T13:56:25.835Z"
   },
   {
    "duration": 12,
    "start_time": "2021-07-05T13:56:26.316Z"
   },
   {
    "duration": 45,
    "start_time": "2021-07-05T13:56:32.346Z"
   },
   {
    "duration": 8,
    "start_time": "2021-07-05T13:56:32.770Z"
   },
   {
    "duration": 6,
    "start_time": "2021-07-05T13:56:32.976Z"
   },
   {
    "duration": 5,
    "start_time": "2021-07-05T13:56:33.160Z"
   },
   {
    "duration": 971,
    "start_time": "2021-07-05T13:56:33.334Z"
   },
   {
    "duration": 8,
    "start_time": "2021-07-05T13:56:34.386Z"
   },
   {
    "duration": 44,
    "start_time": "2021-07-05T13:56:36.648Z"
   },
   {
    "duration": 4,
    "start_time": "2021-07-05T14:06:12.509Z"
   },
   {
    "duration": 5,
    "start_time": "2021-07-05T14:06:22.011Z"
   },
   {
    "duration": 4,
    "start_time": "2021-07-05T14:06:30.943Z"
   },
   {
    "duration": 6,
    "start_time": "2021-07-05T14:06:34.882Z"
   },
   {
    "duration": 546,
    "start_time": "2021-07-05T14:08:27.640Z"
   },
   {
    "duration": 14,
    "start_time": "2021-07-05T14:08:36.660Z"
   },
   {
    "duration": 5,
    "start_time": "2021-07-05T14:08:45.254Z"
   },
   {
    "duration": 15,
    "start_time": "2021-07-05T14:08:52.637Z"
   },
   {
    "duration": 1110,
    "start_time": "2021-07-05T14:09:08.529Z"
   },
   {
    "duration": 76,
    "start_time": "2021-07-05T14:09:45.479Z"
   },
   {
    "duration": 1413,
    "start_time": "2021-07-05T14:10:03.214Z"
   },
   {
    "duration": 9986,
    "start_time": "2021-07-05T14:10:16.976Z"
   },
   {
    "duration": 982,
    "start_time": "2021-07-05T14:10:37.938Z"
   },
   {
    "duration": 872,
    "start_time": "2021-07-05T14:13:09.535Z"
   },
   {
    "duration": 649,
    "start_time": "2021-07-05T14:13:18.737Z"
   },
   {
    "duration": 958,
    "start_time": "2021-07-05T14:13:24.059Z"
   },
   {
    "duration": 219,
    "start_time": "2021-07-05T14:14:18.503Z"
   },
   {
    "duration": 11,
    "start_time": "2021-07-05T14:16:51.793Z"
   },
   {
    "duration": 14,
    "start_time": "2021-07-05T14:17:07.679Z"
   },
   {
    "duration": 1039,
    "start_time": "2021-07-05T14:17:27.965Z"
   },
   {
    "duration": 18,
    "start_time": "2021-07-05T14:17:45.663Z"
   },
   {
    "duration": 6,
    "start_time": "2021-07-05T14:34:53.262Z"
   },
   {
    "duration": 11,
    "start_time": "2021-07-05T14:35:16.432Z"
   },
   {
    "duration": 4,
    "start_time": "2021-07-05T14:36:14.646Z"
   },
   {
    "duration": 191,
    "start_time": "2021-07-05T14:36:31.014Z"
   },
   {
    "duration": 6,
    "start_time": "2021-07-05T14:36:37.007Z"
   },
   {
    "duration": 6,
    "start_time": "2021-07-05T14:36:52.925Z"
   },
   {
    "duration": 4,
    "start_time": "2021-07-05T14:37:01.563Z"
   },
   {
    "duration": 58,
    "start_time": "2021-07-05T14:41:38.416Z"
   },
   {
    "duration": 5,
    "start_time": "2021-07-05T14:41:40.372Z"
   },
   {
    "duration": 55,
    "start_time": "2021-07-05T14:42:07.789Z"
   },
   {
    "duration": 6,
    "start_time": "2021-07-05T14:42:17.191Z"
   },
   {
    "duration": 363,
    "start_time": "2021-07-05T14:42:28.302Z"
   },
   {
    "duration": 3,
    "start_time": "2021-07-05T14:42:37.112Z"
   },
   {
    "duration": 5,
    "start_time": "2021-07-05T14:42:38.573Z"
   },
   {
    "duration": 3,
    "start_time": "2021-07-05T14:44:43.784Z"
   },
   {
    "duration": 3,
    "start_time": "2021-07-05T14:44:47.426Z"
   },
   {
    "duration": 3,
    "start_time": "2021-07-05T14:44:59.638Z"
   },
   {
    "duration": 3,
    "start_time": "2021-07-05T14:45:00.217Z"
   },
   {
    "duration": 4,
    "start_time": "2021-07-05T14:45:19.165Z"
   },
   {
    "duration": 2,
    "start_time": "2021-07-05T14:45:30.246Z"
   },
   {
    "duration": 3,
    "start_time": "2021-07-05T14:45:54.914Z"
   },
   {
    "duration": 3,
    "start_time": "2021-07-05T14:45:55.527Z"
   },
   {
    "duration": 3,
    "start_time": "2021-07-05T14:46:08.526Z"
   },
   {
    "duration": 3,
    "start_time": "2021-07-05T14:46:09.178Z"
   },
   {
    "duration": 3,
    "start_time": "2021-07-05T14:46:35.757Z"
   },
   {
    "duration": 4,
    "start_time": "2021-07-05T14:46:36.555Z"
   },
   {
    "duration": 3,
    "start_time": "2021-07-05T14:46:46.065Z"
   },
   {
    "duration": 4,
    "start_time": "2021-07-05T14:46:46.573Z"
   },
   {
    "duration": 12,
    "start_time": "2021-07-05T14:47:11.138Z"
   },
   {
    "duration": 2113,
    "start_time": "2021-07-05T14:50:05.473Z"
   },
   {
    "duration": 1195,
    "start_time": "2021-07-05T14:50:07.589Z"
   },
   {
    "duration": 3,
    "start_time": "2021-07-05T14:50:08.791Z"
   },
   {
    "duration": 9,
    "start_time": "2021-07-05T14:50:08.796Z"
   },
   {
    "duration": 1895,
    "start_time": "2021-07-05T14:50:08.807Z"
   },
   {
    "duration": 8,
    "start_time": "2021-07-05T14:50:10.705Z"
   },
   {
    "duration": 15,
    "start_time": "2021-07-05T14:50:10.717Z"
   },
   {
    "duration": 17,
    "start_time": "2021-07-05T14:50:10.735Z"
   },
   {
    "duration": 35,
    "start_time": "2021-07-05T14:50:10.754Z"
   },
   {
    "duration": 529,
    "start_time": "2021-07-05T14:50:10.791Z"
   },
   {
    "duration": 16,
    "start_time": "2021-07-05T14:50:11.322Z"
   },
   {
    "duration": 8,
    "start_time": "2021-07-05T14:50:11.339Z"
   },
   {
    "duration": 13,
    "start_time": "2021-07-05T14:50:11.349Z"
   },
   {
    "duration": 1175,
    "start_time": "2021-07-05T14:50:11.363Z"
   },
   {
    "duration": 6,
    "start_time": "2021-07-05T14:50:12.539Z"
   },
   {
    "duration": 7,
    "start_time": "2021-07-05T14:50:12.546Z"
   },
   {
    "duration": 32,
    "start_time": "2021-07-05T14:50:12.555Z"
   },
   {
    "duration": 8,
    "start_time": "2021-07-05T14:50:12.589Z"
   },
   {
    "duration": 17,
    "start_time": "2021-07-05T14:50:12.598Z"
   },
   {
    "duration": 7,
    "start_time": "2021-07-05T14:50:12.617Z"
   },
   {
    "duration": 9,
    "start_time": "2021-07-05T14:50:12.625Z"
   },
   {
    "duration": 12,
    "start_time": "2021-07-05T14:50:12.640Z"
   },
   {
    "duration": 36,
    "start_time": "2021-07-05T14:50:12.654Z"
   },
   {
    "duration": 6,
    "start_time": "2021-07-05T14:50:12.691Z"
   },
   {
    "duration": 8,
    "start_time": "2021-07-05T14:50:12.699Z"
   },
   {
    "duration": 12,
    "start_time": "2021-07-05T14:50:12.709Z"
   },
   {
    "duration": 7,
    "start_time": "2021-07-05T14:50:12.723Z"
   },
   {
    "duration": 3,
    "start_time": "2021-07-05T14:50:12.732Z"
   },
   {
    "duration": 1226,
    "start_time": "2021-07-05T14:50:12.737Z"
   },
   {
    "duration": 62,
    "start_time": "2021-07-05T14:50:13.966Z"
   },
   {
    "duration": 423,
    "start_time": "2021-07-05T14:50:14.030Z"
   },
   {
    "duration": 4,
    "start_time": "2021-07-05T14:50:14.456Z"
   },
   {
    "duration": 6,
    "start_time": "2021-07-05T14:50:14.462Z"
   },
   {
    "duration": 155,
    "start_time": "2021-07-05T14:50:14.469Z"
   },
   {
    "duration": 263,
    "start_time": "2021-07-05T14:50:14.627Z"
   },
   {
    "duration": 19304,
    "start_time": "2021-07-05T14:50:14.892Z"
   },
   {
    "duration": 195,
    "start_time": "2021-07-05T14:50:34.198Z"
   },
   {
    "duration": 458,
    "start_time": "2021-07-05T14:50:34.395Z"
   },
   {
    "duration": 84681,
    "start_time": "2021-07-05T14:49:10.174Z"
   },
   {
    "duration": 84669,
    "start_time": "2021-07-05T14:49:10.187Z"
   },
   {
    "duration": 84663,
    "start_time": "2021-07-05T14:49:10.194Z"
   },
   {
    "duration": 84656,
    "start_time": "2021-07-05T14:49:10.202Z"
   },
   {
    "duration": 84653,
    "start_time": "2021-07-05T14:49:10.206Z"
   },
   {
    "duration": 84643,
    "start_time": "2021-07-05T14:49:10.217Z"
   },
   {
    "duration": 84639,
    "start_time": "2021-07-05T14:49:10.222Z"
   },
   {
    "duration": 84634,
    "start_time": "2021-07-05T14:49:10.228Z"
   },
   {
    "duration": 84628,
    "start_time": "2021-07-05T14:49:10.235Z"
   },
   {
    "duration": 84625,
    "start_time": "2021-07-05T14:49:10.239Z"
   },
   {
    "duration": 84616,
    "start_time": "2021-07-05T14:49:10.248Z"
   },
   {
    "duration": 84614,
    "start_time": "2021-07-05T14:49:10.251Z"
   },
   {
    "duration": 84611,
    "start_time": "2021-07-05T14:49:10.255Z"
   },
   {
    "duration": 84599,
    "start_time": "2021-07-05T14:49:10.268Z"
   },
   {
    "duration": 84594,
    "start_time": "2021-07-05T14:49:10.273Z"
   },
   {
    "duration": 84586,
    "start_time": "2021-07-05T14:49:10.282Z"
   },
   {
    "duration": 84583,
    "start_time": "2021-07-05T14:49:10.286Z"
   },
   {
    "duration": 84580,
    "start_time": "2021-07-05T14:49:10.290Z"
   },
   {
    "duration": 3,
    "start_time": "2021-07-05T14:51:17.353Z"
   },
   {
    "duration": 2,
    "start_time": "2021-07-05T14:51:18.145Z"
   },
   {
    "duration": 12,
    "start_time": "2021-07-05T14:51:18.859Z"
   },
   {
    "duration": 21,
    "start_time": "2021-07-05T14:51:24.486Z"
   },
   {
    "duration": 7,
    "start_time": "2021-07-05T14:51:28.395Z"
   },
   {
    "duration": 14,
    "start_time": "2021-07-05T14:51:29.131Z"
   },
   {
    "duration": 22,
    "start_time": "2021-07-05T14:52:23.630Z"
   },
   {
    "duration": 7,
    "start_time": "2021-07-05T14:52:40.381Z"
   },
   {
    "duration": 7,
    "start_time": "2021-07-05T14:52:41.854Z"
   },
   {
    "duration": 574,
    "start_time": "2021-07-05T14:53:02.519Z"
   },
   {
    "duration": 7,
    "start_time": "2021-07-05T14:53:09.557Z"
   },
   {
    "duration": 15,
    "start_time": "2021-07-05T14:53:12.462Z"
   },
   {
    "duration": 19,
    "start_time": "2021-07-05T14:53:27.806Z"
   },
   {
    "duration": 6,
    "start_time": "2021-07-05T14:53:28.548Z"
   },
   {
    "duration": 7,
    "start_time": "2021-07-05T14:53:29.007Z"
   },
   {
    "duration": 4,
    "start_time": "2021-07-05T14:53:29.428Z"
   },
   {
    "duration": 645,
    "start_time": "2021-07-05T14:53:30.241Z"
   },
   {
    "duration": 951,
    "start_time": "2021-07-05T14:53:44.736Z"
   },
   {
    "duration": 6,
    "start_time": "2021-07-05T14:53:47.059Z"
   },
   {
    "duration": 23,
    "start_time": "2021-07-05T14:53:47.801Z"
   },
   {
    "duration": 13,
    "start_time": "2021-07-05T14:54:02.022Z"
   },
   {
    "duration": 19,
    "start_time": "2021-07-05T14:57:25.557Z"
   },
   {
    "duration": 7,
    "start_time": "2021-07-05T14:57:27.135Z"
   },
   {
    "duration": 4,
    "start_time": "2021-07-05T14:57:27.563Z"
   },
   {
    "duration": 940,
    "start_time": "2021-07-05T14:57:40.946Z"
   },
   {
    "duration": 7,
    "start_time": "2021-07-05T14:57:43.102Z"
   },
   {
    "duration": 17,
    "start_time": "2021-07-05T14:57:43.889Z"
   },
   {
    "duration": 531,
    "start_time": "2021-07-05T14:57:49.958Z"
   },
   {
    "duration": 6,
    "start_time": "2021-07-05T14:57:51.140Z"
   },
   {
    "duration": 18,
    "start_time": "2021-07-05T14:57:51.840Z"
   },
   {
    "duration": 631,
    "start_time": "2021-07-05T14:58:03.171Z"
   },
   {
    "duration": 7,
    "start_time": "2021-07-05T14:58:04.228Z"
   },
   {
    "duration": 19,
    "start_time": "2021-07-05T14:58:04.956Z"
   },
   {
    "duration": 229,
    "start_time": "2021-07-05T15:02:19.970Z"
   },
   {
    "duration": 206,
    "start_time": "2021-07-05T15:02:48.221Z"
   },
   {
    "duration": 210,
    "start_time": "2021-07-05T15:02:56.890Z"
   },
   {
    "duration": 12,
    "start_time": "2021-07-05T15:03:07.780Z"
   },
   {
    "duration": 12,
    "start_time": "2021-07-05T15:03:13.840Z"
   },
   {
    "duration": 818,
    "start_time": "2021-07-05T15:03:26.958Z"
   },
   {
    "duration": 14,
    "start_time": "2021-07-05T15:04:00.316Z"
   },
   {
    "duration": 2143,
    "start_time": "2021-07-05T15:04:07.870Z"
   },
   {
    "duration": 16794,
    "start_time": "2021-07-05T15:04:28.232Z"
   },
   {
    "duration": 2097,
    "start_time": "2021-07-05T15:05:06.589Z"
   },
   {
    "duration": 1861,
    "start_time": "2021-07-05T15:06:28.695Z"
   },
   {
    "duration": 29558,
    "start_time": "2021-07-05T15:06:36.777Z"
   },
   {
    "duration": 1870,
    "start_time": "2021-07-05T15:07:06.337Z"
   },
   {
    "duration": 1919,
    "start_time": "2021-07-05T15:07:27.113Z"
   },
   {
    "duration": 1075,
    "start_time": "2021-07-05T15:07:29.775Z"
   },
   {
    "duration": 773,
    "start_time": "2021-07-05T15:07:45.944Z"
   },
   {
    "duration": 771,
    "start_time": "2021-07-05T15:08:38.443Z"
   },
   {
    "duration": 732,
    "start_time": "2021-07-05T15:09:10.407Z"
   },
   {
    "duration": 200,
    "start_time": "2021-07-05T15:10:45.929Z"
   },
   {
    "duration": 198,
    "start_time": "2021-07-05T15:10:55.576Z"
   },
   {
    "duration": 237,
    "start_time": "2021-07-05T15:12:22.403Z"
   },
   {
    "duration": 203,
    "start_time": "2021-07-05T15:12:50.504Z"
   },
   {
    "duration": 227,
    "start_time": "2021-07-05T15:13:34.995Z"
   },
   {
    "duration": 354,
    "start_time": "2021-07-05T15:14:07.271Z"
   },
   {
    "duration": 606,
    "start_time": "2021-07-05T15:14:39.394Z"
   },
   {
    "duration": 386,
    "start_time": "2021-07-05T15:15:15.651Z"
   },
   {
    "duration": 413,
    "start_time": "2021-07-05T15:15:23.320Z"
   },
   {
    "duration": 406,
    "start_time": "2021-07-05T15:16:21.167Z"
   },
   {
    "duration": 8,
    "start_time": "2021-07-05T15:17:15.287Z"
   },
   {
    "duration": 399,
    "start_time": "2021-07-05T15:18:36.125Z"
   },
   {
    "duration": 21,
    "start_time": "2021-07-05T15:19:39.426Z"
   },
   {
    "duration": 6,
    "start_time": "2021-07-05T15:21:31.514Z"
   },
   {
    "duration": 1671,
    "start_time": "2021-07-05T15:21:35.207Z"
   },
   {
    "duration": 1436,
    "start_time": "2021-07-05T15:21:39.044Z"
   },
   {
    "duration": 352,
    "start_time": "2021-07-05T15:21:42.369Z"
   },
   {
    "duration": 358,
    "start_time": "2021-07-05T15:21:45.051Z"
   },
   {
    "duration": 349,
    "start_time": "2021-07-05T15:22:17.200Z"
   },
   {
    "duration": 1750,
    "start_time": "2021-07-05T15:23:48.327Z"
   },
   {
    "duration": 1685,
    "start_time": "2021-07-05T15:24:00.194Z"
   },
   {
    "duration": 230,
    "start_time": "2021-07-05T15:37:49.935Z"
   },
   {
    "duration": 13484,
    "start_time": "2021-07-05T18:06:03.257Z"
   },
   {
    "duration": 12798,
    "start_time": "2021-07-05T18:08:33.083Z"
   },
   {
    "duration": 1094,
    "start_time": "2021-07-05T18:15:20.298Z"
   },
   {
    "duration": 2331,
    "start_time": "2021-07-05T18:19:10.542Z"
   },
   {
    "duration": 19,
    "start_time": "2021-07-05T18:26:56.530Z"
   },
   {
    "duration": 10,
    "start_time": "2021-07-05T18:31:31.393Z"
   },
   {
    "duration": 1767,
    "start_time": "2021-07-05T18:32:01.724Z"
   },
   {
    "duration": 1736,
    "start_time": "2021-07-05T18:32:19.626Z"
   },
   {
    "duration": 10,
    "start_time": "2021-07-05T18:32:42.065Z"
   },
   {
    "duration": 5,
    "start_time": "2021-07-05T18:33:35.930Z"
   },
   {
    "duration": 10,
    "start_time": "2021-07-05T18:38:51.632Z"
   },
   {
    "duration": 4802,
    "start_time": "2021-07-05T18:39:13.719Z"
   },
   {
    "duration": 7,
    "start_time": "2021-07-05T18:39:32.231Z"
   },
   {
    "duration": 5,
    "start_time": "2021-07-05T18:39:36.528Z"
   },
   {
    "duration": 6,
    "start_time": "2021-07-05T18:39:44.838Z"
   },
   {
    "duration": 2137,
    "start_time": "2021-07-05T18:41:24.611Z"
   },
   {
    "duration": 16,
    "start_time": "2021-07-05T18:41:38.250Z"
   },
   {
    "duration": 20,
    "start_time": "2021-07-05T18:43:47.662Z"
   },
   {
    "duration": 23,
    "start_time": "2021-07-05T18:43:59.510Z"
   },
   {
    "duration": 22,
    "start_time": "2021-07-05T18:44:03.708Z"
   },
   {
    "duration": 16,
    "start_time": "2021-07-05T18:46:33.175Z"
   },
   {
    "duration": 18,
    "start_time": "2021-07-05T18:46:38.314Z"
   },
   {
    "duration": 414,
    "start_time": "2021-07-05T18:48:30.201Z"
   },
   {
    "duration": 408,
    "start_time": "2021-07-05T18:48:47.662Z"
   },
   {
    "duration": 12,
    "start_time": "2021-07-05T18:49:47.160Z"
   },
   {
    "duration": 9,
    "start_time": "2021-07-05T18:49:55.450Z"
   },
   {
    "duration": 434,
    "start_time": "2021-07-05T18:50:19.809Z"
   },
   {
    "duration": 435,
    "start_time": "2021-07-05T18:50:41.323Z"
   },
   {
    "duration": 516,
    "start_time": "2021-07-05T18:51:12.694Z"
   },
   {
    "duration": 11,
    "start_time": "2021-07-05T18:52:24.123Z"
   },
   {
    "duration": 430,
    "start_time": "2021-07-05T18:53:10.849Z"
   },
   {
    "duration": 142,
    "start_time": "2021-07-05T18:53:27.828Z"
   },
   {
    "duration": 165,
    "start_time": "2021-07-05T18:53:46.136Z"
   },
   {
    "duration": 10,
    "start_time": "2021-07-05T18:58:50.988Z"
   },
   {
    "duration": 209,
    "start_time": "2021-07-05T19:01:16.409Z"
   },
   {
    "duration": 361,
    "start_time": "2021-07-05T19:01:43.771Z"
   },
   {
    "duration": 299,
    "start_time": "2021-07-05T19:03:07.066Z"
   },
   {
    "duration": 227,
    "start_time": "2021-07-05T19:03:45.496Z"
   },
   {
    "duration": 179,
    "start_time": "2021-07-05T19:04:44.650Z"
   },
   {
    "duration": 11,
    "start_time": "2021-07-05T19:05:50.533Z"
   },
   {
    "duration": 8,
    "start_time": "2021-07-05T19:15:48.644Z"
   },
   {
    "duration": 187,
    "start_time": "2021-07-05T19:16:08.055Z"
   },
   {
    "duration": 208,
    "start_time": "2021-07-05T19:18:11.221Z"
   },
   {
    "duration": 201,
    "start_time": "2021-07-05T19:18:21.272Z"
   },
   {
    "duration": 207,
    "start_time": "2021-07-05T19:18:42.858Z"
   },
   {
    "duration": 284,
    "start_time": "2021-07-05T19:19:38.385Z"
   },
   {
    "duration": 7,
    "start_time": "2021-07-05T19:20:30.755Z"
   },
   {
    "duration": 1142,
    "start_time": "2021-07-05T19:20:32.793Z"
   },
   {
    "duration": 2176,
    "start_time": "2021-07-05T19:20:39.104Z"
   },
   {
    "duration": 1325,
    "start_time": "2021-07-05T19:20:46.823Z"
   },
   {
    "duration": 8,
    "start_time": "2021-07-05T19:21:54.578Z"
   },
   {
    "duration": 1325,
    "start_time": "2021-07-05T19:21:55.137Z"
   },
   {
    "duration": 1400,
    "start_time": "2021-07-05T19:22:11.824Z"
   },
   {
    "duration": 8,
    "start_time": "2021-07-05T19:22:26.084Z"
   },
   {
    "duration": 20,
    "start_time": "2021-07-05T19:22:29.303Z"
   },
   {
    "duration": 7,
    "start_time": "2021-07-05T19:22:31.970Z"
   },
   {
    "duration": 1533,
    "start_time": "2021-07-05T19:22:33.625Z"
   },
   {
    "duration": 1507,
    "start_time": "2021-07-05T19:22:41.664Z"
   },
   {
    "duration": 1321,
    "start_time": "2021-07-05T19:27:26.001Z"
   },
   {
    "duration": 58,
    "start_time": "2021-07-05T19:35:37.352Z"
   },
   {
    "duration": 177,
    "start_time": "2021-07-05T19:35:46.104Z"
   },
   {
    "duration": 5,
    "start_time": "2021-07-05T19:36:02.626Z"
   },
   {
    "duration": 4,
    "start_time": "2021-07-05T19:36:30.940Z"
   },
   {
    "duration": 841,
    "start_time": "2021-07-05T19:36:52.763Z"
   },
   {
    "duration": 512,
    "start_time": "2021-07-05T19:37:04.713Z"
   },
   {
    "duration": 700,
    "start_time": "2021-07-05T19:37:09.397Z"
   },
   {
    "duration": 1197,
    "start_time": "2021-07-05T19:37:43.384Z"
   },
   {
    "duration": 1430,
    "start_time": "2021-07-05T19:39:45.410Z"
   },
   {
    "duration": 1358,
    "start_time": "2021-07-05T19:39:52.350Z"
   },
   {
    "duration": 842,
    "start_time": "2021-07-05T19:40:05.975Z"
   },
   {
    "duration": 1080,
    "start_time": "2021-07-05T19:40:13.943Z"
   },
   {
    "duration": 813,
    "start_time": "2021-07-05T19:40:49.467Z"
   },
   {
    "duration": 2499,
    "start_time": "2021-07-05T19:41:06.717Z"
   },
   {
    "duration": 1216,
    "start_time": "2021-07-05T19:43:23.426Z"
   },
   {
    "duration": 835,
    "start_time": "2021-07-05T19:45:17.850Z"
   },
   {
    "duration": 849,
    "start_time": "2021-07-05T19:46:11.166Z"
   },
   {
    "duration": 1061,
    "start_time": "2021-07-05T19:47:00.267Z"
   },
   {
    "duration": 855,
    "start_time": "2021-07-05T19:47:08.999Z"
   },
   {
    "duration": 5693,
    "start_time": "2021-07-05T19:47:50.145Z"
   },
   {
    "duration": 1056,
    "start_time": "2021-07-05T19:48:05.571Z"
   },
   {
    "duration": 1642,
    "start_time": "2021-07-05T19:48:15.783Z"
   },
   {
    "duration": 1211,
    "start_time": "2021-07-05T19:48:22.774Z"
   },
   {
    "duration": 1308,
    "start_time": "2021-07-05T19:48:45.235Z"
   },
   {
    "duration": 1194,
    "start_time": "2021-07-05T19:50:09.199Z"
   },
   {
    "duration": 1451,
    "start_time": "2021-07-05T19:52:27.017Z"
   },
   {
    "duration": 199,
    "start_time": "2021-07-05T19:56:30.899Z"
   },
   {
    "duration": 5,
    "start_time": "2021-07-05T19:56:48.288Z"
   },
   {
    "duration": 3,
    "start_time": "2021-07-05T19:58:39.185Z"
   },
   {
    "duration": 1615,
    "start_time": "2021-07-05T19:58:53.915Z"
   },
   {
    "duration": 1160,
    "start_time": "2021-07-05T19:59:03.780Z"
   },
   {
    "duration": 201,
    "start_time": "2021-07-05T19:59:07.282Z"
   },
   {
    "duration": 1546,
    "start_time": "2021-07-05T19:59:16.840Z"
   },
   {
    "duration": 195,
    "start_time": "2021-07-05T19:59:51.308Z"
   },
   {
    "duration": 7,
    "start_time": "2021-07-05T20:00:04.752Z"
   },
   {
    "duration": 1420,
    "start_time": "2021-07-05T20:00:09.008Z"
   },
   {
    "duration": 5,
    "start_time": "2021-07-05T20:00:14.996Z"
   },
   {
    "duration": 1130,
    "start_time": "2021-07-05T20:00:17.779Z"
   },
   {
    "duration": 54,
    "start_time": "2021-07-05T20:00:42.590Z"
   },
   {
    "duration": 202,
    "start_time": "2021-07-05T20:00:48.652Z"
   },
   {
    "duration": 1585,
    "start_time": "2021-07-05T20:00:59.566Z"
   },
   {
    "duration": 186,
    "start_time": "2021-07-05T20:01:09.573Z"
   },
   {
    "duration": 4,
    "start_time": "2021-07-05T20:01:25.437Z"
   },
   {
    "duration": 4,
    "start_time": "2021-07-05T20:01:27.816Z"
   },
   {
    "duration": 184,
    "start_time": "2021-07-05T20:02:26.351Z"
   },
   {
    "duration": 6,
    "start_time": "2021-07-05T20:02:38.352Z"
   },
   {
    "duration": 6,
    "start_time": "2021-07-05T20:02:43.914Z"
   },
   {
    "duration": 6,
    "start_time": "2021-07-05T20:02:58.715Z"
   },
   {
    "duration": 7,
    "start_time": "2021-07-05T20:03:24.051Z"
   },
   {
    "duration": 1146,
    "start_time": "2021-07-05T20:03:31.895Z"
   },
   {
    "duration": 1400,
    "start_time": "2021-07-05T20:03:37.812Z"
   },
   {
    "duration": 420,
    "start_time": "2021-07-06T07:15:00.250Z"
   },
   {
    "duration": 5628,
    "start_time": "2021-07-06T07:15:05.806Z"
   },
   {
    "duration": 1554,
    "start_time": "2021-07-06T07:15:11.437Z"
   },
   {
    "duration": 4,
    "start_time": "2021-07-06T07:15:12.994Z"
   },
   {
    "duration": 10,
    "start_time": "2021-07-06T07:15:13.000Z"
   },
   {
    "duration": 2402,
    "start_time": "2021-07-06T07:15:13.012Z"
   },
   {
    "duration": 10,
    "start_time": "2021-07-06T07:15:15.416Z"
   },
   {
    "duration": 21,
    "start_time": "2021-07-06T07:15:15.428Z"
   },
   {
    "duration": 28,
    "start_time": "2021-07-06T07:15:15.453Z"
   },
   {
    "duration": 15,
    "start_time": "2021-07-06T07:15:15.484Z"
   },
   {
    "duration": 953,
    "start_time": "2021-07-06T07:15:15.501Z"
   },
   {
    "duration": 28,
    "start_time": "2021-07-06T07:15:16.457Z"
   },
   {
    "duration": 12,
    "start_time": "2021-07-06T07:15:16.487Z"
   },
   {
    "duration": 8,
    "start_time": "2021-07-06T07:15:16.502Z"
   },
   {
    "duration": 1976,
    "start_time": "2021-07-06T07:15:16.513Z"
   },
   {
    "duration": 6,
    "start_time": "2021-07-06T07:15:18.491Z"
   },
   {
    "duration": 9,
    "start_time": "2021-07-06T07:15:18.499Z"
   },
   {
    "duration": 21,
    "start_time": "2021-07-06T07:15:18.511Z"
   },
   {
    "duration": 35,
    "start_time": "2021-07-06T07:15:18.534Z"
   },
   {
    "duration": 20,
    "start_time": "2021-07-06T07:15:18.572Z"
   },
   {
    "duration": 9,
    "start_time": "2021-07-06T07:15:18.594Z"
   },
   {
    "duration": 15,
    "start_time": "2021-07-06T07:15:18.605Z"
   },
   {
    "duration": 59,
    "start_time": "2021-07-06T07:15:18.623Z"
   },
   {
    "duration": 7,
    "start_time": "2021-07-06T07:15:18.688Z"
   },
   {
    "duration": 10,
    "start_time": "2021-07-06T07:15:18.698Z"
   },
   {
    "duration": 14,
    "start_time": "2021-07-06T07:15:18.711Z"
   },
   {
    "duration": 52,
    "start_time": "2021-07-06T07:15:18.727Z"
   },
   {
    "duration": 11,
    "start_time": "2021-07-06T07:15:18.781Z"
   },
   {
    "duration": 4,
    "start_time": "2021-07-06T07:15:18.795Z"
   },
   {
    "duration": 1975,
    "start_time": "2021-07-06T07:15:18.802Z"
   },
   {
    "duration": 71,
    "start_time": "2021-07-06T07:15:20.780Z"
   },
   {
    "duration": 728,
    "start_time": "2021-07-06T07:15:20.853Z"
   },
   {
    "duration": 6,
    "start_time": "2021-07-06T07:15:21.584Z"
   },
   {
    "duration": 8,
    "start_time": "2021-07-06T07:15:21.594Z"
   },
   {
    "duration": 223,
    "start_time": "2021-07-06T07:15:21.604Z"
   },
   {
    "duration": 403,
    "start_time": "2021-07-06T07:15:21.829Z"
   },
   {
    "duration": 23363,
    "start_time": "2021-07-06T07:15:22.235Z"
   },
   {
    "duration": 101,
    "start_time": "2021-07-06T07:15:45.673Z"
   },
   {
    "duration": 350,
    "start_time": "2021-07-06T07:15:45.777Z"
   },
   {
    "duration": 41,
    "start_time": "2021-07-06T07:15:46.129Z"
   },
   {
    "duration": 10,
    "start_time": "2021-07-06T07:15:46.173Z"
   },
   {
    "duration": 22,
    "start_time": "2021-07-06T07:15:46.186Z"
   },
   {
    "duration": 15,
    "start_time": "2021-07-06T07:15:46.211Z"
   },
   {
    "duration": 64,
    "start_time": "2021-07-06T07:15:46.228Z"
   },
   {
    "duration": 10,
    "start_time": "2021-07-06T07:15:46.294Z"
   },
   {
    "duration": 22,
    "start_time": "2021-07-06T07:15:46.306Z"
   },
   {
    "duration": 64,
    "start_time": "2021-07-06T07:15:46.330Z"
   },
   {
    "duration": 9,
    "start_time": "2021-07-06T07:15:46.396Z"
   },
   {
    "duration": 5,
    "start_time": "2021-07-06T07:15:46.407Z"
   },
   {
    "duration": 7,
    "start_time": "2021-07-06T07:15:46.414Z"
   },
   {
    "duration": 866,
    "start_time": "2021-07-06T07:15:46.423Z"
   },
   {
    "duration": 83,
    "start_time": "2021-07-06T07:15:47.291Z"
   },
   {
    "duration": 120,
    "start_time": "2021-07-06T07:15:47.378Z"
   },
   {
    "duration": 10,
    "start_time": "2021-07-06T07:15:47.501Z"
   },
   {
    "duration": 6020,
    "start_time": "2021-07-06T07:15:47.513Z"
   },
   {
    "duration": 36,
    "start_time": "2021-07-06T07:15:53.535Z"
   },
   {
    "duration": 2140,
    "start_time": "2021-07-06T07:15:53.574Z"
   },
   {
    "duration": 7,
    "start_time": "2021-07-06T07:15:55.716Z"
   },
   {
    "duration": 10,
    "start_time": "2021-07-06T07:15:55.726Z"
   },
   {
    "duration": 521,
    "start_time": "2021-07-06T07:15:55.738Z"
   },
   {
    "duration": 5,
    "start_time": "2021-07-06T08:56:03.946Z"
   },
   {
    "duration": 5381,
    "start_time": "2021-07-06T08:56:30.775Z"
   },
   {
    "duration": 5969,
    "start_time": "2021-07-06T08:58:00.823Z"
   },
   {
    "duration": 36,
    "start_time": "2021-07-06T08:58:52.638Z"
   },
   {
    "duration": 23,
    "start_time": "2021-07-06T09:06:08.279Z"
   },
   {
    "duration": 5,
    "start_time": "2021-07-06T09:06:36.739Z"
   },
   {
    "duration": 67,
    "start_time": "2021-07-06T09:07:01.638Z"
   },
   {
    "duration": 40,
    "start_time": "2021-07-06T09:07:20.406Z"
   },
   {
    "duration": 7,
    "start_time": "2021-07-06T09:08:03.982Z"
   },
   {
    "duration": 6,
    "start_time": "2021-07-06T09:08:16.111Z"
   },
   {
    "duration": 19,
    "start_time": "2021-07-06T09:08:27.676Z"
   },
   {
    "duration": 58,
    "start_time": "2021-07-06T09:08:33.535Z"
   },
   {
    "duration": 49,
    "start_time": "2021-07-06T09:09:06.771Z"
   },
   {
    "duration": 354,
    "start_time": "2021-07-06T09:10:07.086Z"
   },
   {
    "duration": 34,
    "start_time": "2021-07-06T09:10:14.533Z"
   },
   {
    "duration": 33,
    "start_time": "2021-07-06T09:10:23.975Z"
   },
   {
    "duration": 305,
    "start_time": "2021-07-06T09:17:27.142Z"
   },
   {
    "duration": 4,
    "start_time": "2021-07-06T09:17:28.733Z"
   },
   {
    "duration": 5,
    "start_time": "2021-07-06T09:17:29.144Z"
   },
   {
    "duration": 15,
    "start_time": "2021-07-06T09:19:08.666Z"
   },
   {
    "duration": 19,
    "start_time": "2021-07-06T09:19:54.825Z"
   },
   {
    "duration": 20,
    "start_time": "2021-07-06T09:23:10.691Z"
   },
   {
    "duration": 32,
    "start_time": "2021-07-06T09:23:32.875Z"
   },
   {
    "duration": 33,
    "start_time": "2021-07-06T09:24:30.057Z"
   },
   {
    "duration": 6,
    "start_time": "2021-07-06T09:28:27.485Z"
   },
   {
    "duration": 45,
    "start_time": "2021-07-06T09:28:28.149Z"
   },
   {
    "duration": 24,
    "start_time": "2021-07-06T09:28:30.788Z"
   },
   {
    "duration": 26,
    "start_time": "2021-07-06T09:29:23.447Z"
   },
   {
    "duration": 16,
    "start_time": "2021-07-06T09:29:45.472Z"
   },
   {
    "duration": 90473,
    "start_time": "2021-07-06T09:31:26.430Z"
   },
   {
    "duration": 14,
    "start_time": "2021-07-06T09:33:04.861Z"
   },
   {
    "duration": 19,
    "start_time": "2021-07-06T09:33:34.390Z"
   },
   {
    "duration": 14,
    "start_time": "2021-07-06T09:36:16.558Z"
   },
   {
    "duration": 15,
    "start_time": "2021-07-06T09:36:22.742Z"
   },
   {
    "duration": 5,
    "start_time": "2021-07-06T09:39:24.141Z"
   },
   {
    "duration": 22,
    "start_time": "2021-07-06T09:55:56.662Z"
   },
   {
    "duration": 19,
    "start_time": "2021-07-06T09:56:30.154Z"
   },
   {
    "duration": 24,
    "start_time": "2021-07-06T09:56:44.194Z"
   },
   {
    "duration": 42,
    "start_time": "2021-07-06T09:58:17.029Z"
   },
   {
    "duration": 56,
    "start_time": "2021-07-06T09:59:46.825Z"
   },
   {
    "duration": 59,
    "start_time": "2021-07-06T10:00:42.445Z"
   },
   {
    "duration": 473,
    "start_time": "2021-07-06T10:02:04.322Z"
   },
   {
    "duration": 386,
    "start_time": "2021-07-06T10:02:28.953Z"
   },
   {
    "duration": 26,
    "start_time": "2021-07-06T10:02:41.196Z"
   },
   {
    "duration": 439,
    "start_time": "2021-07-06T10:02:50.137Z"
   },
   {
    "duration": 19,
    "start_time": "2021-07-06T10:03:00.489Z"
   },
   {
    "duration": 395,
    "start_time": "2021-07-06T10:03:07.652Z"
   },
   {
    "duration": 380,
    "start_time": "2021-07-06T10:04:16.433Z"
   },
   {
    "duration": 393,
    "start_time": "2021-07-06T10:05:14.881Z"
   },
   {
    "duration": 10,
    "start_time": "2021-07-06T10:05:42.373Z"
   },
   {
    "duration": 414,
    "start_time": "2021-07-06T10:07:56.881Z"
   },
   {
    "duration": 26,
    "start_time": "2021-07-06T10:12:30.402Z"
   },
   {
    "duration": 691,
    "start_time": "2021-07-06T10:12:41.774Z"
   },
   {
    "duration": 4,
    "start_time": "2021-07-06T10:13:03.044Z"
   },
   {
    "duration": 34,
    "start_time": "2021-07-06T10:13:07.714Z"
   },
   {
    "duration": 12,
    "start_time": "2021-07-06T10:13:49.330Z"
   },
   {
    "duration": 15,
    "start_time": "2021-07-06T10:14:00.153Z"
   },
   {
    "duration": 11,
    "start_time": "2021-07-06T10:14:09.242Z"
   },
   {
    "duration": 12,
    "start_time": "2021-07-06T10:14:28.852Z"
   },
   {
    "duration": 14,
    "start_time": "2021-07-06T10:14:32.567Z"
   },
   {
    "duration": 11,
    "start_time": "2021-07-06T10:14:43.333Z"
   },
   {
    "duration": 14,
    "start_time": "2021-07-06T10:14:46.910Z"
   },
   {
    "duration": 28,
    "start_time": "2021-07-06T10:14:53.362Z"
   },
   {
    "duration": 479,
    "start_time": "2021-07-06T10:16:51.803Z"
   },
   {
    "duration": 382,
    "start_time": "2021-07-06T10:16:55.476Z"
   },
   {
    "duration": 16,
    "start_time": "2021-07-06T10:17:03.807Z"
   },
   {
    "duration": 49,
    "start_time": "2021-07-06T10:19:27.260Z"
   },
   {
    "duration": 393,
    "start_time": "2021-07-06T10:19:31.076Z"
   },
   {
    "duration": 527,
    "start_time": "2021-07-06T10:19:44.155Z"
   },
   {
    "duration": 22,
    "start_time": "2021-07-06T10:19:59.919Z"
   },
   {
    "duration": 704,
    "start_time": "2021-07-06T10:20:09.299Z"
   },
   {
    "duration": 19,
    "start_time": "2021-07-06T10:22:06.793Z"
   },
   {
    "duration": 21,
    "start_time": "2021-07-06T10:22:40.302Z"
   },
   {
    "duration": 438,
    "start_time": "2021-07-06T10:23:41.500Z"
   },
   {
    "duration": 127,
    "start_time": "2021-07-06T10:25:03.357Z"
   },
   {
    "duration": 156,
    "start_time": "2021-07-06T10:25:22.598Z"
   },
   {
    "duration": 121,
    "start_time": "2021-07-06T10:25:26.682Z"
   },
   {
    "duration": 26,
    "start_time": "2021-07-06T10:25:42.963Z"
   },
   {
    "duration": 339,
    "start_time": "2021-07-06T10:25:56.299Z"
   },
   {
    "duration": 10,
    "start_time": "2021-07-06T10:26:06.305Z"
   },
   {
    "duration": 432,
    "start_time": "2021-07-06T10:26:16.756Z"
   },
   {
    "duration": 7,
    "start_time": "2021-07-06T10:26:29.372Z"
   },
   {
    "duration": 8,
    "start_time": "2021-07-06T10:26:44.826Z"
   },
   {
    "duration": 5,
    "start_time": "2021-07-06T10:26:50.910Z"
   },
   {
    "duration": 29,
    "start_time": "2021-07-06T10:27:38.332Z"
   },
   {
    "duration": 4,
    "start_time": "2021-07-06T10:27:39.344Z"
   },
   {
    "duration": 5,
    "start_time": "2021-07-06T10:27:42.102Z"
   },
   {
    "duration": 5,
    "start_time": "2021-07-06T10:27:43.643Z"
   },
   {
    "duration": 5,
    "start_time": "2021-07-06T10:27:46.180Z"
   },
   {
    "duration": 7,
    "start_time": "2021-07-06T10:27:47.284Z"
   },
   {
    "duration": 6,
    "start_time": "2021-07-06T10:27:53.139Z"
   },
   {
    "duration": 5,
    "start_time": "2021-07-06T10:28:13.597Z"
   },
   {
    "duration": 6,
    "start_time": "2021-07-06T10:28:49.819Z"
   },
   {
    "duration": 7,
    "start_time": "2021-07-06T10:29:49.356Z"
   },
   {
    "duration": 6,
    "start_time": "2021-07-06T10:29:52.827Z"
   },
   {
    "duration": 5,
    "start_time": "2021-07-06T10:30:00.399Z"
   },
   {
    "duration": 7,
    "start_time": "2021-07-06T10:30:04.568Z"
   },
   {
    "duration": 6,
    "start_time": "2021-07-06T10:30:14.764Z"
   },
   {
    "duration": 6,
    "start_time": "2021-07-06T10:30:19.912Z"
   },
   {
    "duration": 6,
    "start_time": "2021-07-06T10:30:23.288Z"
   },
   {
    "duration": 5,
    "start_time": "2021-07-06T10:30:28.227Z"
   },
   {
    "duration": 6,
    "start_time": "2021-07-06T10:30:35.253Z"
   },
   {
    "duration": 12,
    "start_time": "2021-07-06T10:30:38.079Z"
   },
   {
    "duration": 6,
    "start_time": "2021-07-06T10:32:33.861Z"
   },
   {
    "duration": 7,
    "start_time": "2021-07-06T10:32:41.343Z"
   },
   {
    "duration": 8,
    "start_time": "2021-07-06T10:32:44.479Z"
   },
   {
    "duration": 5,
    "start_time": "2021-07-06T10:32:50.199Z"
   },
   {
    "duration": 7,
    "start_time": "2021-07-06T10:32:53.339Z"
   },
   {
    "duration": 11,
    "start_time": "2021-07-06T10:32:57.608Z"
   },
   {
    "duration": 6,
    "start_time": "2021-07-06T10:33:02.217Z"
   },
   {
    "duration": 31,
    "start_time": "2021-07-06T10:34:50.522Z"
   },
   {
    "duration": 128,
    "start_time": "2021-07-06T10:35:55.610Z"
   },
   {
    "duration": 7,
    "start_time": "2021-07-06T10:36:04.452Z"
   },
   {
    "duration": 7,
    "start_time": "2021-07-06T10:36:15.153Z"
   },
   {
    "duration": 7,
    "start_time": "2021-07-06T10:36:20.321Z"
   },
   {
    "duration": 7,
    "start_time": "2021-07-06T10:36:29.589Z"
   },
   {
    "duration": 7,
    "start_time": "2021-07-06T10:36:49.895Z"
   },
   {
    "duration": 7,
    "start_time": "2021-07-06T10:36:56.710Z"
   },
   {
    "duration": 7,
    "start_time": "2021-07-06T10:37:00.523Z"
   },
   {
    "duration": 8,
    "start_time": "2021-07-06T10:37:03.267Z"
   },
   {
    "duration": 7,
    "start_time": "2021-07-06T10:37:08.371Z"
   },
   {
    "duration": 7,
    "start_time": "2021-07-06T10:37:14.465Z"
   },
   {
    "duration": 10,
    "start_time": "2021-07-06T10:37:19.985Z"
   },
   {
    "duration": 8,
    "start_time": "2021-07-06T10:37:23.176Z"
   },
   {
    "duration": 8,
    "start_time": "2021-07-06T10:37:27.676Z"
   },
   {
    "duration": 7,
    "start_time": "2021-07-06T10:37:34.540Z"
   },
   {
    "duration": 9,
    "start_time": "2021-07-06T10:37:37.361Z"
   },
   {
    "duration": 11,
    "start_time": "2021-07-06T10:37:48.584Z"
   },
   {
    "duration": 7,
    "start_time": "2021-07-06T10:41:29.088Z"
   },
   {
    "duration": 7,
    "start_time": "2021-07-06T10:41:32.609Z"
   },
   {
    "duration": 7,
    "start_time": "2021-07-06T10:41:36.330Z"
   },
   {
    "duration": 7,
    "start_time": "2021-07-06T10:41:40.343Z"
   },
   {
    "duration": 9,
    "start_time": "2021-07-06T10:41:45.326Z"
   },
   {
    "duration": 7,
    "start_time": "2021-07-06T10:41:51.352Z"
   },
   {
    "duration": 7,
    "start_time": "2021-07-06T10:41:54.521Z"
   },
   {
    "duration": 7,
    "start_time": "2021-07-06T10:41:58.855Z"
   },
   {
    "duration": 7,
    "start_time": "2021-07-06T10:42:20.070Z"
   },
   {
    "duration": 7,
    "start_time": "2021-07-06T10:42:28.346Z"
   },
   {
    "duration": 394,
    "start_time": "2021-07-06T10:46:30.619Z"
   },
   {
    "duration": 99,
    "start_time": "2021-07-06T10:47:01.805Z"
   },
   {
    "duration": 135,
    "start_time": "2021-07-06T10:54:32.519Z"
   },
   {
    "duration": 120,
    "start_time": "2021-07-06T10:54:42.175Z"
   },
   {
    "duration": 137,
    "start_time": "2021-07-06T10:54:54.077Z"
   },
   {
    "duration": 128,
    "start_time": "2021-07-06T10:56:21.072Z"
   },
   {
    "duration": 113,
    "start_time": "2021-07-06T10:56:41.816Z"
   },
   {
    "duration": 1889,
    "start_time": "2021-07-06T11:06:46.214Z"
   },
   {
    "duration": 2138,
    "start_time": "2021-07-06T11:07:23.837Z"
   },
   {
    "duration": 1953,
    "start_time": "2021-07-06T11:07:33.819Z"
   },
   {
    "duration": 373,
    "start_time": "2021-07-06T11:07:50.430Z"
   },
   {
    "duration": 5,
    "start_time": "2021-07-06T11:07:58.505Z"
   },
   {
    "duration": 2214,
    "start_time": "2021-07-06T11:08:02.570Z"
   },
   {
    "duration": 12,
    "start_time": "2021-07-06T11:11:35.237Z"
   },
   {
    "duration": 22,
    "start_time": "2021-07-06T11:11:39.881Z"
   },
   {
    "duration": 3795,
    "start_time": "2021-07-06T11:12:46.803Z"
   },
   {
    "duration": 8444,
    "start_time": "2021-07-06T11:13:33.903Z"
   },
   {
    "duration": 3971,
    "start_time": "2021-07-06T11:15:14.147Z"
   },
   {
    "duration": 1922,
    "start_time": "2021-07-06T11:16:10.658Z"
   },
   {
    "duration": 1145,
    "start_time": "2021-07-06T11:16:24.574Z"
   },
   {
    "duration": 175,
    "start_time": "2021-07-06T11:27:34.956Z"
   },
   {
    "duration": 17,
    "start_time": "2021-07-06T11:36:56.877Z"
   },
   {
    "duration": 12,
    "start_time": "2021-07-06T11:37:27.332Z"
   },
   {
    "duration": 13,
    "start_time": "2021-07-06T11:37:43.442Z"
   },
   {
    "duration": 12618,
    "start_time": "2021-07-06T11:38:30.239Z"
   },
   {
    "duration": 8788,
    "start_time": "2021-07-06T11:38:53.421Z"
   },
   {
    "duration": 90554,
    "start_time": "2021-07-06T11:37:48.402Z"
   },
   {
    "duration": 13,
    "start_time": "2021-07-06T11:39:20.815Z"
   },
   {
    "duration": 17,
    "start_time": "2021-07-06T11:39:27.397Z"
   },
   {
    "duration": 18,
    "start_time": "2021-07-06T11:39:38.355Z"
   },
   {
    "duration": 17,
    "start_time": "2021-07-06T11:39:43.195Z"
   },
   {
    "duration": 26,
    "start_time": "2021-07-06T11:40:01.483Z"
   },
   {
    "duration": 21,
    "start_time": "2021-07-06T11:40:38.359Z"
   },
   {
    "duration": 805,
    "start_time": "2021-07-06T11:42:54.682Z"
   },
   {
    "duration": 5600,
    "start_time": "2021-07-06T11:43:09.429Z"
   },
   {
    "duration": 1561,
    "start_time": "2021-07-06T11:43:15.032Z"
   },
   {
    "duration": 4,
    "start_time": "2021-07-06T11:43:16.597Z"
   },
   {
    "duration": 15,
    "start_time": "2021-07-06T11:43:16.604Z"
   },
   {
    "duration": 1983,
    "start_time": "2021-07-06T11:43:16.622Z"
   },
   {
    "duration": 10,
    "start_time": "2021-07-06T11:43:18.607Z"
   },
   {
    "duration": 20,
    "start_time": "2021-07-06T11:43:18.620Z"
   },
   {
    "duration": 33,
    "start_time": "2021-07-06T11:43:18.644Z"
   },
   {
    "duration": 16,
    "start_time": "2021-07-06T11:43:18.681Z"
   },
   {
    "duration": 939,
    "start_time": "2021-07-06T11:43:18.700Z"
   },
   {
    "duration": 39,
    "start_time": "2021-07-06T11:43:19.641Z"
   },
   {
    "duration": 12,
    "start_time": "2021-07-06T11:43:19.684Z"
   },
   {
    "duration": 12,
    "start_time": "2021-07-06T11:43:19.699Z"
   },
   {
    "duration": 865,
    "start_time": "2021-07-06T11:43:19.713Z"
   },
   {
    "duration": 9,
    "start_time": "2021-07-06T11:43:20.581Z"
   },
   {
    "duration": 11,
    "start_time": "2021-07-06T11:43:20.592Z"
   },
   {
    "duration": 25,
    "start_time": "2021-07-06T11:43:20.605Z"
   },
   {
    "duration": 7,
    "start_time": "2021-07-06T11:43:20.632Z"
   },
   {
    "duration": 22,
    "start_time": "2021-07-06T11:43:20.669Z"
   },
   {
    "duration": 9,
    "start_time": "2021-07-06T11:43:20.695Z"
   },
   {
    "duration": 13,
    "start_time": "2021-07-06T11:43:20.707Z"
   },
   {
    "duration": 58,
    "start_time": "2021-07-06T11:43:20.722Z"
   },
   {
    "duration": 8,
    "start_time": "2021-07-06T11:43:20.789Z"
   },
   {
    "duration": 11,
    "start_time": "2021-07-06T11:43:20.800Z"
   },
   {
    "duration": 14,
    "start_time": "2021-07-06T11:43:20.813Z"
   },
   {
    "duration": 56,
    "start_time": "2021-07-06T11:43:20.830Z"
   },
   {
    "duration": 12,
    "start_time": "2021-07-06T11:43:20.888Z"
   },
   {
    "duration": 7,
    "start_time": "2021-07-06T11:43:20.902Z"
   },
   {
    "duration": 1901,
    "start_time": "2021-07-06T11:43:20.912Z"
   },
   {
    "duration": 85,
    "start_time": "2021-07-06T11:43:22.816Z"
   },
   {
    "duration": 627,
    "start_time": "2021-07-06T11:43:22.904Z"
   },
   {
    "duration": 5,
    "start_time": "2021-07-06T11:43:23.534Z"
   },
   {
    "duration": 10,
    "start_time": "2021-07-06T11:43:23.541Z"
   },
   {
    "duration": 221,
    "start_time": "2021-07-06T11:43:23.554Z"
   },
   {
    "duration": 510,
    "start_time": "2021-07-06T11:43:23.778Z"
   },
   {
    "duration": 23592,
    "start_time": "2021-07-06T11:43:24.290Z"
   },
   {
    "duration": 174,
    "start_time": "2021-07-06T11:43:47.895Z"
   },
   {
    "duration": 410,
    "start_time": "2021-07-06T11:43:48.074Z"
   },
   {
    "duration": 5,
    "start_time": "2021-07-06T11:43:48.486Z"
   },
   {
    "duration": 18,
    "start_time": "2021-07-06T11:43:48.493Z"
   },
   {
    "duration": 35,
    "start_time": "2021-07-06T11:43:48.514Z"
   },
   {
    "duration": 36,
    "start_time": "2021-07-06T11:43:48.552Z"
   },
   {
    "duration": 32,
    "start_time": "2021-07-06T11:43:48.590Z"
   },
   {
    "duration": 10,
    "start_time": "2021-07-06T11:43:48.625Z"
   },
   {
    "duration": 53,
    "start_time": "2021-07-06T11:43:48.638Z"
   },
   {
    "duration": 32,
    "start_time": "2021-07-06T11:43:48.694Z"
   },
   {
    "duration": 8,
    "start_time": "2021-07-06T11:43:48.728Z"
   },
   {
    "duration": 32,
    "start_time": "2021-07-06T11:43:48.739Z"
   },
   {
    "duration": 27,
    "start_time": "2021-07-06T11:43:48.774Z"
   },
   {
    "duration": 872,
    "start_time": "2021-07-06T11:43:48.804Z"
   },
   {
    "duration": 8,
    "start_time": "2021-07-06T11:43:49.682Z"
   },
   {
    "duration": 36,
    "start_time": "2021-07-06T11:43:49.693Z"
   },
   {
    "duration": 35,
    "start_time": "2021-07-06T11:43:49.732Z"
   },
   {
    "duration": 5628,
    "start_time": "2021-07-06T11:43:49.771Z"
   },
   {
    "duration": 26,
    "start_time": "2021-07-06T11:43:55.402Z"
   },
   {
    "duration": 2070,
    "start_time": "2021-07-06T11:43:55.431Z"
   },
   {
    "duration": 4,
    "start_time": "2021-07-06T11:43:57.504Z"
   },
   {
    "duration": 59,
    "start_time": "2021-07-06T11:43:57.511Z"
   },
   {
    "duration": 32,
    "start_time": "2021-07-06T11:43:57.572Z"
   },
   {
    "duration": 15,
    "start_time": "2021-07-06T11:43:57.606Z"
   },
   {
    "duration": 76,
    "start_time": "2021-07-06T11:43:57.623Z"
   },
   {
    "duration": 6,
    "start_time": "2021-07-06T11:43:57.701Z"
   },
   {
    "duration": 131,
    "start_time": "2021-07-06T11:43:57.710Z"
   },
   {
    "duration": 2051,
    "start_time": "2021-07-06T11:43:57.843Z"
   },
   {
    "duration": 1160,
    "start_time": "2021-07-06T11:43:59.897Z"
   },
   {
    "duration": 561,
    "start_time": "2021-07-06T12:08:06.932Z"
   },
   {
    "duration": 357,
    "start_time": "2021-07-06T12:08:25.164Z"
   },
   {
    "duration": 341,
    "start_time": "2021-07-06T12:08:29.997Z"
   },
   {
    "duration": 422,
    "start_time": "2021-07-06T12:08:35.620Z"
   },
   {
    "duration": 34,
    "start_time": "2021-07-06T12:08:39.982Z"
   },
   {
    "duration": 351,
    "start_time": "2021-07-06T12:08:47.242Z"
   },
   {
    "duration": 6,
    "start_time": "2021-07-06T12:09:10.386Z"
   },
   {
    "duration": 4,
    "start_time": "2021-07-06T12:09:37.494Z"
   },
   {
    "duration": 5,
    "start_time": "2021-07-06T12:09:48.699Z"
   },
   {
    "duration": 5,
    "start_time": "2021-07-06T12:09:56.006Z"
   },
   {
    "duration": 5,
    "start_time": "2021-07-06T12:10:05.329Z"
   },
   {
    "duration": 2754,
    "start_time": "2021-07-06T12:19:11.990Z"
   },
   {
    "duration": 796,
    "start_time": "2021-07-06T12:19:36.889Z"
   },
   {
    "duration": 2444,
    "start_time": "2021-07-06T12:20:00.551Z"
   },
   {
    "duration": 11,
    "start_time": "2021-07-06T12:20:37.432Z"
   },
   {
    "duration": 2638,
    "start_time": "2021-07-06T12:20:47.699Z"
   },
   {
    "duration": 11,
    "start_time": "2021-07-06T12:35:09.354Z"
   },
   {
    "duration": 10,
    "start_time": "2021-07-06T12:35:22.551Z"
   },
   {
    "duration": 6,
    "start_time": "2021-07-06T12:36:05.097Z"
   },
   {
    "duration": 5,
    "start_time": "2021-07-06T12:41:23.604Z"
   },
   {
    "duration": 1394,
    "start_time": "2021-07-06T12:45:09.727Z"
   },
   {
    "duration": 24185,
    "start_time": "2021-07-06T12:45:21.390Z"
   },
   {
    "duration": 9638,
    "start_time": "2021-07-06T12:46:07.332Z"
   },
   {
    "duration": 50,
    "start_time": "2021-07-06T13:05:01.701Z"
   },
   {
    "duration": 116,
    "start_time": "2021-07-06T13:06:19.734Z"
   },
   {
    "duration": 6,
    "start_time": "2021-07-06T13:12:39.743Z"
   },
   {
    "duration": 20,
    "start_time": "2021-07-06T13:16:42.884Z"
   },
   {
    "duration": 31,
    "start_time": "2021-07-06T13:19:26.220Z"
   },
   {
    "duration": 12,
    "start_time": "2021-07-06T13:33:38.350Z"
   },
   {
    "duration": 13,
    "start_time": "2021-07-06T13:33:49.132Z"
   },
   {
    "duration": 13,
    "start_time": "2021-07-06T13:33:55.277Z"
   },
   {
    "duration": 7,
    "start_time": "2021-07-06T13:39:45.963Z"
   },
   {
    "duration": 17103,
    "start_time": "2021-07-06T14:03:01.199Z"
   },
   {
    "duration": 38,
    "start_time": "2021-07-06T14:03:29.528Z"
   },
   {
    "duration": 3313,
    "start_time": "2021-07-06T14:04:10.556Z"
   },
   {
    "duration": 3530,
    "start_time": "2021-07-06T14:04:17.519Z"
   },
   {
    "duration": 14,
    "start_time": "2021-07-06T14:04:40.632Z"
   },
   {
    "duration": 16,
    "start_time": "2021-07-06T14:05:00.971Z"
   },
   {
    "duration": 15,
    "start_time": "2021-07-06T14:05:37.443Z"
   },
   {
    "duration": 125,
    "start_time": "2021-07-06T14:06:30.551Z"
   },
   {
    "duration": 28,
    "start_time": "2021-07-06T14:06:47.296Z"
   },
   {
    "duration": 36,
    "start_time": "2021-07-06T14:07:13.350Z"
   },
   {
    "duration": 28,
    "start_time": "2021-07-06T14:08:22.706Z"
   },
   {
    "duration": 13,
    "start_time": "2021-07-06T14:13:55.548Z"
   },
   {
    "duration": 3258,
    "start_time": "2021-07-06T14:30:52.057Z"
   },
   {
    "duration": 2176,
    "start_time": "2021-07-06T14:30:55.318Z"
   },
   {
    "duration": 4,
    "start_time": "2021-07-06T14:30:57.497Z"
   },
   {
    "duration": 7,
    "start_time": "2021-07-06T14:30:57.504Z"
   },
   {
    "duration": 2387,
    "start_time": "2021-07-06T14:30:57.513Z"
   },
   {
    "duration": 10,
    "start_time": "2021-07-06T14:30:59.902Z"
   },
   {
    "duration": 28,
    "start_time": "2021-07-06T14:30:59.915Z"
   },
   {
    "duration": 29,
    "start_time": "2021-07-06T14:30:59.947Z"
   },
   {
    "duration": 16,
    "start_time": "2021-07-06T14:30:59.979Z"
   },
   {
    "duration": 904,
    "start_time": "2021-07-06T14:30:59.998Z"
   },
   {
    "duration": 22,
    "start_time": "2021-07-06T14:31:00.905Z"
   },
   {
    "duration": 5,
    "start_time": "2021-07-06T14:31:00.930Z"
   },
   {
    "duration": 35,
    "start_time": "2021-07-06T14:31:00.937Z"
   },
   {
    "duration": 7,
    "start_time": "2021-07-06T14:31:00.975Z"
   },
   {
    "duration": 854,
    "start_time": "2021-07-06T14:31:00.984Z"
   },
   {
    "duration": 7,
    "start_time": "2021-07-06T14:31:01.840Z"
   },
   {
    "duration": 24,
    "start_time": "2021-07-06T14:31:01.849Z"
   },
   {
    "duration": 29,
    "start_time": "2021-07-06T14:31:01.876Z"
   },
   {
    "duration": 7,
    "start_time": "2021-07-06T14:31:01.907Z"
   },
   {
    "duration": 53,
    "start_time": "2021-07-06T14:31:01.917Z"
   },
   {
    "duration": 10,
    "start_time": "2021-07-06T14:31:01.972Z"
   },
   {
    "duration": 28,
    "start_time": "2021-07-06T14:31:01.985Z"
   },
   {
    "duration": 22,
    "start_time": "2021-07-06T14:31:02.019Z"
   },
   {
    "duration": 26,
    "start_time": "2021-07-06T14:31:02.044Z"
   },
   {
    "duration": 12,
    "start_time": "2021-07-06T14:31:02.073Z"
   },
   {
    "duration": 27,
    "start_time": "2021-07-06T14:31:02.087Z"
   },
   {
    "duration": 5,
    "start_time": "2021-07-06T14:31:02.116Z"
   },
   {
    "duration": 45,
    "start_time": "2021-07-06T14:31:02.124Z"
   },
   {
    "duration": 2644,
    "start_time": "2021-07-06T14:31:02.171Z"
   },
   {
    "duration": 6,
    "start_time": "2021-07-06T14:31:04.817Z"
   },
   {
    "duration": 21,
    "start_time": "2021-07-06T14:31:04.825Z"
   },
   {
    "duration": 235920,
    "start_time": "2021-07-06T14:31:04.848Z"
   },
   {
    "duration": 461,
    "start_time": "2021-07-06T14:35:00.772Z"
   },
   {
    "duration": 23632,
    "start_time": "2021-07-06T14:35:01.235Z"
   },
   {
    "duration": 433,
    "start_time": "2021-07-06T14:35:24.871Z"
   },
   {
    "duration": 4,
    "start_time": "2021-07-06T14:35:25.307Z"
   },
   {
    "duration": 8,
    "start_time": "2021-07-06T14:35:25.313Z"
   },
   {
    "duration": 53,
    "start_time": "2021-07-06T14:35:25.323Z"
   },
   {
    "duration": 29,
    "start_time": "2021-07-06T14:35:25.379Z"
   },
   {
    "duration": 12,
    "start_time": "2021-07-06T14:35:25.410Z"
   },
   {
    "duration": 47,
    "start_time": "2021-07-06T14:35:25.424Z"
   },
   {
    "duration": 30,
    "start_time": "2021-07-06T14:35:25.474Z"
   },
   {
    "duration": 10,
    "start_time": "2021-07-06T14:35:25.507Z"
   },
   {
    "duration": 1155,
    "start_time": "2021-07-06T14:35:25.520Z"
   },
   {
    "duration": 29,
    "start_time": "2021-07-06T14:35:26.678Z"
   },
   {
    "duration": 7,
    "start_time": "2021-07-06T14:35:26.710Z"
   },
   {
    "duration": 5483,
    "start_time": "2021-07-06T14:35:26.719Z"
   },
   {
    "duration": 34,
    "start_time": "2021-07-06T14:35:32.205Z"
   },
   {
    "duration": 1929,
    "start_time": "2021-07-06T14:35:32.241Z"
   },
   {
    "duration": 5,
    "start_time": "2021-07-06T14:35:34.173Z"
   },
   {
    "duration": 38,
    "start_time": "2021-07-06T14:35:34.180Z"
   },
   {
    "duration": 1128,
    "start_time": "2021-07-06T14:35:34.221Z"
   },
   {
    "duration": 2006,
    "start_time": "2021-07-06T14:35:35.352Z"
   },
   {
    "duration": 27,
    "start_time": "2021-07-06T14:35:37.368Z"
   },
   {
    "duration": 13,
    "start_time": "2021-07-06T14:35:37.398Z"
   },
   {
    "duration": 76,
    "start_time": "2021-07-06T14:35:37.414Z"
   },
   {
    "duration": 6,
    "start_time": "2021-07-06T14:35:37.493Z"
   },
   {
    "duration": 125,
    "start_time": "2021-07-06T14:35:37.501Z"
   },
   {
    "duration": 3335,
    "start_time": "2021-07-07T07:48:16.365Z"
   },
   {
    "duration": 2713,
    "start_time": "2021-07-07T07:48:19.702Z"
   },
   {
    "duration": 3,
    "start_time": "2021-07-07T07:48:22.417Z"
   },
   {
    "duration": 9,
    "start_time": "2021-07-07T07:48:22.422Z"
   },
   {
    "duration": 11920,
    "start_time": "2021-07-07T07:48:22.433Z"
   },
   {
    "duration": 6,
    "start_time": "2021-07-07T07:48:34.355Z"
   },
   {
    "duration": 18,
    "start_time": "2021-07-07T07:48:34.362Z"
   },
   {
    "duration": 12,
    "start_time": "2021-07-07T07:48:34.381Z"
   },
   {
    "duration": 9,
    "start_time": "2021-07-07T07:48:34.396Z"
   },
   {
    "duration": 413,
    "start_time": "2021-07-07T07:48:34.407Z"
   },
   {
    "duration": 13,
    "start_time": "2021-07-07T07:48:34.821Z"
   },
   {
    "duration": 3,
    "start_time": "2021-07-07T07:48:34.836Z"
   },
   {
    "duration": 13,
    "start_time": "2021-07-07T07:48:34.840Z"
   },
   {
    "duration": 7,
    "start_time": "2021-07-07T07:48:34.854Z"
   },
   {
    "duration": 428,
    "start_time": "2021-07-07T07:48:34.863Z"
   },
   {
    "duration": 5,
    "start_time": "2021-07-07T07:48:35.292Z"
   },
   {
    "duration": 14,
    "start_time": "2021-07-07T07:48:35.299Z"
   },
   {
    "duration": 17,
    "start_time": "2021-07-07T07:48:35.314Z"
   },
   {
    "duration": 5,
    "start_time": "2021-07-07T07:48:35.333Z"
   },
   {
    "duration": 16,
    "start_time": "2021-07-07T07:48:35.340Z"
   },
   {
    "duration": 10,
    "start_time": "2021-07-07T07:48:35.358Z"
   },
   {
    "duration": 12,
    "start_time": "2021-07-07T07:48:35.369Z"
   },
   {
    "duration": 9,
    "start_time": "2021-07-07T07:48:35.391Z"
   },
   {
    "duration": 8,
    "start_time": "2021-07-07T07:48:35.402Z"
   },
   {
    "duration": 15,
    "start_time": "2021-07-07T07:48:35.411Z"
   },
   {
    "duration": 15,
    "start_time": "2021-07-07T07:48:35.427Z"
   },
   {
    "duration": 3,
    "start_time": "2021-07-07T07:48:35.446Z"
   },
   {
    "duration": 16,
    "start_time": "2021-07-07T07:48:35.451Z"
   },
   {
    "duration": 1202,
    "start_time": "2021-07-07T07:48:35.468Z"
   },
   {
    "duration": 3,
    "start_time": "2021-07-07T07:48:36.672Z"
   },
   {
    "duration": 14,
    "start_time": "2021-07-07T07:48:36.677Z"
   },
   {
    "duration": 180407,
    "start_time": "2021-07-07T07:48:36.692Z"
   },
   {
    "duration": 371,
    "start_time": "2021-07-07T07:51:37.102Z"
   },
   {
    "duration": 18227,
    "start_time": "2021-07-07T07:51:37.475Z"
   },
   {
    "duration": 341,
    "start_time": "2021-07-07T07:51:55.704Z"
   },
   {
    "duration": 3,
    "start_time": "2021-07-07T07:51:56.046Z"
   },
   {
    "duration": 7,
    "start_time": "2021-07-07T07:51:56.050Z"
   },
   {
    "duration": 39,
    "start_time": "2021-07-07T07:51:56.059Z"
   },
   {
    "duration": 18,
    "start_time": "2021-07-07T07:51:56.099Z"
   },
   {
    "duration": 7,
    "start_time": "2021-07-07T07:51:56.118Z"
   },
   {
    "duration": 7,
    "start_time": "2021-07-07T07:51:56.126Z"
   },
   {
    "duration": 18,
    "start_time": "2021-07-07T07:51:56.134Z"
   },
   {
    "duration": 6,
    "start_time": "2021-07-07T07:51:56.153Z"
   },
   {
    "duration": 741,
    "start_time": "2021-07-07T07:51:56.160Z"
   },
   {
    "duration": 103,
    "start_time": "2021-07-07T07:51:56.904Z"
   },
   {
    "duration": 5,
    "start_time": "2021-07-07T07:51:57.008Z"
   },
   {
    "duration": 2803,
    "start_time": "2021-07-07T07:51:57.014Z"
   },
   {
    "duration": 18,
    "start_time": "2021-07-07T07:51:59.819Z"
   },
   {
    "duration": 971,
    "start_time": "2021-07-07T07:51:59.839Z"
   },
   {
    "duration": 4,
    "start_time": "2021-07-07T07:52:00.812Z"
   },
   {
    "duration": 43,
    "start_time": "2021-07-07T07:52:00.817Z"
   },
   {
    "duration": 564,
    "start_time": "2021-07-07T07:52:00.862Z"
   },
   {
    "duration": 949,
    "start_time": "2021-07-07T07:52:01.429Z"
   },
   {
    "duration": 20,
    "start_time": "2021-07-07T07:52:02.380Z"
   },
   {
    "duration": 9,
    "start_time": "2021-07-07T07:52:02.401Z"
   },
   {
    "duration": 26,
    "start_time": "2021-07-07T07:52:02.411Z"
   },
   {
    "duration": 4,
    "start_time": "2021-07-07T07:52:02.438Z"
   },
   {
    "duration": 86,
    "start_time": "2021-07-07T07:52:02.443Z"
   },
   {
    "duration": 581,
    "start_time": "2021-07-07T10:33:31.703Z"
   },
   {
    "duration": 322,
    "start_time": "2021-07-07T10:33:44.595Z"
   },
   {
    "duration": 314,
    "start_time": "2021-07-07T10:33:48.965Z"
   },
   {
    "duration": 5013,
    "start_time": "2021-07-07T10:34:06.731Z"
   },
   {
    "duration": 2299,
    "start_time": "2021-07-07T10:34:11.748Z"
   },
   {
    "duration": 5,
    "start_time": "2021-07-07T10:34:14.051Z"
   },
   {
    "duration": 12,
    "start_time": "2021-07-07T10:34:14.058Z"
   },
   {
    "duration": 8089,
    "start_time": "2021-07-07T10:34:14.073Z"
   },
   {
    "duration": 12,
    "start_time": "2021-07-07T10:34:22.165Z"
   },
   {
    "duration": 49,
    "start_time": "2021-07-07T10:34:22.179Z"
   },
   {
    "duration": 20,
    "start_time": "2021-07-07T10:34:22.233Z"
   },
   {
    "duration": 23,
    "start_time": "2021-07-07T10:34:22.257Z"
   },
   {
    "duration": 919,
    "start_time": "2021-07-07T10:34:22.283Z"
   },
   {
    "duration": 21,
    "start_time": "2021-07-07T10:34:23.204Z"
   },
   {
    "duration": 4,
    "start_time": "2021-07-07T10:34:23.228Z"
   },
   {
    "duration": 41,
    "start_time": "2021-07-07T10:34:23.234Z"
   },
   {
    "duration": 6,
    "start_time": "2021-07-07T10:34:23.278Z"
   },
   {
    "duration": 819,
    "start_time": "2021-07-07T10:34:23.286Z"
   },
   {
    "duration": 5,
    "start_time": "2021-07-07T10:34:24.108Z"
   },
   {
    "duration": 11,
    "start_time": "2021-07-07T10:34:24.116Z"
   },
   {
    "duration": 43,
    "start_time": "2021-07-07T10:34:24.129Z"
   },
   {
    "duration": 11,
    "start_time": "2021-07-07T10:34:24.174Z"
   },
   {
    "duration": 22,
    "start_time": "2021-07-07T10:34:24.187Z"
   },
   {
    "duration": 9,
    "start_time": "2021-07-07T10:34:24.211Z"
   },
   {
    "duration": 52,
    "start_time": "2021-07-07T10:34:24.222Z"
   },
   {
    "duration": 18,
    "start_time": "2021-07-07T10:34:24.280Z"
   },
   {
    "duration": 7,
    "start_time": "2021-07-07T10:34:24.301Z"
   },
   {
    "duration": 16,
    "start_time": "2021-07-07T10:34:24.311Z"
   },
   {
    "duration": 53,
    "start_time": "2021-07-07T10:34:24.330Z"
   },
   {
    "duration": 5,
    "start_time": "2021-07-07T10:34:24.385Z"
   },
   {
    "duration": 14,
    "start_time": "2021-07-07T10:34:24.392Z"
   },
   {
    "duration": 140,
    "start_time": "2021-07-07T10:34:24.409Z"
   },
   {
    "duration": 95916,
    "start_time": "2021-07-07T10:32:48.635Z"
   },
   {
    "duration": 95902,
    "start_time": "2021-07-07T10:32:48.651Z"
   },
   {
    "duration": 95886,
    "start_time": "2021-07-07T10:32:48.668Z"
   },
   {
    "duration": 95877,
    "start_time": "2021-07-07T10:32:48.679Z"
   },
   {
    "duration": 95871,
    "start_time": "2021-07-07T10:32:48.686Z"
   },
   {
    "duration": 95863,
    "start_time": "2021-07-07T10:32:48.696Z"
   },
   {
    "duration": 95858,
    "start_time": "2021-07-07T10:32:48.702Z"
   },
   {
    "duration": 95848,
    "start_time": "2021-07-07T10:32:48.713Z"
   },
   {
    "duration": 95841,
    "start_time": "2021-07-07T10:32:48.722Z"
   },
   {
    "duration": 95835,
    "start_time": "2021-07-07T10:32:48.729Z"
   },
   {
    "duration": 95830,
    "start_time": "2021-07-07T10:32:48.735Z"
   },
   {
    "duration": 95821,
    "start_time": "2021-07-07T10:32:48.746Z"
   },
   {
    "duration": 95816,
    "start_time": "2021-07-07T10:32:48.752Z"
   },
   {
    "duration": 95808,
    "start_time": "2021-07-07T10:32:48.761Z"
   },
   {
    "duration": 95804,
    "start_time": "2021-07-07T10:32:48.766Z"
   },
   {
    "duration": 95797,
    "start_time": "2021-07-07T10:32:48.775Z"
   },
   {
    "duration": 95790,
    "start_time": "2021-07-07T10:32:48.783Z"
   },
   {
    "duration": 95784,
    "start_time": "2021-07-07T10:32:48.790Z"
   },
   {
    "duration": 95777,
    "start_time": "2021-07-07T10:32:48.798Z"
   },
   {
    "duration": 95770,
    "start_time": "2021-07-07T10:32:48.807Z"
   },
   {
    "duration": 95761,
    "start_time": "2021-07-07T10:32:48.817Z"
   },
   {
    "duration": 95751,
    "start_time": "2021-07-07T10:32:48.828Z"
   },
   {
    "duration": 95747,
    "start_time": "2021-07-07T10:32:48.834Z"
   },
   {
    "duration": 95736,
    "start_time": "2021-07-07T10:32:48.846Z"
   },
   {
    "duration": 95732,
    "start_time": "2021-07-07T10:32:48.851Z"
   },
   {
    "duration": 95721,
    "start_time": "2021-07-07T10:32:48.863Z"
   },
   {
    "duration": 95718,
    "start_time": "2021-07-07T10:32:48.868Z"
   },
   {
    "duration": 95707,
    "start_time": "2021-07-07T10:32:48.880Z"
   },
   {
    "duration": 95705,
    "start_time": "2021-07-07T10:32:48.884Z"
   },
   {
    "duration": 95696,
    "start_time": "2021-07-07T10:32:48.895Z"
   },
   {
    "duration": 14,
    "start_time": "2021-07-07T10:35:13.723Z"
   },
   {
    "duration": 21,
    "start_time": "2021-07-07T10:36:16.174Z"
   },
   {
    "duration": 1416,
    "start_time": "2021-07-07T10:36:43.352Z"
   },
   {
    "duration": 4083,
    "start_time": "2021-07-07T10:44:57.529Z"
   },
   {
    "duration": 2268,
    "start_time": "2021-07-07T10:45:01.615Z"
   },
   {
    "duration": 4,
    "start_time": "2021-07-07T10:45:03.886Z"
   },
   {
    "duration": 21,
    "start_time": "2021-07-07T10:45:03.892Z"
   },
   {
    "duration": 11899,
    "start_time": "2021-07-07T10:45:03.915Z"
   },
   {
    "duration": 10,
    "start_time": "2021-07-07T10:45:15.816Z"
   },
   {
    "duration": 27,
    "start_time": "2021-07-07T10:45:15.828Z"
   },
   {
    "duration": 21,
    "start_time": "2021-07-07T10:45:15.859Z"
   },
   {
    "duration": 15,
    "start_time": "2021-07-07T10:45:15.883Z"
   },
   {
    "duration": 942,
    "start_time": "2021-07-07T10:45:15.901Z"
   },
   {
    "duration": 35,
    "start_time": "2021-07-07T10:45:16.846Z"
   },
   {
    "duration": 5,
    "start_time": "2021-07-07T10:45:16.883Z"
   },
   {
    "duration": 15,
    "start_time": "2021-07-07T10:45:16.890Z"
   },
   {
    "duration": 9,
    "start_time": "2021-07-07T10:45:16.907Z"
   },
   {
    "duration": 857,
    "start_time": "2021-07-07T10:45:16.918Z"
   },
   {
    "duration": 5,
    "start_time": "2021-07-07T10:45:17.777Z"
   },
   {
    "duration": 9,
    "start_time": "2021-07-07T10:45:17.785Z"
   },
   {
    "duration": 22,
    "start_time": "2021-07-07T10:45:17.796Z"
   },
   {
    "duration": 6,
    "start_time": "2021-07-07T10:45:17.820Z"
   },
   {
    "duration": 56,
    "start_time": "2021-07-07T10:45:17.828Z"
   },
   {
    "duration": 10,
    "start_time": "2021-07-07T10:45:17.887Z"
   },
   {
    "duration": 16,
    "start_time": "2021-07-07T10:45:17.900Z"
   },
   {
    "duration": 53,
    "start_time": "2021-07-07T10:45:17.924Z"
   },
   {
    "duration": 9,
    "start_time": "2021-07-07T10:45:17.981Z"
   },
   {
    "duration": 13,
    "start_time": "2021-07-07T10:45:17.993Z"
   },
   {
    "duration": 62,
    "start_time": "2021-07-07T10:45:18.009Z"
   },
   {
    "duration": 6,
    "start_time": "2021-07-07T10:45:18.074Z"
   },
   {
    "duration": 33,
    "start_time": "2021-07-07T10:45:18.083Z"
   },
   {
    "duration": 1397,
    "start_time": "2021-07-07T10:45:18.119Z"
   },
   {
    "duration": 6,
    "start_time": "2021-07-07T10:45:19.519Z"
   },
   {
    "duration": 33,
    "start_time": "2021-07-07T10:45:19.527Z"
   },
   {
    "duration": 239604,
    "start_time": "2021-07-07T10:45:19.563Z"
   },
   {
    "duration": 529,
    "start_time": "2021-07-07T10:49:19.174Z"
   },
   {
    "duration": 25461,
    "start_time": "2021-07-07T10:49:19.706Z"
   },
   {
    "duration": 452,
    "start_time": "2021-07-07T10:49:45.170Z"
   },
   {
    "duration": 5,
    "start_time": "2021-07-07T10:49:45.624Z"
   },
   {
    "duration": 37,
    "start_time": "2021-07-07T10:49:45.631Z"
   },
   {
    "duration": 18,
    "start_time": "2021-07-07T10:49:45.670Z"
   },
   {
    "duration": 31,
    "start_time": "2021-07-07T10:49:45.690Z"
   },
   {
    "duration": 48,
    "start_time": "2021-07-07T10:49:45.723Z"
   },
   {
    "duration": 10,
    "start_time": "2021-07-07T10:49:45.773Z"
   },
   {
    "duration": 31,
    "start_time": "2021-07-07T10:49:45.785Z"
   },
   {
    "duration": 11,
    "start_time": "2021-07-07T10:49:45.818Z"
   },
   {
    "duration": 1347,
    "start_time": "2021-07-07T10:49:45.831Z"
   },
   {
    "duration": 29,
    "start_time": "2021-07-07T10:49:47.181Z"
   },
   {
    "duration": 7,
    "start_time": "2021-07-07T10:49:47.213Z"
   },
   {
    "duration": 5581,
    "start_time": "2021-07-07T10:49:47.222Z"
   },
   {
    "duration": 35,
    "start_time": "2021-07-07T10:49:52.805Z"
   },
   {
    "duration": 2211,
    "start_time": "2021-07-07T10:49:52.842Z"
   },
   {
    "duration": 11,
    "start_time": "2021-07-07T10:49:55.056Z"
   },
   {
    "duration": 43,
    "start_time": "2021-07-07T10:49:55.070Z"
   },
   {
    "duration": 1114,
    "start_time": "2021-07-07T10:49:55.115Z"
   },
   {
    "duration": 1932,
    "start_time": "2021-07-07T10:49:56.231Z"
   },
   {
    "duration": 25,
    "start_time": "2021-07-07T10:49:58.167Z"
   },
   {
    "duration": 14,
    "start_time": "2021-07-07T10:49:58.194Z"
   },
   {
    "duration": 72,
    "start_time": "2021-07-07T10:49:58.210Z"
   },
   {
    "duration": 6,
    "start_time": "2021-07-07T10:49:58.285Z"
   },
   {
    "duration": 126,
    "start_time": "2021-07-07T10:49:58.293Z"
   },
   {
    "duration": 128,
    "start_time": "2021-07-07T10:49:58.422Z"
   },
   {
    "duration": 1553,
    "start_time": "2021-07-07T10:58:24.052Z"
   },
   {
    "duration": 1899,
    "start_time": "2021-07-07T11:09:53.570Z"
   },
   {
    "duration": 6,
    "start_time": "2021-07-07T11:33:54.138Z"
   },
   {
    "duration": 571,
    "start_time": "2021-07-07T11:34:09.990Z"
   },
   {
    "duration": 6,
    "start_time": "2021-07-07T11:34:17.938Z"
   }
  ],
  "kernelspec": {
   "display_name": "Python 3",
   "language": "python",
   "name": "python3"
  },
  "language_info": {
   "codemirror_mode": {
    "name": "ipython",
    "version": 3
   },
   "file_extension": ".py",
   "mimetype": "text/x-python",
   "name": "python",
   "nbconvert_exporter": "python",
   "pygments_lexer": "ipython3",
   "version": "3.7.8"
  },
  "toc": {
   "base_numbering": 1,
   "nav_menu": {},
   "number_sections": false,
   "sideBar": true,
   "skip_h1_title": false,
   "title_cell": "Table of Contents",
   "title_sidebar": "E-com cluster analysis",
   "toc_cell": false,
   "toc_position": {
    "height": "calc(100% - 180px)",
    "left": "10px",
    "top": "150px",
    "width": "366.4px"
   },
   "toc_section_display": true,
   "toc_window_display": true
  }
 },
 "nbformat": 4,
 "nbformat_minor": 2
}