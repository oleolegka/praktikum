{
 "cells": [
  {
   "cell_type": "code",
   "execution_count": 1,
   "metadata": {},
   "outputs": [],
   "source": [
    "import pandas as pd\n",
    "import numpy as np\n",
    "import matplotlib.pyplot as plt\n",
    "import seaborn as sns\n",
    "import geopandas as gpd, folium, branca\n",
    "\n",
    "import textwrap\n",
    "import warnings\n",
    "import requests\n",
    "\n",
    "from io import BytesIO\n",
    "from folium.plugins import MarkerCluster\n",
    "from IPython.display import IFrame\n",
    "from branca.colormap import linear\n",
    "from math import log\n",
    "\n",
    "warnings.filterwarnings('ignore')\n",
    "%matplotlib inline\n",
    "pd.set_option('display.max_columns', None)\n",
    "pd.options.display.max_colwidth = 120"
   ]
  },
  {
   "cell_type": "markdown",
   "metadata": {},
   "source": [
    "# Задача  \n",
    "Мы решили открыть в москве набольшое, но оригинальное кафе, в котором посетителей будут обслуживать роботы. Инвесторам необходимо предоставить обзор рынка общепита в Москве, с тем, чтоб помочь им принять решение о целеобразности  \n",
    "Текущая наша задача - провести первичный анализ рынка \n",
    "\n",
    "\n",
    "\n"
   ]
  },
  {
   "cell_type": "markdown",
   "metadata": {},
   "source": [
    "# Предобработка данных"
   ]
  },
  {
   "cell_type": "code",
   "metadata": {
    "pycharm": {
     "name": "#%%\n"
    }
   },
   "source": [
    "try:\n",
    "    from paths import robocafe_data\n",
    "\n",
    "    df = pd.read_csv(robocafe_data)\n",
    "except ModuleNotFoundError:\n",
    "    print('Data not for public use, sorry')\n",
    "    raise"
   ],
   "execution_count": null,
   "outputs": []
  },
  {
   "cell_type": "code",
   "execution_count": 3,
   "metadata": {},
   "outputs": [
    {
     "data": {
      "text/html": [
       "<div>\n",
       "<style scoped>\n",
       "    .dataframe tbody tr th:only-of-type {\n",
       "        vertical-align: middle;\n",
       "    }\n",
       "\n",
       "    .dataframe tbody tr th {\n",
       "        vertical-align: top;\n",
       "    }\n",
       "\n",
       "    .dataframe thead th {\n",
       "        text-align: right;\n",
       "    }\n",
       "</style>\n",
       "<table border=\"1\" class=\"dataframe\">\n",
       "  <thead>\n",
       "    <tr style=\"text-align: right;\">\n",
       "      <th></th>\n",
       "      <th>id</th>\n",
       "      <th>object_name</th>\n",
       "      <th>chain</th>\n",
       "      <th>object_type</th>\n",
       "      <th>address</th>\n",
       "      <th>number</th>\n",
       "    </tr>\n",
       "  </thead>\n",
       "  <tbody>\n",
       "    <tr>\n",
       "      <td>12085</td>\n",
       "      <td>173896</td>\n",
       "      <td>KFC</td>\n",
       "      <td>да</td>\n",
       "      <td>предприятие быстрого обслуживания</td>\n",
       "      <td>город Москва, улица Измайловский Вал, дом 2</td>\n",
       "      <td>93</td>\n",
       "    </tr>\n",
       "    <tr>\n",
       "      <td>3759</td>\n",
       "      <td>26755</td>\n",
       "      <td>САН-ДИЕГО</td>\n",
       "      <td>нет</td>\n",
       "      <td>ресторан</td>\n",
       "      <td>город Москва, Школьная улица, дом 13</td>\n",
       "      <td>55</td>\n",
       "    </tr>\n",
       "    <tr>\n",
       "      <td>10513</td>\n",
       "      <td>184000</td>\n",
       "      <td>Кебаб МД</td>\n",
       "      <td>нет</td>\n",
       "      <td>предприятие быстрого обслуживания</td>\n",
       "      <td>город Москва, проспект 60-летия Октября, дом 25, корпус 1</td>\n",
       "      <td>4</td>\n",
       "    </tr>\n",
       "    <tr>\n",
       "      <td>11738</td>\n",
       "      <td>188582</td>\n",
       "      <td>Чайхана Эне-Сай</td>\n",
       "      <td>нет</td>\n",
       "      <td>кафе</td>\n",
       "      <td>город Москва, поселение Московский, деревня Саларьево, владение 3, строение 1</td>\n",
       "      <td>20</td>\n",
       "    </tr>\n",
       "    <tr>\n",
       "      <td>3037</td>\n",
       "      <td>29074</td>\n",
       "      <td>Школьно-базовая столовая</td>\n",
       "      <td>нет</td>\n",
       "      <td>столовая</td>\n",
       "      <td>город Москва, Большая Бутовская улица, дом 9</td>\n",
       "      <td>120</td>\n",
       "    </tr>\n",
       "  </tbody>\n",
       "</table>\n",
       "</div>"
      ],
      "text/plain": [
       "           id               object_name chain  \\\n",
       "12085  173896                       KFC    да   \n",
       "3759    26755                 САН-ДИЕГО   нет   \n",
       "10513  184000                  Кебаб МД   нет   \n",
       "11738  188582           Чайхана Эне-Сай   нет   \n",
       "3037    29074  Школьно-базовая столовая   нет   \n",
       "\n",
       "                             object_type  \\\n",
       "12085  предприятие быстрого обслуживания   \n",
       "3759                            ресторан   \n",
       "10513  предприятие быстрого обслуживания   \n",
       "11738                               кафе   \n",
       "3037                            столовая   \n",
       "\n",
       "                                                                             address  \\\n",
       "12085                                    город Москва, улица Измайловский Вал, дом 2   \n",
       "3759                                            город Москва, Школьная улица, дом 13   \n",
       "10513                      город Москва, проспект 60-летия Октября, дом 25, корпус 1   \n",
       "11738  город Москва, поселение Московский, деревня Саларьево, владение 3, строение 1   \n",
       "3037                                    город Москва, Большая Бутовская улица, дом 9   \n",
       "\n",
       "       number  \n",
       "12085      93  \n",
       "3759       55  \n",
       "10513       4  \n",
       "11738      20  \n",
       "3037      120  "
      ]
     },
     "execution_count": 3,
     "metadata": {},
     "output_type": "execute_result"
    }
   ],
   "source": [
    "df.sample(5, random_state=451)"
   ]
  },
  {
   "cell_type": "code",
   "execution_count": 4,
   "metadata": {},
   "outputs": [
    {
     "name": "stdout",
     "output_type": "stream",
     "text": [
      "<class 'pandas.core.frame.DataFrame'>\n",
      "RangeIndex: 15366 entries, 0 to 15365\n",
      "Data columns (total 6 columns):\n",
      "id             15366 non-null int64\n",
      "object_name    15366 non-null object\n",
      "chain          15366 non-null object\n",
      "object_type    15366 non-null object\n",
      "address        15366 non-null object\n",
      "number         15366 non-null int64\n",
      "dtypes: int64(2), object(4)\n",
      "memory usage: 720.4+ KB\n"
     ]
    }
   ],
   "source": [
    "df.info()"
   ]
  },
  {
   "cell_type": "markdown",
   "metadata": {},
   "source": [
    "У нас 15366 записей в таблице, типы данных корректные, явных (NaN) пропусков нет "
   ]
  },
  {
   "cell_type": "code",
   "execution_count": 5,
   "metadata": {},
   "outputs": [
    {
     "data": {
      "text/plain": [
       "0"
      ]
     },
     "execution_count": 5,
     "metadata": {},
     "output_type": "execute_result"
    }
   ],
   "source": [
    "df.duplicated().sum()"
   ]
  },
  {
   "cell_type": "markdown",
   "metadata": {},
   "source": [
    "Полных дублей в таблице нет"
   ]
  },
  {
   "cell_type": "markdown",
   "metadata": {},
   "source": [
    "## id"
   ]
  },
  {
   "cell_type": "code",
   "execution_count": 6,
   "metadata": {},
   "outputs": [
    {
     "data": {
      "text/plain": [
       "count     15366.000000\n",
       "mean     119720.066901\n",
       "std       73036.130732\n",
       "min         838.000000\n",
       "25%       28524.000000\n",
       "50%      144974.500000\n",
       "75%      184262.250000\n",
       "max      223439.000000\n",
       "Name: id, dtype: float64"
      ]
     },
     "execution_count": 6,
     "metadata": {},
     "output_type": "execute_result"
    }
   ],
   "source": [
    "df['id'].describe()"
   ]
  },
  {
   "cell_type": "markdown",
   "metadata": {},
   "source": [
    "С id всё в порядке, они уникальны "
   ]
  },
  {
   "cell_type": "markdown",
   "metadata": {},
   "source": [
    "## object_name"
   ]
  },
  {
   "cell_type": "code",
   "execution_count": 7,
   "metadata": {},
   "outputs": [
    {
     "data": {
      "text/plain": [
       "count        15366\n",
       "unique       10393\n",
       "top       Столовая\n",
       "freq           267\n",
       "Name: object_name, dtype: object"
      ]
     },
     "execution_count": 7,
     "metadata": {},
     "output_type": "execute_result"
    }
   ],
   "source": [
    "df['object_name'].describe()"
   ]
  },
  {
   "cell_type": "markdown",
   "metadata": {},
   "source": [
    "Есть довольно много одинаковых названий. Посмотрим, что за этом стоит "
   ]
  },
  {
   "cell_type": "code",
   "execution_count": 8,
   "metadata": {
    "scrolled": false
   },
   "outputs": [
    {
     "data": {
      "text/html": [
       "<div>\n",
       "<style scoped>\n",
       "    .dataframe tbody tr th:only-of-type {\n",
       "        vertical-align: middle;\n",
       "    }\n",
       "\n",
       "    .dataframe tbody tr th {\n",
       "        vertical-align: top;\n",
       "    }\n",
       "\n",
       "    .dataframe thead th {\n",
       "        text-align: right;\n",
       "    }\n",
       "</style>\n",
       "<table border=\"1\" class=\"dataframe\">\n",
       "  <thead>\n",
       "    <tr style=\"text-align: right;\">\n",
       "      <th></th>\n",
       "      <th>id</th>\n",
       "      <th>object_name</th>\n",
       "      <th>chain</th>\n",
       "      <th>object_type</th>\n",
       "      <th>address</th>\n",
       "      <th>number</th>\n",
       "    </tr>\n",
       "  </thead>\n",
       "  <tbody>\n",
       "    <tr>\n",
       "      <td>61</td>\n",
       "      <td>21214</td>\n",
       "      <td>Столовая</td>\n",
       "      <td>нет</td>\n",
       "      <td>столовая</td>\n",
       "      <td>город Москва, Бабаевская улица, дом 3</td>\n",
       "      <td>90</td>\n",
       "    </tr>\n",
       "    <tr>\n",
       "      <td>438</td>\n",
       "      <td>154690</td>\n",
       "      <td>Столовая</td>\n",
       "      <td>нет</td>\n",
       "      <td>столовая</td>\n",
       "      <td>город Москва, Коломенская улица, дом 5</td>\n",
       "      <td>5</td>\n",
       "    </tr>\n",
       "    <tr>\n",
       "      <td>523</td>\n",
       "      <td>155168</td>\n",
       "      <td>Столовая</td>\n",
       "      <td>нет</td>\n",
       "      <td>столовая</td>\n",
       "      <td>город Москва, Кусковская улица, дом 1</td>\n",
       "      <td>20</td>\n",
       "    </tr>\n",
       "    <tr>\n",
       "      <td>714</td>\n",
       "      <td>28543</td>\n",
       "      <td>Столовая</td>\n",
       "      <td>нет</td>\n",
       "      <td>столовая</td>\n",
       "      <td>город Москва, Михалковская улица, дом 7</td>\n",
       "      <td>80</td>\n",
       "    </tr>\n",
       "    <tr>\n",
       "      <td>803</td>\n",
       "      <td>27808</td>\n",
       "      <td>Столовая</td>\n",
       "      <td>нет</td>\n",
       "      <td>столовая</td>\n",
       "      <td>город Москва, Окружной проезд, дом 15</td>\n",
       "      <td>40</td>\n",
       "    </tr>\n",
       "    <tr>\n",
       "      <td>...</td>\n",
       "      <td>...</td>\n",
       "      <td>...</td>\n",
       "      <td>...</td>\n",
       "      <td>...</td>\n",
       "      <td>...</td>\n",
       "      <td>...</td>\n",
       "    </tr>\n",
       "    <tr>\n",
       "      <td>14682</td>\n",
       "      <td>206312</td>\n",
       "      <td>Столовая</td>\n",
       "      <td>нет</td>\n",
       "      <td>столовая</td>\n",
       "      <td>город Москва, Ступинский проезд, дом 7, строение 1</td>\n",
       "      <td>16</td>\n",
       "    </tr>\n",
       "    <tr>\n",
       "      <td>14683</td>\n",
       "      <td>206509</td>\n",
       "      <td>Столовая</td>\n",
       "      <td>нет</td>\n",
       "      <td>столовая</td>\n",
       "      <td>город Москва, Булатниковская улица, дом 20, строение 2</td>\n",
       "      <td>65</td>\n",
       "    </tr>\n",
       "    <tr>\n",
       "      <td>14810</td>\n",
       "      <td>206875</td>\n",
       "      <td>Столовая</td>\n",
       "      <td>нет</td>\n",
       "      <td>столовая</td>\n",
       "      <td>город Москва, поселение Первомайское, деревня Поповка, Дорожная улица, дом 12, строение 1</td>\n",
       "      <td>28</td>\n",
       "    </tr>\n",
       "    <tr>\n",
       "      <td>14830</td>\n",
       "      <td>213864</td>\n",
       "      <td>Столовая</td>\n",
       "      <td>нет</td>\n",
       "      <td>столовая</td>\n",
       "      <td>город Москва, улица Василисы Кожиной, дом 1, корпус 1</td>\n",
       "      <td>49</td>\n",
       "    </tr>\n",
       "    <tr>\n",
       "      <td>14971</td>\n",
       "      <td>208949</td>\n",
       "      <td>Столовая</td>\n",
       "      <td>нет</td>\n",
       "      <td>столовая</td>\n",
       "      <td>город Москва, Отрадная улица, дом 2Б, строение 9</td>\n",
       "      <td>250</td>\n",
       "    </tr>\n",
       "  </tbody>\n",
       "</table>\n",
       "<p>267 rows × 6 columns</p>\n",
       "</div>"
      ],
      "text/plain": [
       "           id object_name chain object_type  \\\n",
       "61      21214    Столовая   нет    столовая   \n",
       "438    154690    Столовая   нет    столовая   \n",
       "523    155168    Столовая   нет    столовая   \n",
       "714     28543    Столовая   нет    столовая   \n",
       "803     27808    Столовая   нет    столовая   \n",
       "...       ...         ...   ...         ...   \n",
       "14682  206312    Столовая   нет    столовая   \n",
       "14683  206509    Столовая   нет    столовая   \n",
       "14810  206875    Столовая   нет    столовая   \n",
       "14830  213864    Столовая   нет    столовая   \n",
       "14971  208949    Столовая   нет    столовая   \n",
       "\n",
       "                                                                                         address  \\\n",
       "61                                                         город Москва, Бабаевская улица, дом 3   \n",
       "438                                                       город Москва, Коломенская улица, дом 5   \n",
       "523                                                        город Москва, Кусковская улица, дом 1   \n",
       "714                                                      город Москва, Михалковская улица, дом 7   \n",
       "803                                                        город Москва, Окружной проезд, дом 15   \n",
       "...                                                                                          ...   \n",
       "14682                                         город Москва, Ступинский проезд, дом 7, строение 1   \n",
       "14683                                     город Москва, Булатниковская улица, дом 20, строение 2   \n",
       "14810  город Москва, поселение Первомайское, деревня Поповка, Дорожная улица, дом 12, строение 1   \n",
       "14830                                      город Москва, улица Василисы Кожиной, дом 1, корпус 1   \n",
       "14971                                           город Москва, Отрадная улица, дом 2Б, строение 9   \n",
       "\n",
       "       number  \n",
       "61         90  \n",
       "438         5  \n",
       "523        20  \n",
       "714        80  \n",
       "803        40  \n",
       "...       ...  \n",
       "14682      16  \n",
       "14683      65  \n",
       "14810      28  \n",
       "14830      49  \n",
       "14971     250  \n",
       "\n",
       "[267 rows x 6 columns]"
      ]
     },
     "execution_count": 8,
     "metadata": {},
     "output_type": "execute_result"
    }
   ],
   "source": [
    "df[df['object_name'] == 'Столовая']"
   ]
  },
  {
   "cell_type": "markdown",
   "metadata": {},
   "source": [
    "Понятно, что это разные заведения с не слишком оригинальным названием  \n",
    "Приведём столбец к одному виду, уберём заглавные буквы"
   ]
  },
  {
   "cell_type": "code",
   "execution_count": 9,
   "metadata": {},
   "outputs": [],
   "source": [
    "df['object_name'] = df['object_name'].str.lower()"
   ]
  },
  {
   "cell_type": "markdown",
   "metadata": {},
   "source": [
    "Посмотрим на наиболее частые названия, вдруг окажется, что филиалы одной сети названы разными способами "
   ]
  },
  {
   "cell_type": "code",
   "execution_count": 10,
   "metadata": {
    "scrolled": false
   },
   "outputs": [
    {
     "data": {
      "text/html": [
       "<div>\n",
       "<style scoped>\n",
       "    .dataframe tbody tr th:only-of-type {\n",
       "        vertical-align: middle;\n",
       "    }\n",
       "\n",
       "    .dataframe tbody tr th {\n",
       "        vertical-align: top;\n",
       "    }\n",
       "\n",
       "    .dataframe thead th {\n",
       "        text-align: right;\n",
       "    }\n",
       "</style>\n",
       "<table border=\"1\" class=\"dataframe\">\n",
       "  <thead>\n",
       "    <tr style=\"text-align: right;\">\n",
       "      <th></th>\n",
       "      <th>number</th>\n",
       "    </tr>\n",
       "    <tr>\n",
       "      <th>object_name</th>\n",
       "      <th></th>\n",
       "    </tr>\n",
       "  </thead>\n",
       "  <tbody>\n",
       "    <tr>\n",
       "      <td>столовая</td>\n",
       "      <td>321</td>\n",
       "    </tr>\n",
       "    <tr>\n",
       "      <td>кафе</td>\n",
       "      <td>278</td>\n",
       "    </tr>\n",
       "    <tr>\n",
       "      <td>шаурма</td>\n",
       "      <td>250</td>\n",
       "    </tr>\n",
       "    <tr>\n",
       "      <td>шоколадница</td>\n",
       "      <td>158</td>\n",
       "    </tr>\n",
       "    <tr>\n",
       "      <td>kfc</td>\n",
       "      <td>155</td>\n",
       "    </tr>\n",
       "    <tr>\n",
       "      <td>макдоналдс</td>\n",
       "      <td>151</td>\n",
       "    </tr>\n",
       "    <tr>\n",
       "      <td>бургер кинг</td>\n",
       "      <td>137</td>\n",
       "    </tr>\n",
       "    <tr>\n",
       "      <td>теремок</td>\n",
       "      <td>94</td>\n",
       "    </tr>\n",
       "    <tr>\n",
       "      <td>крошка картошка</td>\n",
       "      <td>90</td>\n",
       "    </tr>\n",
       "    <tr>\n",
       "      <td>домино'с пицца</td>\n",
       "      <td>90</td>\n",
       "    </tr>\n",
       "    <tr>\n",
       "      <td>пекарня</td>\n",
       "      <td>82</td>\n",
       "    </tr>\n",
       "    <tr>\n",
       "      <td>буфет</td>\n",
       "      <td>82</td>\n",
       "    </tr>\n",
       "    <tr>\n",
       "      <td>суши wok</td>\n",
       "      <td>72</td>\n",
       "    </tr>\n",
       "    <tr>\n",
       "      <td>милти</td>\n",
       "      <td>72</td>\n",
       "    </tr>\n",
       "    <tr>\n",
       "      <td>папа джонс</td>\n",
       "      <td>51</td>\n",
       "    </tr>\n",
       "    <tr>\n",
       "      <td>додо пицца</td>\n",
       "      <td>49</td>\n",
       "    </tr>\n",
       "    <tr>\n",
       "      <td>кофе с собой</td>\n",
       "      <td>46</td>\n",
       "    </tr>\n",
       "    <tr>\n",
       "      <td>школьно-базовая столовая</td>\n",
       "      <td>44</td>\n",
       "    </tr>\n",
       "    <tr>\n",
       "      <td>чайхона №1</td>\n",
       "      <td>43</td>\n",
       "    </tr>\n",
       "    <tr>\n",
       "      <td>донер кебаб</td>\n",
       "      <td>41</td>\n",
       "    </tr>\n",
       "    <tr>\n",
       "      <td>кафетерий</td>\n",
       "      <td>40</td>\n",
       "    </tr>\n",
       "    <tr>\n",
       "      <td>якитория</td>\n",
       "      <td>38</td>\n",
       "    </tr>\n",
       "    <tr>\n",
       "      <td>хинкальная</td>\n",
       "      <td>38</td>\n",
       "    </tr>\n",
       "    <tr>\n",
       "      <td>выпечка</td>\n",
       "      <td>36</td>\n",
       "    </tr>\n",
       "    <tr>\n",
       "      <td>кофе хаус</td>\n",
       "      <td>35</td>\n",
       "    </tr>\n",
       "    <tr>\n",
       "      <td>subway</td>\n",
       "      <td>34</td>\n",
       "    </tr>\n",
       "    <tr>\n",
       "      <td>кофейня</td>\n",
       "      <td>33</td>\n",
       "    </tr>\n",
       "    <tr>\n",
       "      <td>хлеб насущный</td>\n",
       "      <td>32</td>\n",
       "    </tr>\n",
       "    <tr>\n",
       "      <td>тануки</td>\n",
       "      <td>32</td>\n",
       "    </tr>\n",
       "    <tr>\n",
       "      <td>starbucks</td>\n",
       "      <td>30</td>\n",
       "    </tr>\n",
       "    <tr>\n",
       "      <td>прайм стар</td>\n",
       "      <td>26</td>\n",
       "    </tr>\n",
       "    <tr>\n",
       "      <td>иль патио</td>\n",
       "      <td>25</td>\n",
       "    </tr>\n",
       "    <tr>\n",
       "      <td>бистро</td>\n",
       "      <td>25</td>\n",
       "    </tr>\n",
       "    <tr>\n",
       "      <td>cofix</td>\n",
       "      <td>25</td>\n",
       "    </tr>\n",
       "    <tr>\n",
       "      <td>пиццерия</td>\n",
       "      <td>24</td>\n",
       "    </tr>\n",
       "    <tr>\n",
       "      <td>му-му</td>\n",
       "      <td>24</td>\n",
       "    </tr>\n",
       "    <tr>\n",
       "      <td>мята lounge</td>\n",
       "      <td>24</td>\n",
       "    </tr>\n",
       "    <tr>\n",
       "      <td>кулинария</td>\n",
       "      <td>23</td>\n",
       "    </tr>\n",
       "    <tr>\n",
       "      <td>бар</td>\n",
       "      <td>22</td>\n",
       "    </tr>\n",
       "    <tr>\n",
       "      <td>старбакс</td>\n",
       "      <td>21</td>\n",
       "    </tr>\n",
       "    <tr>\n",
       "      <td>донер</td>\n",
       "      <td>20</td>\n",
       "    </tr>\n",
       "    <tr>\n",
       "      <td>андерсон</td>\n",
       "      <td>19</td>\n",
       "    </tr>\n",
       "    <tr>\n",
       "      <td>сабвей</td>\n",
       "      <td>19</td>\n",
       "    </tr>\n",
       "    <tr>\n",
       "      <td>кафе «шоколадница»</td>\n",
       "      <td>18</td>\n",
       "    </tr>\n",
       "    <tr>\n",
       "      <td>пицца хат</td>\n",
       "      <td>18</td>\n",
       "    </tr>\n",
       "    <tr>\n",
       "      <td>кофе</td>\n",
       "      <td>16</td>\n",
       "    </tr>\n",
       "    <tr>\n",
       "      <td>комбинат питания мгту им.н.э.баумана</td>\n",
       "      <td>16</td>\n",
       "    </tr>\n",
       "    <tr>\n",
       "      <td>чайхона</td>\n",
       "      <td>16</td>\n",
       "    </tr>\n",
       "    <tr>\n",
       "      <td>кулинарная лавка братьев караваевых</td>\n",
       "      <td>16</td>\n",
       "    </tr>\n",
       "    <tr>\n",
       "      <td>французская пекарня</td>\n",
       "      <td>15</td>\n",
       "    </tr>\n",
       "  </tbody>\n",
       "</table>\n",
       "</div>"
      ],
      "text/plain": [
       "                                      number\n",
       "object_name                                 \n",
       "столовая                                 321\n",
       "кафе                                     278\n",
       "шаурма                                   250\n",
       "шоколадница                              158\n",
       "kfc                                      155\n",
       "макдоналдс                               151\n",
       "бургер кинг                              137\n",
       "теремок                                   94\n",
       "крошка картошка                           90\n",
       "домино'с пицца                            90\n",
       "пекарня                                   82\n",
       "буфет                                     82\n",
       "суши wok                                  72\n",
       "милти                                     72\n",
       "папа джонс                                51\n",
       "додо пицца                                49\n",
       "кофе с собой                              46\n",
       "школьно-базовая столовая                  44\n",
       "чайхона №1                                43\n",
       "донер кебаб                               41\n",
       "кафетерий                                 40\n",
       "якитория                                  38\n",
       "хинкальная                                38\n",
       "выпечка                                   36\n",
       "кофе хаус                                 35\n",
       "subway                                    34\n",
       "кофейня                                   33\n",
       "хлеб насущный                             32\n",
       "тануки                                    32\n",
       "starbucks                                 30\n",
       "прайм стар                                26\n",
       "иль патио                                 25\n",
       "бистро                                    25\n",
       "cofix                                     25\n",
       "пиццерия                                  24\n",
       "му-му                                     24\n",
       "мята lounge                               24\n",
       "кулинария                                 23\n",
       "бар                                       22\n",
       "старбакс                                  21\n",
       "донер                                     20\n",
       "андерсон                                  19\n",
       "сабвей                                    19\n",
       "кафе «шоколадница»                        18\n",
       "пицца хат                                 18\n",
       "кофе                                      16\n",
       "комбинат питания мгту им.н.э.баумана      16\n",
       "чайхона                                   16\n",
       "кулинарная лавка братьев караваевых       16\n",
       "французская пекарня                       15"
      ]
     },
     "execution_count": 10,
     "metadata": {},
     "output_type": "execute_result"
    }
   ],
   "source": [
    "df.groupby('object_name').agg({'number': 'count'}).sort_values('number', ascending=False).head(50)"
   ]
  },
  {
   "cell_type": "markdown",
   "metadata": {},
   "source": [
    "В топ50 у нас две очевидных ошибки: два старбакса и две шоколадницы. Исправим их, остальное трогать не будем, это ручная очистка, которая вряд ли прингесёт много пользы"
   ]
  },
  {
   "cell_type": "code",
   "execution_count": 11,
   "metadata": {},
   "outputs": [],
   "source": [
    "df[df['object_name'] == 'старбакс']['object_name'] = 'starbucks'\n",
    "df[df['object_name'] == 'кафе «шоколадница»']['object_name'] = 'шоколадница'"
   ]
  },
  {
   "cell_type": "markdown",
   "metadata": {},
   "source": [
    "## chain  \n",
    "Посмотрим на столбец, описывающий принадлежность к торговой сети"
   ]
  },
  {
   "cell_type": "code",
   "execution_count": 12,
   "metadata": {},
   "outputs": [
    {
     "data": {
      "text/plain": [
       "array(['нет', 'да'], dtype=object)"
      ]
     },
     "execution_count": 12,
     "metadata": {},
     "output_type": "execute_result"
    }
   ],
   "source": [
    "df['chain'].unique()"
   ]
  },
  {
   "cell_type": "markdown",
   "metadata": {},
   "source": [
    "Очень хорошо: только да и нет, без пропусков и прочего "
   ]
  },
  {
   "cell_type": "code",
   "execution_count": 13,
   "metadata": {},
   "outputs": [
    {
     "data": {
      "text/html": [
       "<div>\n",
       "<style scoped>\n",
       "    .dataframe tbody tr th:only-of-type {\n",
       "        vertical-align: middle;\n",
       "    }\n",
       "\n",
       "    .dataframe tbody tr th {\n",
       "        vertical-align: top;\n",
       "    }\n",
       "\n",
       "    .dataframe thead th {\n",
       "        text-align: right;\n",
       "    }\n",
       "</style>\n",
       "<table border=\"1\" class=\"dataframe\">\n",
       "  <thead>\n",
       "    <tr style=\"text-align: right;\">\n",
       "      <th></th>\n",
       "      <th>number</th>\n",
       "    </tr>\n",
       "    <tr>\n",
       "      <th>chain</th>\n",
       "      <th></th>\n",
       "    </tr>\n",
       "  </thead>\n",
       "  <tbody>\n",
       "    <tr>\n",
       "      <td>да</td>\n",
       "      <td>2968</td>\n",
       "    </tr>\n",
       "    <tr>\n",
       "      <td>нет</td>\n",
       "      <td>12398</td>\n",
       "    </tr>\n",
       "  </tbody>\n",
       "</table>\n",
       "</div>"
      ],
      "text/plain": [
       "       number\n",
       "chain        \n",
       "да       2968\n",
       "нет     12398"
      ]
     },
     "execution_count": 13,
     "metadata": {},
     "output_type": "execute_result"
    }
   ],
   "source": [
    "df.groupby('chain').agg({'number': 'count'})"
   ]
  },
  {
   "cell_type": "markdown",
   "metadata": {},
   "source": [
    "## object_type"
   ]
  },
  {
   "cell_type": "code",
   "execution_count": 14,
   "metadata": {},
   "outputs": [
    {
     "data": {
      "text/plain": [
       "count     15366\n",
       "unique        9\n",
       "top        кафе\n",
       "freq       6099\n",
       "Name: object_type, dtype: object"
      ]
     },
     "execution_count": 14,
     "metadata": {},
     "output_type": "execute_result"
    }
   ],
   "source": [
    "df['object_type'].describe()"
   ]
  },
  {
   "cell_type": "code",
   "execution_count": 15,
   "metadata": {},
   "outputs": [
    {
     "data": {
      "text/plain": [
       "array(['кафе', 'столовая', 'закусочная',\n",
       "       'предприятие быстрого обслуживания', 'ресторан', 'кафетерий',\n",
       "       'буфет', 'бар', 'магазин (отдел кулинарии)'], dtype=object)"
      ]
     },
     "execution_count": 15,
     "metadata": {},
     "output_type": "execute_result"
    }
   ],
   "source": [
    "df['object_type'].unique()"
   ]
  },
  {
   "cell_type": "markdown",
   "metadata": {},
   "source": [
    "Типов объектов в нашей таблице девять  \n",
    "Посмотрим для сетевых заведений их классы "
   ]
  },
  {
   "cell_type": "code",
   "execution_count": 16,
   "metadata": {},
   "outputs": [
    {
     "data": {
      "text/html": [
       "<div>\n",
       "<style scoped>\n",
       "    .dataframe tbody tr th:only-of-type {\n",
       "        vertical-align: middle;\n",
       "    }\n",
       "\n",
       "    .dataframe tbody tr th {\n",
       "        vertical-align: top;\n",
       "    }\n",
       "\n",
       "    .dataframe thead th {\n",
       "        text-align: right;\n",
       "    }\n",
       "</style>\n",
       "<table border=\"1\" class=\"dataframe\">\n",
       "  <thead>\n",
       "    <tr style=\"text-align: right;\">\n",
       "      <th></th>\n",
       "      <th>object_name</th>\n",
       "      <th>object_type</th>\n",
       "      <th>number</th>\n",
       "    </tr>\n",
       "  </thead>\n",
       "  <tbody>\n",
       "    <tr>\n",
       "      <td>782</td>\n",
       "      <td>шоколадница</td>\n",
       "      <td>кафе</td>\n",
       "      <td>150</td>\n",
       "    </tr>\n",
       "    <tr>\n",
       "      <td>443</td>\n",
       "      <td>макдоналдс</td>\n",
       "      <td>предприятие быстрого обслуживания</td>\n",
       "      <td>103</td>\n",
       "    </tr>\n",
       "    <tr>\n",
       "      <td>38</td>\n",
       "      <td>kfc</td>\n",
       "      <td>предприятие быстрого обслуживания</td>\n",
       "      <td>99</td>\n",
       "    </tr>\n",
       "    <tr>\n",
       "      <td>152</td>\n",
       "      <td>бургер кинг</td>\n",
       "      <td>предприятие быстрого обслуживания</td>\n",
       "      <td>93</td>\n",
       "    </tr>\n",
       "    <tr>\n",
       "      <td>411</td>\n",
       "      <td>крошка картошка</td>\n",
       "      <td>предприятие быстрого обслуживания</td>\n",
       "      <td>58</td>\n",
       "    </tr>\n",
       "    <tr>\n",
       "      <td>719</td>\n",
       "      <td>теремок</td>\n",
       "      <td>предприятие быстрого обслуживания</td>\n",
       "      <td>55</td>\n",
       "    </tr>\n",
       "    <tr>\n",
       "      <td>226</td>\n",
       "      <td>домино'с пицца</td>\n",
       "      <td>кафе</td>\n",
       "      <td>51</td>\n",
       "    </tr>\n",
       "    <tr>\n",
       "      <td>221</td>\n",
       "      <td>додо пицца</td>\n",
       "      <td>кафе</td>\n",
       "      <td>37</td>\n",
       "    </tr>\n",
       "    <tr>\n",
       "      <td>766</td>\n",
       "      <td>чайхона №1</td>\n",
       "      <td>ресторан</td>\n",
       "      <td>37</td>\n",
       "    </tr>\n",
       "    <tr>\n",
       "      <td>687</td>\n",
       "      <td>суши wok</td>\n",
       "      <td>кафе</td>\n",
       "      <td>35</td>\n",
       "    </tr>\n",
       "    <tr>\n",
       "      <td>752</td>\n",
       "      <td>хинкальная</td>\n",
       "      <td>кафе</td>\n",
       "      <td>33</td>\n",
       "    </tr>\n",
       "    <tr>\n",
       "      <td>383</td>\n",
       "      <td>кофе хаус</td>\n",
       "      <td>кафе</td>\n",
       "      <td>32</td>\n",
       "    </tr>\n",
       "    <tr>\n",
       "      <td>759</td>\n",
       "      <td>хлеб насущный</td>\n",
       "      <td>кафе</td>\n",
       "      <td>30</td>\n",
       "    </tr>\n",
       "    <tr>\n",
       "      <td>39</td>\n",
       "      <td>kfc</td>\n",
       "      <td>ресторан</td>\n",
       "      <td>30</td>\n",
       "    </tr>\n",
       "    <tr>\n",
       "      <td>710</td>\n",
       "      <td>тануки</td>\n",
       "      <td>ресторан</td>\n",
       "      <td>29</td>\n",
       "    </tr>\n",
       "    <tr>\n",
       "      <td>227</td>\n",
       "      <td>домино'с пицца</td>\n",
       "      <td>предприятие быстрого обслуживания</td>\n",
       "      <td>28</td>\n",
       "    </tr>\n",
       "    <tr>\n",
       "      <td>444</td>\n",
       "      <td>макдоналдс</td>\n",
       "      <td>ресторан</td>\n",
       "      <td>27</td>\n",
       "    </tr>\n",
       "    <tr>\n",
       "      <td>460</td>\n",
       "      <td>милти</td>\n",
       "      <td>магазин (отдел кулинарии)</td>\n",
       "      <td>27</td>\n",
       "    </tr>\n",
       "    <tr>\n",
       "      <td>461</td>\n",
       "      <td>милти</td>\n",
       "      <td>предприятие быстрого обслуживания</td>\n",
       "      <td>27</td>\n",
       "    </tr>\n",
       "    <tr>\n",
       "      <td>37</td>\n",
       "      <td>kfc</td>\n",
       "      <td>кафе</td>\n",
       "      <td>26</td>\n",
       "    </tr>\n",
       "    <tr>\n",
       "      <td>567</td>\n",
       "      <td>прайм стар</td>\n",
       "      <td>кафе</td>\n",
       "      <td>25</td>\n",
       "    </tr>\n",
       "    <tr>\n",
       "      <td>794</td>\n",
       "      <td>якитория</td>\n",
       "      <td>ресторан</td>\n",
       "      <td>25</td>\n",
       "    </tr>\n",
       "    <tr>\n",
       "      <td>718</td>\n",
       "      <td>теремок</td>\n",
       "      <td>кафе</td>\n",
       "      <td>25</td>\n",
       "    </tr>\n",
       "    <tr>\n",
       "      <td>410</td>\n",
       "      <td>крошка картошка</td>\n",
       "      <td>кафе</td>\n",
       "      <td>24</td>\n",
       "    </tr>\n",
       "    <tr>\n",
       "      <td>504</td>\n",
       "      <td>папа джонс</td>\n",
       "      <td>кафе</td>\n",
       "      <td>24</td>\n",
       "    </tr>\n",
       "    <tr>\n",
       "      <td>151</td>\n",
       "      <td>бургер кинг</td>\n",
       "      <td>кафе</td>\n",
       "      <td>23</td>\n",
       "    </tr>\n",
       "    <tr>\n",
       "      <td>65</td>\n",
       "      <td>starbucks</td>\n",
       "      <td>кафе</td>\n",
       "      <td>23</td>\n",
       "    </tr>\n",
       "    <tr>\n",
       "      <td>76</td>\n",
       "      <td>subway</td>\n",
       "      <td>предприятие быстрого обслуживания</td>\n",
       "      <td>22</td>\n",
       "    </tr>\n",
       "    <tr>\n",
       "      <td>689</td>\n",
       "      <td>суши wok</td>\n",
       "      <td>предприятие быстрого обслуживания</td>\n",
       "      <td>22</td>\n",
       "    </tr>\n",
       "    <tr>\n",
       "      <td>255</td>\n",
       "      <td>иль патио</td>\n",
       "      <td>ресторан</td>\n",
       "      <td>21</td>\n",
       "    </tr>\n",
       "  </tbody>\n",
       "</table>\n",
       "</div>"
      ],
      "text/plain": [
       "         object_name                        object_type  number\n",
       "782      шоколадница                               кафе     150\n",
       "443       макдоналдс  предприятие быстрого обслуживания     103\n",
       "38               kfc  предприятие быстрого обслуживания      99\n",
       "152      бургер кинг  предприятие быстрого обслуживания      93\n",
       "411  крошка картошка  предприятие быстрого обслуживания      58\n",
       "719          теремок  предприятие быстрого обслуживания      55\n",
       "226   домино'с пицца                               кафе      51\n",
       "221       додо пицца                               кафе      37\n",
       "766       чайхона №1                           ресторан      37\n",
       "687         суши wok                               кафе      35\n",
       "752       хинкальная                               кафе      33\n",
       "383        кофе хаус                               кафе      32\n",
       "759    хлеб насущный                               кафе      30\n",
       "39               kfc                           ресторан      30\n",
       "710           тануки                           ресторан      29\n",
       "227   домино'с пицца  предприятие быстрого обслуживания      28\n",
       "444       макдоналдс                           ресторан      27\n",
       "460            милти          магазин (отдел кулинарии)      27\n",
       "461            милти  предприятие быстрого обслуживания      27\n",
       "37               kfc                               кафе      26\n",
       "567       прайм стар                               кафе      25\n",
       "794         якитория                           ресторан      25\n",
       "718          теремок                               кафе      25\n",
       "410  крошка картошка                               кафе      24\n",
       "504       папа джонс                               кафе      24\n",
       "151      бургер кинг                               кафе      23\n",
       "65         starbucks                               кафе      23\n",
       "76            subway  предприятие быстрого обслуживания      22\n",
       "689         суши wok  предприятие быстрого обслуживания      22\n",
       "255        иль патио                           ресторан      21"
      ]
     },
     "execution_count": 16,
     "metadata": {},
     "output_type": "execute_result"
    }
   ],
   "source": [
    "name_type = (\n",
    "            df.query('chain == \"да\"').groupby(['object_name', 'object_type' ])\n",
    "             .agg({'number': 'count'})\n",
    "             .reset_index()\n",
    "             .sort_values('number', ascending=False)\n",
    "            )\n",
    "name_type.head(30)"
   ]
  },
  {
   "cell_type": "markdown",
   "metadata": {},
   "source": [
    "Цифры не совпадают. Некоторые заведения у нас записали сразу в два типа, надо это иправить "
   ]
  },
  {
   "cell_type": "code",
   "execution_count": 17,
   "metadata": {},
   "outputs": [],
   "source": [
    "name_type_count = (\n",
    "    name_type.groupby('object_name')\n",
    "    .agg({'object_type': 'nunique', 'number': 'sum'})\n",
    "    .query('object_type > 1')\n",
    "    .sort_values('number', ascending=False)\n",
    "    .reset_index()\n",
    ")\n",
    "\n",
    "object_name_list = list(name_type_count['object_name'])"
   ]
  },
  {
   "cell_type": "code",
   "execution_count": 18,
   "metadata": {},
   "outputs": [],
   "source": [
    "type_for_name = (\n",
    "    name_type\n",
    "    .query('object_name in @object_name_list')\n",
    "    .groupby('object_name')\n",
    "    .agg({'object_type':'first'})\n",
    "    .reset_index()\n",
    ")"
   ]
  },
  {
   "cell_type": "code",
   "execution_count": 19,
   "metadata": {},
   "outputs": [
    {
     "data": {
      "text/html": [
       "<div>\n",
       "<style scoped>\n",
       "    .dataframe tbody tr th:only-of-type {\n",
       "        vertical-align: middle;\n",
       "    }\n",
       "\n",
       "    .dataframe tbody tr th {\n",
       "        vertical-align: top;\n",
       "    }\n",
       "\n",
       "    .dataframe thead th {\n",
       "        text-align: right;\n",
       "    }\n",
       "</style>\n",
       "<table border=\"1\" class=\"dataframe\">\n",
       "  <thead>\n",
       "    <tr style=\"text-align: right;\">\n",
       "      <th></th>\n",
       "      <th>object_name</th>\n",
       "      <th>object_type</th>\n",
       "    </tr>\n",
       "  </thead>\n",
       "  <tbody>\n",
       "    <tr>\n",
       "      <td>9</td>\n",
       "      <td>kfc</td>\n",
       "      <td>предприятие быстрого обслуживания</td>\n",
       "    </tr>\n",
       "    <tr>\n",
       "      <td>79</td>\n",
       "      <td>макдоналдс</td>\n",
       "      <td>предприятие быстрого обслуживания</td>\n",
       "    </tr>\n",
       "  </tbody>\n",
       "</table>\n",
       "</div>"
      ],
      "text/plain": [
       "   object_name                        object_type\n",
       "9          kfc  предприятие быстрого обслуживания\n",
       "79  макдоналдс  предприятие быстрого обслуживания"
      ]
     },
     "execution_count": 19,
     "metadata": {},
     "output_type": "execute_result"
    }
   ],
   "source": [
    "type_for_name.query('object_name == \"kfc\"'\n",
    "                   'or object_name == \"макдоналдс\"')"
   ]
  },
  {
   "cell_type": "markdown",
   "metadata": {},
   "source": [
    "Составили датафрейм, где для каждого сетевого заведения у нас только один тип, наиболее часто встречающийся в таблице. Теперь заменим в исходной таблице тип объекта на корректный "
   ]
  },
  {
   "cell_type": "code",
   "execution_count": 20,
   "metadata": {},
   "outputs": [],
   "source": [
    "def type_corrector(row):\n",
    "    if row['object_name'] in object_name_list:\n",
    "        x = row['object_name']\n",
    "        return type_for_name.query('object_name == @x')['object_type'].item()\n",
    "    else:\n",
    "        return row['object_type']"
   ]
  },
  {
   "cell_type": "code",
   "execution_count": 21,
   "metadata": {
    "scrolled": false
   },
   "outputs": [],
   "source": [
    "df['object_type'] = df.apply(type_corrector, axis=1)"
   ]
  },
  {
   "cell_type": "code",
   "execution_count": 22,
   "metadata": {},
   "outputs": [
    {
     "data": {
      "text/html": [
       "<div>\n",
       "<style scoped>\n",
       "    .dataframe tbody tr th:only-of-type {\n",
       "        vertical-align: middle;\n",
       "    }\n",
       "\n",
       "    .dataframe tbody tr th {\n",
       "        vertical-align: top;\n",
       "    }\n",
       "\n",
       "    .dataframe thead th {\n",
       "        text-align: right;\n",
       "    }\n",
       "</style>\n",
       "<table border=\"1\" class=\"dataframe\">\n",
       "  <thead>\n",
       "    <tr style=\"text-align: right;\">\n",
       "      <th></th>\n",
       "      <th>object_type</th>\n",
       "    </tr>\n",
       "    <tr>\n",
       "      <th>object_name</th>\n",
       "      <th></th>\n",
       "    </tr>\n",
       "  </thead>\n",
       "  <tbody>\n",
       "    <tr>\n",
       "      <td>кальянная мята lounge</td>\n",
       "      <td>1</td>\n",
       "    </tr>\n",
       "    <tr>\n",
       "      <td>каро</td>\n",
       "      <td>1</td>\n",
       "    </tr>\n",
       "    <tr>\n",
       "      <td>кафе kfc</td>\n",
       "      <td>1</td>\n",
       "    </tr>\n",
       "    <tr>\n",
       "      <td>кофе с собой</td>\n",
       "      <td>1</td>\n",
       "    </tr>\n",
       "    <tr>\n",
       "      <td>ёрш</td>\n",
       "      <td>1</td>\n",
       "    </tr>\n",
       "  </tbody>\n",
       "</table>\n",
       "</div>"
      ],
      "text/plain": [
       "                       object_type\n",
       "object_name                       \n",
       "кальянная мята lounge            1\n",
       "каро                             1\n",
       "кафе kfc                         1\n",
       "кофе с собой                     1\n",
       "ёрш                              1"
      ]
     },
     "execution_count": 22,
     "metadata": {},
     "output_type": "execute_result"
    }
   ],
   "source": [
    "df.query('chain == \"да\"').groupby('object_name').agg({'object_type': 'nunique'}).sort_values('object_type').tail()"
   ]
  },
  {
   "cell_type": "markdown",
   "metadata": {},
   "source": [
    "Отлично, у нас получилось: для каждого заведения теперь один тип объекта"
   ]
  },
  {
   "cell_type": "markdown",
   "metadata": {},
   "source": [
    "## address"
   ]
  },
  {
   "cell_type": "code",
   "execution_count": 23,
   "metadata": {},
   "outputs": [
    {
     "data": {
      "text/plain": [
       "count                                      15366\n",
       "unique                                      9108\n",
       "top       город Москва, Ходынский бульвар, дом 4\n",
       "freq                                          95\n",
       "Name: address, dtype: object"
      ]
     },
     "execution_count": 23,
     "metadata": {},
     "output_type": "execute_result"
    }
   ],
   "source": [
    "df['address'].describe()"
   ]
  },
  {
   "cell_type": "code",
   "execution_count": 24,
   "metadata": {},
   "outputs": [
    {
     "data": {
      "text/plain": [
       "0           город Москва, улица Егора Абакумова, дом 9\n",
       "1    город Москва, улица Талалихина, дом 2/1, корпус 1\n",
       "2            город Москва, Абельмановская улица, дом 6\n",
       "3              город Москва, Абрамцевская улица, дом 1\n",
       "4    город Москва, Абрамцевская улица, дом 9, корпус 1\n",
       "Name: address, dtype: object"
      ]
     },
     "execution_count": 24,
     "metadata": {},
     "output_type": "execute_result"
    }
   ],
   "source": [
    "df['address'].head()"
   ]
  },
  {
   "cell_type": "markdown",
   "metadata": {},
   "source": [
    "Получим для каждого адреса его координату  \n",
    "*Этот шаг можно пропустить, его результаты сохранены отдельно*"
   ]
  },
  {
   "cell_type": "raw",
   "metadata": {},
   "source": [
    "df['Url'] = 'https://www.google.com/maps/search/' + df['address']"
   ]
  },
  {
   "cell_type": "raw",
   "metadata": {},
   "source": [
    "Url_With_Coordinates = []\n",
    "\n",
    "option = webdriver.ChromeOptions()\n",
    "prefs = {'profile.default_content_setting_values': {'images':2, 'javascript':2}}\n",
    "option.add_experimental_option('prefs', prefs)\n",
    "\n",
    "driver = webdriver.Chrome(\"C:\\\\chromedriver.exe\", options=option)\n",
    "\n",
    "for url in tqdmn(df.Url[:10], leave=False):\n",
    "    driver.get(url)\n",
    "    Url_With_Coordinates.append(driver.find_element_by_css_selector('meta[itemprop=image]').get_attribute('content'))\n",
    "    \n",
    "driver.close()"
   ]
  },
  {
   "cell_type": "raw",
   "metadata": {},
   "source": [
    "with open('Url_With_Coordinates.csv','w') as file:\n",
    "    wr = csv.writer(file)\n",
    "    wr.writerow(Url_With_Coordinates)"
   ]
  },
  {
   "cell_type": "markdown",
   "metadata": {},
   "source": [
    "Файл с результатами геокодирования - https://docs.google.com/spreadsheets/d/1Rnv1djH8gDoNH9O7S0G7T0knAieTzw5-YKvcefxGYxQ/edit?usp=sharing"
   ]
  },
  {
   "cell_type": "code",
   "execution_count": 25,
   "metadata": {},
   "outputs": [],
   "source": [
    "spreadsheet_id = \"1Rnv1djH8gDoNH9O7S0G7T0knAieTzw5-YKvcefxGYxQ\"\n",
    "file_name = f'https://docs.google.com/spreadsheets/d/{spreadsheet_id}/export?format=csv'\n",
    "r = requests.get(file_name)\n",
    "coordinates = pd.read_csv(BytesIO(r.content))"
   ]
  },
  {
   "cell_type": "code",
   "execution_count": 26,
   "metadata": {},
   "outputs": [
    {
     "name": "stdout",
     "output_type": "stream",
     "text": [
      "<class 'pandas.core.frame.DataFrame'>\n",
      "Index: 0 entries\n",
      "Columns: 15366 entries, https://maps.google.com/maps/api/staticmap?center=55.8792377%2C37.7141957&zoom=17&size=256x256&language=en&sensor=false&client=google-maps-frontend&signature=B1wuaf2Nio7HcS31WtXlas_HE34 to https://maps.google.com/maps/api/staticmap?center=55.7903552%2C37.5313481&zoom=17&size=256x256&language=en&sensor=false&client=google-maps-frontend&signature=74ZdbT7chStN3p8duSyr6DPfHPM.92\n",
      "dtypes: object(15366)\n",
      "memory usage: 0.0+ bytes\n"
     ]
    }
   ],
   "source": [
    "coordinates.info()"
   ]
  },
  {
   "cell_type": "markdown",
   "metadata": {},
   "source": [
    "Для каждого адреса мы получили лист `url`'ов, из которых можно вытащить координаты. Прикрепим к датасету и извлечём широту и долготу"
   ]
  },
  {
   "cell_type": "code",
   "execution_count": 27,
   "metadata": {},
   "outputs": [],
   "source": [
    "df['Url_With_Coordinates'] = list(coordinates)"
   ]
  },
  {
   "cell_type": "code",
   "execution_count": 28,
   "metadata": {},
   "outputs": [
    {
     "data": {
      "text/html": [
       "<div>\n",
       "<style scoped>\n",
       "    .dataframe tbody tr th:only-of-type {\n",
       "        vertical-align: middle;\n",
       "    }\n",
       "\n",
       "    .dataframe tbody tr th {\n",
       "        vertical-align: top;\n",
       "    }\n",
       "\n",
       "    .dataframe thead th {\n",
       "        text-align: right;\n",
       "    }\n",
       "</style>\n",
       "<table border=\"1\" class=\"dataframe\">\n",
       "  <thead>\n",
       "    <tr style=\"text-align: right;\">\n",
       "      <th></th>\n",
       "      <th>id</th>\n",
       "      <th>object_name</th>\n",
       "      <th>chain</th>\n",
       "      <th>object_type</th>\n",
       "      <th>address</th>\n",
       "      <th>number</th>\n",
       "      <th>Url_With_Coordinates</th>\n",
       "    </tr>\n",
       "  </thead>\n",
       "  <tbody>\n",
       "    <tr>\n",
       "      <td>0</td>\n",
       "      <td>151635</td>\n",
       "      <td>сметана</td>\n",
       "      <td>нет</td>\n",
       "      <td>кафе</td>\n",
       "      <td>город Москва, улица Егора Абакумова, дом 9</td>\n",
       "      <td>48</td>\n",
       "      <td>https://maps.google.com/maps/api/staticmap?center=55.8792377%2C37.7141957&amp;zoom=17&amp;size=256x256&amp;language=en&amp;sensor=fa...</td>\n",
       "    </tr>\n",
       "    <tr>\n",
       "      <td>1</td>\n",
       "      <td>77874</td>\n",
       "      <td>родник</td>\n",
       "      <td>нет</td>\n",
       "      <td>кафе</td>\n",
       "      <td>город Москва, улица Талалихина, дом 2/1, корпус 1</td>\n",
       "      <td>35</td>\n",
       "      <td>https://maps.google.com/maps/api/staticmap?center=55.7376317%2C37.6748651&amp;zoom=17&amp;size=256x256&amp;language=en&amp;sensor=fa...</td>\n",
       "    </tr>\n",
       "  </tbody>\n",
       "</table>\n",
       "</div>"
      ],
      "text/plain": [
       "       id object_name chain object_type  \\\n",
       "0  151635     сметана   нет        кафе   \n",
       "1   77874      родник   нет        кафе   \n",
       "\n",
       "                                             address  number  \\\n",
       "0         город Москва, улица Егора Абакумова, дом 9      48   \n",
       "1  город Москва, улица Талалихина, дом 2/1, корпус 1      35   \n",
       "\n",
       "                                                                                                      Url_With_Coordinates  \n",
       "0  https://maps.google.com/maps/api/staticmap?center=55.8792377%2C37.7141957&zoom=17&size=256x256&language=en&sensor=fa...  \n",
       "1  https://maps.google.com/maps/api/staticmap?center=55.7376317%2C37.6748651&zoom=17&size=256x256&language=en&sensor=fa...  "
      ]
     },
     "execution_count": 28,
     "metadata": {},
     "output_type": "execute_result"
    }
   ],
   "source": [
    "df.head(2)"
   ]
  },
  {
   "cell_type": "code",
   "execution_count": 29,
   "metadata": {},
   "outputs": [],
   "source": [
    "def lat_parcer(row):\n",
    "    return float(str(row['Url_With_Coordinates']).split('?center=')[1].split('&zoom=')[0].split('%2C')[0])\n",
    "\n",
    "def long_parcer(row):\n",
    "    return float(str(row['Url_With_Coordinates']).split('?center=')[1].split('&zoom=')[0].split('%2C')[1])\n"
   ]
  },
  {
   "cell_type": "code",
   "execution_count": 30,
   "metadata": {},
   "outputs": [
    {
     "data": {
      "text/plain": [
       "7"
      ]
     },
     "execution_count": 30,
     "metadata": {},
     "output_type": "execute_result"
    }
   ],
   "source": [
    "len(df[~df.Url_With_Coordinates.str.contains('&zoom=')])"
   ]
  },
  {
   "cell_type": "markdown",
   "metadata": {},
   "source": [
    "Для семи адресов наш парсер не сработает, можно или добавить вручную, либо выкинуть. Заведений мало, отбросим их "
   ]
  },
  {
   "cell_type": "code",
   "execution_count": 31,
   "metadata": {},
   "outputs": [],
   "source": [
    "df = df[df.Url_With_Coordinates.str.contains('&zoom=')].copy()"
   ]
  },
  {
   "cell_type": "code",
   "execution_count": 32,
   "metadata": {},
   "outputs": [],
   "source": [
    "df['lat'] = df.apply(lat_parcer, axis=1)\n",
    "df['long'] = df.apply(long_parcer, axis=1)"
   ]
  },
  {
   "cell_type": "markdown",
   "metadata": {},
   "source": [
    "## Вывод"
   ]
  },
  {
   "cell_type": "markdown",
   "metadata": {},
   "source": [
    "Обработали данные:  \n",
    "- проверили корректность заполнения полей `id` и `chain`;  \n",
    "- привели названия сетевых заведений к единому написанию;  \n",
    "- исправили ошибку, при которой для разных филиалов одного заведения были указаны различные типы объектов;  \n",
    "- для каждого адреса  нашли географические координаты "
   ]
  },
  {
   "cell_type": "markdown",
   "metadata": {},
   "source": [
    "# Анализ данных "
   ]
  },
  {
   "cell_type": "code",
   "execution_count": 33,
   "metadata": {},
   "outputs": [],
   "source": [
    "def show_values_on_bars(axs, h_v: str = \"v\", space: float = 10):\n",
    "    def _show_on_single_plot(ax):\n",
    "        if h_v == \"v\":\n",
    "            for p in ax.patches:\n",
    "                try:\n",
    "                    _x = p.get_x() + p.get_width() / 2\n",
    "                    _y = p.get_y() + p.get_height()\n",
    "                    value = int(p.get_height())\n",
    "                    ax.text(_x, _y, value, ha=\"center\")\n",
    "                except ValueError:\n",
    "                    pass\n",
    "        elif h_v == \"h\":\n",
    "            for p in ax.patches:\n",
    "                try:\n",
    "                    _x = p.get_x() + p.get_width() + float(space)\n",
    "                    _y = p.get_y() + p.get_height() - 0.4\n",
    "                    value = int(p.get_width())\n",
    "                    ax.text(_x, _y, value, ha=\"left\")\n",
    "                except ValueError:\n",
    "                    pass\n",
    "\n",
    "    if isinstance(axs, np.ndarray):\n",
    "        for idx, ax in np.ndenumerate(axs):\n",
    "            _show_on_single_plot(ax)\n",
    "    else:\n",
    "        _show_on_single_plot(axs)"
   ]
  },
  {
   "cell_type": "markdown",
   "metadata": {},
   "source": [
    "## Виды объектов общественного питания и их количество"
   ]
  },
  {
   "cell_type": "code",
   "execution_count": 34,
   "metadata": {},
   "outputs": [
    {
     "data": {
      "image/png": "[encoded data removed]",
      "text/plain": [
       "<Figure size 1200x720 with 1 Axes>"
      ]
     },
     "metadata": {},
     "output_type": "display_data"
    }
   ],
   "source": [
    "sns.set_style(\"white\")\n",
    "\n",
    "plt.figure(figsize=(10,6), dpi= 120)\n",
    "\n",
    "show_values_on_bars(sns.barplot(data = df.groupby('object_type')\n",
    "                                .agg({'number': 'count'})\n",
    "                                .reset_index()\n",
    "                                .sort_values('number'), \n",
    "            x='number', y='object_type', orient='h'),\n",
    "                    h_v='h')\n",
    "\n",
    "plt.title('Тип заведений общественного питания', fontsize=15)\n",
    "plt.xlabel(\"Количество\")\n",
    "plt.ylabel(\"\")\n",
    "plt.show()"
   ]
  },
  {
   "cell_type": "markdown",
   "metadata": {},
   "source": [
    "**Абсолютным лидером являются кафе, обходя следующую столовую более чем вдвое, замыкают список отделы кулинарии, закусочные и кафетерии. Так что кафе, которые мы и хотим открыть, вполне подходящая форма**"
   ]
  },
  {
   "cell_type": "markdown",
   "metadata": {},
   "source": [
    "## Оотношение количества сетевых и несетевых заведений "
   ]
  },
  {
   "cell_type": "code",
   "execution_count": 35,
   "metadata": {},
   "outputs": [
    {
     "data": {
      "image/png": "[encoded data removed]",
      "text/plain": [
       "<Figure size 1200x720 with 1 Axes>"
      ]
     },
     "metadata": {},
     "output_type": "display_data"
    }
   ],
   "source": [
    "plt.figure(figsize=(10,6), dpi= 120)\n",
    "\n",
    "show_values_on_bars(sns.barplot(data = df.groupby('chain')\n",
    "                                .agg({'number': 'count'})\n",
    "                                .reset_index()\n",
    "                                .sort_values('number'), \n",
    "            x='chain', y='number', orient='v'),\n",
    "                    h_v='v')\n",
    "\n",
    "plt.title('Количество сетевых и не сетевых заведений', fontsize=15)\n",
    "plt.xlabel(\"Тип\")\n",
    "plt.ylabel(\"Количество\")\n",
    "plt.show()"
   ]
  },
  {
   "cell_type": "markdown",
   "metadata": {},
   "source": [
    "Большая часть заведений - одиночные"
   ]
  },
  {
   "cell_type": "markdown",
   "metadata": {},
   "source": [
    "## Для каких видов объектов характерно сетевое распространение"
   ]
  },
  {
   "cell_type": "code",
   "execution_count": 36,
   "metadata": {
    "scrolled": false
   },
   "outputs": [
    {
     "data": {
      "image/png": "[encoded data removed]",
      "text/plain": [
       "<Figure size 1200x720 with 1 Axes>"
      ]
     },
     "metadata": {},
     "output_type": "display_data"
    }
   ],
   "source": [
    "fig = plt.figure(figsize=(10,6), dpi= 120)\n",
    "ax = fig.add_subplot()\n",
    "\n",
    "show_values_on_bars(sns.barplot(data = df.groupby(['chain', 'object_type'])\n",
    "                                .agg({'number': 'count'})\n",
    "                                .reset_index()\n",
    "                                .sort_values('number'), \n",
    "            x='object_type', y='number', orient='v', hue='chain'),\n",
    "                    h_v='v')\n",
    "\n",
    "plt.title('Популярность типов с разбивкой на сетевые и нет', fontsize=15)\n",
    "plt.xlabel(\"\")\n",
    "ax.set_xticklabels(textwrap.fill(x.get_text(), 20) for x in ax.get_xticklabels())\n",
    "plt.xticks(rotation=50)\n",
    "plt.ylabel(\"Количество заведений\")\n",
    "\n",
    "plt.show()"
   ]
  },
  {
   "cell_type": "code",
   "execution_count": 37,
   "metadata": {},
   "outputs": [
    {
     "data": {
      "text/html": [
       "<div>\n",
       "<style scoped>\n",
       "    .dataframe tbody tr th:only-of-type {\n",
       "        vertical-align: middle;\n",
       "    }\n",
       "\n",
       "    .dataframe tbody tr th {\n",
       "        vertical-align: top;\n",
       "    }\n",
       "\n",
       "    .dataframe thead th {\n",
       "        text-align: right;\n",
       "    }\n",
       "</style>\n",
       "<table border=\"1\" class=\"dataframe\">\n",
       "  <thead>\n",
       "    <tr style=\"text-align: right;\">\n",
       "      <th></th>\n",
       "      <th>object_type</th>\n",
       "      <th>id</th>\n",
       "      <th>chain</th>\n",
       "      <th>chain_prcnt</th>\n",
       "    </tr>\n",
       "  </thead>\n",
       "  <tbody>\n",
       "    <tr>\n",
       "      <td>6</td>\n",
       "      <td>предприятие быстрого обслуживания</td>\n",
       "      <td>2083</td>\n",
       "      <td>953</td>\n",
       "      <td>45.751320</td>\n",
       "    </tr>\n",
       "    <tr>\n",
       "      <td>5</td>\n",
       "      <td>магазин (отдел кулинарии)</td>\n",
       "      <td>280</td>\n",
       "      <td>85</td>\n",
       "      <td>30.357143</td>\n",
       "    </tr>\n",
       "    <tr>\n",
       "      <td>3</td>\n",
       "      <td>кафе</td>\n",
       "      <td>6157</td>\n",
       "      <td>1456</td>\n",
       "      <td>23.647880</td>\n",
       "    </tr>\n",
       "    <tr>\n",
       "      <td>7</td>\n",
       "      <td>ресторан</td>\n",
       "      <td>2155</td>\n",
       "      <td>415</td>\n",
       "      <td>19.257541</td>\n",
       "    </tr>\n",
       "    <tr>\n",
       "      <td>2</td>\n",
       "      <td>закусочная</td>\n",
       "      <td>319</td>\n",
       "      <td>15</td>\n",
       "      <td>4.702194</td>\n",
       "    </tr>\n",
       "    <tr>\n",
       "      <td>0</td>\n",
       "      <td>бар</td>\n",
       "      <td>852</td>\n",
       "      <td>33</td>\n",
       "      <td>3.873239</td>\n",
       "    </tr>\n",
       "    <tr>\n",
       "      <td>4</td>\n",
       "      <td>кафетерий</td>\n",
       "      <td>354</td>\n",
       "      <td>8</td>\n",
       "      <td>2.259887</td>\n",
       "    </tr>\n",
       "    <tr>\n",
       "      <td>1</td>\n",
       "      <td>буфет</td>\n",
       "      <td>576</td>\n",
       "      <td>2</td>\n",
       "      <td>0.347222</td>\n",
       "    </tr>\n",
       "    <tr>\n",
       "      <td>8</td>\n",
       "      <td>столовая</td>\n",
       "      <td>2583</td>\n",
       "      <td>0</td>\n",
       "      <td>0.000000</td>\n",
       "    </tr>\n",
       "  </tbody>\n",
       "</table>\n",
       "</div>"
      ],
      "text/plain": [
       "                         object_type    id  chain  chain_prcnt\n",
       "6  предприятие быстрого обслуживания  2083    953    45.751320\n",
       "5          магазин (отдел кулинарии)   280     85    30.357143\n",
       "3                               кафе  6157   1456    23.647880\n",
       "7                           ресторан  2155    415    19.257541\n",
       "2                         закусочная   319     15     4.702194\n",
       "0                                бар   852     33     3.873239\n",
       "4                          кафетерий   354      8     2.259887\n",
       "1                              буфет   576      2     0.347222\n",
       "8                           столовая  2583      0     0.000000"
      ]
     },
     "execution_count": 37,
     "metadata": {},
     "output_type": "execute_result"
    }
   ],
   "source": [
    "tdf = (df.groupby('object_type').agg({'id': 'count', 'chain' : lambda x: (x == \"да\").sum()})\n",
    " .reset_index()\n",
    ")\n",
    "tdf['chain_prcnt'] = tdf['chain'] / tdf['id'] * 100\n",
    "tdf.sort_values('chain_prcnt', ascending=False)"
   ]
  },
  {
   "cell_type": "markdown",
   "metadata": {},
   "source": [
    "Особенно много сетевых заведений в предприятиях быстрого обслуживания (46%), отделах кулинарии (30%) и кафе (24%). А вот сетевых столовых нет вообще"
   ]
  },
  {
   "cell_type": "markdown",
   "metadata": {},
   "source": [
    "## Количество мест в зависимости от размера сети "
   ]
  },
  {
   "cell_type": "markdown",
   "metadata": {},
   "source": [
    "Посмотрим на относительно крупные сетевые заведения, у которых более 20 филиалов"
   ]
  },
  {
   "cell_type": "code",
   "execution_count": 38,
   "metadata": {},
   "outputs": [],
   "source": [
    "tdf = (\n",
    "    df.query('chain == \"да\"')\n",
    "    .groupby('object_name')\n",
    "    .agg({'id' : 'count', 'number' : 'median', 'object_type' : 'first'})\n",
    "    .reset_index()\n",
    "    .sort_values('id', ascending=False)\n",
    "    .query('id >= 20')\n",
    ")"
   ]
  },
  {
   "cell_type": "code",
   "execution_count": 39,
   "metadata": {
    "scrolled": false
   },
   "outputs": [
    {
     "data": {
      "image/png": "[encoded data removed]",
      "text/plain": [
       "<Figure size 1440x720 with 1 Axes>"
      ]
     },
     "metadata": {},
     "output_type": "display_data"
    }
   ],
   "source": [
    "plt.figure(figsize=(12,6), dpi= 120)\n",
    "\n",
    "sns.scatterplot(data=tdf, x=\"number\", y=\"id\", hue=\"object_type\", s=50)\n",
    "\n",
    "for line in range(0, tdf.shape[0]):\n",
    "     plt.text(tdf.iloc[line, 2] + 0.2, \n",
    "              tdf.iloc[line, 1], \n",
    "              tdf.iloc[line, 0], \n",
    "              horizontalalignment='left', \n",
    "              size='small', \n",
    "              color='black', \n",
    "              weight='semibold')\n",
    "\n",
    "plt.title('Зависимость количества мест от размера сети', fontsize=15)\n",
    "plt.ylabel(\"Количество филиалов в сети\")\n",
    "plt.xlabel(\"Медианное количество мест\")\n",
    "plt.show()"
   ]
  },
  {
   "cell_type": "markdown",
   "metadata": {},
   "source": [
    "**Заведения достаточно чётко делятся на категории**:  \n",
    "- **для ресторанов характерен большой размер, но малое количество заведений**;  \n",
    "- **для фастфуда - среднее количество мест, но много заведений**;  \n",
    "- **для кафе - небольшие помещения, немного заведений, хотя именно к кафе относятся самая широкая сеть (Шоколадница) и сеть с наибольшим типичным количеством мест (Му-му). Впрочем, это можно объяснить тем, что кафе вообще преобладают над другими типами** "
   ]
  },
  {
   "cell_type": "markdown",
   "metadata": {},
   "source": [
    "## Типичное количество мест по типу заведения"
   ]
  },
  {
   "cell_type": "code",
   "execution_count": 40,
   "metadata": {},
   "outputs": [],
   "source": [
    "tdf = (\n",
    "    df.groupby('object_type')\n",
    "    .agg({'number' : 'mean'})\n",
    "    .reset_index()\n",
    "    .sort_values('number', ascending=False)\n",
    ")"
   ]
  },
  {
   "cell_type": "code",
   "execution_count": 41,
   "metadata": {},
   "outputs": [
    {
     "data": {
      "image/png": "[encoded data removed]",
      "text/plain": [
       "<Figure size 1200x720 with 1 Axes>"
      ]
     },
     "metadata": {},
     "output_type": "display_data"
    }
   ],
   "source": [
    "fig = plt.figure(figsize=(10,6), dpi= 120)\n",
    "ax = fig.add_subplot()\n",
    "\n",
    "show_values_on_bars(sns.barplot(data = tdf, \n",
    "            x='object_type', y='number', orient='v'),\n",
    "                    h_v='v')\n",
    "\n",
    "plt.title('Количество мест по типу заведения', fontsize=15)\n",
    "plt.xlabel(\"\")\n",
    "plt.ylabel(\"Среднее количество мест\")\n",
    "ax.set_xticklabels(textwrap.fill(x.get_text(), 20) for x in ax.get_xticklabels())\n",
    "plt.xticks(rotation=50)\n",
    "\n",
    "plt.show()"
   ]
  },
  {
   "cell_type": "markdown",
   "metadata": {},
   "source": [
    "**В среднем самые большие - столовые и рестораны, а кафетерии и фастфуд отличаются малым размером  \n",
    "Среднее количество мест в кафе, что интересует нас больше всего, 39**"
   ]
  },
  {
   "cell_type": "markdown",
   "metadata": {},
   "source": [
    "## Название улицы для каждого заведения"
   ]
  },
  {
   "cell_type": "code",
   "execution_count": 42,
   "metadata": {},
   "outputs": [],
   "source": [
    "df['street'] = df['address'].str.split(',', expand=True)[1].str.lower().str.strip()"
   ]
  },
  {
   "cell_type": "code",
   "execution_count": 43,
   "metadata": {},
   "outputs": [
    {
     "data": {
      "text/plain": [
       "array(['улица егора абакумова', 'улица талалихина',\n",
       "       'абельмановская улица', ..., 'новорижское шоссе',\n",
       "       'улица василисы кожиной', 'деревня дудкино'], dtype=object)"
      ]
     },
     "execution_count": 43,
     "metadata": {},
     "output_type": "execute_result"
    }
   ],
   "source": [
    "df['street'].unique()"
   ]
  },
  {
   "cell_type": "markdown",
   "metadata": {},
   "source": [
    "Посмотрим, как наши объекты распределены на карте  \n",
    "Границы московских районов возьмём из `http://gis-lab.info/data/mos-adm/mo.geojson`"
   ]
  },
  {
   "cell_type": "code",
   "execution_count": 44,
   "metadata": {},
   "outputs": [],
   "source": [
    "geomap = gpd.read_file('http://gis-lab.info/data/mos-adm/mo.geojson')"
   ]
  },
  {
   "cell_type": "code",
   "execution_count": 45,
   "metadata": {},
   "outputs": [
    {
     "data": {
      "text/html": [
       "<div>\n",
       "<style scoped>\n",
       "    .dataframe tbody tr th:only-of-type {\n",
       "        vertical-align: middle;\n",
       "    }\n",
       "\n",
       "    .dataframe tbody tr th {\n",
       "        vertical-align: top;\n",
       "    }\n",
       "\n",
       "    .dataframe thead th {\n",
       "        text-align: right;\n",
       "    }\n",
       "</style>\n",
       "<table border=\"1\" class=\"dataframe\">\n",
       "  <thead>\n",
       "    <tr style=\"text-align: right;\">\n",
       "      <th></th>\n",
       "      <th>NAME</th>\n",
       "      <th>OKATO</th>\n",
       "      <th>OKTMO</th>\n",
       "      <th>NAME_AO</th>\n",
       "      <th>OKATO_AO</th>\n",
       "      <th>ABBREV_AO</th>\n",
       "      <th>TYPE_MO</th>\n",
       "      <th>geometry</th>\n",
       "    </tr>\n",
       "  </thead>\n",
       "  <tbody>\n",
       "    <tr>\n",
       "      <td>0</td>\n",
       "      <td>Киевский</td>\n",
       "      <td>45298555</td>\n",
       "      <td>45945000</td>\n",
       "      <td>Троицкий</td>\n",
       "      <td>45298000</td>\n",
       "      <td>Троицкий</td>\n",
       "      <td>Поселение</td>\n",
       "      <td>MULTIPOLYGON (((36.80310 55.44083, 36.80319 55.44160, 36.80357 55.45162, 36.81253 55.45140, 36.82745 55.45134, 36.83...</td>\n",
       "    </tr>\n",
       "  </tbody>\n",
       "</table>\n",
       "</div>"
      ],
      "text/plain": [
       "       NAME     OKATO     OKTMO   NAME_AO  OKATO_AO ABBREV_AO    TYPE_MO  \\\n",
       "0  Киевский  45298555  45945000  Троицкий  45298000  Троицкий  Поселение   \n",
       "\n",
       "                                                                                                                  geometry  \n",
       "0  MULTIPOLYGON (((36.80310 55.44083, 36.80319 55.44160, 36.80357 55.45162, 36.81253 55.45140, 36.82745 55.45134, 36.83...  "
      ]
     },
     "execution_count": 45,
     "metadata": {},
     "output_type": "execute_result"
    }
   ],
   "source": [
    "geomap.head(1)"
   ]
  },
  {
   "cell_type": "code",
   "execution_count": 46,
   "metadata": {},
   "outputs": [],
   "source": [
    "m1 = folium.Map(location=[55.7522, 37.6156], zoom_start=10)\n",
    "fg = folium.FeatureGroup(name=\"районы\")\n",
    "\n",
    "\n",
    "for _, r in geomap.iterrows():\n",
    "    sim_geo = gpd.GeoSeries(r['geometry']).simplify(tolerance=0.001)\n",
    "    geo_j = sim_geo.to_json()\n",
    "    geo_j = folium.GeoJson(data=geo_j,\n",
    "                           style_function=lambda x: {'fillColor': 'white'})\n",
    "    folium.Popup(r['NAME']).add_to(geo_j)\n",
    "    geo_j.add_to(fg)\n",
    "\n",
    "for label, size, color in [\n",
    "    ('кафе', 'large', '#004f84'), \n",
    "    ('столовая', 'large', '#3186cc'),\n",
    "    ('закусочная', 'medium', '#9c0412'),\n",
    "    ('предприятие быстрого обслуживания', 'large', '#ffd700'),\n",
    "    ('ресторан', 'medium', '#dc7fff'),\n",
    "    ('кафетерий', 'small', '#ec5d2d'),\n",
    "    ('буфет', 'small', '#009fdc'),\n",
    "    ('бар', 'medium', '#ffd200'),\n",
    "    ('магазин (отдел кулинарии)', 'small', '#36896e'),\n",
    "]:\n",
    "    market_cluster = MarkerCluster(name=label, icon_create_function = f\"\"\"\\\n",
    "function(cluster) {{\n",
    "    return L.divIcon({{\n",
    "    html: '<b>' + cluster.getChildCount() + ' {label}',\n",
    "    className: 'marker-cluster marker-cluster-{size}',\n",
    "    iconSize: new L.Point(20, 20)\n",
    "    }});\n",
    "}}\"\"\").add_to(m1)\n",
    "    for i, row in df.query(f'object_type == \"{label}\"').iterrows():\n",
    "        folium.Circle(radius=10, location=[row['lat'], row['long']], popup=row[\"object_name\"], \n",
    "                  line_color=color,\n",
    "                    fill_color=color).add_to(market_cluster)\n",
    "fg.add_to(m1)\n",
    "folium.LayerControl().add_to(m1)\n",
    "m1.save('map_1.html')        \n"
   ]
  },
  {
   "cell_type": "code",
   "execution_count": 3,
   "metadata": {
    "scrolled": false
   },
   "outputs": [
    {
     "data": {
      "text/plain": "<IPython.lib.display.IFrame at 0x274f23f71c0>",
      "text/html": "\n        <iframe\n            width=\"100%\"\n            height=\"500\"\n            src=\"map_1.html\"\n            frameborder=\"0\"\n            allowfullscreen\n        ></iframe>\n        "
     },
     "execution_count": 3,
     "metadata": {},
     "output_type": "execute_result"
    }
   ],
   "source": [
    "IFrame(src='map_1.html', width='100%', height=500)"
   ]
  },
  {
   "cell_type": "markdown",
   "metadata": {},
   "source": []
  },
  {
   "cell_type": "markdown",
   "metadata": {},
   "source": [
    "Получим для каждого заведения район, в котором оно расположено "
   ]
  },
  {
   "cell_type": "code",
   "execution_count": 48,
   "metadata": {},
   "outputs": [
    {
     "data": {
      "text/plain": [
       "<Geographic 2D CRS: EPSG:4326>\n",
       "Name: WGS 84\n",
       "Axis Info [ellipsoidal]:\n",
       "- Lat[north]: Geodetic latitude (degree)\n",
       "- Lon[east]: Geodetic longitude (degree)\n",
       "Area of Use:\n",
       "- name: World.\n",
       "- bounds: (-180.0, -90.0, 180.0, 90.0)\n",
       "Datum: World Geodetic System 1984 ensemble\n",
       "- Ellipsoid: WGS 84\n",
       "- Prime Meridian: Greenwich"
      ]
     },
     "execution_count": 48,
     "metadata": {},
     "output_type": "execute_result"
    }
   ],
   "source": [
    "geomap.crs"
   ]
  },
  {
   "cell_type": "code",
   "execution_count": 49,
   "metadata": {},
   "outputs": [],
   "source": [
    "gdf = gpd.GeoDataFrame(df, geometry=gpd.points_from_xy(df.long,df.lat))"
   ]
  },
  {
   "cell_type": "markdown",
   "metadata": {},
   "source": [
    "Возьмём функцию, которая определяет, лежит ли точка в полигоне"
   ]
  },
  {
   "cell_type": "code",
   "execution_count": 50,
   "metadata": {},
   "outputs": [],
   "source": [
    "def get_pip (gdf, regions):\n",
    "    r_list = list(regions.NAME)\n",
    "    df = pd.DataFrame().reindex_like(gdf).dropna()\n",
    "    for r in r_list:\n",
    "        pol = (regions.loc[regions.NAME==r])\n",
    "        pol.reset_index(drop = True, inplace = True)\n",
    "        pip_mask = gdf.within(pol.loc[0, 'geometry'])\n",
    "        pip_data = gdf.loc[pip_mask].copy()\n",
    "        pip_data['region']= r\n",
    "        df = df.append(pip_data)  \n",
    "    print('Original dataframe count=',len(gdf),'\\nNew dataframe count=', len(df))\n",
    "    if df.loc[df.id.duplicated() == True].shape[0] > 0:\n",
    "        print(\"There are id's with more than one region\")\n",
    "    elif gdf.loc[~gdf.id.isin(df.id)].shape[0] > 0:\n",
    "        print(\"There are id's without an assigned region\")\n",
    "    else:\n",
    "        print(\"No discrepancies in results!\")\n",
    "    df.reset_index(inplace=True, drop=True)\n",
    "    df = df.drop(columns='geometry')\n",
    "    return df"
   ]
  },
  {
   "cell_type": "code",
   "execution_count": 51,
   "metadata": {
    "scrolled": true
   },
   "outputs": [
    {
     "name": "stdout",
     "output_type": "stream",
     "text": [
      "Original dataframe count= 15359 \n",
      "New dataframe count= 15341\n",
      "There are id's without an assigned region\n"
     ]
    }
   ],
   "source": [
    "eq_df = get_pip(gdf, geomap)"
   ]
  },
  {
   "cell_type": "markdown",
   "metadata": {},
   "source": [
    "Восемнадцати адресам не нашлось своих районов, посмотрим на них"
   ]
  },
  {
   "cell_type": "code",
   "execution_count": 52,
   "metadata": {},
   "outputs": [],
   "source": [
    "gdf.set_index('id',inplace=True)\n",
    "eq_df.set_index('id',inplace=True)\n",
    "newdf=gdf.drop(eq_df.index)"
   ]
  },
  {
   "cell_type": "code",
   "execution_count": 53,
   "metadata": {
    "scrolled": false
   },
   "outputs": [
    {
     "data": {
      "text/html": [
       "<div>\n",
       "<style scoped>\n",
       "    .dataframe tbody tr th:only-of-type {\n",
       "        vertical-align: middle;\n",
       "    }\n",
       "\n",
       "    .dataframe tbody tr th {\n",
       "        vertical-align: top;\n",
       "    }\n",
       "\n",
       "    .dataframe thead th {\n",
       "        text-align: right;\n",
       "    }\n",
       "</style>\n",
       "<table border=\"1\" class=\"dataframe\">\n",
       "  <thead>\n",
       "    <tr style=\"text-align: right;\">\n",
       "      <th></th>\n",
       "      <th>object_name</th>\n",
       "      <th>chain</th>\n",
       "      <th>object_type</th>\n",
       "      <th>address</th>\n",
       "      <th>number</th>\n",
       "      <th>Url_With_Coordinates</th>\n",
       "      <th>lat</th>\n",
       "      <th>long</th>\n",
       "      <th>street</th>\n",
       "      <th>geometry</th>\n",
       "    </tr>\n",
       "    <tr>\n",
       "      <th>id</th>\n",
       "      <th></th>\n",
       "      <th></th>\n",
       "      <th></th>\n",
       "      <th></th>\n",
       "      <th></th>\n",
       "      <th></th>\n",
       "      <th></th>\n",
       "      <th></th>\n",
       "      <th></th>\n",
       "      <th></th>\n",
       "    </tr>\n",
       "  </thead>\n",
       "  <tbody>\n",
       "    <tr>\n",
       "      <td>77765</td>\n",
       "      <td>оазис внуково</td>\n",
       "      <td>нет</td>\n",
       "      <td>ресторан</td>\n",
       "      <td>город Москва, поселение Московский, деревня Лапшинка, дом 2Б</td>\n",
       "      <td>80</td>\n",
       "      <td>https://maps.google.com/maps/api/staticmap?center=64.3933983%2C105.30795455&amp;zoom=3&amp;size=256x256&amp;language=en&amp;sensor=f...</td>\n",
       "      <td>64.393398</td>\n",
       "      <td>105.307955</td>\n",
       "      <td>поселение московский</td>\n",
       "      <td>POINT (105.30795 64.39340)</td>\n",
       "    </tr>\n",
       "    <tr>\n",
       "      <td>89416</td>\n",
       "      <td>kfc</td>\n",
       "      <td>да</td>\n",
       "      <td>предприятие быстрого обслуживания</td>\n",
       "      <td>город Москва, 82-й километр Московской Кольцевой Автодороги, владение 18</td>\n",
       "      <td>94</td>\n",
       "      <td>https://maps.google.com/maps/api/staticmap?center=55.6251158%2C37.7985498&amp;zoom=17&amp;size=256x256&amp;language=en&amp;sensor=fa...</td>\n",
       "      <td>55.625116</td>\n",
       "      <td>37.798550</td>\n",
       "      <td>82-й километр московской кольцевой автодороги</td>\n",
       "      <td>POINT (37.79855 55.62512)</td>\n",
       "    </tr>\n",
       "    <tr>\n",
       "      <td>138207</td>\n",
       "      <td>самарканд</td>\n",
       "      <td>нет</td>\n",
       "      <td>кафе</td>\n",
       "      <td>город Москва, 82-й километр Московской Кольцевой Автодороги, владение 18</td>\n",
       "      <td>90</td>\n",
       "      <td>https://maps.google.com/maps/api/staticmap?center=55.6251158%2C37.7985498&amp;zoom=17&amp;size=256x256&amp;language=en&amp;sensor=fa...</td>\n",
       "      <td>55.625116</td>\n",
       "      <td>37.798550</td>\n",
       "      <td>82-й километр московской кольцевой автодороги</td>\n",
       "      <td>POINT (37.79855 55.62512)</td>\n",
       "    </tr>\n",
       "    <tr>\n",
       "      <td>144799</td>\n",
       "      <td>кафе на азс</td>\n",
       "      <td>нет</td>\n",
       "      <td>закусочная</td>\n",
       "      <td>город Москва, 67-й километр Московской Кольцевой Автодороги, дом 7</td>\n",
       "      <td>2</td>\n",
       "      <td>https://maps.google.com/maps/api/staticmap?center=55.817014%2C37.3901368&amp;zoom=14&amp;size=256x256&amp;language=en&amp;sensor=fal...</td>\n",
       "      <td>55.817014</td>\n",
       "      <td>37.390137</td>\n",
       "      <td>67-й километр московской кольцевой автодороги</td>\n",
       "      <td>POINT (37.39014 55.81701)</td>\n",
       "    </tr>\n",
       "    <tr>\n",
       "      <td>71261</td>\n",
       "      <td>кафе «загорье»</td>\n",
       "      <td>нет</td>\n",
       "      <td>кафе</td>\n",
       "      <td>город Москва, 28-й километр Московской Кольцевой Автодороги, владение 7</td>\n",
       "      <td>48</td>\n",
       "      <td>https://maps.google.com/maps/api/staticmap?center=55.8066394%2C37.3860564&amp;zoom=17&amp;size=256x256&amp;language=en&amp;sensor=fa...</td>\n",
       "      <td>55.806639</td>\n",
       "      <td>37.386056</td>\n",
       "      <td>28-й километр московской кольцевой автодороги</td>\n",
       "      <td>POINT (37.38606 55.80664)</td>\n",
       "    </tr>\n",
       "    <tr>\n",
       "      <td>79701</td>\n",
       "      <td>ресторан «заречье»</td>\n",
       "      <td>нет</td>\n",
       "      <td>ресторан</td>\n",
       "      <td>город Москва, город Троицк, 1-й Заречный переулок, дом 17</td>\n",
       "      <td>47</td>\n",
       "      <td>https://maps.google.com/maps/api/staticmap?center=54.3329955%2C41.25821245&amp;zoom=7&amp;size=256x256&amp;language=en&amp;sensor=fa...</td>\n",
       "      <td>54.332996</td>\n",
       "      <td>41.258212</td>\n",
       "      <td>город троицк</td>\n",
       "      <td>POINT (41.25821 54.33300)</td>\n",
       "    </tr>\n",
       "    <tr>\n",
       "      <td>127410</td>\n",
       "      <td>московский</td>\n",
       "      <td>нет</td>\n",
       "      <td>ресторан</td>\n",
       "      <td>город Москва, город Московский, 1-й микрорайон, дом 5</td>\n",
       "      <td>70</td>\n",
       "      <td>https://maps.google.com/maps/api/staticmap?center=55.79376875%2C37.295872&amp;zoom=10&amp;size=256x256&amp;language=en&amp;sensor=fa...</td>\n",
       "      <td>55.793769</td>\n",
       "      <td>37.295872</td>\n",
       "      <td>город московский</td>\n",
       "      <td>POINT (37.29587 55.79377)</td>\n",
       "    </tr>\n",
       "    <tr>\n",
       "      <td>80070</td>\n",
       "      <td>кафе-блинная сударушка</td>\n",
       "      <td>нет</td>\n",
       "      <td>кафе</td>\n",
       "      <td>город Москва, поселение Рязановское, посёлок Фабрики имени 1 Мая, дом 3</td>\n",
       "      <td>20</td>\n",
       "      <td>https://maps.google.com/maps/api/staticmap?center=64.3933983%2C105.30795455&amp;zoom=3&amp;size=256x256&amp;language=en&amp;sensor=f...</td>\n",
       "      <td>64.393398</td>\n",
       "      <td>105.307955</td>\n",
       "      <td>поселение рязановское</td>\n",
       "      <td>POINT (105.30795 64.39340)</td>\n",
       "    </tr>\n",
       "    <tr>\n",
       "      <td>147763</td>\n",
       "      <td>чайхона</td>\n",
       "      <td>нет</td>\n",
       "      <td>кафе</td>\n",
       "      <td>город Москва, город Щербинка, Варшавское шоссе, 28-й километр, владение 8, строение 1</td>\n",
       "      <td>65</td>\n",
       "      <td>https://maps.google.com/maps/api/staticmap?center=55.5725469%2C37.60667895&amp;zoom=13&amp;size=256x256&amp;language=en&amp;sensor=f...</td>\n",
       "      <td>55.572547</td>\n",
       "      <td>37.606679</td>\n",
       "      <td>город щербинка</td>\n",
       "      <td>POINT (37.60668 55.57255)</td>\n",
       "    </tr>\n",
       "    <tr>\n",
       "      <td>109810</td>\n",
       "      <td>вера олива</td>\n",
       "      <td>нет</td>\n",
       "      <td>предприятие быстрого обслуживания</td>\n",
       "      <td>город Москва, поселение Московский, Киевское шоссе, 22-й километр, домовладение 4, строение 2</td>\n",
       "      <td>40</td>\n",
       "      <td>https://maps.google.com/maps/api/staticmap?center=55.5348733%2C37.062877&amp;zoom=17&amp;size=256x256&amp;language=en&amp;sensor=fal...</td>\n",
       "      <td>55.534873</td>\n",
       "      <td>37.062877</td>\n",
       "      <td>поселение московский</td>\n",
       "      <td>POINT (37.06288 55.53487)</td>\n",
       "    </tr>\n",
       "    <tr>\n",
       "      <td>109821</td>\n",
       "      <td>бургер кинг</td>\n",
       "      <td>да</td>\n",
       "      <td>предприятие быстрого обслуживания</td>\n",
       "      <td>город Москва, поселение Московский, Киевское шоссе, 22-й километр, домовладение 4, строение 2</td>\n",
       "      <td>30</td>\n",
       "      <td>https://maps.google.com/maps/api/staticmap?center=55.5348733%2C37.062877&amp;zoom=17&amp;size=256x256&amp;language=en&amp;sensor=fal...</td>\n",
       "      <td>55.534873</td>\n",
       "      <td>37.062877</td>\n",
       "      <td>поселение московский</td>\n",
       "      <td>POINT (37.06288 55.53487)</td>\n",
       "    </tr>\n",
       "    <tr>\n",
       "      <td>109832</td>\n",
       "      <td>теремок</td>\n",
       "      <td>да</td>\n",
       "      <td>предприятие быстрого обслуживания</td>\n",
       "      <td>город Москва, поселение Московский, Киевское шоссе, 22-й километр, домовладение 4, строение 2</td>\n",
       "      <td>20</td>\n",
       "      <td>https://maps.google.com/maps/api/staticmap?center=55.5348733%2C37.062877&amp;zoom=17&amp;size=256x256&amp;language=en&amp;sensor=fal...</td>\n",
       "      <td>55.534873</td>\n",
       "      <td>37.062877</td>\n",
       "      <td>поселение московский</td>\n",
       "      <td>POINT (37.06288 55.53487)</td>\n",
       "    </tr>\n",
       "    <tr>\n",
       "      <td>129059</td>\n",
       "      <td>кофеин</td>\n",
       "      <td>нет</td>\n",
       "      <td>кафе</td>\n",
       "      <td>город Москва, поселение Московский, Киевское шоссе, 22-й километр, домовладение 4, строение 2</td>\n",
       "      <td>15</td>\n",
       "      <td>https://maps.google.com/maps/api/staticmap?center=55.5348733%2C37.062877&amp;zoom=17&amp;size=256x256&amp;language=en&amp;sensor=fal...</td>\n",
       "      <td>55.534873</td>\n",
       "      <td>37.062877</td>\n",
       "      <td>поселение московский</td>\n",
       "      <td>POINT (37.06288 55.53487)</td>\n",
       "    </tr>\n",
       "    <tr>\n",
       "      <td>160033</td>\n",
       "      <td>штос</td>\n",
       "      <td>нет</td>\n",
       "      <td>кафе</td>\n",
       "      <td>город Москва, город Зеленоград, корпус 1650</td>\n",
       "      <td>60</td>\n",
       "      <td>https://maps.google.com/maps/api/staticmap?center=55.9483799%2C37.1645864&amp;zoom=17&amp;size=256x256&amp;language=en&amp;sensor=fa...</td>\n",
       "      <td>55.948380</td>\n",
       "      <td>37.164586</td>\n",
       "      <td>город зеленоград</td>\n",
       "      <td>POINT (37.16459 55.94838)</td>\n",
       "    </tr>\n",
       "    <tr>\n",
       "      <td>189031</td>\n",
       "      <td>кафе дк московский</td>\n",
       "      <td>нет</td>\n",
       "      <td>кафе</td>\n",
       "      <td>город Москва, город Московский, 1-й микрорайон, дом 49</td>\n",
       "      <td>34</td>\n",
       "      <td>https://maps.google.com/maps/api/staticmap?center=55.7931233%2C37.30778765&amp;zoom=10&amp;size=256x256&amp;language=en&amp;sensor=f...</td>\n",
       "      <td>55.793123</td>\n",
       "      <td>37.307788</td>\n",
       "      <td>город московский</td>\n",
       "      <td>POINT (37.30779 55.79312)</td>\n",
       "    </tr>\n",
       "    <tr>\n",
       "      <td>77752</td>\n",
       "      <td>пикник</td>\n",
       "      <td>нет</td>\n",
       "      <td>ресторан</td>\n",
       "      <td>город Москва, город Московский, 1-й микрорайон, дом 43, корпус 1</td>\n",
       "      <td>80</td>\n",
       "      <td>https://maps.google.com/maps/api/staticmap?center=55.7931233%2C37.30778765&amp;zoom=10&amp;size=256x256&amp;language=en&amp;sensor=f...</td>\n",
       "      <td>55.793123</td>\n",
       "      <td>37.307788</td>\n",
       "      <td>город московский</td>\n",
       "      <td>POINT (37.30779 55.79312)</td>\n",
       "    </tr>\n",
       "    <tr>\n",
       "      <td>198788</td>\n",
       "      <td>кафе-бистро софимарсо</td>\n",
       "      <td>нет</td>\n",
       "      <td>кафе</td>\n",
       "      <td>город Москва, поселение \"Мосрентген\", Киевское шоссе, 21-й километр, домовладение 3, строение 1</td>\n",
       "      <td>30</td>\n",
       "      <td>https://maps.google.com/maps/api/staticmap?center=55.72758015%2C37.30396355&amp;zoom=10&amp;size=256x256&amp;language=en&amp;sensor=...</td>\n",
       "      <td>55.727580</td>\n",
       "      <td>37.303964</td>\n",
       "      <td>поселение \"мосрентген\"</td>\n",
       "      <td>POINT (37.30396 55.72758)</td>\n",
       "    </tr>\n",
       "    <tr>\n",
       "      <td>222098</td>\n",
       "      <td>ежевика</td>\n",
       "      <td>нет</td>\n",
       "      <td>кафе</td>\n",
       "      <td>город Москва, поселение Московский, Киевское шоссе, 22-й километр, домовладение 4, строение 2</td>\n",
       "      <td>30</td>\n",
       "      <td>https://maps.google.com/maps/api/staticmap?center=55.5348733%2C37.062877&amp;zoom=17&amp;size=256x256&amp;language=en&amp;sensor=fal...</td>\n",
       "      <td>55.534873</td>\n",
       "      <td>37.062877</td>\n",
       "      <td>поселение московский</td>\n",
       "      <td>POINT (37.06288 55.53487)</td>\n",
       "    </tr>\n",
       "  </tbody>\n",
       "</table>\n",
       "</div>"
      ],
      "text/plain": [
       "                   object_name chain                        object_type  \\\n",
       "id                                                                        \n",
       "77765            оазис внуково   нет                           ресторан   \n",
       "89416                      kfc    да  предприятие быстрого обслуживания   \n",
       "138207               самарканд   нет                               кафе   \n",
       "144799             кафе на азс   нет                         закусочная   \n",
       "71261           кафе «загорье»   нет                               кафе   \n",
       "79701       ресторан «заречье»   нет                           ресторан   \n",
       "127410              московский   нет                           ресторан   \n",
       "80070   кафе-блинная сударушка   нет                               кафе   \n",
       "147763                 чайхона   нет                               кафе   \n",
       "109810              вера олива   нет  предприятие быстрого обслуживания   \n",
       "109821             бургер кинг    да  предприятие быстрого обслуживания   \n",
       "109832                 теремок    да  предприятие быстрого обслуживания   \n",
       "129059                  кофеин   нет                               кафе   \n",
       "160033                    штос   нет                               кафе   \n",
       "189031      кафе дк московский   нет                               кафе   \n",
       "77752                   пикник   нет                           ресторан   \n",
       "198788   кафе-бистро софимарсо   нет                               кафе   \n",
       "222098                 ежевика   нет                               кафе   \n",
       "\n",
       "                                                                                                address  \\\n",
       "id                                                                                                        \n",
       "77765                                      город Москва, поселение Московский, деревня Лапшинка, дом 2Б   \n",
       "89416                          город Москва, 82-й километр Московской Кольцевой Автодороги, владение 18   \n",
       "138207                         город Москва, 82-й километр Московской Кольцевой Автодороги, владение 18   \n",
       "144799                               город Москва, 67-й километр Московской Кольцевой Автодороги, дом 7   \n",
       "71261                           город Москва, 28-й километр Московской Кольцевой Автодороги, владение 7   \n",
       "79701                                         город Москва, город Троицк, 1-й Заречный переулок, дом 17   \n",
       "127410                                            город Москва, город Московский, 1-й микрорайон, дом 5   \n",
       "80070                           город Москва, поселение Рязановское, посёлок Фабрики имени 1 Мая, дом 3   \n",
       "147763            город Москва, город Щербинка, Варшавское шоссе, 28-й километр, владение 8, строение 1   \n",
       "109810    город Москва, поселение Московский, Киевское шоссе, 22-й километр, домовладение 4, строение 2   \n",
       "109821    город Москва, поселение Московский, Киевское шоссе, 22-й километр, домовладение 4, строение 2   \n",
       "109832    город Москва, поселение Московский, Киевское шоссе, 22-й километр, домовладение 4, строение 2   \n",
       "129059    город Москва, поселение Московский, Киевское шоссе, 22-й километр, домовладение 4, строение 2   \n",
       "160033                                                      город Москва, город Зеленоград, корпус 1650   \n",
       "189031                                           город Москва, город Московский, 1-й микрорайон, дом 49   \n",
       "77752                                  город Москва, город Московский, 1-й микрорайон, дом 43, корпус 1   \n",
       "198788  город Москва, поселение \"Мосрентген\", Киевское шоссе, 21-й километр, домовладение 3, строение 1   \n",
       "222098    город Москва, поселение Московский, Киевское шоссе, 22-й километр, домовладение 4, строение 2   \n",
       "\n",
       "        number  \\\n",
       "id               \n",
       "77765       80   \n",
       "89416       94   \n",
       "138207      90   \n",
       "144799       2   \n",
       "71261       48   \n",
       "79701       47   \n",
       "127410      70   \n",
       "80070       20   \n",
       "147763      65   \n",
       "109810      40   \n",
       "109821      30   \n",
       "109832      20   \n",
       "129059      15   \n",
       "160033      60   \n",
       "189031      34   \n",
       "77752       80   \n",
       "198788      30   \n",
       "222098      30   \n",
       "\n",
       "                                                                                                           Url_With_Coordinates  \\\n",
       "id                                                                                                                                \n",
       "77765   https://maps.google.com/maps/api/staticmap?center=64.3933983%2C105.30795455&zoom=3&size=256x256&language=en&sensor=f...   \n",
       "89416   https://maps.google.com/maps/api/staticmap?center=55.6251158%2C37.7985498&zoom=17&size=256x256&language=en&sensor=fa...   \n",
       "138207  https://maps.google.com/maps/api/staticmap?center=55.6251158%2C37.7985498&zoom=17&size=256x256&language=en&sensor=fa...   \n",
       "144799  https://maps.google.com/maps/api/staticmap?center=55.817014%2C37.3901368&zoom=14&size=256x256&language=en&sensor=fal...   \n",
       "71261   https://maps.google.com/maps/api/staticmap?center=55.8066394%2C37.3860564&zoom=17&size=256x256&language=en&sensor=fa...   \n",
       "79701   https://maps.google.com/maps/api/staticmap?center=54.3329955%2C41.25821245&zoom=7&size=256x256&language=en&sensor=fa...   \n",
       "127410  https://maps.google.com/maps/api/staticmap?center=55.79376875%2C37.295872&zoom=10&size=256x256&language=en&sensor=fa...   \n",
       "80070   https://maps.google.com/maps/api/staticmap?center=64.3933983%2C105.30795455&zoom=3&size=256x256&language=en&sensor=f...   \n",
       "147763  https://maps.google.com/maps/api/staticmap?center=55.5725469%2C37.60667895&zoom=13&size=256x256&language=en&sensor=f...   \n",
       "109810  https://maps.google.com/maps/api/staticmap?center=55.5348733%2C37.062877&zoom=17&size=256x256&language=en&sensor=fal...   \n",
       "109821  https://maps.google.com/maps/api/staticmap?center=55.5348733%2C37.062877&zoom=17&size=256x256&language=en&sensor=fal...   \n",
       "109832  https://maps.google.com/maps/api/staticmap?center=55.5348733%2C37.062877&zoom=17&size=256x256&language=en&sensor=fal...   \n",
       "129059  https://maps.google.com/maps/api/staticmap?center=55.5348733%2C37.062877&zoom=17&size=256x256&language=en&sensor=fal...   \n",
       "160033  https://maps.google.com/maps/api/staticmap?center=55.9483799%2C37.1645864&zoom=17&size=256x256&language=en&sensor=fa...   \n",
       "189031  https://maps.google.com/maps/api/staticmap?center=55.7931233%2C37.30778765&zoom=10&size=256x256&language=en&sensor=f...   \n",
       "77752   https://maps.google.com/maps/api/staticmap?center=55.7931233%2C37.30778765&zoom=10&size=256x256&language=en&sensor=f...   \n",
       "198788  https://maps.google.com/maps/api/staticmap?center=55.72758015%2C37.30396355&zoom=10&size=256x256&language=en&sensor=...   \n",
       "222098  https://maps.google.com/maps/api/staticmap?center=55.5348733%2C37.062877&zoom=17&size=256x256&language=en&sensor=fal...   \n",
       "\n",
       "              lat        long                                         street  \\\n",
       "id                                                                             \n",
       "77765   64.393398  105.307955                           поселение московский   \n",
       "89416   55.625116   37.798550  82-й километр московской кольцевой автодороги   \n",
       "138207  55.625116   37.798550  82-й километр московской кольцевой автодороги   \n",
       "144799  55.817014   37.390137  67-й километр московской кольцевой автодороги   \n",
       "71261   55.806639   37.386056  28-й километр московской кольцевой автодороги   \n",
       "79701   54.332996   41.258212                                   город троицк   \n",
       "127410  55.793769   37.295872                               город московский   \n",
       "80070   64.393398  105.307955                          поселение рязановское   \n",
       "147763  55.572547   37.606679                                 город щербинка   \n",
       "109810  55.534873   37.062877                           поселение московский   \n",
       "109821  55.534873   37.062877                           поселение московский   \n",
       "109832  55.534873   37.062877                           поселение московский   \n",
       "129059  55.534873   37.062877                           поселение московский   \n",
       "160033  55.948380   37.164586                               город зеленоград   \n",
       "189031  55.793123   37.307788                               город московский   \n",
       "77752   55.793123   37.307788                               город московский   \n",
       "198788  55.727580   37.303964                         поселение \"мосрентген\"   \n",
       "222098  55.534873   37.062877                           поселение московский   \n",
       "\n",
       "                          geometry  \n",
       "id                                  \n",
       "77765   POINT (105.30795 64.39340)  \n",
       "89416    POINT (37.79855 55.62512)  \n",
       "138207   POINT (37.79855 55.62512)  \n",
       "144799   POINT (37.39014 55.81701)  \n",
       "71261    POINT (37.38606 55.80664)  \n",
       "79701    POINT (41.25821 54.33300)  \n",
       "127410   POINT (37.29587 55.79377)  \n",
       "80070   POINT (105.30795 64.39340)  \n",
       "147763   POINT (37.60668 55.57255)  \n",
       "109810   POINT (37.06288 55.53487)  \n",
       "109821   POINT (37.06288 55.53487)  \n",
       "109832   POINT (37.06288 55.53487)  \n",
       "129059   POINT (37.06288 55.53487)  \n",
       "160033   POINT (37.16459 55.94838)  \n",
       "189031   POINT (37.30779 55.79312)  \n",
       "77752    POINT (37.30779 55.79312)  \n",
       "198788   POINT (37.30396 55.72758)  \n",
       "222098   POINT (37.06288 55.53487)  "
      ]
     },
     "execution_count": 53,
     "metadata": {},
     "output_type": "execute_result"
    }
   ],
   "source": [
    "newdf"
   ]
  },
  {
   "cell_type": "markdown",
   "metadata": {},
   "source": [
    "Адреса на мкаде и новой Москве. Так как они явно не нужны для нашего анализа, оставим как есть"
   ]
  },
  {
   "cell_type": "markdown",
   "metadata": {},
   "source": [
    "## Топ10 улиц, топ10 районов"
   ]
  },
  {
   "cell_type": "code",
   "execution_count": 54,
   "metadata": {},
   "outputs": [],
   "source": [
    "df = eq_df.copy().reset_index()"
   ]
  },
  {
   "cell_type": "code",
   "execution_count": 55,
   "metadata": {
    "scrolled": true
   },
   "outputs": [],
   "source": [
    "t = (df.query('street != \"город зеленоград\" and street != \"поселение сосенское\"')\n",
    "     .groupby(['street'])\n",
    "     .agg({'region' : 'unique', 'number' : 'count'})\n",
    "     .reset_index()\n",
    "     .sort_values('number', ascending=False)\n",
    "    )"
   ]
  },
  {
   "cell_type": "markdown",
   "metadata": {},
   "source": [
    "Посмотрим на топ10 улиц по количеству объектов и районы, через которые они идут "
   ]
  },
  {
   "cell_type": "markdown",
   "metadata": {},
   "source": [
    "*В Зеленограде по историческим причинам нет, фактически, улиц, поэтому он попал в список в таком качестве, как и в поселении Сосенское, исключим их из рассмотрения*  "
   ]
  },
  {
   "cell_type": "code",
   "execution_count": 56,
   "metadata": {},
   "outputs": [
    {
     "data": {
      "text/html": [
       "<div>\n",
       "<style scoped>\n",
       "    .dataframe tbody tr th:only-of-type {\n",
       "        vertical-align: middle;\n",
       "    }\n",
       "\n",
       "    .dataframe tbody tr th {\n",
       "        vertical-align: top;\n",
       "    }\n",
       "\n",
       "    .dataframe thead th {\n",
       "        text-align: right;\n",
       "    }\n",
       "</style>\n",
       "<table border=\"1\" class=\"dataframe\">\n",
       "  <thead>\n",
       "    <tr style=\"text-align: right;\">\n",
       "      <th></th>\n",
       "      <th>street</th>\n",
       "      <th>region</th>\n",
       "      <th>number</th>\n",
       "    </tr>\n",
       "  </thead>\n",
       "  <tbody>\n",
       "    <tr>\n",
       "      <td>1117</td>\n",
       "      <td>проспект мира</td>\n",
       "      <td>[Останкинский, Свиблово, Мещанский, Ростокино, Алексеевский, Ярославский]</td>\n",
       "      <td>204</td>\n",
       "    </tr>\n",
       "    <tr>\n",
       "      <td>1121</td>\n",
       "      <td>профсоюзная улица</td>\n",
       "      <td>[Тёплый Стан, Черёмушки, Обручевский, Ясенево, Коньково, Академический]</td>\n",
       "      <td>182</td>\n",
       "    </tr>\n",
       "    <tr>\n",
       "      <td>744</td>\n",
       "      <td>ленинградский проспект</td>\n",
       "      <td>[Сокол, Хорошёвский, Беговой, Аэропорт]</td>\n",
       "      <td>171</td>\n",
       "    </tr>\n",
       "    <tr>\n",
       "      <td>1078</td>\n",
       "      <td>пресненская набережная</td>\n",
       "      <td>[Пресненский]</td>\n",
       "      <td>165</td>\n",
       "    </tr>\n",
       "    <tr>\n",
       "      <td>415</td>\n",
       "      <td>варшавское шоссе</td>\n",
       "      <td>[Южное Бутово, Чертаново Центральное, Чертаново Южное, Чертаново Северное, Донской, Нагорный, Нагатино-Садовники]</td>\n",
       "      <td>161</td>\n",
       "    </tr>\n",
       "    <tr>\n",
       "      <td>747</td>\n",
       "      <td>ленинский проспект</td>\n",
       "      <td>[Тёплый Стан, Ломоносовский, Тропарёво-Никулино, Обручевский, Проспект Вернадского, Гагаринский, Якиманка, Донской]</td>\n",
       "      <td>147</td>\n",
       "    </tr>\n",
       "    <tr>\n",
       "      <td>1114</td>\n",
       "      <td>проспект вернадского</td>\n",
       "      <td>[Ломоносовский, Тропарёво-Никулино, Раменки, Проспект Вернадского, Гагаринский]</td>\n",
       "      <td>132</td>\n",
       "    </tr>\n",
       "    <tr>\n",
       "      <td>735</td>\n",
       "      <td>кутузовский проспект</td>\n",
       "      <td>[Фили-Давыдково, Дорогомилово]</td>\n",
       "      <td>114</td>\n",
       "    </tr>\n",
       "    <tr>\n",
       "      <td>660</td>\n",
       "      <td>каширское шоссе</td>\n",
       "      <td>[Нагатино-Садовники, Москворечье-Сабурово, Орехово-Борисово Северное, Орехово-Борисово Южное]</td>\n",
       "      <td>112</td>\n",
       "    </tr>\n",
       "    <tr>\n",
       "      <td>666</td>\n",
       "      <td>кировоградская улица</td>\n",
       "      <td>[Чертаново Центральное, Чертаново Южное, Чертаново Северное]</td>\n",
       "      <td>110</td>\n",
       "    </tr>\n",
       "  </tbody>\n",
       "</table>\n",
       "</div>"
      ],
      "text/plain": [
       "                      street  \\\n",
       "1117           проспект мира   \n",
       "1121       профсоюзная улица   \n",
       "744   ленинградский проспект   \n",
       "1078  пресненская набережная   \n",
       "415         варшавское шоссе   \n",
       "747       ленинский проспект   \n",
       "1114    проспект вернадского   \n",
       "735     кутузовский проспект   \n",
       "660          каширское шоссе   \n",
       "666     кировоградская улица   \n",
       "\n",
       "                                                                                                                   region  \\\n",
       "1117                                            [Останкинский, Свиблово, Мещанский, Ростокино, Алексеевский, Ярославский]   \n",
       "1121                                              [Тёплый Стан, Черёмушки, Обручевский, Ясенево, Коньково, Академический]   \n",
       "744                                                                               [Сокол, Хорошёвский, Беговой, Аэропорт]   \n",
       "1078                                                                                                        [Пресненский]   \n",
       "415     [Южное Бутово, Чертаново Центральное, Чертаново Южное, Чертаново Северное, Донской, Нагорный, Нагатино-Садовники]   \n",
       "747   [Тёплый Стан, Ломоносовский, Тропарёво-Никулино, Обручевский, Проспект Вернадского, Гагаринский, Якиманка, Донской]   \n",
       "1114                                      [Ломоносовский, Тропарёво-Никулино, Раменки, Проспект Вернадского, Гагаринский]   \n",
       "735                                                                                        [Фили-Давыдково, Дорогомилово]   \n",
       "660                         [Нагатино-Садовники, Москворечье-Сабурово, Орехово-Борисово Северное, Орехово-Борисово Южное]   \n",
       "666                                                          [Чертаново Центральное, Чертаново Южное, Чертаново Северное]   \n",
       "\n",
       "      number  \n",
       "1117     204  \n",
       "1121     182  \n",
       "744      171  \n",
       "1078     165  \n",
       "415      161  \n",
       "747      147  \n",
       "1114     132  \n",
       "735      114  \n",
       "660      112  \n",
       "666      110  "
      ]
     },
     "execution_count": 56,
     "metadata": {},
     "output_type": "execute_result"
    }
   ],
   "source": [
    "top10 = t['region'].head(10)\n",
    "top10_streets = t['street'].head(10)\n",
    "\n",
    "t.head(10)"
   ]
  },
  {
   "cell_type": "markdown",
   "metadata": {},
   "source": [
    "**Довольно непонятный на первый взгляд список, наличие улиц в котором обусловлено не их особенной привлекательностью, а длинной**  \n",
    "\n",
    "**Также интересно посмотреть на более релевантную, кажется, информацию по топ10 районам без привязки к улицам**"
   ]
  },
  {
   "cell_type": "code",
   "execution_count": 57,
   "metadata": {},
   "outputs": [
    {
     "data": {
      "text/plain": [
       "130      Хорошёвский\n",
       "4              Арбат\n",
       "67         Мещанский\n",
       "117        Таганский\n",
       "127        Хамовники\n",
       "34     Замоскворечье\n",
       "29       Даниловский\n",
       "7          Басманный\n",
       "94       Пресненский\n",
       "118         Тверской\n",
       "Name: region, dtype: object"
      ]
     },
     "execution_count": 57,
     "metadata": {},
     "output_type": "execute_result"
    }
   ],
   "source": [
    "t = df.groupby(['region']).agg({'number' : 'count'}).reset_index().sort_values('number')\n",
    "top10_reg = t[\"region\"].tail(10)\n",
    "top10_reg"
   ]
  },
  {
   "cell_type": "markdown",
   "metadata": {},
   "source": [
    "**Вот в таком виде список кажется более разумным: центральные районы, самые обычные места для отдыха**"
   ]
  },
  {
   "cell_type": "code",
   "execution_count": 58,
   "metadata": {},
   "outputs": [],
   "source": [
    "a = list(top10)\n",
    "top10_list = [i for sublist in a for i in sublist]"
   ]
  },
  {
   "cell_type": "code",
   "execution_count": 59,
   "metadata": {},
   "outputs": [],
   "source": [
    "m3 = folium.Map(location=[55.7522, 37.6156], zoom_start=10)\n",
    "\n",
    "fg = folium.FeatureGroup(name=\"районы с популярной улицей\")\n",
    "m3.add_child(fg)\n",
    "\n",
    "fg1 = folium.FeatureGroup(name=\"популярные районы\")\n",
    "m3.add_child(fg1)\n",
    "\n",
    "\n",
    "for _, r in geomap.query('NAME in @top10_list').iterrows():\n",
    "    sim_geo = gpd.GeoSeries(r['geometry']).simplify(tolerance=0.001)\n",
    "    geo_j = sim_geo.to_json()\n",
    "    geo_j = folium.GeoJson(data=geo_j,\n",
    "                           style_function=lambda x: {'fillColor': 'white'}, name=r['NAME'])\n",
    "    folium.Popup(r['NAME']).add_to(geo_j)\n",
    "    geo_j.add_to(fg)\n",
    "    \n",
    "for _, r in geomap.query('NAME in @top10_reg').iterrows():\n",
    "    sim_geo = gpd.GeoSeries(r['geometry']).simplify(tolerance=0.001)\n",
    "    geo_j = sim_geo.to_json()\n",
    "    geo_j = folium.GeoJson(data=geo_j,\n",
    "                           style_function=lambda x: {'fillColor': 'blue'}, name=r['NAME'])\n",
    "    folium.Popup(r['NAME']).add_to(geo_j)\n",
    "    geo_j.add_to(fg1)\n",
    "\n",
    "folium.LayerControl().add_to(m3)\n",
    "\n",
    "m3.save('map_2.html')\n"
   ]
  },
  {
   "cell_type": "code",
   "execution_count": 4,
   "metadata": {
    "scrolled": false
   },
   "outputs": [
    {
     "data": {
      "text/plain": "<IPython.lib.display.IFrame at 0x274f28f7e80>",
      "text/html": "\n        <iframe\n            width=\"100%\"\n            height=\"500\"\n            src=\"map_2.html\"\n            frameborder=\"0\"\n            allowfullscreen\n        ></iframe>\n        "
     },
     "execution_count": 4,
     "metadata": {},
     "output_type": "execute_result"
    }
   ],
   "source": [
    "IFrame(src='map_2.html', width='100%', height=500)"
   ]
  },
  {
   "cell_type": "markdown",
   "metadata": {},
   "source": [
    "Да, наиболее популярны центральные районы, что неудивительно, а самые популярные улицы проходят через следующие районы:"
   ]
  },
  {
   "cell_type": "code",
   "execution_count": 61,
   "metadata": {},
   "outputs": [
    {
     "data": {
      "text/plain": [
       "['Коньково',\n",
       " 'Орехово-Борисово Северное',\n",
       " 'Раменки',\n",
       " 'Гагаринский',\n",
       " 'Тёплый Стан',\n",
       " 'Черёмушки',\n",
       " 'Пресненский',\n",
       " 'Нагатино-Садовники',\n",
       " 'Беговой',\n",
       " 'Алексеевский',\n",
       " 'Академический',\n",
       " 'Ясенево',\n",
       " 'Аэропорт',\n",
       " 'Свиблово',\n",
       " 'Чертаново Южное',\n",
       " 'Ломоносовский',\n",
       " 'Тропарёво-Никулино',\n",
       " 'Нагорный',\n",
       " 'Фили-Давыдково',\n",
       " 'Орехово-Борисово Южное',\n",
       " 'Мещанский',\n",
       " 'Чертаново Центральное',\n",
       " 'Проспект Вернадского',\n",
       " 'Донской',\n",
       " 'Останкинский',\n",
       " 'Хорошёвский',\n",
       " 'Ростокино',\n",
       " 'Сокол',\n",
       " 'Чертаново Северное',\n",
       " 'Дорогомилово',\n",
       " 'Москворечье-Сабурово',\n",
       " 'Ярославский',\n",
       " 'Южное Бутово',\n",
       " 'Якиманка',\n",
       " 'Обручевский']"
      ]
     },
     "execution_count": 61,
     "metadata": {},
     "output_type": "execute_result"
    }
   ],
   "source": [
    "[i for i in set(top10_list)]"
   ]
  },
  {
   "cell_type": "markdown",
   "metadata": {},
   "source": [
    "## Улицы только с одним заведением и их районы"
   ]
  },
  {
   "cell_type": "code",
   "execution_count": 62,
   "metadata": {},
   "outputs": [],
   "source": [
    "mask = (df.groupby('street')\n",
    "        .agg({'number' : 'count', 'region' : 'first'})\n",
    "        .query('number == 1')\n",
    "        .reset_index()\n",
    "        .sort_values('number', ascending=False)\n",
    "       )"
   ]
  },
  {
   "cell_type": "code",
   "execution_count": 63,
   "metadata": {},
   "outputs": [
    {
     "data": {
      "text/plain": [
       "(579, 3)"
      ]
     },
     "execution_count": 63,
     "metadata": {},
     "output_type": "execute_result"
    }
   ],
   "source": [
    "mask.shape"
   ]
  },
  {
   "cell_type": "markdown",
   "metadata": {},
   "source": [
    "Всего в нашем датасете есть 579 улиц только с одним лишь заведением, посмотрим, в каких районах их больше"
   ]
  },
  {
   "cell_type": "code",
   "execution_count": 64,
   "metadata": {
    "scrolled": false
   },
   "outputs": [
    {
     "data": {
      "text/html": [
       "<div>\n",
       "<style scoped>\n",
       "    .dataframe tbody tr th:only-of-type {\n",
       "        vertical-align: middle;\n",
       "    }\n",
       "\n",
       "    .dataframe tbody tr th {\n",
       "        vertical-align: top;\n",
       "    }\n",
       "\n",
       "    .dataframe thead th {\n",
       "        text-align: right;\n",
       "    }\n",
       "</style>\n",
       "<table border=\"1\" class=\"dataframe\">\n",
       "  <thead>\n",
       "    <tr style=\"text-align: right;\">\n",
       "      <th></th>\n",
       "      <th>region</th>\n",
       "      <th>number</th>\n",
       "    </tr>\n",
       "  </thead>\n",
       "  <tbody>\n",
       "    <tr>\n",
       "      <td>88</td>\n",
       "      <td>Таганский</td>\n",
       "      <td>33</td>\n",
       "    </tr>\n",
       "    <tr>\n",
       "      <td>96</td>\n",
       "      <td>Хамовники</td>\n",
       "      <td>27</td>\n",
       "    </tr>\n",
       "    <tr>\n",
       "      <td>71</td>\n",
       "      <td>Пресненский</td>\n",
       "      <td>24</td>\n",
       "    </tr>\n",
       "    <tr>\n",
       "      <td>6</td>\n",
       "      <td>Басманный</td>\n",
       "      <td>23</td>\n",
       "    </tr>\n",
       "    <tr>\n",
       "      <td>89</td>\n",
       "      <td>Тверской</td>\n",
       "      <td>21</td>\n",
       "    </tr>\n",
       "    <tr>\n",
       "      <td>47</td>\n",
       "      <td>Марьина Роща</td>\n",
       "      <td>17</td>\n",
       "    </tr>\n",
       "    <tr>\n",
       "      <td>84</td>\n",
       "      <td>Сокольники</td>\n",
       "      <td>15</td>\n",
       "    </tr>\n",
       "    <tr>\n",
       "      <td>50</td>\n",
       "      <td>Мещанский</td>\n",
       "      <td>14</td>\n",
       "    </tr>\n",
       "    <tr>\n",
       "      <td>25</td>\n",
       "      <td>Замоскворечье</td>\n",
       "      <td>13</td>\n",
       "    </tr>\n",
       "    <tr>\n",
       "      <td>41</td>\n",
       "      <td>Лефортово</td>\n",
       "      <td>12</td>\n",
       "    </tr>\n",
       "  </tbody>\n",
       "</table>\n",
       "</div>"
      ],
      "text/plain": [
       "           region  number\n",
       "88      Таганский      33\n",
       "96      Хамовники      27\n",
       "71    Пресненский      24\n",
       "6       Басманный      23\n",
       "89       Тверской      21\n",
       "47   Марьина Роща      17\n",
       "84     Сокольники      15\n",
       "50      Мещанский      14\n",
       "25  Замоскворечье      13\n",
       "41      Лефортово      12"
      ]
     },
     "execution_count": 64,
     "metadata": {},
     "output_type": "execute_result"
    }
   ],
   "source": [
    "empty_street_counter = (mask.groupby('region')\n",
    "                        .agg({'number' : 'count'})\n",
    "                        .reset_index()\n",
    "                        .sort_values('number', ascending=False)\n",
    "                       )\n",
    "empty_street_counter.head(10)\n"
   ]
  },
  {
   "cell_type": "markdown",
   "metadata": {},
   "source": [
    "Опять много центральных районов. Возможно, связано с тем, что улицы в центре обычно намного короче. Посмотрим на карте"
   ]
  },
  {
   "cell_type": "code",
   "execution_count": 65,
   "metadata": {},
   "outputs": [
    {
     "data": {
      "text/html": [
       "<div>\n",
       "<style scoped>\n",
       "    .dataframe tbody tr th:only-of-type {\n",
       "        vertical-align: middle;\n",
       "    }\n",
       "\n",
       "    .dataframe tbody tr th {\n",
       "        vertical-align: top;\n",
       "    }\n",
       "\n",
       "    .dataframe thead th {\n",
       "        text-align: right;\n",
       "    }\n",
       "</style>\n",
       "<table border=\"1\" class=\"dataframe\">\n",
       "  <thead>\n",
       "    <tr style=\"text-align: right;\">\n",
       "      <th></th>\n",
       "      <th>region</th>\n",
       "      <th>streets_total</th>\n",
       "    </tr>\n",
       "  </thead>\n",
       "  <tbody>\n",
       "    <tr>\n",
       "      <td>0</td>\n",
       "      <td>\"Мосрентген\"</td>\n",
       "      <td>4</td>\n",
       "    </tr>\n",
       "    <tr>\n",
       "      <td>1</td>\n",
       "      <td>Академический</td>\n",
       "      <td>11</td>\n",
       "    </tr>\n",
       "    <tr>\n",
       "      <td>2</td>\n",
       "      <td>Алексеевский</td>\n",
       "      <td>19</td>\n",
       "    </tr>\n",
       "    <tr>\n",
       "      <td>3</td>\n",
       "      <td>Алтуфьевский</td>\n",
       "      <td>8</td>\n",
       "    </tr>\n",
       "    <tr>\n",
       "      <td>4</td>\n",
       "      <td>Арбат</td>\n",
       "      <td>35</td>\n",
       "    </tr>\n",
       "  </tbody>\n",
       "</table>\n",
       "</div>"
      ],
      "text/plain": [
       "          region  streets_total\n",
       "0   \"Мосрентген\"              4\n",
       "1  Академический             11\n",
       "2   Алексеевский             19\n",
       "3   Алтуфьевский              8\n",
       "4          Арбат             35"
      ]
     },
     "execution_count": 65,
     "metadata": {},
     "output_type": "execute_result"
    }
   ],
   "source": [
    "streets_total = df.groupby('region').agg({'street' : 'nunique'}).reset_index()\n",
    "streets_total.rename(columns={'street':'streets_total'}, inplace=True)\n",
    "streets_total.head()"
   ]
  },
  {
   "cell_type": "code",
   "execution_count": 66,
   "metadata": {},
   "outputs": [],
   "source": [
    "all_regions = pd.DataFrame(df['region'].unique())"
   ]
  },
  {
   "cell_type": "code",
   "execution_count": 67,
   "metadata": {},
   "outputs": [],
   "source": [
    "every_empty_street_counter = streets_total.merge(empty_street_counter, how='left', on='region')"
   ]
  },
  {
   "cell_type": "code",
   "execution_count": 68,
   "metadata": {},
   "outputs": [
    {
     "data": {
      "text/html": [
       "<div>\n",
       "<style scoped>\n",
       "    .dataframe tbody tr th:only-of-type {\n",
       "        vertical-align: middle;\n",
       "    }\n",
       "\n",
       "    .dataframe tbody tr th {\n",
       "        vertical-align: top;\n",
       "    }\n",
       "\n",
       "    .dataframe thead th {\n",
       "        text-align: right;\n",
       "    }\n",
       "</style>\n",
       "<table border=\"1\" class=\"dataframe\">\n",
       "  <thead>\n",
       "    <tr style=\"text-align: right;\">\n",
       "      <th></th>\n",
       "      <th>region</th>\n",
       "      <th>streets_total</th>\n",
       "      <th>number</th>\n",
       "    </tr>\n",
       "  </thead>\n",
       "  <tbody>\n",
       "    <tr>\n",
       "      <td>0</td>\n",
       "      <td>\"Мосрентген\"</td>\n",
       "      <td>4</td>\n",
       "      <td>2.0</td>\n",
       "    </tr>\n",
       "    <tr>\n",
       "      <td>1</td>\n",
       "      <td>Академический</td>\n",
       "      <td>11</td>\n",
       "      <td>NaN</td>\n",
       "    </tr>\n",
       "    <tr>\n",
       "      <td>2</td>\n",
       "      <td>Алексеевский</td>\n",
       "      <td>19</td>\n",
       "      <td>7.0</td>\n",
       "    </tr>\n",
       "    <tr>\n",
       "      <td>3</td>\n",
       "      <td>Алтуфьевский</td>\n",
       "      <td>8</td>\n",
       "      <td>2.0</td>\n",
       "    </tr>\n",
       "    <tr>\n",
       "      <td>4</td>\n",
       "      <td>Арбат</td>\n",
       "      <td>35</td>\n",
       "      <td>11.0</td>\n",
       "    </tr>\n",
       "  </tbody>\n",
       "</table>\n",
       "</div>"
      ],
      "text/plain": [
       "          region  streets_total  number\n",
       "0   \"Мосрентген\"              4     2.0\n",
       "1  Академический             11     NaN\n",
       "2   Алексеевский             19     7.0\n",
       "3   Алтуфьевский              8     2.0\n",
       "4          Арбат             35    11.0"
      ]
     },
     "execution_count": 68,
     "metadata": {},
     "output_type": "execute_result"
    }
   ],
   "source": [
    "every_empty_street_counter.head()"
   ]
  },
  {
   "cell_type": "markdown",
   "metadata": {},
   "source": [
    "Присоединим данные о количестве улиц с одним заведением и количестве улиц на которых есть хоть что-то к датафрейму с районами"
   ]
  },
  {
   "cell_type": "code",
   "execution_count": 69,
   "metadata": {},
   "outputs": [],
   "source": [
    "geomap = geomap.merge(every_empty_street_counter, how='left', left_on='NAME', right_on='region')"
   ]
  },
  {
   "cell_type": "code",
   "execution_count": 70,
   "metadata": {},
   "outputs": [],
   "source": [
    "geomap.fillna(0, inplace = True)"
   ]
  },
  {
   "cell_type": "code",
   "execution_count": 71,
   "metadata": {
    "scrolled": false
   },
   "outputs": [],
   "source": [
    "colormap = linear.YlGn_09.scale(\n",
    "    geomap.streets_total.min(), log(geomap.streets_total.max())\n",
    ")\n",
    "colormap.caption=\"Улиц с одним заведением\"\n",
    "\n",
    "colormap2 = linear.YlGn_09.scale(\n",
    "    geomap.streets_total.min(), log(geomap.streets_total.max())\n",
    ")\n",
    "colormap.caption=\"Всего улиц в районе\"\n",
    "\n",
    "m = folium.Map(location=[55.7522, 37.6156], zoom_start=10) \n",
    "\n",
    "tategeo = folium.GeoJson(geomap,\n",
    "                          name='Empty streets',\n",
    "                          style_function=lambda x: {'fillColor': colormap(log(x['properties']['number'] + 1)), \n",
    "                                                    'color': 'black',\n",
    "                                                    'weight':2, 'fillOpacity':0.5},\n",
    "                          tooltip=folium.GeoJsonTooltip(fields=['NAME', 'number'], \n",
    "                                            aliases=['Name', 'Empty streets'], \n",
    "                                            localize=True)\n",
    "                         ).add_to(m)\n",
    "\n",
    "tategeo = folium.GeoJson(geomap,\n",
    "                          name='Streets total',\n",
    "                          style_function=lambda x: {'fillColor': colormap2(log(x['properties']['streets_total'])), \n",
    "                                                    'color': 'black',\n",
    "                                                    'weight':2, 'fillOpacity':0.5},\n",
    "                          tooltip=folium.GeoJsonTooltip(fields=['NAME', 'streets_total'], \n",
    "                                            aliases=['Name', 'Streets total'], \n",
    "                                            localize=True)\n",
    "             ).add_to(m)\n",
    "folium.LayerControl().add_to(m)\n",
    "colormap2.add_to(m)\n",
    "colormap.add_to(m)\n",
    "m.save('map_streets_1.html')\n"
   ]
  },
  {
   "cell_type": "code",
   "execution_count": 72,
   "metadata": {},
   "outputs": [
    {
     "data": {
      "text/html": [
       "\n",
       "        <iframe\n",
       "            width=\"100%\"\n",
       "            height=\"500\"\n",
       "            src=\"map_streets_1.html\"\n",
       "            frameborder=\"0\"\n",
       "            allowfullscreen\n",
       "        ></iframe>\n",
       "        "
      ],
      "text/plain": [
       "<IPython.lib.display.IFrame at 0x7f659a1df310>"
      ]
     },
     "execution_count": 72,
     "metadata": {},
     "output_type": "execute_result"
    }
   ],
   "source": [
    "IFrame(src='map_streets_1.html', width='100%', height=500)"
   ]
  },
  {
   "cell_type": "markdown",
   "metadata": {},
   "source": [
    "**Видно, что переключая слои общая картина не меняется: отношение $\\large  \\frac{всего~улиц~с~заведениями~питания}{улиц~с~одним~заведением~питания}$ примерно одинаково**  \n"
   ]
  },
  {
   "cell_type": "markdown",
   "metadata": {},
   "source": [
    "## Общее количество заведений в районе"
   ]
  },
  {
   "cell_type": "markdown",
   "metadata": {},
   "source": [
    "Посмотрим на общую картину, в какой районе сколько заведений общественного питания"
   ]
  },
  {
   "cell_type": "code",
   "execution_count": 73,
   "metadata": {},
   "outputs": [],
   "source": [
    "ids_total = df.groupby('region').agg({'id' : 'count'}).reset_index().sort_values('id')"
   ]
  },
  {
   "cell_type": "code",
   "execution_count": 74,
   "metadata": {},
   "outputs": [],
   "source": [
    "geomap = geomap.merge(ids_total, left_on='NAME', right_on='region')"
   ]
  },
  {
   "cell_type": "code",
   "execution_count": 75,
   "metadata": {},
   "outputs": [],
   "source": [
    "colormap = linear.YlGn_09.scale(\n",
    "    geomap.id.min(), log(geomap.id.max())\n",
    ")\n",
    "colormap.caption=\"Всего заведений в районе\"\n",
    "\n",
    "m = folium.Map(location=[55.7522, 37.6156], zoom_start=10) \n",
    "\n",
    "tategeo = folium.GeoJson(geomap,\n",
    "                          name='Eaterys total',\n",
    "                          style_function=lambda x: {'fillColor': colormap(log(x['properties']['id'])), \n",
    "                                                    'color': 'black',\n",
    "                                                    'weight':2, 'fillOpacity':0.5},\n",
    "                          tooltip=folium.GeoJsonTooltip(fields=['NAME', 'id'], \n",
    "                                            aliases=['Name', 'Eaterys_count'], \n",
    "                                            localize=True)\n",
    "             ).add_to(m)\n",
    "folium.LayerControl().add_to(m)\n",
    "\n",
    "colormap.add_to(m)\n",
    "m.save('map_eaterys_count.html')\n"
   ]
  },
  {
   "cell_type": "code",
   "execution_count": 76,
   "metadata": {},
   "outputs": [
    {
     "data": {
      "text/html": [
       "\n",
       "        <iframe\n",
       "            width=\"100%\"\n",
       "            height=\"500\"\n",
       "            src=\"map_eaterys_count.html\"\n",
       "            frameborder=\"0\"\n",
       "            allowfullscreen\n",
       "        ></iframe>\n",
       "        "
      ],
      "text/plain": [
       "<IPython.lib.display.IFrame at 0x7f659164b1d0>"
      ]
     },
     "execution_count": 76,
     "metadata": {},
     "output_type": "execute_result"
    }
   ],
   "source": [
    "IFrame(src='map_eaterys_count.html', width='100%', height=500)"
   ]
  },
  {
   "cell_type": "markdown",
   "metadata": {},
   "source": [
    "## Распределение количества посадочных мест для улиц с большим количеством объектов"
   ]
  },
  {
   "cell_type": "code",
   "execution_count": 77,
   "metadata": {},
   "outputs": [],
   "source": [
    "tdf = (\n",
    "    df.query('street in @top10_streets')\n",
    "    .groupby('street')\n",
    "    .agg({'number' : 'median'})\n",
    "    .reset_index()\n",
    "    .sort_values('number', ascending=False)\n",
    "    .head(10)\n",
    ")"
   ]
  },
  {
   "cell_type": "code",
   "execution_count": 78,
   "metadata": {},
   "outputs": [
    {
     "data": {
      "image/png": "[encoded data removed]",
      "text/plain": [
       "<Figure size 1200x720 with 1 Axes>"
      ]
     },
     "metadata": {},
     "output_type": "display_data"
    }
   ],
   "source": [
    "plt.figure(figsize=(10,6), dpi= 120)\n",
    "\n",
    "show_values_on_bars(sns.barplot(data = tdf, \n",
    "            x='number', y='street', orient='h'),\n",
    "                    h_v='h')\n",
    "\n",
    "plt.title('Количество мест для топ10 улиц', fontsize=15)\n",
    "plt.xlabel(\"Медианное количество посадочных мест\")\n",
    "plt.ylabel(\"\")\n",
    "plt.axvline(x=40, color=sns.color_palette()[1], linestyle='--')\n",
    "\n",
    "plt.show()"
   ]
  },
  {
   "cell_type": "markdown",
   "metadata": {},
   "source": [
    "Какой-то общей картины не видно: медиана для всей Москвы 40, топ улиц отличается слабо и в обе стороны, закономерности не видно  \n",
    "Сосенское выделяется по понятной причине: Москвой его можно считать только формально "
   ]
  },
  {
   "cell_type": "code",
   "execution_count": 79,
   "metadata": {},
   "outputs": [],
   "source": [
    "tdf = (\n",
    "    df.query('region in @top10_reg')\n",
    "    .groupby('region')\n",
    "    .agg({'number' : 'median'})\n",
    "    .reset_index()\n",
    "    .sort_values('number', ascending=False)\n",
    "    .head(10)\n",
    ")"
   ]
  },
  {
   "cell_type": "code",
   "execution_count": 80,
   "metadata": {},
   "outputs": [
    {
     "data": {
      "image/png": "[encoded data removed]",
      "text/plain": [
       "<Figure size 1200x720 with 1 Axes>"
      ]
     },
     "metadata": {},
     "output_type": "display_data"
    }
   ],
   "source": [
    "plt.figure(figsize=(10,6), dpi= 120)\n",
    "\n",
    "show_values_on_bars(sns.barplot(data = tdf, \n",
    "            x='number', y='region', orient='h'),\n",
    "                    h_v='h')\n",
    "\n",
    "plt.title('Количество мест для топ10 районов', fontsize=15)\n",
    "plt.xlabel(\"Медианное количество посадочных мест\")\n",
    "plt.ylabel(\"\")\n",
    "plt.axvline(x=40, color=sns.color_palette()[1], linestyle='--')\n",
    "\n",
    "plt.show()"
   ]
  },
  {
   "cell_type": "markdown",
   "metadata": {},
   "source": [
    "Картина похожая на прошлый график, хотя Даниловский и Хорошёвский районы возможно оказались вместе не случайно: это наиболее удалённые от центра из десяти "
   ]
  },
  {
   "cell_type": "markdown",
   "metadata": {},
   "source": [
    "Посмотрим на это на карте"
   ]
  },
  {
   "cell_type": "code",
   "execution_count": 81,
   "metadata": {},
   "outputs": [
    {
     "data": {
      "text/html": [
       "<div>\n",
       "<style scoped>\n",
       "    .dataframe tbody tr th:only-of-type {\n",
       "        vertical-align: middle;\n",
       "    }\n",
       "\n",
       "    .dataframe tbody tr th {\n",
       "        vertical-align: top;\n",
       "    }\n",
       "\n",
       "    .dataframe thead th {\n",
       "        text-align: right;\n",
       "    }\n",
       "</style>\n",
       "<table border=\"1\" class=\"dataframe\">\n",
       "  <thead>\n",
       "    <tr style=\"text-align: right;\">\n",
       "      <th></th>\n",
       "      <th>region</th>\n",
       "      <th>median_seats_count</th>\n",
       "    </tr>\n",
       "  </thead>\n",
       "  <tbody>\n",
       "    <tr>\n",
       "      <td>99</td>\n",
       "      <td>Рязановское</td>\n",
       "      <td>159.5</td>\n",
       "    </tr>\n",
       "    <tr>\n",
       "      <td>43</td>\n",
       "      <td>Кокошкино</td>\n",
       "      <td>107.0</td>\n",
       "    </tr>\n",
       "    <tr>\n",
       "      <td>81</td>\n",
       "      <td>Новокосино</td>\n",
       "      <td>100.0</td>\n",
       "    </tr>\n",
       "    <tr>\n",
       "      <td>24</td>\n",
       "      <td>Восточный</td>\n",
       "      <td>100.0</td>\n",
       "    </tr>\n",
       "    <tr>\n",
       "      <td>79</td>\n",
       "      <td>Ново-Переделкино</td>\n",
       "      <td>94.0</td>\n",
       "    </tr>\n",
       "  </tbody>\n",
       "</table>\n",
       "</div>"
      ],
      "text/plain": [
       "              region  median_seats_count\n",
       "99       Рязановское               159.5\n",
       "43         Кокошкино               107.0\n",
       "81        Новокосино               100.0\n",
       "24         Восточный               100.0\n",
       "79  Ново-Переделкино                94.0"
      ]
     },
     "execution_count": 81,
     "metadata": {},
     "output_type": "execute_result"
    }
   ],
   "source": [
    "median_seats = (\n",
    "    df.groupby('region')\n",
    "    .agg({'number' : 'median'})\n",
    "    .reset_index()\n",
    "    .sort_values('number', ascending=False)\n",
    ")\n",
    "\n",
    "median_seats.rename(columns={'number':'median_seats_count'}, inplace=True)\n",
    "\n",
    "median_seats.head(5)"
   ]
  },
  {
   "cell_type": "code",
   "execution_count": 82,
   "metadata": {},
   "outputs": [],
   "source": [
    "geomap = geomap.merge(median_seats, left_on='NAME', right_on='region')"
   ]
  },
  {
   "cell_type": "code",
   "execution_count": 83,
   "metadata": {},
   "outputs": [],
   "source": [
    "colormap = linear.YlGn_09.scale(\n",
    "    log(geomap.median_seats_count.min()), log(geomap.median_seats_count.max())\n",
    ")\n",
    "colormap.caption=\"Медианное количество мест\"\n",
    "\n",
    "m = folium.Map(location=[55.7522, 37.6156], zoom_start=10) \n",
    "\n",
    "tategeo = folium.GeoJson(\n",
    "    geomap,\n",
    "    name='Районы Москвы',\n",
    "    style_function=lambda x: {'fillColor': colormap(log(x['properties']['median_seats_count'])), \n",
    "    'color': 'black',\n",
    "    'weight':2, 'fillOpacity':0.5},\n",
    "    tooltip=folium.GeoJsonTooltip(fields=['NAME', 'median_seats_count'], \n",
    "                                            aliases=['Name', 'Seats median'], \n",
    "                                            localize=True)\n",
    "                         ).add_to(m)\n",
    "\n",
    "colormap.add_to(m)\n",
    "m.save('map_seats_1.html')"
   ]
  },
  {
   "cell_type": "code",
   "execution_count": 84,
   "metadata": {},
   "outputs": [
    {
     "data": {
      "text/html": [
       "\n",
       "        <iframe\n",
       "            width=\"100%\"\n",
       "            height=\"500\"\n",
       "            src=\"map_seats_1.html\"\n",
       "            frameborder=\"0\"\n",
       "            allowfullscreen\n",
       "        ></iframe>\n",
       "        "
      ],
      "text/plain": [
       "<IPython.lib.display.IFrame at 0x7f658fe3f850>"
      ]
     },
     "execution_count": 84,
     "metadata": {},
     "output_type": "execute_result"
    }
   ],
   "source": [
    "IFrame(src='map_seats_1.html', width='100%', height=500)"
   ]
  },
  {
   "cell_type": "markdown",
   "metadata": {},
   "source": [
    "Да, серьёзной зависимости не видно. Среднее количество мест от удалённости от центра вряд ли зависит "
   ]
  },
  {
   "cell_type": "code",
   "execution_count": 85,
   "metadata": {},
   "outputs": [
    {
     "data": {
      "text/html": [
       "<div>\n",
       "<style scoped>\n",
       "    .dataframe tbody tr th:only-of-type {\n",
       "        vertical-align: middle;\n",
       "    }\n",
       "\n",
       "    .dataframe tbody tr th {\n",
       "        vertical-align: top;\n",
       "    }\n",
       "\n",
       "    .dataframe thead th {\n",
       "        text-align: right;\n",
       "    }\n",
       "</style>\n",
       "<table border=\"1\" class=\"dataframe\">\n",
       "  <thead>\n",
       "    <tr style=\"text-align: right;\">\n",
       "      <th></th>\n",
       "      <th>object_type</th>\n",
       "      <th>number</th>\n",
       "    </tr>\n",
       "  </thead>\n",
       "  <tbody>\n",
       "    <tr>\n",
       "      <td>8</td>\n",
       "      <td>столовая</td>\n",
       "      <td>130.275261</td>\n",
       "    </tr>\n",
       "    <tr>\n",
       "      <td>7</td>\n",
       "      <td>ресторан</td>\n",
       "      <td>100.226871</td>\n",
       "    </tr>\n",
       "    <tr>\n",
       "      <td>1</td>\n",
       "      <td>буфет</td>\n",
       "      <td>51.855903</td>\n",
       "    </tr>\n",
       "    <tr>\n",
       "      <td>0</td>\n",
       "      <td>бар</td>\n",
       "      <td>43.913146</td>\n",
       "    </tr>\n",
       "    <tr>\n",
       "      <td>3</td>\n",
       "      <td>кафе</td>\n",
       "      <td>39.025374</td>\n",
       "    </tr>\n",
       "    <tr>\n",
       "      <td>6</td>\n",
       "      <td>предприятие быстрого обслуживания</td>\n",
       "      <td>23.293891</td>\n",
       "    </tr>\n",
       "    <tr>\n",
       "      <td>4</td>\n",
       "      <td>кафетерий</td>\n",
       "      <td>8.768362</td>\n",
       "    </tr>\n",
       "    <tr>\n",
       "      <td>2</td>\n",
       "      <td>закусочная</td>\n",
       "      <td>6.657233</td>\n",
       "    </tr>\n",
       "    <tr>\n",
       "      <td>5</td>\n",
       "      <td>магазин (отдел кулинарии)</td>\n",
       "      <td>3.700000</td>\n",
       "    </tr>\n",
       "  </tbody>\n",
       "</table>\n",
       "</div>"
      ],
      "text/plain": [
       "                         object_type      number\n",
       "8                           столовая  130.275261\n",
       "7                           ресторан  100.226871\n",
       "1                              буфет   51.855903\n",
       "0                                бар   43.913146\n",
       "3                               кафе   39.025374\n",
       "6  предприятие быстрого обслуживания   23.293891\n",
       "4                          кафетерий    8.768362\n",
       "2                         закусочная    6.657233\n",
       "5          магазин (отдел кулинарии)    3.700000"
      ]
     },
     "execution_count": 85,
     "metadata": {},
     "output_type": "execute_result"
    }
   ],
   "source": [
    "tdf = (\n",
    "    df.groupby('object_type')\n",
    "    .agg({'number' : 'mean'})\n",
    "    .reset_index()\n",
    "    .sort_values('number', ascending=False)\n",
    ")\n",
    "tdf"
   ]
  },
  {
   "cell_type": "markdown",
   "metadata": {},
   "source": [
    "# Вывод"
   ]
  },
  {
   "cell_type": "markdown",
   "metadata": {
    "pycharm": {
     "name": "#%% md\n"
    }
   },
   "source": [
    "Наиболее популярные типы заведений - кафе, столовая, ресторан;  \n",
    "Сетевая модель распространения характерна для предприятий быстрого обслуживания (46%), отделов кулинарии (30%) и кафе (24%);  \n",
    "Для сетевых заведений наблюдается следующая закономерность:  \n",
    "* для ресторанов характерен большой размер, но малое количество заведений;  \n",
    "* для фастфуда - среднее количество мест, но много заведений;  \n",
    "* для кафе - небольшие помещения, немного заведений  \n",
    "\n",
    "\n",
    "Типичное количество мест для кафе - 39, для ресторанов 100, для столовых 130;  \n",
    "Районы с наибольшим количеством объектов питания - центральные;  \n",
    "Медианное количество посадочных мест примерно одинаково для всех районов \n",
    "\n",
    "**Исследование можно обобщить таким образом:**  \n",
    "- кафе является хорошим вариантом как для сетевого, так и для одиночного заведения, на их рынке много, спрос есть  \n",
    "- количество посадочных мест стоит выбирать опираясь на вид заведения. Если это кафе, то оптимально около сорока\n",
    "- район лучше выбирать центральный, один из входящих в десятку по количеству заведений. Обслуживание роботами скорее всего долгое время будет обходится дороже, чем людьми, а туристические районы города лучшее место для дорогого заведения  \n",
    "- какие-то прогнозы о возможности создания сети строить сложно: примеры успешных сетевых кафе в Москве есть, но решающую роль будет играть то, насколько эффективно у нас получится использовать роботизированных официантов. Если их эксплуатация будет очень дорогой, то открывать филиалы будет вредно: люди будут ходить в наше кафе не зна едой, а за экзотикой. Вывести экзотику на широкий рынок можно только тогда, когда это экономически обоснованно"
   ]
  }
 ],
 "metadata": {
  "ExecuteTimeLog": [
   {
    "duration": 23627,
    "start_time": "2021-09-03T06:41:52.542Z"
   },
   {
    "duration": 5088,
    "start_time": "2021-09-03T06:42:16.172Z"
   },
   {
    "duration": 5957,
    "start_time": "2021-09-03T06:42:21.264Z"
   },
   {
    "duration": 59,
    "start_time": "2021-09-03T06:42:27.225Z"
   },
   {
    "duration": 23,
    "start_time": "2021-09-03T06:42:27.286Z"
   },
   {
    "duration": 25,
    "start_time": "2021-09-03T06:42:27.312Z"
   },
   {
    "duration": 62,
    "start_time": "2021-09-03T06:42:27.340Z"
   },
   {
    "duration": 13,
    "start_time": "2021-09-03T06:42:27.407Z"
   },
   {
    "duration": 21,
    "start_time": "2021-09-03T06:42:27.423Z"
   },
   {
    "duration": 40,
    "start_time": "2021-09-03T06:42:27.447Z"
   },
   {
    "duration": 19,
    "start_time": "2021-09-03T06:42:27.490Z"
   },
   {
    "duration": 57,
    "start_time": "2021-09-03T06:42:27.511Z"
   },
   {
    "duration": 10,
    "start_time": "2021-09-03T06:42:27.571Z"
   },
   {
    "duration": 12,
    "start_time": "2021-09-03T06:42:27.584Z"
   },
   {
    "duration": 30,
    "start_time": "2021-09-03T06:42:27.598Z"
   },
   {
    "duration": 22,
    "start_time": "2021-09-03T06:42:27.631Z"
   },
   {
    "duration": 7,
    "start_time": "2021-09-03T06:42:27.666Z"
   },
   {
    "duration": 29,
    "start_time": "2021-09-03T06:42:27.675Z"
   },
   {
    "duration": 15,
    "start_time": "2021-09-03T06:42:27.706Z"
   },
   {
    "duration": 45,
    "start_time": "2021-09-03T06:42:27.723Z"
   },
   {
    "duration": 19,
    "start_time": "2021-09-03T06:42:27.771Z"
   },
   {
    "duration": 5,
    "start_time": "2021-09-03T06:42:27.792Z"
   },
   {
    "duration": 5368,
    "start_time": "2021-09-03T06:42:27.803Z"
   },
   {
    "duration": 20,
    "start_time": "2021-09-03T06:42:33.174Z"
   },
   {
    "duration": 21,
    "start_time": "2021-09-03T06:42:33.197Z"
   },
   {
    "duration": 14,
    "start_time": "2021-09-03T06:42:33.220Z"
   },
   {
    "duration": 10059,
    "start_time": "2021-09-03T06:42:33.236Z"
   },
   {
    "duration": 1647,
    "start_time": "2021-09-03T06:42:43.297Z"
   },
   {
    "duration": 310,
    "start_time": "2021-09-03T06:42:44.947Z"
   },
   {
    "duration": 66,
    "start_time": "2021-09-03T06:42:45.260Z"
   },
   {
    "duration": 9,
    "start_time": "2021-09-03T06:42:45.329Z"
   },
   {
    "duration": 28,
    "start_time": "2021-09-03T06:42:45.341Z"
   },
   {
    "duration": 24,
    "start_time": "2021-09-03T06:42:45.372Z"
   },
   {
    "duration": 639,
    "start_time": "2021-09-03T06:42:45.398Z"
   },
   {
    "duration": 10,
    "start_time": "2021-09-03T06:42:46.039Z"
   },
   {
    "duration": 856,
    "start_time": "2021-09-03T06:42:46.051Z"
   },
   {
    "duration": 548,
    "start_time": "2021-09-03T06:42:46.909Z"
   },
   {
    "duration": 878,
    "start_time": "2021-09-03T06:42:47.459Z"
   },
   {
    "duration": 40,
    "start_time": "2021-09-03T06:42:48.340Z"
   },
   {
    "duration": 22,
    "start_time": "2021-09-03T06:42:48.383Z"
   },
   {
    "duration": 1194,
    "start_time": "2021-09-03T06:42:48.407Z"
   },
   {
    "duration": 11,
    "start_time": "2021-09-03T06:42:49.604Z"
   },
   {
    "duration": 852,
    "start_time": "2021-09-03T06:42:49.618Z"
   },
   {
    "duration": 204,
    "start_time": "2021-09-03T06:42:50.472Z"
   },
   {
    "duration": 10,
    "start_time": "2021-09-03T06:42:50.678Z"
   },
   {
    "duration": 882,
    "start_time": "2021-09-03T06:42:50.691Z"
   },
   {
    "duration": 38,
    "start_time": "2021-09-03T06:42:51.576Z"
   },
   {
    "duration": 33181,
    "start_time": "2021-09-03T06:42:51.617Z"
   },
   {
    "duration": 7,
    "start_time": "2021-09-03T06:43:24.800Z"
   },
   {
    "duration": 452,
    "start_time": "2021-09-03T06:43:24.810Z"
   },
   {
    "duration": 195,
    "start_time": "2021-09-03T06:43:25.264Z"
   },
   {
    "duration": 9,
    "start_time": "2021-09-03T06:43:25.462Z"
   },
   {
    "duration": 18568,
    "start_time": "2021-09-03T06:43:25.473Z"
   },
   {
    "duration": 30,
    "start_time": "2021-09-03T06:43:44.044Z"
   },
   {
    "duration": 26,
    "start_time": "2021-09-03T06:43:44.077Z"
   },
   {
    "duration": 8,
    "start_time": "2021-09-03T06:43:44.105Z"
   },
   {
    "duration": 661,
    "start_time": "2021-09-03T06:43:44.115Z"
   },
   {
    "duration": 16,
    "start_time": "2021-09-03T06:43:44.779Z"
   },
   {
    "duration": 16,
    "start_time": "2021-09-03T06:43:44.797Z"
   },
   {
    "duration": 5,
    "start_time": "2021-09-03T06:43:44.816Z"
   },
   {
    "duration": 539,
    "start_time": "2021-09-03T06:43:44.824Z"
   },
   {
    "duration": 6,
    "start_time": "2021-09-03T06:43:45.366Z"
   },
   {
    "duration": 9,
    "start_time": "2021-09-03T06:43:45.375Z"
   },
   {
    "duration": 26,
    "start_time": "2021-09-03T06:43:45.387Z"
   },
   {
    "duration": 7,
    "start_time": "2021-09-03T06:43:45.415Z"
   },
   {
    "duration": 56,
    "start_time": "2021-09-03T06:43:45.424Z"
   },
   {
    "duration": 35,
    "start_time": "2021-09-03T06:43:45.482Z"
   },
   {
    "duration": 5,
    "start_time": "2021-09-03T06:43:45.525Z"
   },
   {
    "duration": 38,
    "start_time": "2021-09-03T06:43:45.533Z"
   },
   {
    "duration": 19,
    "start_time": "2021-09-03T06:43:45.574Z"
   },
   {
    "duration": 34,
    "start_time": "2021-09-03T06:43:45.595Z"
   },
   {
    "duration": 18,
    "start_time": "2021-09-03T06:43:45.632Z"
   },
   {
    "duration": 1697,
    "start_time": "2021-09-03T06:43:45.652Z"
   },
   {
    "duration": 5,
    "start_time": "2021-09-03T06:43:47.352Z"
   },
   {
    "duration": 25,
    "start_time": "2021-09-03T06:43:47.359Z"
   },
   {
    "duration": 34,
    "start_time": "2021-09-03T06:43:47.386Z"
   },
   {
    "duration": 803,
    "start_time": "2021-09-03T06:43:47.423Z"
   },
   {
    "duration": 6,
    "start_time": "2021-09-03T06:43:48.229Z"
   },
   {
    "duration": 21,
    "start_time": "2021-09-03T06:43:48.237Z"
   },
   {
    "duration": 1010,
    "start_time": "2021-09-03T06:43:48.261Z"
   },
   {
    "duration": 14,
    "start_time": "2021-09-03T06:43:49.273Z"
   },
   {
    "duration": 912,
    "start_time": "2021-09-03T06:43:49.290Z"
   },
   {
    "duration": 19,
    "start_time": "2021-09-03T06:43:50.205Z"
   },
   {
    "duration": 54,
    "start_time": "2021-09-03T06:43:50.227Z"
   },
   {
    "duration": 759,
    "start_time": "2021-09-03T06:43:50.283Z"
   },
   {
    "duration": 7,
    "start_time": "2021-09-03T06:43:51.044Z"
   },
   {
    "duration": 25,
    "start_time": "2021-09-03T06:43:51.054Z"
   },
   {
    "duration": 9,
    "start_time": "2021-09-03T06:53:54.609Z"
   },
   {
    "duration": 369,
    "start_time": "2021-09-03T06:53:56.859Z"
   },
   {
    "duration": 257,
    "start_time": "2021-09-03T06:54:40.161Z"
   },
   {
    "duration": 5701,
    "start_time": "2021-09-03T06:55:14.737Z"
   },
   {
    "duration": 5233,
    "start_time": "2021-09-03T06:55:43.312Z"
   },
   {
    "duration": 63,
    "start_time": "2021-09-03T06:55:48.548Z"
   },
   {
    "duration": 21,
    "start_time": "2021-09-03T06:55:48.615Z"
   },
   {
    "duration": 36,
    "start_time": "2021-09-03T06:55:48.640Z"
   },
   {
    "duration": 30,
    "start_time": "2021-09-03T06:55:48.679Z"
   },
   {
    "duration": 14,
    "start_time": "2021-09-03T06:55:48.712Z"
   },
   {
    "duration": 56,
    "start_time": "2021-09-03T06:55:48.728Z"
   },
   {
    "duration": 23,
    "start_time": "2021-09-03T06:55:48.788Z"
   },
   {
    "duration": 18,
    "start_time": "2021-09-03T06:55:48.814Z"
   },
   {
    "duration": 55,
    "start_time": "2021-09-03T06:55:48.835Z"
   },
   {
    "duration": 8,
    "start_time": "2021-09-03T06:55:48.893Z"
   },
   {
    "duration": 10,
    "start_time": "2021-09-03T06:55:48.904Z"
   },
   {
    "duration": 17,
    "start_time": "2021-09-03T06:55:48.917Z"
   },
   {
    "duration": 39,
    "start_time": "2021-09-03T06:55:48.936Z"
   },
   {
    "duration": 7,
    "start_time": "2021-09-03T06:55:48.977Z"
   },
   {
    "duration": 31,
    "start_time": "2021-09-03T06:55:48.986Z"
   },
   {
    "duration": 52,
    "start_time": "2021-09-03T06:55:49.019Z"
   },
   {
    "duration": 11,
    "start_time": "2021-09-03T06:55:49.074Z"
   },
   {
    "duration": 19,
    "start_time": "2021-09-03T06:55:49.087Z"
   },
   {
    "duration": 7,
    "start_time": "2021-09-03T06:55:49.108Z"
   },
   {
    "duration": 6173,
    "start_time": "2021-09-03T06:55:49.117Z"
   },
   {
    "duration": 21,
    "start_time": "2021-09-03T06:55:55.292Z"
   },
   {
    "duration": 47,
    "start_time": "2021-09-03T06:55:55.320Z"
   },
   {
    "duration": 7,
    "start_time": "2021-09-03T06:55:55.372Z"
   },
   {
    "duration": 9667,
    "start_time": "2021-09-03T06:55:55.381Z"
   },
   {
    "duration": 1495,
    "start_time": "2021-09-03T06:56:05.051Z"
   },
   {
    "duration": 9,
    "start_time": "2021-09-03T06:56:06.548Z"
   },
   {
    "duration": 32,
    "start_time": "2021-09-03T06:56:06.559Z"
   },
   {
    "duration": 18,
    "start_time": "2021-09-03T06:56:06.593Z"
   },
   {
    "duration": 36,
    "start_time": "2021-09-03T06:56:06.613Z"
   },
   {
    "duration": 39,
    "start_time": "2021-09-03T06:56:06.651Z"
   },
   {
    "duration": 671,
    "start_time": "2021-09-03T06:56:06.692Z"
   },
   {
    "duration": 9,
    "start_time": "2021-09-03T06:56:07.368Z"
   },
   {
    "duration": 931,
    "start_time": "2021-09-03T06:56:07.380Z"
   },
   {
    "duration": 518,
    "start_time": "2021-09-03T06:56:08.314Z"
   },
   {
    "duration": 835,
    "start_time": "2021-09-03T06:56:08.834Z"
   },
   {
    "duration": 30,
    "start_time": "2021-09-03T06:56:09.671Z"
   },
   {
    "duration": 21,
    "start_time": "2021-09-03T06:56:09.703Z"
   },
   {
    "duration": 1207,
    "start_time": "2021-09-03T06:56:09.727Z"
   },
   {
    "duration": 9,
    "start_time": "2021-09-03T06:56:10.937Z"
   },
   {
    "duration": 810,
    "start_time": "2021-09-03T06:56:10.949Z"
   },
   {
    "duration": 81,
    "start_time": "2021-09-03T06:56:11.762Z"
   },
   {
    "duration": 26,
    "start_time": "2021-09-03T06:56:11.845Z"
   },
   {
    "duration": 849,
    "start_time": "2021-09-03T06:56:11.874Z"
   },
   {
    "duration": 42,
    "start_time": "2021-09-03T06:56:12.726Z"
   },
   {
    "duration": 33234,
    "start_time": "2021-09-03T06:56:12.772Z"
   },
   {
    "duration": 5,
    "start_time": "2021-09-03T06:56:46.008Z"
   },
   {
    "duration": 126,
    "start_time": "2021-09-03T06:56:46.015Z"
   },
   {
    "duration": 201,
    "start_time": "2021-09-03T06:56:46.144Z"
   },
   {
    "duration": 8,
    "start_time": "2021-09-03T06:56:46.347Z"
   },
   {
    "duration": 23341,
    "start_time": "2021-09-03T06:56:46.357Z"
   },
   {
    "duration": 30,
    "start_time": "2021-09-03T06:57:09.701Z"
   },
   {
    "duration": 60,
    "start_time": "2021-09-03T06:57:09.734Z"
   },
   {
    "duration": 10,
    "start_time": "2021-09-03T06:57:09.798Z"
   },
   {
    "duration": 1155,
    "start_time": "2021-09-03T06:57:09.812Z"
   },
   {
    "duration": 25,
    "start_time": "2021-09-03T06:57:10.970Z"
   },
   {
    "duration": 45,
    "start_time": "2021-09-03T06:57:10.998Z"
   },
   {
    "duration": 4,
    "start_time": "2021-09-03T06:57:11.045Z"
   },
   {
    "duration": 492,
    "start_time": "2021-09-03T06:57:11.052Z"
   },
   {
    "duration": 5,
    "start_time": "2021-09-03T06:57:11.546Z"
   },
   {
    "duration": 27,
    "start_time": "2021-09-03T06:57:11.553Z"
   },
   {
    "duration": 35,
    "start_time": "2021-09-03T06:57:11.583Z"
   },
   {
    "duration": 6,
    "start_time": "2021-09-03T06:57:11.620Z"
   },
   {
    "duration": 33,
    "start_time": "2021-09-03T06:57:11.630Z"
   },
   {
    "duration": 53,
    "start_time": "2021-09-03T06:57:11.667Z"
   },
   {
    "duration": 6,
    "start_time": "2021-09-03T06:57:11.723Z"
   },
   {
    "duration": 16,
    "start_time": "2021-09-03T06:57:11.732Z"
   },
   {
    "duration": 29,
    "start_time": "2021-09-03T06:57:11.757Z"
   },
   {
    "duration": 53,
    "start_time": "2021-09-03T06:57:11.788Z"
   },
   {
    "duration": 50,
    "start_time": "2021-09-03T06:57:11.844Z"
   },
   {
    "duration": 1365,
    "start_time": "2021-09-03T06:57:11.897Z"
   },
   {
    "duration": 8,
    "start_time": "2021-09-03T06:57:13.268Z"
   },
   {
    "duration": 35,
    "start_time": "2021-09-03T06:57:13.279Z"
   },
   {
    "duration": 55,
    "start_time": "2021-09-03T06:57:13.318Z"
   },
   {
    "duration": 1611,
    "start_time": "2021-09-03T06:57:13.376Z"
   },
   {
    "duration": 6,
    "start_time": "2021-09-03T06:57:14.990Z"
   },
   {
    "duration": 49,
    "start_time": "2021-09-03T06:57:14.998Z"
   },
   {
    "duration": 971,
    "start_time": "2021-09-03T06:57:15.049Z"
   },
   {
    "duration": 15,
    "start_time": "2021-09-03T06:57:16.022Z"
   },
   {
    "duration": 923,
    "start_time": "2021-09-03T06:57:16.039Z"
   },
   {
    "duration": 20,
    "start_time": "2021-09-03T06:57:16.967Z"
   },
   {
    "duration": 36,
    "start_time": "2021-09-03T06:57:16.989Z"
   },
   {
    "duration": 786,
    "start_time": "2021-09-03T06:57:17.027Z"
   },
   {
    "duration": 6,
    "start_time": "2021-09-03T06:57:17.815Z"
   },
   {
    "duration": 36,
    "start_time": "2021-09-03T06:57:17.824Z"
   }
  ],
  "kernelspec": {
   "display_name": "Python 3",
   "language": "python",
   "name": "python3"
  },
  "language_info": {
   "codemirror_mode": {
    "name": "ipython",
    "version": 3
   },
   "file_extension": ".py",
   "mimetype": "text/x-python",
   "name": "python",
   "nbconvert_exporter": "python",
   "pygments_lexer": "ipython3",
   "version": "3.7.8"
  },
  "toc": {
   "base_numbering": 1,
   "nav_menu": {},
   "number_sections": false,
   "sideBar": true,
   "skip_h1_title": false,
   "title_cell": "Table of Contents",
   "title_sidebar": "Robocafe",
   "toc_cell": false,
   "toc_position": {
    "height": "calc(100% - 180px)",
    "left": "10px",
    "top": "150px",
    "width": "261.6px"
   },
   "toc_section_display": true,
   "toc_window_display": true
  }
 },
 "nbformat": 4,
 "nbformat_minor": 2
}