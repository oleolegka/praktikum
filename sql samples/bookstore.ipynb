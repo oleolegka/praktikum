{
 "cells": [
  {
   "cell_type": "code",
   "execution_count": 27,
   "metadata": {},
   "outputs": [],
   "source": [
    "import pandas as pd \n",
    "from sqlalchemy import create_engine"
   ]
  },
  {
   "cell_type": "markdown",
   "source": [
    "# Описание данных\n",
    "\n",
    "Таблица books\n",
    "Содержит данные о книгах:\n",
    "\n",
    "    book_id — идентификатор книги;\n",
    "    author_id — идентификатор автора;\n",
    "    title — название книги;\n",
    "    num_pages — количество страниц;\n",
    "    publication_date — дата публикации книги;\n",
    "    publisher_id — идентификатор издателя.\n",
    "\n",
    "Таблица authors\n",
    "Содержит данные об авторах:\n",
    "\n",
    "    author_id — идентификатор автора;\n",
    "    author — имя автора.\n",
    "\n",
    "Таблица publishers\n",
    "Содержит данные об издательствах:\n",
    "\n",
    "    publisher_id — идентификатор издательства;\n",
    "    publisher — название издательства;\n",
    "\n",
    "Таблица ratings\n",
    "Содержит данные о пользовательских оценках книг:\n",
    "\n",
    "    rating_id — идентификатор оценки;\n",
    "    book_id — идентификатор книги;\n",
    "    username — имя пользователя, оставившего оценку;\n",
    "    rating — оценка книги.\n",
    "\n",
    "Таблица reviews\n",
    "Содержит данные о пользовательских обзорах:\n",
    "\n",
    "    review_id — идентификатор обзора;\n",
    "    book_id — идентификатор книги;\n",
    "    username — имя автора обзора;\n",
    "    text — текст обзора."
   ],
   "metadata": {
    "collapsed": false
   }
  },
  {
   "cell_type": "code",
   "execution_count": 28,
   "outputs": [],
   "source": [
    "try:\n",
    "    from paths import bookstore_pass\n",
    "\n",
    "except ModuleNotFoundError:\n",
    "    print('Data not for public use, sorry')\n",
    "    raise"
   ],
   "metadata": {
    "collapsed": false,
    "pycharm": {
     "name": "#%%\n"
    }
   }
  },
  {
   "cell_type": "code",
   "execution_count": 29,
   "outputs": [],
   "source": [
    "db_config = {'user': 'praktikum_student',\n",
    "             'pwd': bookstore_pass,\n",
    "             'host': 'rc1b-wcoijxj3yxfsf3fs.mdb.yandexcloud.net', \n",
    "             'port': 6432,\n",
    "             'db': 'data-analyst-final-project-db'} \n",
    "\n",
    "connection_string = f\"postgresql://{db_config['user']}:{db_config['pwd']}@{db_config['host']}:{db_config['port']}/{db_config['db']}\"\n",
    "\n",
    "engine = create_engine(connection_string, connect_args={'sslmode':'require'})"
   ],
   "metadata": {
    "collapsed": false,
    "pycharm": {
     "name": "#%%\n"
    }
   }
  },
  {
   "cell_type": "code",
   "execution_count": 30,
   "metadata": {},
   "outputs": [],
   "source": [
    "sheets = ['books',\n",
    "         'authors',\n",
    "         'publishers',\n",
    "         'ratings',\n",
    "         'reviews']"
   ]
  },
  {
   "cell_type": "code",
   "execution_count": 31,
   "metadata": {},
   "outputs": [
    {
     "data": {
      "text/plain": "   book_id  author_id         title  num_pages publication_date  publisher_id\n0        1        546  'Salem's Lot        594       2005-11-01            93",
      "text/html": "<div>\n<style scoped>\n    .dataframe tbody tr th:only-of-type {\n        vertical-align: middle;\n    }\n\n    .dataframe tbody tr th {\n        vertical-align: top;\n    }\n\n    .dataframe thead th {\n        text-align: right;\n    }\n</style>\n<table border=\"1\" class=\"dataframe\">\n  <thead>\n    <tr style=\"text-align: right;\">\n      <th></th>\n      <th>book_id</th>\n      <th>author_id</th>\n      <th>title</th>\n      <th>num_pages</th>\n      <th>publication_date</th>\n      <th>publisher_id</th>\n    </tr>\n  </thead>\n  <tbody>\n    <tr>\n      <th>0</th>\n      <td>1</td>\n      <td>546</td>\n      <td>'Salem's Lot</td>\n      <td>594</td>\n      <td>2005-11-01</td>\n      <td>93</td>\n    </tr>\n  </tbody>\n</table>\n</div>"
     },
     "metadata": {},
     "output_type": "display_data"
    },
    {
     "data": {
      "text/plain": "   author_id      author\n0          1  A.S. Byatt",
      "text/html": "<div>\n<style scoped>\n    .dataframe tbody tr th:only-of-type {\n        vertical-align: middle;\n    }\n\n    .dataframe tbody tr th {\n        vertical-align: top;\n    }\n\n    .dataframe thead th {\n        text-align: right;\n    }\n</style>\n<table border=\"1\" class=\"dataframe\">\n  <thead>\n    <tr style=\"text-align: right;\">\n      <th></th>\n      <th>author_id</th>\n      <th>author</th>\n    </tr>\n  </thead>\n  <tbody>\n    <tr>\n      <th>0</th>\n      <td>1</td>\n      <td>A.S. Byatt</td>\n    </tr>\n  </tbody>\n</table>\n</div>"
     },
     "metadata": {},
     "output_type": "display_data"
    },
    {
     "data": {
      "text/plain": "   publisher_id publisher\n0             1       Ace",
      "text/html": "<div>\n<style scoped>\n    .dataframe tbody tr th:only-of-type {\n        vertical-align: middle;\n    }\n\n    .dataframe tbody tr th {\n        vertical-align: top;\n    }\n\n    .dataframe thead th {\n        text-align: right;\n    }\n</style>\n<table border=\"1\" class=\"dataframe\">\n  <thead>\n    <tr style=\"text-align: right;\">\n      <th></th>\n      <th>publisher_id</th>\n      <th>publisher</th>\n    </tr>\n  </thead>\n  <tbody>\n    <tr>\n      <th>0</th>\n      <td>1</td>\n      <td>Ace</td>\n    </tr>\n  </tbody>\n</table>\n</div>"
     },
     "metadata": {},
     "output_type": "display_data"
    },
    {
     "data": {
      "text/plain": "   rating_id  book_id    username  rating\n0          1        1  ryanfranco       4",
      "text/html": "<div>\n<style scoped>\n    .dataframe tbody tr th:only-of-type {\n        vertical-align: middle;\n    }\n\n    .dataframe tbody tr th {\n        vertical-align: top;\n    }\n\n    .dataframe thead th {\n        text-align: right;\n    }\n</style>\n<table border=\"1\" class=\"dataframe\">\n  <thead>\n    <tr style=\"text-align: right;\">\n      <th></th>\n      <th>rating_id</th>\n      <th>book_id</th>\n      <th>username</th>\n      <th>rating</th>\n    </tr>\n  </thead>\n  <tbody>\n    <tr>\n      <th>0</th>\n      <td>1</td>\n      <td>1</td>\n      <td>ryanfranco</td>\n      <td>4</td>\n    </tr>\n  </tbody>\n</table>\n</div>"
     },
     "metadata": {},
     "output_type": "display_data"
    },
    {
     "data": {
      "text/plain": "   review_id  book_id      username  \\\n0          1        1  brandtandrea   \n\n                                                text  \n0  Mention society tell send professor analysis. ...  ",
      "text/html": "<div>\n<style scoped>\n    .dataframe tbody tr th:only-of-type {\n        vertical-align: middle;\n    }\n\n    .dataframe tbody tr th {\n        vertical-align: top;\n    }\n\n    .dataframe thead th {\n        text-align: right;\n    }\n</style>\n<table border=\"1\" class=\"dataframe\">\n  <thead>\n    <tr style=\"text-align: right;\">\n      <th></th>\n      <th>review_id</th>\n      <th>book_id</th>\n      <th>username</th>\n      <th>text</th>\n    </tr>\n  </thead>\n  <tbody>\n    <tr>\n      <th>0</th>\n      <td>1</td>\n      <td>1</td>\n      <td>brandtandrea</td>\n      <td>Mention society tell send professor analysis. ...</td>\n    </tr>\n  </tbody>\n</table>\n</div>"
     },
     "metadata": {},
     "output_type": "display_data"
    }
   ],
   "source": [
    "for i in sheets:\n",
    "    query = f'''\n",
    "    select \n",
    "        *\n",
    "    from \n",
    "        {i}\n",
    "    limit \n",
    "        1\n",
    "    '''\n",
    "    display(pd.io.sql.read_sql(query, con = engine))"
   ]
  },
  {
   "cell_type": "markdown",
   "metadata": {},
   "source": [
    "Проверим, что у нас уникальные id книг "
   ]
  },
  {
   "cell_type": "code",
   "execution_count": 32,
   "metadata": {},
   "outputs": [
    {
     "data": {
      "text/plain": "   count                title  author_id\n0      2  Memoirs of a Geisha         39",
      "text/html": "<div>\n<style scoped>\n    .dataframe tbody tr th:only-of-type {\n        vertical-align: middle;\n    }\n\n    .dataframe tbody tr th {\n        vertical-align: top;\n    }\n\n    .dataframe thead th {\n        text-align: right;\n    }\n</style>\n<table border=\"1\" class=\"dataframe\">\n  <thead>\n    <tr style=\"text-align: right;\">\n      <th></th>\n      <th>count</th>\n      <th>title</th>\n      <th>author_id</th>\n    </tr>\n  </thead>\n  <tbody>\n    <tr>\n      <th>0</th>\n      <td>2</td>\n      <td>Memoirs of a Geisha</td>\n      <td>39</td>\n    </tr>\n  </tbody>\n</table>\n</div>"
     },
     "execution_count": 32,
     "metadata": {},
     "output_type": "execute_result"
    }
   ],
   "source": [
    "query = '''\n",
    "select \n",
    "    count(distinct(book_id)), \n",
    "    title, \n",
    "    author_id\n",
    "from \n",
    "    books\n",
    "group by\n",
    "    title, \n",
    "    author_id\n",
    "having \n",
    "    count(distinct(book_id)) > 1\n",
    "'''\n",
    "pd.io.sql.read_sql(query, con = engine) "
   ]
  },
  {
   "cell_type": "markdown",
   "metadata": {},
   "source": [
    "Есть один дубль"
   ]
  },
  {
   "cell_type": "markdown",
   "metadata": {},
   "source": [
    "# Запрсы\n",
    "##  Сколько книг вышло после 1 января 2000 года?"
   ]
  },
  {
   "cell_type": "code",
   "execution_count": 33,
   "metadata": {},
   "outputs": [
    {
     "data": {
      "text/plain": "   uniq_ids  uniq_titles\n0       819          818",
      "text/html": "<div>\n<style scoped>\n    .dataframe tbody tr th:only-of-type {\n        vertical-align: middle;\n    }\n\n    .dataframe tbody tr th {\n        vertical-align: top;\n    }\n\n    .dataframe thead th {\n        text-align: right;\n    }\n</style>\n<table border=\"1\" class=\"dataframe\">\n  <thead>\n    <tr style=\"text-align: right;\">\n      <th></th>\n      <th>uniq_ids</th>\n      <th>uniq_titles</th>\n    </tr>\n  </thead>\n  <tbody>\n    <tr>\n      <th>0</th>\n      <td>819</td>\n      <td>818</td>\n    </tr>\n  </tbody>\n</table>\n</div>"
     },
     "execution_count": 33,
     "metadata": {},
     "output_type": "execute_result"
    }
   ],
   "source": [
    "query = '''\n",
    "select \n",
    "    count(distinct(book_id)) as uniq_ids, \n",
    "    count(distinct(title)) as uniq_titles\n",
    "from \n",
    "    books\n",
    "where \n",
    "    publication_date > '2000.01.01'\n",
    "    \n",
    "'''\n",
    "pd.io.sql.read_sql(query, con = engine) "
   ]
  },
  {
   "cell_type": "markdown",
   "metadata": {},
   "source": [
    "**Всего вышло 818 уникальных книг**"
   ]
  },
  {
   "cell_type": "markdown",
   "metadata": {},
   "source": [
    "## Количество обзоров и средняя оценка для каждой книги "
   ]
  },
  {
   "cell_type": "code",
   "execution_count": 34,
   "metadata": {
    "scrolled": false
   },
   "outputs": [
    {
     "data": {
      "text/plain": "                                                 title  author_id  \\\n0    The Diamond Age: Or  A Young Lady's Illustrate...        429   \n1         Lover Eternal (Black Dagger Brotherhood  #2)        239   \n2                         Brother Odd (Odd Thomas  #3)        127   \n3                                        Lisey's Story        542   \n4              Twenty Love Poems and a Song of Despair        459   \n..                                                 ...        ...   \n994                    The Collectors (Camel Club  #2)        121   \n995                                           Stardust        430   \n996                                               Hoot         73   \n997                                          Pope Joan        139   \n998        Tales of a Fourth Grade Nothing (Fudge  #1)        325   \n\n     mean_rating  reviews_count  \n0       4.333333            3.0  \n1       3.833333            4.0  \n2       3.000000            2.0  \n3       3.333333            3.0  \n4       4.500000            2.0  \n..           ...            ...  \n994     4.000000            2.0  \n995     4.000000            4.0  \n996     3.333333            3.0  \n997     4.000000            2.0  \n998     4.000000            3.0  \n\n[999 rows x 4 columns]",
      "text/html": "<div>\n<style scoped>\n    .dataframe tbody tr th:only-of-type {\n        vertical-align: middle;\n    }\n\n    .dataframe tbody tr th {\n        vertical-align: top;\n    }\n\n    .dataframe thead th {\n        text-align: right;\n    }\n</style>\n<table border=\"1\" class=\"dataframe\">\n  <thead>\n    <tr style=\"text-align: right;\">\n      <th></th>\n      <th>title</th>\n      <th>author_id</th>\n      <th>mean_rating</th>\n      <th>reviews_count</th>\n    </tr>\n  </thead>\n  <tbody>\n    <tr>\n      <th>0</th>\n      <td>The Diamond Age: Or  A Young Lady's Illustrate...</td>\n      <td>429</td>\n      <td>4.333333</td>\n      <td>3.0</td>\n    </tr>\n    <tr>\n      <th>1</th>\n      <td>Lover Eternal (Black Dagger Brotherhood  #2)</td>\n      <td>239</td>\n      <td>3.833333</td>\n      <td>4.0</td>\n    </tr>\n    <tr>\n      <th>2</th>\n      <td>Brother Odd (Odd Thomas  #3)</td>\n      <td>127</td>\n      <td>3.000000</td>\n      <td>2.0</td>\n    </tr>\n    <tr>\n      <th>3</th>\n      <td>Lisey's Story</td>\n      <td>542</td>\n      <td>3.333333</td>\n      <td>3.0</td>\n    </tr>\n    <tr>\n      <th>4</th>\n      <td>Twenty Love Poems and a Song of Despair</td>\n      <td>459</td>\n      <td>4.500000</td>\n      <td>2.0</td>\n    </tr>\n    <tr>\n      <th>...</th>\n      <td>...</td>\n      <td>...</td>\n      <td>...</td>\n      <td>...</td>\n    </tr>\n    <tr>\n      <th>994</th>\n      <td>The Collectors (Camel Club  #2)</td>\n      <td>121</td>\n      <td>4.000000</td>\n      <td>2.0</td>\n    </tr>\n    <tr>\n      <th>995</th>\n      <td>Stardust</td>\n      <td>430</td>\n      <td>4.000000</td>\n      <td>4.0</td>\n    </tr>\n    <tr>\n      <th>996</th>\n      <td>Hoot</td>\n      <td>73</td>\n      <td>3.333333</td>\n      <td>3.0</td>\n    </tr>\n    <tr>\n      <th>997</th>\n      <td>Pope Joan</td>\n      <td>139</td>\n      <td>4.000000</td>\n      <td>2.0</td>\n    </tr>\n    <tr>\n      <th>998</th>\n      <td>Tales of a Fourth Grade Nothing (Fudge  #1)</td>\n      <td>325</td>\n      <td>4.000000</td>\n      <td>3.0</td>\n    </tr>\n  </tbody>\n</table>\n<p>999 rows × 4 columns</p>\n</div>"
     },
     "execution_count": 34,
     "metadata": {},
     "output_type": "execute_result"
    }
   ],
   "source": [
    "query = '''\n",
    "select \n",
    "    title, \n",
    "    author_id, \n",
    "    avg(mean_rating) as mean_rating, \n",
    "    sum(reviews_count) as reviews_count\n",
    "from \n",
    "    books\n",
    "left join (\n",
    "    select \n",
    "        book_id, \n",
    "        avg(rating) as mean_rating\n",
    "    from \n",
    "        ratings\n",
    "    group by\n",
    "        book_id) as ratings on books.book_id = ratings.book_id\n",
    "left join (\n",
    "    select \n",
    "        book_id, \n",
    "        count(text) as reviews_count\n",
    "    from \n",
    "        reviews\n",
    "    group by\n",
    "        book_id) as reviews on books.book_id = reviews.book_id\n",
    "\n",
    "group by\n",
    "    title, \n",
    "    author_id    \n",
    "'''\n",
    "pd.io.sql.read_sql(query, con = engine)"
   ]
  },
  {
   "cell_type": "markdown",
   "metadata": {},
   "source": [
    "**Подсчитали для каждой книги количество обзоров и среднюю оценку**"
   ]
  },
  {
   "cell_type": "markdown",
   "metadata": {},
   "source": [
    "## Издательство, которое выпустило наибольшее число книг толще 50 страниц"
   ]
  },
  {
   "cell_type": "code",
   "execution_count": 35,
   "metadata": {},
   "outputs": [
    {
     "data": {
      "text/plain": "   publisher_id      publisher  books_published\n0           212  Penguin Books               42",
      "text/html": "<div>\n<style scoped>\n    .dataframe tbody tr th:only-of-type {\n        vertical-align: middle;\n    }\n\n    .dataframe tbody tr th {\n        vertical-align: top;\n    }\n\n    .dataframe thead th {\n        text-align: right;\n    }\n</style>\n<table border=\"1\" class=\"dataframe\">\n  <thead>\n    <tr style=\"text-align: right;\">\n      <th></th>\n      <th>publisher_id</th>\n      <th>publisher</th>\n      <th>books_published</th>\n    </tr>\n  </thead>\n  <tbody>\n    <tr>\n      <th>0</th>\n      <td>212</td>\n      <td>Penguin Books</td>\n      <td>42</td>\n    </tr>\n  </tbody>\n</table>\n</div>"
     },
     "execution_count": 35,
     "metadata": {},
     "output_type": "execute_result"
    }
   ],
   "source": [
    "query = '''\n",
    "select \n",
    "    books.publisher_id,\n",
    "    publisher, \n",
    "    count(title) as books_published\n",
    "from (\n",
    "    select \n",
    "        *\n",
    "    from \n",
    "        books\n",
    "    where \n",
    "        num_pages > 50\n",
    "        ) as books\n",
    "    \n",
    "left join\n",
    "    publishers on publishers.publisher_id = books.publisher_id \n",
    "group by\n",
    "    books.publisher_id, \n",
    "    publisher\n",
    "order by \n",
    "    books_published desc\n",
    "limit \n",
    "    1\n",
    "'''\n",
    "pd.io.sql.read_sql(query, con = engine) "
   ]
  },
  {
   "cell_type": "markdown",
   "metadata": {},
   "source": [
    "**Самое крупное издание - Penguin Books, 42 книги**"
   ]
  },
  {
   "cell_type": "markdown",
   "metadata": {},
   "source": [
    "## Автора с самой высокой средней оценкой книг — учитывайте только книги с 50 и более оценками"
   ]
  },
  {
   "cell_type": "code",
   "execution_count": 36,
   "metadata": {},
   "outputs": [
    {
     "data": {
      "text/plain": "   mean_rating                      author\n0     4.283844  J.K. Rowling/Mary GrandPré",
      "text/html": "<div>\n<style scoped>\n    .dataframe tbody tr th:only-of-type {\n        vertical-align: middle;\n    }\n\n    .dataframe tbody tr th {\n        vertical-align: top;\n    }\n\n    .dataframe thead th {\n        text-align: right;\n    }\n</style>\n<table border=\"1\" class=\"dataframe\">\n  <thead>\n    <tr style=\"text-align: right;\">\n      <th></th>\n      <th>mean_rating</th>\n      <th>author</th>\n    </tr>\n  </thead>\n  <tbody>\n    <tr>\n      <th>0</th>\n      <td>4.283844</td>\n      <td>J.K. Rowling/Mary GrandPré</td>\n    </tr>\n  </tbody>\n</table>\n</div>"
     },
     "execution_count": 36,
     "metadata": {},
     "output_type": "execute_result"
    }
   ],
   "source": [
    "query = '''\n",
    "select \n",
    "    mean_rating, \n",
    "    author\n",
    "from (\n",
    "    select \n",
    "        author_id, \n",
    "        avg(mean_rating) as mean_rating\n",
    "    from (\n",
    "        select \n",
    "            book_id, \n",
    "            count(rating) as score_count, \n",
    "            avg(rating) as mean_rating\n",
    "        from \n",
    "            ratings\n",
    "        group by\n",
    "            book_id \n",
    "        having \n",
    "            count(rating) > 50\n",
    "            ) as ratings\n",
    "    left join \n",
    "        books on books.book_id = ratings.book_id\n",
    "    group by \n",
    "        author_id\n",
    "    order by \n",
    "        mean_rating desc\n",
    "    limit \n",
    "        1\n",
    "        ) as ratings\n",
    "left join \n",
    "    authors on authors.author_id = ratings.author_id\n",
    "\n",
    "'''\n",
    "pd.io.sql.read_sql(query, con = engine)"
   ]
  },
  {
   "cell_type": "markdown",
   "metadata": {},
   "source": [
    "**Роулинг - лучше всех**"
   ]
  },
  {
   "cell_type": "markdown",
   "metadata": {},
   "source": [
    "## Среднее количество обзоров от пользователей, которые поставили больше 50 оценок"
   ]
  },
  {
   "cell_type": "code",
   "execution_count": 37,
   "metadata": {},
   "outputs": [
    {
     "data": {
      "text/plain": "         avg\n0  24.333333",
      "text/html": "<div>\n<style scoped>\n    .dataframe tbody tr th:only-of-type {\n        vertical-align: middle;\n    }\n\n    .dataframe tbody tr th {\n        vertical-align: top;\n    }\n\n    .dataframe thead th {\n        text-align: right;\n    }\n</style>\n<table border=\"1\" class=\"dataframe\">\n  <thead>\n    <tr style=\"text-align: right;\">\n      <th></th>\n      <th>avg</th>\n    </tr>\n  </thead>\n  <tbody>\n    <tr>\n      <th>0</th>\n      <td>24.333333</td>\n    </tr>\n  </tbody>\n</table>\n</div>"
     },
     "execution_count": 37,
     "metadata": {},
     "output_type": "execute_result"
    }
   ],
   "source": [
    "query = '''\n",
    "select  \n",
    "    avg(reviews_count)\n",
    "from (\n",
    "    select \n",
    "        username, \n",
    "        count(rating) as score_count\n",
    "    from \n",
    "        ratings\n",
    "    group by \n",
    "        username\n",
    "    having \n",
    "        count(rating) > 50\n",
    "        ) as ratings\n",
    "left join (\n",
    "    select \n",
    "        username, \n",
    "        count(text) as reviews_count\n",
    "    from \n",
    "        reviews\n",
    "    group by \n",
    "        username) as reviews on reviews.username = ratings.username\n",
    "'''\n",
    "pd.io.sql.read_sql(query, con = engine) "
   ]
  },
  {
   "cell_type": "markdown",
   "metadata": {
    "pycharm": {
     "name": "#%% md\n"
    }
   },
   "source": [
    "**В среднем самые активные юзеры написали по 24 обзора**"
   ]
  }
 ],
 "metadata": {
  "ExecuteTimeLog": [
   {
    "duration": 577,
    "start_time": "2021-07-11T09:15:16.045Z"
   },
   {
    "duration": 3,
    "start_time": "2021-07-11T09:16:07.384Z"
   },
   {
    "duration": 313,
    "start_time": "2021-07-11T09:16:08.156Z"
   },
   {
    "duration": 69,
    "start_time": "2021-07-11T09:17:08.901Z"
   },
   {
    "duration": 2,
    "start_time": "2021-07-11T09:17:12.849Z"
   },
   {
    "duration": 2,
    "start_time": "2021-07-11T09:18:03.791Z"
   },
   {
    "duration": 323,
    "start_time": "2021-07-11T09:18:08.922Z"
   },
   {
    "duration": 2,
    "start_time": "2021-07-11T09:23:22.681Z"
   },
   {
    "duration": 91,
    "start_time": "2021-07-11T09:23:23.521Z"
   },
   {
    "duration": 3,
    "start_time": "2021-07-11T09:36:09.538Z"
   },
   {
    "duration": 74,
    "start_time": "2021-07-11T09:36:10.775Z"
   },
   {
    "duration": 3,
    "start_time": "2021-07-11T09:37:01.477Z"
   },
   {
    "duration": 267,
    "start_time": "2021-07-11T09:37:02.069Z"
   },
   {
    "duration": 3,
    "start_time": "2021-07-11T09:37:39.359Z"
   },
   {
    "duration": 265,
    "start_time": "2021-07-11T09:37:40.838Z"
   },
   {
    "duration": 3,
    "start_time": "2021-07-11T09:37:49.865Z"
   },
   {
    "duration": 78,
    "start_time": "2021-07-11T09:37:51.011Z"
   },
   {
    "duration": 2,
    "start_time": "2021-07-11T09:39:52.348Z"
   },
   {
    "duration": 75,
    "start_time": "2021-07-11T09:39:52.772Z"
   },
   {
    "duration": 3,
    "start_time": "2021-07-11T09:45:25.283Z"
   },
   {
    "duration": 75,
    "start_time": "2021-07-11T09:45:27.601Z"
   },
   {
    "duration": 2,
    "start_time": "2021-07-11T09:45:33.340Z"
   },
   {
    "duration": 74,
    "start_time": "2021-07-11T09:45:35.317Z"
   },
   {
    "duration": 2,
    "start_time": "2021-07-11T09:45:38.311Z"
   },
   {
    "duration": 73,
    "start_time": "2021-07-11T09:45:38.773Z"
   },
   {
    "duration": 2,
    "start_time": "2021-07-11T09:48:07.533Z"
   },
   {
    "duration": 75,
    "start_time": "2021-07-11T09:48:09.402Z"
   },
   {
    "duration": 3,
    "start_time": "2021-07-11T09:49:08.724Z"
   },
   {
    "duration": 75,
    "start_time": "2021-07-11T09:49:09.253Z"
   },
   {
    "duration": 2,
    "start_time": "2021-07-11T09:52:27.619Z"
   },
   {
    "duration": 91,
    "start_time": "2021-07-11T09:52:29.527Z"
   },
   {
    "duration": 2,
    "start_time": "2021-07-11T09:53:14.242Z"
   },
   {
    "duration": 76,
    "start_time": "2021-07-11T09:53:16.586Z"
   },
   {
    "duration": 3,
    "start_time": "2021-07-11T09:54:50.845Z"
   },
   {
    "duration": 76,
    "start_time": "2021-07-11T09:54:58.556Z"
   },
   {
    "duration": 3,
    "start_time": "2021-07-11T09:58:40.016Z"
   },
   {
    "duration": 79,
    "start_time": "2021-07-11T09:58:40.464Z"
   },
   {
    "duration": 3,
    "start_time": "2021-07-11T09:58:47.468Z"
   },
   {
    "duration": 249,
    "start_time": "2021-07-11T09:58:51.334Z"
   },
   {
    "duration": 3,
    "start_time": "2021-07-11T09:58:58.253Z"
   },
   {
    "duration": 75,
    "start_time": "2021-07-11T09:58:58.552Z"
   },
   {
    "duration": 3,
    "start_time": "2021-07-11T09:59:43.370Z"
   },
   {
    "duration": 79,
    "start_time": "2021-07-11T09:59:43.901Z"
   },
   {
    "duration": 4,
    "start_time": "2021-07-11T10:00:31.500Z"
   },
   {
    "duration": 76,
    "start_time": "2021-07-11T10:00:32.232Z"
   },
   {
    "duration": 76,
    "start_time": "2021-07-11T10:03:10.319Z"
   },
   {
    "duration": 254,
    "start_time": "2021-07-11T10:07:32.727Z"
   },
   {
    "duration": 89,
    "start_time": "2021-07-11T10:08:52.283Z"
   },
   {
    "duration": 89,
    "start_time": "2021-07-11T10:09:16.524Z"
   },
   {
    "duration": 256,
    "start_time": "2021-07-11T10:13:12.368Z"
   },
   {
    "duration": 110,
    "start_time": "2021-07-11T10:14:07.105Z"
   },
   {
    "duration": 93,
    "start_time": "2021-07-11T10:16:54.806Z"
   },
   {
    "duration": 124,
    "start_time": "2021-07-11T10:17:28.989Z"
   },
   {
    "duration": 650,
    "start_time": "2021-07-11T10:19:59.150Z"
   },
   {
    "duration": 108,
    "start_time": "2021-07-11T10:20:07.447Z"
   },
   {
    "duration": 108,
    "start_time": "2021-07-11T10:20:51.554Z"
   },
   {
    "duration": 109,
    "start_time": "2021-07-11T10:21:36.658Z"
   },
   {
    "duration": 107,
    "start_time": "2021-07-11T10:21:45.265Z"
   },
   {
    "duration": 89,
    "start_time": "2021-07-11T10:32:26.945Z"
   },
   {
    "duration": 119,
    "start_time": "2021-07-11T10:34:00.956Z"
   },
   {
    "duration": 252,
    "start_time": "2021-07-11T10:36:32.396Z"
   },
   {
    "duration": 266,
    "start_time": "2021-07-11T10:37:00.640Z"
   },
   {
    "duration": 260,
    "start_time": "2021-07-11T10:37:16.735Z"
   },
   {
    "duration": 267,
    "start_time": "2021-07-11T10:37:59.051Z"
   },
   {
    "duration": 88,
    "start_time": "2021-07-11T10:38:51.898Z"
   },
   {
    "duration": 87,
    "start_time": "2021-07-11T10:38:56.144Z"
   },
   {
    "duration": 251,
    "start_time": "2021-07-11T10:39:21.267Z"
   },
   {
    "duration": 76,
    "start_time": "2021-07-11T10:39:48.322Z"
   },
   {
    "duration": 76,
    "start_time": "2021-07-11T10:40:04.145Z"
   },
   {
    "duration": 257,
    "start_time": "2021-07-11T10:40:26.384Z"
   },
   {
    "duration": 254,
    "start_time": "2021-07-11T10:41:02.976Z"
   },
   {
    "duration": 270,
    "start_time": "2021-07-11T10:41:20.025Z"
   },
   {
    "duration": 303,
    "start_time": "2021-07-11T10:42:46.755Z"
   },
   {
    "duration": 245,
    "start_time": "2021-07-11T10:42:57.090Z"
   },
   {
    "duration": 259,
    "start_time": "2021-07-11T10:43:32.736Z"
   },
   {
    "duration": 118,
    "start_time": "2021-07-11T10:43:40.083Z"
   },
   {
    "duration": 258,
    "start_time": "2021-07-11T10:44:01.123Z"
   },
   {
    "duration": 256,
    "start_time": "2021-07-11T10:45:47.020Z"
   },
   {
    "duration": 245,
    "start_time": "2021-07-11T10:46:10.694Z"
   },
   {
    "duration": 77,
    "start_time": "2021-07-11T10:46:31.050Z"
   },
   {
    "duration": 80,
    "start_time": "2021-07-11T10:46:40.229Z"
   },
   {
    "duration": 254,
    "start_time": "2021-07-11T10:46:46.463Z"
   },
   {
    "duration": 80,
    "start_time": "2021-07-11T10:46:52.681Z"
   },
   {
    "duration": 79,
    "start_time": "2021-07-11T10:47:37.854Z"
   },
   {
    "duration": 80,
    "start_time": "2021-07-11T10:48:06.771Z"
   },
   {
    "duration": 261,
    "start_time": "2021-07-11T10:48:20.269Z"
   },
   {
    "duration": 76,
    "start_time": "2021-07-11T10:49:28.761Z"
   },
   {
    "duration": 250,
    "start_time": "2021-07-11T10:50:30.122Z"
   },
   {
    "duration": 77,
    "start_time": "2021-07-11T10:51:19.666Z"
   },
   {
    "duration": 81,
    "start_time": "2021-07-11T10:51:30.301Z"
   },
   {
    "duration": 79,
    "start_time": "2021-07-11T10:51:52.180Z"
   },
   {
    "duration": 76,
    "start_time": "2021-07-11T10:52:10.625Z"
   },
   {
    "duration": 107,
    "start_time": "2021-07-11T11:16:19.295Z"
   },
   {
    "duration": 276,
    "start_time": "2021-07-11T11:17:14.850Z"
   },
   {
    "duration": 286,
    "start_time": "2021-07-11T11:18:47.683Z"
   },
   {
    "duration": 89,
    "start_time": "2021-07-11T11:19:25.896Z"
   },
   {
    "duration": 251,
    "start_time": "2021-07-11T11:19:54.085Z"
   },
   {
    "duration": 256,
    "start_time": "2021-07-11T11:20:14.593Z"
   },
   {
    "duration": 297,
    "start_time": "2021-07-11T11:20:26.638Z"
   },
   {
    "duration": 76,
    "start_time": "2021-07-11T11:20:58.252Z"
   },
   {
    "duration": 76,
    "start_time": "2021-07-11T11:22:07.566Z"
   },
   {
    "duration": 240,
    "start_time": "2021-07-11T11:23:18.627Z"
   },
   {
    "duration": 286,
    "start_time": "2021-07-11T11:23:25.965Z"
   },
   {
    "duration": 78,
    "start_time": "2021-07-11T11:23:45.431Z"
   },
   {
    "duration": 290,
    "start_time": "2021-07-11T11:27:59.227Z"
   },
   {
    "duration": 81,
    "start_time": "2021-07-11T11:28:04.183Z"
   },
   {
    "duration": 80,
    "start_time": "2021-07-11T11:34:48.858Z"
   },
   {
    "duration": 78,
    "start_time": "2021-07-11T11:35:17.876Z"
   },
   {
    "duration": 105,
    "start_time": "2021-07-11T11:39:05.537Z"
   },
   {
    "duration": 107,
    "start_time": "2021-07-11T11:40:19.074Z"
   },
   {
    "duration": 106,
    "start_time": "2021-07-11T11:40:56.465Z"
   },
   {
    "duration": 79,
    "start_time": "2021-07-11T11:41:35.091Z"
   },
   {
    "duration": 77,
    "start_time": "2021-07-11T11:42:05.745Z"
   },
   {
    "duration": 79,
    "start_time": "2021-07-11T11:43:38.998Z"
   },
   {
    "duration": 77,
    "start_time": "2021-07-11T11:44:08.501Z"
   },
   {
    "duration": 172,
    "start_time": "2021-07-11T11:48:17.094Z"
   },
   {
    "duration": 108,
    "start_time": "2021-07-11T11:49:57.882Z"
   },
   {
    "duration": 255,
    "start_time": "2021-07-11T11:52:11.014Z"
   },
   {
    "duration": 74,
    "start_time": "2021-07-11T11:52:45.524Z"
   },
   {
    "duration": 76,
    "start_time": "2021-07-11T11:52:56.026Z"
   },
   {
    "duration": 77,
    "start_time": "2021-07-11T11:53:01.769Z"
   },
   {
    "duration": 84,
    "start_time": "2021-07-11T11:53:07.284Z"
   },
   {
    "duration": 76,
    "start_time": "2021-07-11T11:53:14.299Z"
   },
   {
    "duration": 76,
    "start_time": "2021-07-11T11:53:20.408Z"
   },
   {
    "duration": 76,
    "start_time": "2021-07-11T11:56:11.648Z"
   },
   {
    "duration": 259,
    "start_time": "2021-07-11T11:56:26.064Z"
   },
   {
    "duration": 78,
    "start_time": "2021-07-11T11:57:07.038Z"
   },
   {
    "duration": 264,
    "start_time": "2021-07-11T11:57:45.962Z"
   },
   {
    "duration": 77,
    "start_time": "2021-07-11T11:57:55.680Z"
   },
   {
    "duration": 75,
    "start_time": "2021-07-11T11:58:20.348Z"
   },
   {
    "duration": 76,
    "start_time": "2021-07-11T11:59:04.529Z"
   },
   {
    "duration": 76,
    "start_time": "2021-07-11T12:00:50.558Z"
   },
   {
    "duration": 76,
    "start_time": "2021-07-11T12:02:04.548Z"
   },
   {
    "duration": 106,
    "start_time": "2021-07-11T12:10:30.456Z"
   },
   {
    "duration": 73,
    "start_time": "2021-07-11T12:11:05.650Z"
   },
   {
    "duration": 2,
    "start_time": "2021-07-11T12:22:08.185Z"
   },
   {
    "duration": 344,
    "start_time": "2021-07-11T12:23:26.524Z"
   },
   {
    "duration": 359,
    "start_time": "2021-07-11T12:23:37.619Z"
   },
   {
    "duration": 74,
    "start_time": "2021-07-11T12:23:57.620Z"
   },
   {
    "duration": 4,
    "start_time": "2021-07-11T12:55:36.988Z"
   },
   {
    "duration": 8,
    "start_time": "2021-07-11T12:55:36.994Z"
   },
   {
    "duration": 555,
    "start_time": "2021-07-11T12:55:37.004Z"
   },
   {
    "duration": 76,
    "start_time": "2021-07-11T12:55:37.560Z"
   },
   {
    "duration": 76,
    "start_time": "2021-07-11T12:55:37.638Z"
   },
   {
    "duration": 122,
    "start_time": "2021-07-11T12:55:37.715Z"
   },
   {
    "duration": 75,
    "start_time": "2021-07-11T12:55:37.839Z"
   },
   {
    "duration": 77,
    "start_time": "2021-07-11T12:55:37.916Z"
   },
   {
    "duration": 76,
    "start_time": "2021-07-11T12:55:37.994Z"
   },
   {
    "duration": 106,
    "start_time": "2021-07-11T12:56:32.298Z"
   },
   {
    "duration": 6,
    "start_time": "2021-07-11T13:00:40.657Z"
   },
   {
    "duration": 8,
    "start_time": "2021-07-11T13:00:40.665Z"
   },
   {
    "duration": 560,
    "start_time": "2021-07-11T13:00:40.675Z"
   },
   {
    "duration": 75,
    "start_time": "2021-07-11T13:00:41.237Z"
   },
   {
    "duration": 73,
    "start_time": "2021-07-11T13:00:41.314Z"
   },
   {
    "duration": 109,
    "start_time": "2021-07-11T13:00:41.389Z"
   },
   {
    "duration": 76,
    "start_time": "2021-07-11T13:00:41.499Z"
   },
   {
    "duration": 77,
    "start_time": "2021-07-11T13:00:41.577Z"
   },
   {
    "duration": 75,
    "start_time": "2021-07-11T13:00:41.656Z"
   }
  ],
  "kernelspec": {
   "display_name": "Python 3",
   "language": "python",
   "name": "python3"
  },
  "language_info": {
   "codemirror_mode": {
    "name": "ipython",
    "version": 3
   },
   "file_extension": ".py",
   "mimetype": "text/x-python",
   "name": "python",
   "nbconvert_exporter": "python",
   "pygments_lexer": "ipython3",
   "version": "3.7.8"
  },
  "toc": {
   "base_numbering": 1,
   "nav_menu": {},
   "number_sections": false,
   "sideBar": true,
   "skip_h1_title": false,
   "title_cell": "Table of Contents",
   "title_sidebar": "Books SQL",
   "toc_cell": false,
   "toc_position": {},
   "toc_section_display": true,
   "toc_window_display": false
  }
 },
 "nbformat": 4,
 "nbformat_minor": 2
}