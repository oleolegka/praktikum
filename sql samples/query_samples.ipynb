{
 "cells": [
  {
   "cell_type": "code",
   "execution_count": 2,
   "outputs": [],
   "source": [
    "import pandas as pd\n",
    "import sqlite3"
   ],
   "metadata": {
    "collapsed": false,
    "pycharm": {
     "name": "#%%\n"
    }
   }
  },
  {
   "cell_type": "markdown",
   "source": [
    "# Задача 1\n",
    "У некоторого сервиса существует подписка, которая позволяет юзерам получать кэшбек за покупки. Подписка конечна, но может быть продлена\n",
    "Надо написать запрос, чтобы посчитать количество пользователей, у которых доля покупок с активной подпиской составляет больше 80% от общего числа их заказов\n",
    "\n",
    "Структура таблиц:\n",
    "\n",
    "market_orders\n",
    "\n",
    "    order_id – ID заказа\n",
    "    utc_creation_dttm – дата создания заказа в формате YYYY-MM-DD hh:mm:ss\n",
    "    user_id – ID пользователя\n",
    "\n",
    "active_plus\n",
    "\n",
    "    user_id – ID пользователя\n",
    "    utc_dttm_from – дата в формате YYYY-MM-DD hh:mm:ss, начиная с которой подписка была активна\n",
    "    utc_dttm_to – дата в формате YYYY-MM-DD hh:mm:ss, до которой подписка была активна\n",
    "\n",
    "Гарантируется, что промежутки активности подписок не пересекаются\n"
   ],
   "metadata": {
    "collapsed": false
   }
  },
  {
   "cell_type": "markdown",
   "source": [
    "Сделаем тестовую таблицу"
   ],
   "metadata": {
    "collapsed": false
   }
  },
  {
   "cell_type": "code",
   "execution_count": 8,
   "outputs": [],
   "source": [
    "con = sqlite3.connect(\"mydatabase.db\")\n",
    "cursor = con.cursor()"
   ],
   "metadata": {
    "collapsed": false,
    "pycharm": {
     "name": "#%%\n"
    }
   }
  },
  {
   "cell_type": "code",
   "execution_count": 9,
   "outputs": [],
   "source": [
    "def select(sql):\n",
    "    return pd.read_sql(sql, con)"
   ],
   "metadata": {
    "collapsed": false,
    "pycharm": {
     "name": "#%%\n"
    }
   }
  },
  {
   "cell_type": "code",
   "execution_count": 10,
   "outputs": [],
   "source": [
    "df = pd.DataFrame({'order_id': [1, 2, 3, 4, 5, 6, 7, 8, 9, 10, 11, 12],\n",
    "                   'utc_creation_dttm': ['2020-01-01', '2020-10-01', '2020-03-01', '2020-04-01', '2020-05-01',\n",
    "                                         '2020-01-01', '2020-07-01', '2020-09-01', '2020-11-01', '2020-06-01',\n",
    "                                         '2020-12-01', '2020-5-01'],\n",
    "                   'user_id': [1, 1, 2, 3, 4, 5, 5, 5, 6, 7, 8, 9]})\n",
    "df.to_sql('market_orders', con, index=False, if_exists='replace')"
   ],
   "metadata": {
    "collapsed": false,
    "pycharm": {
     "name": "#%%\n"
    }
   }
  },
  {
   "cell_type": "code",
   "execution_count": 11,
   "outputs": [],
   "source": [
    "df2 = pd.DataFrame({'user_id': [1, 3, 5, 5],\n",
    "                    'utc_dttm_from': ['2020-01-01', '2020-01-01', '2020-01-01', '2020-08-01'],\n",
    "                    'utc_dttm_to': ['2020-02-01', '2020-12-01', '2020-02-01', '2020-12-01']})\n",
    "df2.to_sql('active_plus', con, index=False, if_exists='replace')"
   ],
   "metadata": {
    "collapsed": false,
    "pycharm": {
     "name": "#%%\n"
    }
   }
  },
  {
   "cell_type": "code",
   "execution_count": 13,
   "outputs": [
    {
     "data": {
      "text/plain": "   plus_buyers_counter\n0                    1",
      "text/html": "<div>\n<style scoped>\n    .dataframe tbody tr th:only-of-type {\n        vertical-align: middle;\n    }\n\n    .dataframe tbody tr th {\n        vertical-align: top;\n    }\n\n    .dataframe thead th {\n        text-align: right;\n    }\n</style>\n<table border=\"1\" class=\"dataframe\">\n  <thead>\n    <tr style=\"text-align: right;\">\n      <th></th>\n      <th>plus_buyers_counter</th>\n    </tr>\n  </thead>\n  <tbody>\n    <tr>\n      <th>0</th>\n      <td>1</td>\n    </tr>\n  </tbody>\n</table>\n</div>"
     },
     "execution_count": 13,
     "metadata": {},
     "output_type": "execute_result"
    }
   ],
   "source": [
    "sql = '''\n",
    "\n",
    "select\n",
    "    count(user_id) as plus_buyers_counter\n",
    "from\n",
    "    (\n",
    "    select\n",
    "        market_orders.user_id,\n",
    "        count(order_id) as total_orders,\n",
    "        max(plus_orders) as plus_orders\n",
    "    from\n",
    "        market_orders\n",
    "    left join (\n",
    "                select\n",
    "                    active_plus.user_id,\n",
    "                    count(order_id) as  plus_orders\n",
    "                from\n",
    "                    active_plus\n",
    "                left join\n",
    "                    market_orders on market_orders.user_id = active_plus.user_id\n",
    "                where\n",
    "                    utc_creation_dttm between utc_dttm_from and utc_dttm_to\n",
    "                group by\n",
    "                    active_plus.user_id) as counter on counter.user_id = market_orders.user_id\n",
    "\n",
    "    group by\n",
    "    market_orders.user_id)\n",
    "\n",
    "where\n",
    "  cast(plus_orders as real) / cast(total_orders as real) > 0.8\n",
    "\n",
    "\n",
    "'''\n",
    "select(sql)"
   ],
   "metadata": {
    "collapsed": false,
    "pycharm": {
     "name": "#%%\n"
    }
   }
  },
  {
   "cell_type": "code",
   "execution_count": null,
   "outputs": [],
   "source": [],
   "metadata": {
    "collapsed": false,
    "pycharm": {
     "name": "#%%\n"
    }
   }
  },
  {
   "cell_type": "markdown",
   "source": [
    "# Задача 2\n",
    "orders\n",
    "\n",
    "    order_id,\n",
    "    promocode_id\n",
    "\n",
    "promocodes\n",
    "\n",
    "    promocode_id,\n",
    "    name,\n",
    "    discount\n",
    "\n",
    "\n",
    "Необходимо вывести\n",
    "\n",
    "1) Долю заказов с промокодами\n",
    "2) Самый популярный промокод (название) и число его использований"
   ],
   "metadata": {
    "collapsed": false
   }
  },
  {
   "cell_type": "code",
   "execution_count": 14,
   "outputs": [],
   "source": [
    "con = sqlite3.connect(\"mydatabase.db\")\n",
    "cursor = con.cursor()"
   ],
   "metadata": {
    "collapsed": false,
    "pycharm": {
     "name": "#%%\n"
    }
   }
  },
  {
   "cell_type": "code",
   "execution_count": 15,
   "outputs": [],
   "source": [
    "def select(sql):\n",
    "  return pd.read_sql(sql, con)"
   ],
   "metadata": {
    "collapsed": false,
    "pycharm": {
     "name": "#%%\n"
    }
   }
  },
  {
   "cell_type": "code",
   "execution_count": 16,
   "outputs": [],
   "source": [
    "orders = pd.DataFrame({\n",
    "                       'order_id':[1, 2, 3, 4, 5, 6, 7],\n",
    "                       'promocode_id':[None, None, 2, 2, 3, 3, 1]\n",
    "})\n",
    "\n",
    "orders.to_sql('orders',con,index=False,if_exists='replace')"
   ],
   "metadata": {
    "collapsed": false,
    "pycharm": {
     "name": "#%%\n"
    }
   }
  },
  {
   "cell_type": "code",
   "execution_count": 17,
   "outputs": [],
   "source": [
    "promocodes = pd.DataFrame({\n",
    "                           'promocode_id':[1, 2, 3],\n",
    "                           'name':['first', 'second', 'third'],\n",
    "                           'discount':[0, 0, 0]\n",
    "})\n",
    "\n",
    "promocodes.to_sql('promocodes',con,index=False,if_exists='replace')"
   ],
   "metadata": {
    "collapsed": false,
    "pycharm": {
     "name": "#%%\n"
    }
   }
  },
  {
   "cell_type": "code",
   "execution_count": 18,
   "outputs": [
    {
     "data": {
      "text/plain": "  top_promo  promo_use_count  promo_orders_share\n0    second                2               0.714\n1     third                2               0.714",
      "text/html": "<div>\n<style scoped>\n    .dataframe tbody tr th:only-of-type {\n        vertical-align: middle;\n    }\n\n    .dataframe tbody tr th {\n        vertical-align: top;\n    }\n\n    .dataframe thead th {\n        text-align: right;\n    }\n</style>\n<table border=\"1\" class=\"dataframe\">\n  <thead>\n    <tr style=\"text-align: right;\">\n      <th></th>\n      <th>top_promo</th>\n      <th>promo_use_count</th>\n      <th>promo_orders_share</th>\n    </tr>\n  </thead>\n  <tbody>\n    <tr>\n      <th>0</th>\n      <td>second</td>\n      <td>2</td>\n      <td>0.714</td>\n    </tr>\n    <tr>\n      <th>1</th>\n      <td>third</td>\n      <td>2</td>\n      <td>0.714</td>\n    </tr>\n  </tbody>\n</table>\n</div>"
     },
     "execution_count": 18,
     "metadata": {},
     "output_type": "execute_result"
    }
   ],
   "source": [
    "query = '''\n",
    "select\n",
    "    top_promo, promo_use_count, promo_orders_share\n",
    "from\n",
    "    (select\n",
    "        name as top_promo, count as promo_use_count\n",
    "    from\n",
    "        promocodes\n",
    "    left join (\n",
    "        select\n",
    "            count(order_id) as count, orders.promocode_id\n",
    "        from\n",
    "            orders\n",
    "        group by\n",
    "            orders.promocode_id\n",
    "        ) as merged on merged.promocode_id = promocodes.promocode_id\n",
    "\n",
    "    where\n",
    "        promo_use_count =(\n",
    "            select\n",
    "                max(count)\n",
    "            from(\n",
    "                select\n",
    "                    count(order_id) as count\n",
    "                from\n",
    "                    orders\n",
    "                group by\n",
    "                    orders.promocode_id\n",
    "\n",
    "        ))) left join\n",
    "            (select\n",
    "                round(cast(count(promocode_id) as real) / count(order_id), 3) as promo_orders_share\n",
    "            from\n",
    "                orders)\n",
    "\n",
    "'''\n",
    "select(query)"
   ],
   "metadata": {
    "collapsed": false,
    "pycharm": {
     "name": "#%%\n"
    }
   }
  },
  {
   "cell_type": "markdown",
   "source": [
    "# Задача 3\n",
    "\n",
    "consumption\n",
    "\n",
    "    coffee_point_id INT,\n",
    "    cookies INT\n",
    "\n",
    "buildings\n",
    "\n",
    "    coffee_point_id INT,\n",
    "    coffee_point_name VARCHAR(32),\n",
    "    office_id INT,\n",
    "    office_name VARCHAR(32)\n",
    "\n",
    "\n",
    "Необходимо вывести топ-10 офисов по потреблению печенек среди офисов, которые потребляют менее 1000 печенек"
   ],
   "metadata": {
    "collapsed": false
   }
  },
  {
   "cell_type": "code",
   "execution_count": 19,
   "outputs": [],
   "source": [
    "consumption = pd.DataFrame({\n",
    "                       'coffee_point_id':[1, 2, 3, 4, 5, 6, 7],\n",
    "                       'cookies':[600, 100, 200, 200, 300, 300, 1000]\n",
    "})\n",
    "\n",
    "consumption.to_sql('consumption',con,index=False,if_exists='replace')"
   ],
   "metadata": {
    "collapsed": false,
    "pycharm": {
     "name": "#%%\n"
    }
   }
  },
  {
   "cell_type": "code",
   "execution_count": 20,
   "outputs": [],
   "source": [
    "buildings = pd.DataFrame({\n",
    "                    'coffee_point_id':[1, 2, 3, 4, 5, 6, 7],\n",
    "                    'coffee_point_name':['a', 'b', 'c', 'd', 'e', 'f', 'g'],\n",
    "                    'office_id':[1, 1, 2, 2, 3, 3, 1],\n",
    "                    'office_name':['red', 'red', 'blue', 'blue', 'green', 'green', 'red']\n",
    "})\n",
    "\n",
    "buildings.to_sql('buildings',con,index=False,if_exists='replace')"
   ],
   "metadata": {
    "collapsed": false,
    "pycharm": {
     "name": "#%%\n"
    }
   }
  },
  {
   "cell_type": "code",
   "execution_count": 21,
   "outputs": [
    {
     "data": {
      "text/plain": "  office_name  office_consumption\n0       green                 600\n1        blue                 400",
      "text/html": "<div>\n<style scoped>\n    .dataframe tbody tr th:only-of-type {\n        vertical-align: middle;\n    }\n\n    .dataframe tbody tr th {\n        vertical-align: top;\n    }\n\n    .dataframe thead th {\n        text-align: right;\n    }\n</style>\n<table border=\"1\" class=\"dataframe\">\n  <thead>\n    <tr style=\"text-align: right;\">\n      <th></th>\n      <th>office_name</th>\n      <th>office_consumption</th>\n    </tr>\n  </thead>\n  <tbody>\n    <tr>\n      <th>0</th>\n      <td>green</td>\n      <td>600</td>\n    </tr>\n    <tr>\n      <th>1</th>\n      <td>blue</td>\n      <td>400</td>\n    </tr>\n  </tbody>\n</table>\n</div>"
     },
     "execution_count": 21,
     "metadata": {},
     "output_type": "execute_result"
    }
   ],
   "source": [
    "query = '''\n",
    "select\n",
    "    *\n",
    "from (\n",
    "    select\n",
    "        office_name, sum(cookies) as office_consumption\n",
    "    from\n",
    "        buildings\n",
    "    left join\n",
    "        consumption on buildings.coffee_point_id = consumption.coffee_point_id\n",
    "    group by\n",
    "        office_name\n",
    "    order by\n",
    "        office_consumption desc\n",
    "    )\n",
    "where\n",
    "    office_consumption < 1000\n",
    "limit\n",
    "    10\n",
    "'''\n",
    "select(query)"
   ],
   "metadata": {
    "collapsed": false,
    "pycharm": {
     "name": "#%%\n"
    }
   }
  }
 ],
 "metadata": {
  "kernelspec": {
   "display_name": "Python 3",
   "language": "python",
   "name": "python3"
  },
  "language_info": {
   "codemirror_mode": {
    "name": "ipython",
    "version": 2
   },
   "file_extension": ".py",
   "mimetype": "text/x-python",
   "name": "python",
   "nbconvert_exporter": "python",
   "pygments_lexer": "ipython2",
   "version": "2.7.6"
  }
 },
 "nbformat": 4,
 "nbformat_minor": 0
}